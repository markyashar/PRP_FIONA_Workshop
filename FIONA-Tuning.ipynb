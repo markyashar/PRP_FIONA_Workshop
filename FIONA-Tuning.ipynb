{
 "cells": [
  {
   "cell_type": "markdown",
   "metadata": {},
   "source": [
    "## Install dstat-plotter.ipynb and dstat"
   ]
  },
  {
   "cell_type": "code",
   "execution_count": 1,
   "metadata": {},
   "outputs": [
    {
     "name": "stdout",
     "output_type": "stream",
     "text": [
      "--2018-03-04 08:52:41--  http://fiona-10-01:8000/dstat-plotter.ipynb\n",
      "Resolving fiona-10-01 (fiona-10-01)... 137.164.48.196\n",
      "Connecting to fiona-10-01 (fiona-10-01)|137.164.48.196|:8000... connected.\n",
      "HTTP request sent, awaiting response... 200 OK\n",
      "Length: 1677 (1.6K) [application/octet-stream]\n",
      "Saving to: ‘dstat-plotter.ipynb’\n",
      "\n",
      "100%[======================================>] 1,677       --.-K/s   in 0s      \n",
      "\n",
      "2018-03-04 08:52:41 (89.7 MB/s) - ‘dstat-plotter.ipynb’ saved [1677/1677]\n",
      "\n"
     ]
    }
   ],
   "source": [
    "wget http://fiona-10-01:8000/dstat-plotter.ipynb"
   ]
  },
  {
   "cell_type": "code",
   "execution_count": 1,
   "metadata": {},
   "outputs": [
    {
     "name": "stdout",
     "output_type": "stream",
     "text": [
      "Loaded plugins: fastestmirror\n",
      "Loading mirror speeds from cached hostfile\n",
      "Package dstat-0.7.2-12.el7.noarch already installed and latest version\n",
      "Nothing to do\n"
     ]
    }
   ],
   "source": [
    "yum -y install dstat"
   ]
  },
  {
   "cell_type": "markdown",
   "metadata": {},
   "source": [
    "<br>\n",
    "<code>Start dstat test on hosts"
   ]
  },
  {
   "cell_type": "code",
   "execution_count": 2,
   "metadata": {},
   "outputs": [
    {
     "name": "stdout",
     "output_type": "stream",
     "text": [
      "rm: cannot remove ‘gigiot.csv’: No such file or directory\n"
     ]
    },
    {
     "ename": "",
     "evalue": "1",
     "execution_count": 2,
     "output_type": "error",
     "traceback": []
    }
   ],
   "source": [
    "rm gigiot.csv"
   ]
  },
  {
   "cell_type": "code",
   "execution_count": 3,
   "metadata": {},
   "outputs": [
    {
     "name": "stdout",
     "output_type": "stream",
     "text": [
      "You did not select any stats, using -cdngy by default.\n",
      "Terminal width too small, trimming output.\n",
      "\u001b[7l\u001b[0;34mdsk/mmcblk0\u001b[0;34m-\u001b[0;34mdsk/mmcblk1\u001b[0;34m-\u001b[0;34m--dsk/sda--\u001b[0;34m-\u001b[0;34m--dsk/sdb--\u001b[0;34m \u001b[0;34m-net/enp3s0\u001b[0;34m \u001b[0;34m---paging--\u001b[0;0m\u001b[0;34m>\n",
      "\u001b[1;34m\u001b[4m read\u001b[0;0m \u001b[1;34m\u001b[4m writ\u001b[0;0m\u001b[0;34m:\u001b[1;34m\u001b[4m read\u001b[0;0m \u001b[1;34m\u001b[4m writ\u001b[0;0m\u001b[0;34m:\u001b[1;34m\u001b[4m read\u001b[0;0m \u001b[1;34m\u001b[4m writ\u001b[0;0m\u001b[0;34m:\u001b[1;34m\u001b[4m read\u001b[0;0m \u001b[1;34m\u001b[4m writ\u001b[0;0m\u001b[0;34m|\u001b[1;34m\u001b[4m recv\u001b[0;0m \u001b[1;34m\u001b[4m send\u001b[0;0m\u001b[0;34m|\u001b[1;34m\u001b[4m  in \u001b[0;0m \u001b[1;34m\u001b[4m out \u001b[0;0m\u001b[0;34m>\n",
      "\u001b[1;33m  30\u001b[1;30mk \u001b[1;33m  95\u001b[1;30mk\u001b[0;34m:\u001b[1;31m  76\u001b[1;30mB \u001b[1;31m  21\u001b[1;30mB\u001b[0;34m:\u001b[1;33m1030\u001b[1;30mk \u001b[1;33m 649\u001b[1;30mk\u001b[0;34m:\u001b[1;33m 671\u001b[1;30mk \u001b[1;33m 631\u001b[1;30mk\u001b[0;34m|\u001b[1;30m   0  \u001b[1;30m   0 \u001b[0;34m|\u001b[1;30m   0  \u001b[1;30m   0 \u001b[0;34m>\u001b[1;30m\n",
      "\u001b[0;0m\u001b[2K\u001b7\u001b[1;33m  48\u001b[1;30mk \u001b[1;33m 394\u001b[1;30mk\u001b[0;34m:\u001b[1;30m   0  \u001b[1;30m   0 \u001b[0;34m:\u001b[1;30m   0  \u001b[1;32m  20\u001b[1;30mM\u001b[0;34m:\u001b[1;30m   0  \u001b[1;33m9300\u001b[1;30mk\u001b[0;34m|\u001b[1;32m  22\u001b[1;30mM \u001b[1;33m  70\u001b[1;30mk\u001b[0;34m|\u001b[1;30m   0  \u001b[1;30m   0 \u001b[0;34m>\u001b[1;30m\n",
      "\u001b[0;0m\u001b[2K\u001b7\u001b[1;30m   0  \u001b[1;33m 503\u001b[1;30mk\u001b[0;34m:\u001b[1;31m4608\u001b[1;30mB \u001b[1;30m   0 \u001b[0;34m:\u001b[1;30m   0  \u001b[1;30m   0 \u001b[0;34m:\u001b[1;30m   0  \u001b[1;32m  12\u001b[1;30mM\u001b[0;34m|\u001b[1;32m  26\u001b[1;30mM \u001b[1;33m  66\u001b[1;30mk\u001b[0;34m|\u001b[1;30m   0  \u001b[1;30m   0 \u001b[0;34m>\u001b[1;30m\n",
      "\u001b[0;0m\u001b[2K\u001b7\u001b[1;30m   0  \u001b[1;31m4608\u001b[1;30mB\u001b[0;34m:\u001b[1;30m   0  \u001b[1;30m   0 \u001b[0;34m:\u001b[1;30m   0  \u001b[1;30m   0 \u001b[0;34m:\u001b[1;30m   0  \u001b[1;33m5332\u001b[1;30mk\u001b[0;34m|\u001b[1;31m8274\u001b[1;30mB \u001b[1;31m8906\u001b[1;30mB\u001b[0;34m|\u001b[1;30m   0  \u001b[1;30m   0 \u001b[0;34m>\u001b[1;30m\n",
      "\u001b[0;0m\u001b[2K\u001b7\u001b[1;30m   0  \u001b[1;33m  56\u001b[1;30mk\u001b[0;34m:\u001b[1;30m   0  \u001b[1;30m   0 \u001b[0;34m:\u001b[1;30m   0  \u001b[1;30m   0 \u001b[0;34m:\u001b[1;30m   0  \u001b[1;30m   0 \u001b[0;34m|\u001b[1;33m  19\u001b[1;30mk \u001b[1;33m  11\u001b[1;30mk\u001b[0;34m|\u001b[1;30m   0  \u001b[1;30m   0 \u001b[0;34m>\u001b[1;30m\n",
      "\u001b[0;0m\u001b[2K\u001b7\u001b[1;30m   0  \u001b[1;33m  26\u001b[1;30mk\u001b[0;34m:\u001b[1;30m   0  \u001b[1;30m   0 \u001b[0;34m:\u001b[1;30m   0  \u001b[1;30m   0 \u001b[0;34m:\u001b[1;30m   0  \u001b[1;30m   0 \u001b[0;34m|\u001b[1;31m9860\u001b[1;30mB \u001b[1;33m  16\u001b[1;30mk\u001b[0;34m|\u001b[1;30m   0  \u001b[1;30m   0 \u001b[0;34m>\u001b[1;30m\n",
      "\u001b[0;0m\u001b[2K\u001b7\u001b[1;30m   0  \u001b[1;30m   0 \u001b[0;34m:\u001b[1;30m   0  \u001b[1;30m   0 \u001b[0;34m:\u001b[1;30m   0  \u001b[1;32m  23\u001b[1;30mM\u001b[0;34m:\u001b[1;30m   0  \u001b[1;33m8828\u001b[1;30mk\u001b[0;34m|\u001b[1;32m  35\u001b[1;30mM \u001b[1;33m  93\u001b[1;30mk\u001b[0;34m|\u001b[1;30m   0  \u001b[1;30m   0 \u001b[0;34m>\u001b[1;30m\n",
      "\u001b[0;0m\u001b[2K\u001b7\u001b[1;30m   0  \u001b[1;30m   0 \u001b[0;34m:\u001b[1;30m   0  \u001b[1;30m   0 \u001b[0;34m:\u001b[1;30m   0  \u001b[1;30m   0 \u001b[0;34m:\u001b[1;30m   0  \u001b[1;32m  13\u001b[1;30mM\u001b[0;34m|\u001b[1;33m1535\u001b[1;30mk \u001b[1;31m9500\u001b[1;30mB\u001b[0;34m|\u001b[1;30m   0  \u001b[1;30m   0 \u001b[0;34m>\u001b[1;30m\n",
      "\u001b[0;0m\u001b[2K\u001b7\u001b[1;33m  16\u001b[1;30mk \u001b[1;33m 234\u001b[1;30mk\u001b[0;34m:\u001b[1;30m   0  \u001b[1;30m   0 \u001b[0;34m:\u001b[1;30m   0  \u001b[1;32m  18\u001b[1;30mM\u001b[0;34m:\u001b[1;30m   0  \u001b[1;32m  12\u001b[1;30mM\u001b[0;34m|\u001b[1;32m  43\u001b[1;30mM \u001b[1;33m 118\u001b[1;30mk\u001b[0;34m|\u001b[1;30m   0  \u001b[1;30m   0 \u001b[0;34m>\u001b[1;30m\n",
      "\u001b[0;0m\u001b[2K\u001b7\u001b[1;30m   0  \u001b[1;33m  20\u001b[1;30mk\u001b[0;34m:\u001b[1;30m   0  \u001b[1;30m   0 \u001b[0;34m:\u001b[1;30m   0  \u001b[1;30m   0 \u001b[0;34m:\u001b[1;30m   0  \u001b[1;33m7232\u001b[1;30mk\u001b[0;34m|\u001b[1;33m3181\u001b[1;30mk \u001b[1;33m  12\u001b[1;30mk\u001b[0;34m|\u001b[1;30m   0  \u001b[1;30m   0 \u001b[0;34m>\u001b[1;30m\n",
      "\u001b[0;0m\u001b[2K\u001b7\u001b[1;30m   0  \u001b[1;33m  25\u001b[1;30mk\u001b[0;34m:\u001b[1;30m   0  \u001b[1;30m   0 \u001b[0;34m:\u001b[1;30m   0  \u001b[1;30m   0 \u001b[0;34m:\u001b[1;30m   0  \u001b[1;30m   0 \u001b[0;34m|\u001b[1;33m  10\u001b[1;30mk \u001b[1;33m  17\u001b[1;30mk\u001b[0;34m|\u001b[1;30m   0  \u001b[1;30m   0 \u001b[0;34m>\u001b[1;30m\n",
      "\u001b[0;0m\u001b[2K\u001b7\u001b[1;30m   0  \u001b[1;33m  61\u001b[1;30mk\u001b[0;34m:\u001b[1;30m   0  \u001b[1;30m   0 \u001b[0;34m:\u001b[1;30m   0  \u001b[1;30m   0 \u001b[0;34m:\u001b[1;30m   0  \u001b[1;30m   0 \u001b[0;34m|\u001b[1;33m  23\u001b[1;30mk \u001b[1;33m  24\u001b[1;30mk\u001b[0;34m|\u001b[1;30m   0  \u001b[1;30m   0 \u001b[0;34m>\u001b[1;30m\n",
      "\u001b[0;0m\u001b[2K\u001b7\u001b[1;30m   0  \u001b[1;30m   0 \u001b[0;34m:\u001b[1;31m4608\u001b[1;30mB \u001b[1;30m   0 \u001b[0;34m:\u001b[1;30m   0  \u001b[1;32m  24\u001b[1;30mM\u001b[0;34m:\u001b[1;31m8192\u001b[1;30mB \u001b[1;33m6344\u001b[1;30mk\u001b[0;34m|\u001b[1;32m  28\u001b[1;30mM \u001b[1;33m  86\u001b[1;30mk\u001b[0;34m|\u001b[1;30m   0  \u001b[1;30m   0 \u001b[0;34m>\u001b[1;30m\n",
      "\u001b[0;0m\u001b[2K\u001b7\u001b[1;30m   0  \u001b[1;30m   0 \u001b[0;34m:\u001b[1;30m   0  \u001b[1;30m   0 \u001b[0;34m:\u001b[1;30m   0  \u001b[1;30m   0 \u001b[0;34m:\u001b[1;30m   0  \u001b[1;30m   0 \u001b[0;34m|\u001b[1;33m8158\u001b[1;30mk \u001b[1;33m  18\u001b[1;30mk\u001b[0;34m|\u001b[1;30m   0  \u001b[1;30m   0 \u001b[0;34m>\u001b[1;30m\n",
      "\u001b[0;0m\u001b[2K\u001b7\u001b[1;30m   0  \u001b[1;33m 392\u001b[1;30mk\u001b[0;34m:\u001b[1;30m   0  \u001b[1;30m   0 \u001b[0;34m:\u001b[1;30m   0  \u001b[1;30m   0 \u001b[0;34m:\u001b[1;30m   0  \u001b[1;30m   0 \u001b[0;34m|\u001b[1;31m9622\u001b[1;30mB \u001b[1;33m  11\u001b[1;30mk\u001b[0;34m|\u001b[1;30m   0  \u001b[1;30m   0 \u001b[0;34m>\u001b[1;30m\n",
      "\u001b[0;0m\u001b[2K\u001b7\u001b[1;33m  16\u001b[1;30mk \u001b[1;33m  35\u001b[1;30mk\u001b[0;34m:\u001b[1;30m   0  \u001b[1;30m   0 \u001b[0;34m:\u001b[1;30m   0  \u001b[1;30m   0 \u001b[0;34m:\u001b[1;30m   0  \u001b[1;33m6264\u001b[1;30mk\u001b[0;34m|\u001b[1;33m  11\u001b[1;30mk \u001b[1;33m  10\u001b[1;30mk\u001b[0;34m|\u001b[1;30m   0  \u001b[1;30m   0 \u001b[0;34m>\u001b[1;30m\n",
      "\u001b[0;0m\u001b[2K\u001b7\u001b[1;30m   0  \u001b[1;33m  44\u001b[1;30mk\u001b[0;34m:\u001b[1;30m   0  \u001b[1;30m   0 \u001b[0;34m:\u001b[1;30m   0  \u001b[1;33m  16\u001b[1;30mk\u001b[0;34m:\u001b[1;30m   0  \u001b[1;32m  15\u001b[1;30mM\u001b[0;34m|\u001b[1;33m  10\u001b[1;30mk \u001b[1;33m  17\u001b[1;30mk\u001b[0;34m|\u001b[1;30m   0  \u001b[1;30m   0 \u001b[0;34m>\u001b[1;30m\n",
      "\u001b[0;0m\u001b[2K\u001b7\u001b[1;30m   0  \u001b[1;33m  26\u001b[1;30mk\u001b[0;34m:\u001b[1;30m   0  \u001b[1;30m   0 \u001b[0;34m:\u001b[1;30m   0  \u001b[1;30m   0 \u001b[0;34m:\u001b[1;30m   0  \u001b[1;30m   0 \u001b[0;34m|\u001b[1;31m9068\u001b[1;30mB \u001b[1;31m9266\u001b[1;30mB\u001b[0;34m|\u001b[1;30m   0  \u001b[1;30m   0 \u001b[0;34m>\u001b[1;30m\n",
      "\u001b[0;0m\u001b[2K\u001b7\u001b[1;30m   0  \u001b[1;33m  18\u001b[1;30mk\u001b[0;34m:\u001b[1;30m   0  \u001b[1;30m   0 \u001b[0;34m:\u001b[1;30m   0  \u001b[1;30m   0 \u001b[0;34m:\u001b[1;30m   0  \u001b[1;30m   0 \u001b[0;34m|\u001b[1;31m9062\u001b[1;30mB \u001b[1;31m9200\u001b[1;30mB\u001b[0;34m|\u001b[1;30m   0  \u001b[1;30m   0 \u001b[0;34m>\u001b[1;30m\n",
      "\u001b[0;0m\u001b[2K\u001b7\u001b[1;30m   0  \u001b[1;33m  44\u001b[1;30mk\u001b[0;34m:\u001b[1;30m   0  \u001b[1;30m   0 \u001b[0;34m:\u001b[1;30m   0  \u001b[1;32m  19\u001b[1;30mM\u001b[0;34m:\u001b[1;30m   0  \u001b[1;33m2468\u001b[1;30mk\u001b[0;34m|\u001b[1;32m  16\u001b[1;30mM \u001b[1;33m  59\u001b[1;30mk\u001b[0;34m|\u001b[1;30m   0  \u001b[1;30m   0 \u001b[0;34m>\u001b[1;30m\n",
      "\u001b[0;0m\u001b[2K\u001b7\u001b[1;33m 176\u001b[1;30mk \u001b[1;33m 505\u001b[1;30mk\u001b[0;34m:\u001b[1;30m   0  \u001b[1;30m   0 \u001b[0;34m:\u001b[1;30m   0  \u001b[1;30m   0 \u001b[0;34m:\u001b[1;30m   0  \u001b[1;32m  14\u001b[1;30mM\u001b[0;34m|\u001b[1;32m  41\u001b[1;30mM \u001b[1;33m 107\u001b[1;30mk\u001b[0;34m|\u001b[1;30m   0  \u001b[1;30m   0 \u001b[0;34m>\u001b[1;30m\n",
      "\u001b[0;0m\u001b[2K\u001b7\u001b[1;33m  16\u001b[1;30mk \u001b[1;33m 304\u001b[1;30mk\u001b[0;34m:\u001b[1;30m   0  \u001b[1;30m   0 \u001b[0;34m:\u001b[1;30m   0  \u001b[1;32m  30\u001b[1;30mM\u001b[0;34m:\u001b[1;30m   0  \u001b[1;32m  12\u001b[1;30mM\u001b[0;34m|\u001b[1;32m  39\u001b[1;30mM \u001b[1;33m 101\u001b[1;30mk\u001b[0;34m|\u001b[1;30m   0  \u001b[1;30m   0 \u001b[0;34m>\u001b[1;30m\n",
      "\u001b[0;0m\u001b[2K\u001b7\u001b[1;33m  16\u001b[1;30mk \u001b[1;33m  15\u001b[1;30mk\u001b[0;34m:\u001b[1;31m4608\u001b[1;30mB \u001b[1;30m   0 \u001b[0;34m:\u001b[1;30m   0  \u001b[1;30m   0 \u001b[0;34m:\u001b[1;30m   0  \u001b[1;32m  14\u001b[1;30mM\u001b[0;34m|\u001b[1;33m1228\u001b[1;30mk \u001b[1;33m  18\u001b[1;30mk\u001b[0;34m|\u001b[1;30m   0  \u001b[1;30m   0 \u001b[0;34m>\u001b[1;30m\n",
      "\u001b[0;0m\u001b[2K\u001b7\u001b[1;30m   0  \u001b[1;33m  72\u001b[1;30mk\u001b[0;34m:\u001b[1;30m   0  \u001b[1;30m   0 \u001b[0;34m:\u001b[1;31m4096\u001b[1;30mB \u001b[1;32m  22\u001b[1;30mM\u001b[0;34m:\u001b[1;31m4096\u001b[1;30mB \u001b[1;32m  11\u001b[1;30mM\u001b[0;34m|\u001b[1;32m  39\u001b[1;30mM \u001b[1;33m 130\u001b[1;30mk\u001b[0;34m|\u001b[1;30m   0  \u001b[1;30m   0 \u001b[0;34m>\u001b[1;30m\n",
      "\u001b[0;0m\u001b[2K\u001b7\u001b[1;30m   0  \u001b[1;33m 112\u001b[1;30mk\u001b[0;34m:\u001b[1;30m   0  \u001b[1;30m   0 \u001b[0;34m:\u001b[1;31m4096\u001b[1;30mB \u001b[1;33m  28\u001b[1;30mk\u001b[0;34m:\u001b[1;31m4096\u001b[1;30mB \u001b[1;32m  13\u001b[1;30mM\u001b[0;34m|\u001b[1;33m3391\u001b[1;30mk \u001b[1;31m9930\u001b[1;30mB\u001b[0;34m|\u001b[1;30m   0  \u001b[1;30m   0 \u001b[0;34m>\u001b[1;30m\n",
      "\u001b[0;0m\u001b[2K\u001b7\u001b[1;33m  32\u001b[1;30mk \u001b[1;33m  28\u001b[1;30mk\u001b[0;34m:\u001b[1;30m   0  \u001b[1;30m   0 \u001b[0;34m:\u001b[1;30m   0  \u001b[1;32m  22\u001b[1;30mM\u001b[0;34m:\u001b[1;30m   0  \u001b[1;32m  11\u001b[1;30mM\u001b[0;34m|\u001b[1;32m  40\u001b[1;30mM \u001b[1;33m 103\u001b[1;30mk\u001b[0;34m|\u001b[1;30m   0  \u001b[1;30m   0 \u001b[0;34m>\u001b[1;30m\n",
      "\u001b[0;0m\u001b[2K\u001b7\u001b[1;33m  16\u001b[1;30mk \u001b[1;33m  56\u001b[1;30mk\u001b[0;34m:\u001b[1;30m   0  \u001b[1;30m   0 \u001b[0;34m:\u001b[1;30m   0  \u001b[1;33m4444\u001b[1;30mk\u001b[0;34m:\u001b[1;31m8192\u001b[1;30mB \u001b[1;32m  10\u001b[1;30mM\u001b[0;34m|\u001b[1;33m3831\u001b[1;30mk \u001b[1;33m  19\u001b[1;30mk\u001b[0;34m|\u001b[1;30m   0  \u001b[1;30m   0 \u001b[0;34m>\u001b[1;30m\n",
      "\u001b[0;0m\u001b[2K\u001b7\u001b[1;30m   0  \u001b[1;30m   0 \u001b[0;34m:\u001b[1;31m4608\u001b[1;30mB \u001b[1;30m   0 \u001b[0;34m:\u001b[1;30m   0  \u001b[1;30m   0 \u001b[0;34m:\u001b[1;30m   0  \u001b[1;32m  14\u001b[1;30mM\u001b[0;34m|\u001b[1;32m  37\u001b[1;30mM \u001b[1;33m  96\u001b[1;30mk\u001b[0;34m|\u001b[1;30m   0  \u001b[1;30m   0 \u001b[0;34m>\u001b[1;30m\n",
      "\u001b[0;0m\u001b[2K\u001b7\u001b[1;30m   0  \u001b[1;30m   0 \u001b[0;34m:\u001b[1;30m   0  \u001b[1;30m   0 \u001b[0;34m:\u001b[1;30m   0  \u001b[1;30m   0 \u001b[0;34m:\u001b[1;30m   0  \u001b[1;33m2048\u001b[1;30mk\u001b[0;34m|\u001b[1;33m  11\u001b[1;30mk \u001b[1;33m  11\u001b[1;30mk\u001b[0;34m|\u001b[1;30m   0  \u001b[1;30m   0 \u001b[0;34m>\u001b[1;30m\n",
      "\u001b[0;0m\u001b[2K\u001b7\u001b[1;30m   0  \u001b[1;33m 400\u001b[1;30mk\u001b[0;34m:\u001b[1;30m   0  \u001b[1;30m   0 \u001b[0;34m:\u001b[1;30m   0  \u001b[1;32m  18\u001b[1;30mM\u001b[0;34m:\u001b[1;30m   0  \u001b[1;30m   0 \u001b[0;34m|\u001b[1;33m  10\u001b[1;30mk \u001b[1;33m  10\u001b[1;30mk\u001b[0;34m|\u001b[1;30m   0  \u001b[1;30m   0 \u001b[0;34m>\u001b[1;30m\n",
      "\u001b[0;0m\u001b[2K\u001b7\u001b[1;30m   0  \u001b[1;30m   0 \u001b[0;34m:\u001b[1;30m   0  \u001b[1;30m   0 \u001b[0;34m:\u001b[1;30m   0  \u001b[1;30m   0 \u001b[0;34m:\u001b[1;30m   0  \u001b[1;33m 784\u001b[1;30mk\u001b[0;34m|\u001b[1;31m8500\u001b[1;30mB \u001b[1;31m8972\u001b[1;30mB\u001b[0;34m|\u001b[1;30m   0  \u001b[1;30m   0 \u001b[0;34m>\u001b[1;30m\n",
      "\u001b[0;0m"
     ]
    }
   ],
   "source": [
    "dstat --noheaders -D mmcblk0,mmcblk1,sda,sdb -f --output=gigiot.csv 1 30"
   ]
  },
  {
   "cell_type": "markdown",
   "metadata": {},
   "source": [
    "<code>Explore other options for dstat"
   ]
  },
  {
   "cell_type": "code",
   "execution_count": 4,
   "metadata": {},
   "outputs": [
    {
     "name": "stdout",
     "output_type": "stream",
     "text": [
      "Usage: dstat [-afv] [options..] [delay [count]]\n",
      "Versatile tool for generating system resource statistics\n",
      "\n",
      "Dstat options:\n",
      "  -c, --cpu              enable cpu stats\n",
      "     -C 0,3,total           include cpu0, cpu3 and total\n",
      "  -d, --disk             enable disk stats\n",
      "     -D total,hda           include hda and total\n",
      "  -g, --page             enable page stats\n",
      "  -i, --int              enable interrupt stats\n",
      "     -I 5,eth2              include int5 and interrupt used by eth2\n",
      "  -l, --load             enable load stats\n",
      "  -m, --mem              enable memory stats\n",
      "  -n, --net              enable network stats\n",
      "     -N eth1,total          include eth1 and total\n",
      "  -p, --proc             enable process stats\n",
      "  -r, --io               enable io stats (I/O requests completed)\n",
      "  -s, --swap             enable swap stats\n",
      "     -S swap1,total         include swap1 and total\n",
      "  -t, --time             enable time/date output\n",
      "  -T, --epoch            enable time counter (seconds since epoch)\n",
      "  -y, --sys              enable system stats\n",
      "\n",
      "  --aio                  enable aio stats\n",
      "  --fs, --filesystem     enable fs stats\n",
      "  --ipc                  enable ipc stats\n",
      "  --lock                 enable lock stats\n",
      "  --raw                  enable raw stats\n",
      "  --socket               enable socket stats\n",
      "  --tcp                  enable tcp stats\n",
      "  --udp                  enable udp stats\n",
      "  --unix                 enable unix stats\n",
      "  --vm                   enable vm stats\n",
      "\n",
      "  --plugin-name          enable plugins by plugin name (see manual)\n",
      "  --list                 list all available plugins\n",
      "\n",
      "  -a, --all              equals -cdngy (default)\n",
      "  -f, --full             automatically expand -C, -D, -I, -N and -S lists\n",
      "  -v, --vmstat           equals -pmgdsc -D total\n",
      "\n",
      "  --bits                 force bits for values expressed in bytes\n",
      "  --float                force float values on screen\n",
      "  --integer              force integer values on screen\n",
      "\n",
      "  --bw, --blackonwhite   change colors for white background terminal\n",
      "  --nocolor              disable colors (implies --noupdate)\n",
      "  --noheaders            disable repetitive headers\n",
      "  --noupdate             disable intermediate updates\n",
      "  --output file          write CSV output to file\n",
      "  --profile              show profiling statistics when exiting dstat\n",
      "\n",
      "delay is the delay in seconds between each update (default: 1)\n",
      "count is the number of updates to display before exiting (default: unlimited)\n",
      "\n"
     ]
    }
   ],
   "source": [
    "dstat -h"
   ]
  },
  {
   "cell_type": "code",
   "execution_count": null,
   "metadata": {},
   "outputs": [],
   "source": []
  }
 ],
 "metadata": {
  "kernelspec": {
   "display_name": "Bash",
   "language": "bash",
   "name": "bash"
  },
  "language_info": {
   "codemirror_mode": "shell",
   "file_extension": ".sh",
   "mimetype": "text/x-sh",
   "name": "bash"
  }
 },
 "nbformat": 4,
 "nbformat_minor": 2
}
