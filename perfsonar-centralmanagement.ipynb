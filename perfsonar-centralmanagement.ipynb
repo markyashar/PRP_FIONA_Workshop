{
 "cells": [
  {
   "cell_type": "markdown",
   "metadata": {},
   "source": [
    "# MaDDash and central esmond Measurement Archive\n",
    "<p>The following steps will install the `perfsonar-centralmanagement` bundle to provide a standalone MaDDash server and central esmond Measurement Archive (MA)</p>\n",
    "\n",
    "<p>At the end of the session we will have a central MA to which to register GridFTP and perfSONAR test results and dashboards to visualize performance:</p>\n",
    "<ul>\n",
    "<li>initial system setup, base installation, and initial configuration</li>\n",
    "<li>build and publish a mesh json for consumption by the MaDDash server and participating perfSONAR nodes</li>\n",
    "<li>update the MaDDash configuration for GridFTP</li>\n",
    "<li>establish credentials for nodes to use in registering GridFTP and perfSONAR results</li>\n",
    "</ul>"
   ]
  },
  {
   "cell_type": "markdown",
   "metadata": {},
   "source": [
    "## pull in the perfsonar-centralmanagement notebook\n",
    "<p>using your terminal app log into your fionette as root, and cd into /root</p>\n",
    "<p>use wget to transfer the perfsonar-centralmanagement notebook<pre>\n",
    "wget http://fiona-10-01:8000/perfsonar-centralmanagement.ipynb -O perfsonar-centralmanagement.ipynb\n",
    "</pre>\n",
    "<p>launch jupyter lab</p>\n",
    "<pre>jupyter lab --allow-root --ip=`your.fionette.ip`</pre>"
   ]
  },
  {
   "cell_type": "markdown",
   "metadata": {},
   "source": [
    "## initial system setup"
   ]
  },
  {
   "cell_type": "code",
   "execution_count": 4,
   "metadata": {},
   "outputs": [
    {
     "name": "stdout",
     "output_type": "stream",
     "text": [
      "3.10.0-693.17.1.el7.x86_64\n"
     ]
    }
   ],
   "source": [
    "uname -r"
   ]
  },
  {
   "cell_type": "code",
   "execution_count": 5,
   "metadata": {},
   "outputs": [
    {
     "name": "stdout",
     "output_type": "stream",
     "text": [
      "setenforce: SELinux is disabled\n"
     ]
    },
    {
     "ename": "",
     "evalue": "1",
     "execution_count": 5,
     "output_type": "error",
     "traceback": []
    }
   ],
   "source": [
    "sed -i 's/SELINUX=enforcing/SELINUX=disabled/g' /etc/selinux/config\n",
    "setenforce 0"
   ]
  },
  {
   "cell_type": "markdown",
   "metadata": {},
   "source": [
    "## install NTP, bind-utils, traceroute if not already present"
   ]
  },
  {
   "cell_type": "code",
   "execution_count": 6,
   "metadata": {},
   "outputs": [
    {
     "name": "stdout",
     "output_type": "stream",
     "text": [
      "Loaded plugins: fastestmirror\n",
      "Loading mirror speeds from cached hostfile\n",
      "Package ntp-4.2.6p5-25.el7.centos.2.x86_64 already installed and latest version\n",
      "Package 32:bind-utils-9.9.4-51.el7_4.2.x86_64 already installed and latest version\n",
      "Package 3:traceroute-2.0.22-2.el7.x86_64 already installed and latest version\n",
      "Nothing to do\n"
     ]
    }
   ],
   "source": [
    "yum -y install ntp bind-utils traceroute"
   ]
  },
  {
   "cell_type": "code",
   "execution_count": 7,
   "metadata": {},
   "outputs": [],
   "source": [
    "systemctl enable ntpd"
   ]
  },
  {
   "cell_type": "markdown",
   "metadata": {},
   "source": [
    "# adjust `/etc/ntp.conf` for the workshop NTP server\n",
    "<p>review the contents of the file</p>"
   ]
  },
  {
   "cell_type": "code",
   "execution_count": 8,
   "metadata": {},
   "outputs": [
    {
     "name": "stdout",
     "output_type": "stream",
     "text": [
      "# /etc/ntp.conf, configuration for NTP\n",
      "# by default act only as a basic NTP client\n",
      "restrict -4 default nomodify nopeer noquery notrap\n",
      "restrict -6 default nomodify nopeer noquery notrap\n",
      "# allow NTP messages from the loopback address, useful for debugging\n",
      "restrict 127.0.0.1\n",
      "restrict ::1\n",
      "logfile /var/log/ntpd\n",
      "driftfile /var/lib/ntp/ntp.drift\n",
      "statsdir  /var/lib/ntp/\n",
      "statistics loopstats peerstats clockstats\n",
      "filegen loopstats file loopstats type day enable\n",
      "filegen peerstats file peerstats type day enable\n",
      "filegen clockstats file clockstats type day enable\n",
      "\n",
      "# You should have at least 4 NTP servers\n",
      "\n",
      "# server ntp-ucla.usno.navy.mil iburst   # Naval Observatory - Los Angeles, CA USA \n",
      "\n",
      "# server owamp.losa.net.internet2.edu iburst   # Internet2 - Los Angeles, CA USA \n",
      "\n",
      "# server owamp.salt.net.internet2.edu iburst   # Internet2 - Salt Lake City, UT USA \n",
      "\n",
      "# server saturn.es.net iburst   # ESnet - Sunnyvale, CA USA \n",
      "\n",
      "# server time3.chpc.utah.edu iburst   # UTAH - Server #3, University of Utah, Salt Lake City, UT USA \n",
      "\n",
      "server 137.164.48.196 iburst\n"
     ]
    }
   ],
   "source": [
    "cat /etc/ntp.conf"
   ]
  },
  {
   "cell_type": "markdown",
   "metadata": {},
   "source": [
    "<p>using your favorite editor, comment out NTP servers outside of the workshop and add an entry for the local NTP server</p>\n",
    "<pre>\n",
    "#server time.apple.com\n",
    "server 137.164.48.196 iburst\n",
    "</pre>"
   ]
  },
  {
   "cell_type": "markdown",
   "metadata": {},
   "source": [
    "## verify the changes"
   ]
  },
  {
   "cell_type": "code",
   "execution_count": 9,
   "metadata": {},
   "outputs": [
    {
     "name": "stdout",
     "output_type": "stream",
     "text": [
      "# /etc/ntp.conf, configuration for NTP\n",
      "# by default act only as a basic NTP client\n",
      "restrict -4 default nomodify nopeer noquery notrap\n",
      "restrict -6 default nomodify nopeer noquery notrap\n",
      "# allow NTP messages from the loopback address, useful for debugging\n",
      "restrict 127.0.0.1\n",
      "restrict ::1\n",
      "logfile /var/log/ntpd\n",
      "driftfile /var/lib/ntp/ntp.drift\n",
      "statsdir  /var/lib/ntp/\n",
      "statistics loopstats peerstats clockstats\n",
      "filegen loopstats file loopstats type day enable\n",
      "filegen peerstats file peerstats type day enable\n",
      "filegen clockstats file clockstats type day enable\n",
      "\n",
      "# You should have at least 4 NTP servers\n",
      "\n",
      "# server ntp-ucla.usno.navy.mil iburst   # Naval Observatory - Los Angeles, CA USA \n",
      "\n",
      "# server owamp.losa.net.internet2.edu iburst   # Internet2 - Los Angeles, CA USA \n",
      "\n",
      "# server owamp.salt.net.internet2.edu iburst   # Internet2 - Salt Lake City, UT USA \n",
      "\n",
      "# server saturn.es.net iburst   # ESnet - Sunnyvale, CA USA \n",
      "\n",
      "# server time3.chpc.utah.edu iburst   # UTAH - Server #3, University of Utah, Salt Lake City, UT USA \n",
      "\n",
      "server 137.164.48.196 iburst\n"
     ]
    }
   ],
   "source": [
    "cat /etc/ntp.conf"
   ]
  },
  {
   "cell_type": "code",
   "execution_count": 10,
   "metadata": {},
   "outputs": [],
   "source": [
    "systemctl start ntpd"
   ]
  },
  {
   "cell_type": "code",
   "execution_count": 11,
   "metadata": {},
   "outputs": [
    {
     "name": "stdout",
     "output_type": "stream",
     "text": [
      "\u001b[1;32m●\u001b[0m ntpd.service - Network Time Service\n",
      "   Loaded: loaded (/usr/lib/systemd/system/ntpd.service; enabled; vendor preset: disabled)\n",
      "   Active: \u001b[1;32mactive (running)\u001b[0m since Sat 2018-03-03 16:05:10 PST; 3h 30min ago\n",
      " Main PID: 1042 (ntpd)\n",
      "   CGroup: /system.slice/ntpd.service\n",
      "           └─1042 /usr/sbin/ntpd -u ntp:ntp -g\n",
      "\n",
      "Mar 03 16:05:10 gigiot-22 systemd[1]: Starting Network Time Service...\n",
      "Mar 03 16:05:10 gigiot-22 ntpd[1042]: \u001b[1;39mproto: precision = 0.100 usec\u001b[0m\n",
      "Mar 03 16:05:10 gigiot-22 ntpd[1042]: 0.0.0.0 c01d 0d kern kernel time sync enabled\n",
      "Mar 03 16:05:10 gigiot-22 systemd[1]: Started Network Time Service.\n"
     ]
    }
   ],
   "source": [
    "systemctl status ntpd -l"
   ]
  },
  {
   "cell_type": "code",
   "execution_count": 12,
   "metadata": {},
   "outputs": [
    {
     "name": "stdout",
     "output_type": "stream",
     "text": [
      "     remote           refid      st t when poll reach   delay   offset  jitter\n",
      "==============================================================================\n",
      "*fiona-10-01     69.89.207.99     2 u  269  512  377    0.113    2.004   0.867\n",
      "associd=0 status=0615 leap_none, sync_ntp, 1 event, clock_sync,\n",
      "version=\"ntpd 4.2.6p5@1.2349-o Wed Apr 12 21:24:06 UTC 2017 (1)\",\n",
      "processor=\"x86_64\", system=\"Linux/3.10.0-693.17.1.el7.x86_64\", leap=00,\n",
      "stratum=3, precision=-23, rootdelay=67.801, rootdisp=44.224,\n",
      "refid=137.164.48.196,\n",
      "reftime=de45e6f7.a1fe44d9  Sat, Mar  3 2018 19:31:03.632,\n",
      "clock=de45e805.758f3a33  Sat, Mar  3 2018 19:35:33.459, peer=43887, tc=9,\n",
      "mintc=3, offset=2.004, frequency=-19.190, sys_jitter=0.000,\n",
      "clk_jitter=5.157, clk_wander=1.103\n"
     ]
    }
   ],
   "source": [
    "ntpq -p -c rv"
   ]
  },
  {
   "cell_type": "markdown",
   "metadata": {},
   "source": [
    "## determine default interface"
   ]
  },
  {
   "cell_type": "code",
   "execution_count": 13,
   "metadata": {},
   "outputs": [
    {
     "name": "stdout",
     "output_type": "stream",
     "text": [
      "enp3s0\n"
     ]
    }
   ],
   "source": [
    "default_iface=$(awk '$2 == 00000000 { print $1 }' /proc/net/route)\n",
    "echo $default_iface"
   ]
  },
  {
   "cell_type": "markdown",
   "metadata": {},
   "source": [
    "## confirm `hostname -f` responds with FQHN"
   ]
  },
  {
   "cell_type": "code",
   "execution_count": 14,
   "metadata": {},
   "outputs": [
    {
     "name": "stdout",
     "output_type": "stream",
     "text": [
      "gigiot-22.conf.cenic.org\n"
     ]
    }
   ],
   "source": [
    "hostname -f"
   ]
  },
  {
   "cell_type": "markdown",
   "metadata": {},
   "source": [
    "## use hostnamectl to set if its not a valid FQHN"
   ]
  },
  {
   "cell_type": "code",
   "execution_count": 15,
   "metadata": {},
   "outputs": [
    {
     "name": "stdout",
     "output_type": "stream",
     "text": [
      "gigiot-22.\n"
     ]
    }
   ],
   "source": [
    "myip=$(ip addr show dev $default_iface | grep 'inet '| awk '{print $2}' | awk -F \"/\" '{print $1}')\n",
    "dig -x $myip +short"
   ]
  },
  {
   "cell_type": "code",
   "execution_count": 16,
   "metadata": {},
   "outputs": [
    {
     "name": "stdout",
     "output_type": "stream",
     "text": [
      "gigiot-22.conf.cenic.org\n"
     ]
    }
   ],
   "source": [
    "hostnamectl set-hostname `dig -x $myip +short`\n",
    "hostname -f"
   ]
  },
  {
   "cell_type": "markdown",
   "metadata": {},
   "source": [
    "## view current link settings on default interface"
   ]
  },
  {
   "cell_type": "code",
   "execution_count": 17,
   "metadata": {},
   "outputs": [
    {
     "name": "stdout",
     "output_type": "stream",
     "text": [
      "2: enp3s0: <BROADCAST,MULTICAST,UP,LOWER_UP> mtu 9000 qdisc fq state UP mode DEFAULT qlen 10000\n",
      "    link/ether 40:8d:5c:f4:b6:c6 brd ff:ff:ff:ff:ff:ff\n"
     ]
    }
   ],
   "source": [
    "ip link show dev $default_iface"
   ]
  },
  {
   "cell_type": "markdown",
   "metadata": {},
   "source": [
    "## create a custom udev rules file for tuning the network configuration "
   ]
  },
  {
   "cell_type": "code",
   "execution_count": 18,
   "metadata": {},
   "outputs": [],
   "source": [
    "if [ ! -f /etc/udev/rules.d/80-prp-fiona-ws-ma-netconf.rules ]; then\n",
    "cat > /etc/udev/rules.d/80-prp-fiona-ws-ma-netconf.rules <<EOL\n",
    "KERNEL==\"$default_iface\", RUN+=\"/sbin/ip link set %k mtu 9000\"\n",
    "KERNEL==\"$default_iface\", RUN+=\"/sbin/ip link set %k txqueuelen 10000\"\n",
    "EOL\n",
    "chmod 644 /etc/udev/rules.d/80-prp-fiona-ws-ma-netconf.rules\n",
    "fi"
   ]
  },
  {
   "cell_type": "markdown",
   "metadata": {},
   "source": [
    "## Use udevadm to reload the rules and trigger the action"
   ]
  },
  {
   "cell_type": "code",
   "execution_count": 19,
   "metadata": {},
   "outputs": [],
   "source": [
    "/sbin/udevadm control --reload-rules\n",
    "/sbin/udevadm trigger"
   ]
  },
  {
   "cell_type": "markdown",
   "metadata": {},
   "source": [
    "## confirm desired settings are in effect"
   ]
  },
  {
   "cell_type": "code",
   "execution_count": 20,
   "metadata": {},
   "outputs": [
    {
     "name": "stdout",
     "output_type": "stream",
     "text": [
      "2: enp3s0: <BROADCAST,MULTICAST,UP,LOWER_UP> mtu 9000 qdisc fq state UP mode DEFAULT qlen 10000\n",
      "    link/ether 40:8d:5c:f4:b6:c6 brd ff:ff:ff:ff:ff:ff\n"
     ]
    }
   ],
   "source": [
    "ip link show dev $default_iface"
   ]
  },
  {
   "cell_type": "markdown",
   "metadata": {},
   "source": [
    "## Create a custom sysctl file with desired settings"
   ]
  },
  {
   "cell_type": "code",
   "execution_count": 21,
   "metadata": {},
   "outputs": [],
   "source": [
    "if [ ! -f /etc/sysctl.d/80-prp-fiona-ws-ma-sysctl.conf ]; then\n",
    "cat>/etc/sysctl.d/80-prp-fiona-ws-ma-sysctl.conf <<EOL\n",
    "net.core.rmem_max = 67108864 \n",
    "net.core.wmem_max = 67108864 \n",
    "net.ipv4.tcp_rmem = 4096 87380 33554432\n",
    "net.ipv4.tcp_wmem = 4096 65536 33554432\n",
    "net.ipv4.tcp_congestion_control=htcp\n",
    "EOL\n",
    "chmod 644 /etc/sysctl.d/80-prp-fiona-ws-ma-sysctl.conf\n",
    "fi"
   ]
  },
  {
   "cell_type": "markdown",
   "metadata": {},
   "source": [
    "## Adjust kernel boot-time defaults and rebuild grub.cfg"
   ]
  },
  {
   "cell_type": "code",
   "execution_count": 22,
   "metadata": {},
   "outputs": [],
   "source": [
    "if ! grep --quiet default_hugepagesz /etc/default/grub; then\n",
    "\tsed -i 's/^GRUB_CMDLINE_LINUX=\\\"[^\\\"]*/& default_hugepagesz=1GB hugepagesz=1GB hugepages=8 elevator=noop processor.max_cstate=1 intel_iommu=off idle=poll intel_idle.max_cstate=0 nosoftlockup mce=ignore_mce/' /etc/default/grub\n",
    "\tgrub2-mkconfig -o /boot/grub2/grub.cfg\n",
    "fi"
   ]
  },
  {
   "cell_type": "code",
   "execution_count": 23,
   "metadata": {},
   "outputs": [
    {
     "name": "stdout",
     "output_type": "stream",
     "text": [
      "GRUB_TIMEOUT=5\n",
      "GRUB_DISTRIBUTOR=\"$(sed 's, release .*$,,g' /etc/system-release)\"\n",
      "GRUB_DEFAULT=saved\n",
      "GRUB_DISABLE_SUBMENU=true\n",
      "GRUB_TERMINAL_OUTPUT=\"console\"\n",
      "GRUB_CMDLINE_LINUX=\"crashkernel=auto rhgb quiet default_hugepagesz=1GB hugepagesz=1GB hugepages=8 elevator=noop processor.max_cstate=1 intel_iommu=off idle=poll intel_idle.max_cstate=0 nosoftlockup mce=ignore_mce\"\n",
      "GRUB_DISABLE_RECOVERY=\"true\"\n"
     ]
    }
   ],
   "source": [
    "cat /etc/default/grub"
   ]
  },
  {
   "cell_type": "markdown",
   "metadata": {},
   "source": [
    "# SAVE your work NOW"
   ]
  },
  {
   "cell_type": "code",
   "execution_count": null,
   "metadata": {},
   "outputs": [],
   "source": [
    "reboot"
   ]
  },
  {
   "cell_type": "markdown",
   "metadata": {},
   "source": [
    "## confirm intended tuning settings are present "
   ]
  },
  {
   "cell_type": "code",
   "execution_count": 1,
   "metadata": {},
   "outputs": [
    {
     "name": "stdout",
     "output_type": "stream",
     "text": [
      "2: enp3s0: <BROADCAST,MULTICAST,UP,LOWER_UP> mtu 9000 qdisc fq state UP mode DEFAULT qlen 10000\n"
     ]
    }
   ],
   "source": [
    "ip link show | grep UP | grep -v lo"
   ]
  },
  {
   "cell_type": "markdown",
   "metadata": {},
   "source": [
    "## disable a few unwanted services and enable the `tuned` service"
   ]
  },
  {
   "cell_type": "code",
   "execution_count": 2,
   "metadata": {},
   "outputs": [],
   "source": [
    "systemctl stop NetworkManager \n",
    "systemctl disable NetworkManager\n",
    "systemctl stop irqbalance.service\n",
    "systemctl disable irqbalance.service\n",
    "systemctl stop wpa_supplicant\n",
    "systemctl disable wpa_supplicant\n",
    "systemctl start tuned\n",
    "systemctl enable tuned\n"
   ]
  },
  {
   "cell_type": "markdown",
   "metadata": {},
   "source": [
    "## check the current clock rate of the CPU cores"
   ]
  },
  {
   "cell_type": "code",
   "execution_count": 3,
   "metadata": {},
   "outputs": [
    {
     "name": "stdout",
     "output_type": "stream",
     "text": [
      "model name\t: Intel(R) Pentium(R) CPU  N3710  @ 1.60G\u001b[01;31m\u001b[KHz\u001b[m\u001b[K\n",
      "cpu M\u001b[01;31m\u001b[KHz\u001b[m\u001b[K\t\t: 1601.000\n",
      "model name\t: Intel(R) Pentium(R) CPU  N3710  @ 1.60G\u001b[01;31m\u001b[KHz\u001b[m\u001b[K\n",
      "cpu M\u001b[01;31m\u001b[KHz\u001b[m\u001b[K\t\t: 1601.000\n",
      "model name\t: Intel(R) Pentium(R) CPU  N3710  @ 1.60G\u001b[01;31m\u001b[KHz\u001b[m\u001b[K\n",
      "cpu M\u001b[01;31m\u001b[KHz\u001b[m\u001b[K\t\t: 1601.000\n",
      "model name\t: Intel(R) Pentium(R) CPU  N3710  @ 1.60G\u001b[01;31m\u001b[KHz\u001b[m\u001b[K\n",
      "cpu M\u001b[01;31m\u001b[KHz\u001b[m\u001b[K\t\t: 1601.000\n"
     ]
    }
   ],
   "source": [
    "cat /proc/cpuinfo | grep Hz"
   ]
  },
  {
   "cell_type": "markdown",
   "metadata": {},
   "source": [
    "## use `tuned-adm` to show the current active profile"
   ]
  },
  {
   "cell_type": "code",
   "execution_count": 4,
   "metadata": {},
   "outputs": [
    {
     "name": "stdout",
     "output_type": "stream",
     "text": [
      "Current active profile: network-throughput\n"
     ]
    }
   ],
   "source": [
    "tuned-adm active"
   ]
  },
  {
   "cell_type": "markdown",
   "metadata": {},
   "source": [
    "## set `throughput-performance` at the active profile"
   ]
  },
  {
   "cell_type": "code",
   "execution_count": 5,
   "metadata": {},
   "outputs": [],
   "source": [
    "tuned-adm profile throughput-performance"
   ]
  },
  {
   "cell_type": "markdown",
   "metadata": {},
   "source": [
    "## re-check the clock rate of the CPU cores"
   ]
  },
  {
   "cell_type": "code",
   "execution_count": 6,
   "metadata": {},
   "outputs": [
    {
     "name": "stdout",
     "output_type": "stream",
     "text": [
      "model name\t: Intel(R) Pentium(R) CPU  N3710  @ 1.60G\u001b[01;31m\u001b[KHz\u001b[m\u001b[K\n",
      "cpu M\u001b[01;31m\u001b[KHz\u001b[m\u001b[K\t\t: 1601.000\n",
      "model name\t: Intel(R) Pentium(R) CPU  N3710  @ 1.60G\u001b[01;31m\u001b[KHz\u001b[m\u001b[K\n",
      "cpu M\u001b[01;31m\u001b[KHz\u001b[m\u001b[K\t\t: 1601.000\n",
      "model name\t: Intel(R) Pentium(R) CPU  N3710  @ 1.60G\u001b[01;31m\u001b[KHz\u001b[m\u001b[K\n",
      "cpu M\u001b[01;31m\u001b[KHz\u001b[m\u001b[K\t\t: 1601.000\n",
      "model name\t: Intel(R) Pentium(R) CPU  N3710  @ 1.60G\u001b[01;31m\u001b[KHz\u001b[m\u001b[K\n",
      "cpu M\u001b[01;31m\u001b[KHz\u001b[m\u001b[K\t\t: 1601.000\n"
     ]
    }
   ],
   "source": [
    "cat /proc/cpuinfo | grep Hz"
   ]
  },
  {
   "cell_type": "markdown",
   "metadata": {},
   "source": [
    "# Installing the perfSONAR Central Management bundle\n",
    "<p>The instructions below follow the perfSONAR CentOS Bundle Installation page, here:</p>\n",
    "<p>http://docs.perfsonar.net/install_centos.html</p>"
   ]
  },
  {
   "cell_type": "markdown",
   "metadata": {},
   "source": [
    "## point yum to local perfSONAR repo "
   ]
  },
  {
   "cell_type": "code",
   "execution_count": 7,
   "metadata": {},
   "outputs": [],
   "source": [
    "cat << EOF > /etc/yum.repos.d/perfsonar.repo\n",
    "[perfsonar]\n",
    "name=Extra Packages for Enterprise Linux 7 - $basearch\n",
    "baseurl=http://137.164.48.196/centos-7-x86_64/perfsonar\n",
    "failovermethod=priority\n",
    "enabled=1\n",
    "gpgcheck=0\n",
    "EOF"
   ]
  },
  {
   "cell_type": "markdown",
   "metadata": {},
   "source": [
    "## Refresh the yum cache "
   ]
  },
  {
   "cell_type": "code",
   "execution_count": 8,
   "metadata": {},
   "outputs": [
    {
     "name": "stdout",
     "output_type": "stream",
     "text": [
      "Loaded plugins: fastestmirror\n",
      "Cleaning repos: base epel extras globus perfsonar updates zfs\n",
      "Cleaning up everything\n",
      "Maybe you want: rm -rf /var/cache/yum, to also free up space taken by orphaned data from disabled or removed repos\n",
      "Cleaning up list of fastest mirrors\n"
     ]
    }
   ],
   "source": [
    "yum clean all"
   ]
  },
  {
   "cell_type": "markdown",
   "metadata": {},
   "source": [
    "## Now we are ready to install the `perfsonar-centralmanagement` bundle:\n",
    "<p>due to the large number of packages involved, the call to yum in the next cell includes the `-q` switch to set yum to quiet mode.  output to `stderr` and any non-zero exit code will appear in the cell.</p>\n",
    "<p>NOTE: launch a separate terminal session and run <pre>tail -f /var/log/yum.log</pre> to follow the installation process.</p>"
   ]
  },
  {
   "cell_type": "code",
   "execution_count": 9,
   "metadata": {},
   "outputs": [
    {
     "name": "stdout",
     "output_type": "stream",
     "text": [
      "Package perfsonar-centralmanagement-4.0.2.1-1.el7.centos.noarch already installed and latest version\n"
     ]
    }
   ],
   "source": [
    "yum -y -q install perfsonar-centralmanagement"
   ]
  },
  {
   "cell_type": "markdown",
   "metadata": {},
   "source": [
    "## use `systemctl` to enable services"
   ]
  },
  {
   "cell_type": "code",
   "execution_count": 10,
   "metadata": {},
   "outputs": [
    {
     "name": "stdout",
     "output_type": "stream",
     "text": [
      "cassandra.service is not a native service, redirecting to /sbin/chkconfig.\n",
      "Executing /sbin/chkconfig cassandra on\n"
     ]
    }
   ],
   "source": [
    "systemctl enable httpd\n",
    "systemctl start httpd\n",
    "systemctl enable cassandra\n",
    "systemctl start cassandra"
   ]
  },
  {
   "cell_type": "markdown",
   "metadata": {},
   "source": [
    "## check firewall rules"
   ]
  },
  {
   "cell_type": "code",
   "execution_count": 11,
   "metadata": {},
   "outputs": [
    {
     "name": "stdout",
     "output_type": "stream",
     "text": [
      "public (active)\n",
      "  target: default\n",
      "  icmp-block-inversion: no\n",
      "  interfaces: enp3s0\n",
      "  sources: \n",
      "  services: ssh dhcpv6-client ntp http https traceroute bwctl owamp-control oppd\n",
      "  ports: 5001-5300/udp 5001-5300/tcp 5301-5600/udp 5301-5600/tcp 5601-5900/udp 5601-5900/tcp 6001-6200/udp 6001-6200/tcp 8760-9960/udp 8760-9960/tcp 8888/tcp 2811/tcp 7512/tcp 50000-51000/tcp 50000-51000/udp 2223/tcp 4823/tcp 5001-5900/tcp 5001-5900/udp\n",
      "  protocols: \n",
      "  masquerade: no\n",
      "  forward-ports: \n",
      "  source-ports: \n",
      "  icmp-blocks: \n",
      "  rich rules: \n",
      "\t\n"
     ]
    }
   ],
   "source": [
    "firewall-cmd --list-all"
   ]
  },
  {
   "cell_type": "markdown",
   "metadata": {},
   "source": [
    "## configure the firewall rules to allow http / https"
   ]
  },
  {
   "cell_type": "code",
   "execution_count": 12,
   "metadata": {},
   "outputs": [
    {
     "name": "stdout",
     "output_type": "stream",
     "text": [
      "\u001b[91mWarning: ALREADY_ENABLED: http\u001b[00m\n",
      "success\n",
      "\u001b[91mWarning: ALREADY_ENABLED: https\u001b[00m\n",
      "success\n",
      "success\n"
     ]
    }
   ],
   "source": [
    "firewall-cmd --permanent --zone=public --add-service=http\n",
    "firewall-cmd --permanent --zone=public --add-service=https\n",
    "firewall-cmd --reload"
   ]
  },
  {
   "cell_type": "markdown",
   "metadata": {},
   "source": [
    "## verify updates to the firewall ruleset"
   ]
  },
  {
   "cell_type": "code",
   "execution_count": 13,
   "metadata": {},
   "outputs": [
    {
     "name": "stdout",
     "output_type": "stream",
     "text": [
      "public (active)\n",
      "  target: default\n",
      "  icmp-block-inversion: no\n",
      "  interfaces: enp3s0\n",
      "  sources: \n",
      "  services: ssh dhcpv6-client ntp http https traceroute bwctl owamp-control oppd\n",
      "  ports: 5001-5300/udp 5001-5300/tcp 5301-5600/udp 5301-5600/tcp 5601-5900/udp 5601-5900/tcp 6001-6200/udp 6001-6200/tcp 8760-9960/udp 8760-9960/tcp 8888/tcp 2811/tcp 7512/tcp 50000-51000/tcp 50000-51000/udp 2223/tcp 4823/tcp 5001-5900/tcp 5001-5900/udp\n",
      "  protocols: \n",
      "  masquerade: no\n",
      "  forward-ports: \n",
      "  source-ports: \n",
      "  icmp-blocks: \n",
      "  rich rules: \n",
      "\t\n"
     ]
    }
   ],
   "source": [
    "firewall-cmd --list-all"
   ]
  },
  {
   "cell_type": "markdown",
   "metadata": {},
   "source": [
    "## SAVE your work NOW\n",
    "## Reboot the server \n"
   ]
  },
  {
   "cell_type": "code",
   "execution_count": null,
   "metadata": {},
   "outputs": [],
   "source": [
    "reboot"
   ]
  },
  {
   "cell_type": "markdown",
   "metadata": {},
   "source": [
    "## verify things came up as expected"
   ]
  },
  {
   "cell_type": "code",
   "execution_count": 4,
   "metadata": {},
   "outputs": [
    {
     "name": "stdout",
     "output_type": "stream",
     "text": [
      "\u001b[1;32m●\u001b[0m maddash-server.service - MaDDash Scheduler and REST Server\n",
      "   Loaded: loaded (/usr/lib/systemd/system/maddash-server.service; enabled; vendor preset: disabled)\n",
      "   Active: \u001b[1;32mactive (running)\u001b[0m since Sat 2018-03-03 19:48:15 PST; 8s ago\n",
      "  Process: 6451 ExecStart=/bin/sh -c /usr/lib/maddash/maddash-server/bin/startServer.sh /var/run/maddash/maddash-server.pid /usr/lib/maddash/maddash-server/target/maddash-server.one-jar.jar -c /etc/maddash/maddash-server/maddash.yaml -l /etc/maddash/maddash-server/log4j.properties >/var/log/maddash/maddash-server.out 2>&1 (code=exited, status=0/SUCCESS)\n",
      "  Process: 6448 ExecStartPre=/bin/chown -R maddash:maddash /var/log/maddash (code=exited, status=0/SUCCESS)\n",
      "  Process: 6445 ExecStartPre=/bin/chown maddash:maddash /var/run/maddash (code=exited, status=0/SUCCESS)\n",
      "  Process: 6443 ExecStartPre=/bin/mkdir -p /var/run/maddash (code=exited, status=0/SUCCESS)\n",
      " Main PID: 6455 (java)\n",
      "   CGroup: /system.slice/maddash-server.service\n",
      "           └─6455 java -Djava.net.preferIPv4Stack=true -jar /usr/lib/maddash/maddash-server/target/maddash-server.one-jar.jar -c /etc/maddash/maddash-server/maddash.yaml -l /etc/maddash/maddash-server/log4j.properties\n",
      "\n",
      "Mar 03 19:48:15 gigiot-22 systemd[1]: Starting MaDDash Scheduler and REST Server...\n",
      "Mar 03 19:48:15 gigiot-22 systemd[1]: Started MaDDash Scheduler and REST Server.\n",
      "\u001b[1;32m●\u001b[0m perfsonar-meshconfig-guiagent.service - perfSONAR MeshConfig GUI Agent\n",
      "   Loaded: loaded (/usr/lib/systemd/system/perfsonar-meshconfig-guiagent.service; enabled; vendor preset: disabled)\n",
      "   Active: \u001b[1;32mactive (running)\u001b[0m since Sat 2018-03-03 19:44:05 PST; 4min 18s ago\n",
      "  Process: 1954 ExecStart=/usr/lib/perfsonar/bin/perfsonar_meshconfig_guiagent --config=/etc/perfsonar/meshconfig-guiagent.conf --logger=/etc/perfsonar/meshconfig-guiagent-logger.conf --pidfile=/var/run/perfsonar-meshconfig-guiagent.pid --user=maddash --group=maddash (code=exited, status=0/SUCCESS)\n",
      " Main PID: 2761 (perfsonar_meshc)\n",
      "   CGroup: /system.slice/perfsonar-meshconfig-guiagent.service\n",
      "           └─2761 perfsonar_meshconfig_guiagen\n",
      "\n",
      "Mar 03 19:43:58 gigiot-22 systemd[1]: Starting perfSONAR MeshConfig GUI Agent...\n",
      "Mar 03 19:44:05 gigiot-22 systemd[1]: Started perfSONAR MeshConfig GUI Agent.\n",
      "\u001b[1;32m●\u001b[0m postgresql-9.5.service - PostgreSQL 9.5 database server\n",
      "   Loaded: loaded (/usr/lib/systemd/system/postgresql-9.5.service; enabled; vendor preset: disabled)\n",
      "   Active: \u001b[1;32mactive (running)\u001b[0m since Sat 2018-03-03 19:43:59 PST; 4min 24s ago\n",
      "  Process: 1926 ExecStart=/usr/pgsql-9.5/bin/pg_ctl start -D ${PGDATA} -s -w -t 300 (code=exited, status=0/SUCCESS)\n",
      "  Process: 1894 ExecStartPre=/usr/pgsql-9.5/bin/postgresql95-check-db-dir ${PGDATA} (code=exited, status=0/SUCCESS)\n",
      " Main PID: 1957 (postgres)\n",
      "   CGroup: /system.slice/postgresql-9.5.service\n",
      "           ├─1957 /usr/pgsql-9.5/bin/postgres -D /var/lib/pgsql/9.5/data\n",
      "           ├─1992 postgres: logger process                              \n",
      "           ├─2003 postgres: checkpointer process                        \n",
      "           ├─2004 postgres: writer process                              \n",
      "           ├─2005 postgres: wal writer process                          \n",
      "           ├─2006 postgres: autovacuum launcher process                 \n",
      "           ├─2007 postgres: stats collector process                     \n",
      "           ├─2447 postgres: pscheduler pscheduler 127.0.0.1(40702) idle \n",
      "           ├─2448 postgres: pscheduler pscheduler 127.0.0.1(40704) idle \n",
      "           ├─2449 postgres: pscheduler pscheduler 127.0.0.1(40706) idle \n",
      "           ├─2450 postgres: pscheduler pscheduler 127.0.0.1(40708) idle \n",
      "           ├─2452 postgres: pscheduler pscheduler 127.0.0.1(40710) idle \n",
      "           ├─2468 postgres: pscheduler pscheduler 127.0.0.1(40716) idle \n",
      "           ├─2469 postgres: pscheduler pscheduler 127.0.0.1(40718) idle \n",
      "           ├─2500 postgres: pscheduler pscheduler 127.0.0.1(40726) idle \n",
      "           └─4251 postgres: pscheduler pscheduler 127.0.0.1(42230) idle \n",
      "\n",
      "Mar 03 19:43:58 gigiot-22 systemd[1]: Starting PostgreSQL 9.5 database server...\n",
      "Mar 03 19:43:58 gigiot-22 pg_ctl[1926]: < 2018-03-03 19:43:58.591 PST >LOG:  redirecting log output to logging collector process\n",
      "Mar 03 19:43:58 gigiot-22 pg_ctl[1926]: < 2018-03-03 19:43:58.591 PST >HINT:  Future log output will appear in directory \"pg_log\".\n",
      "Mar 03 19:43:59 gigiot-22 systemd[1]: Started PostgreSQL 9.5 database server.\n",
      "\u001b[1;32m●\u001b[0m cassandra.service - SYSV: Starts and stops Cassandra\n",
      "   Loaded: loaded (/etc/rc.d/init.d/cassandra; bad; vendor preset: disabled)\n",
      "   Active: \u001b[1;32mactive (exited)\u001b[0m since Sat 2018-03-03 19:44:00 PST; 4min 24s ago\n",
      "     Docs: man:systemd-sysv-generator(8)\n",
      "  Process: 1883 ExecStart=/etc/rc.d/init.d/cassandra start (code=exited, status=0/SUCCESS)\n",
      "\n",
      "Mar 03 19:43:58 gigiot-22 systemd[1]: Starting SYSV: Starts and stops Cassandra...\n",
      "Mar 03 19:43:58 gigiot-22 su[1942]: \u001b[1;39m(to cassandra) root on none\u001b[0m\n",
      "Mar 03 19:44:00 gigiot-22 cassandra[1883]: Starting Cassandra: OK\n",
      "Mar 03 19:44:00 gigiot-22 systemd[1]: Started SYSV: Starts and stops Cassandra.\n",
      "\u001b[1;32m●\u001b[0m httpd.service - The Apache HTTP Server\n",
      "   Loaded: loaded (/usr/lib/systemd/system/httpd.service; enabled; vendor preset: disabled)\n",
      "   Active: \u001b[1;32mactive (running)\u001b[0m since Sat 2018-03-03 19:43:58 PST; 4min 25s ago\n",
      "     Docs: man:httpd(8)\n",
      "           man:apachectl(8)\n",
      " Main PID: 1892 (httpd)\n",
      "   Status: \"Total requests: 323; Current requests/sec: 1.3; Current traffic: 4.6KB/sec\"\n",
      "   CGroup: /system.slice/httpd.service\n",
      "           ├─1892 /usr/sbin/httpd -DFOREGROUND\n",
      "           ├─2055 /usr/sbin/httpd -DFOREGROUND\n",
      "           ├─2056 /usr/sbin/httpd -DFOREGROUND\n",
      "           ├─2057 /usr/sbin/httpd -DFOREGROUND\n",
      "           ├─2058 /usr/sbin/httpd -DFOREGROUND\n",
      "           ├─2059 /usr/sbin/httpd -DFOREGROUND\n",
      "           ├─2060 /usr/sbin/httpd -DFOREGROUND\n",
      "           ├─2061 /usr/sbin/httpd -DFOREGROUND\n",
      "           ├─2062 /usr/sbin/httpd -DFOREGROUND\n",
      "           ├─2065 /usr/sbin/httpd -DFOREGROUND\n",
      "           ├─2066 /usr/sbin/httpd -DFOREGROUND\n",
      "           ├─2068 /usr/sbin/httpd -DFOREGROUND\n",
      "           ├─2069 /usr/sbin/httpd -DFOREGROUND\n",
      "           ├─2071 /usr/sbin/httpd -DFOREGROUND\n",
      "           ├─2072 /usr/sbin/httpd -DFOREGROUND\n",
      "           ├─2073 /usr/sbin/httpd -DFOREGROUND\n",
      "           ├─2075 /usr/sbin/httpd -DFOREGROUND\n",
      "           ├─2076 /usr/sbin/httpd -DFOREGROUND\n",
      "           ├─2869 /usr/sbin/httpd -DFOREGROUND\n",
      "           ├─3103 /usr/sbin/httpd -DFOREGROUND\n",
      "           ├─4422 /usr/sbin/httpd -DFOREGROUND\n",
      "           ├─4433 /usr/sbin/httpd -DFOREGROUND\n",
      "           ├─4434 /usr/sbin/httpd -DFOREGROUND\n",
      "           ├─4642 /usr/sbin/httpd -DFOREGROUND\n",
      "           ├─4813 /usr/sbin/httpd -DFOREGROUND\n",
      "           └─5659 /usr/sbin/httpd -DFOREGROUND\n",
      "\n",
      "Mar 03 19:43:58 gigiot-22 systemd[1]: Starting The Apache HTTP Server...\n",
      "Mar 03 19:43:58 gigiot-22 httpd[1892]: AH00558: httpd: Could not reliably determine the server's fully qualified domain name, using 137.164.48.222. Set the 'ServerName' directive globally to suppress this message\n",
      "Mar 03 19:43:58 gigiot-22 systemd[1]: Started The Apache HTTP Server.\n",
      "Mar 03 19:44:11 gigiot-22 httpd[2068]: pscheduler-api INFO     Started\n",
      "Mar 03 19:44:16 gigiot-22 httpd[2068]: pscheduler-api INFO     Limits loaded from /etc/pscheduler/limits.conf\n"
     ]
    }
   ],
   "source": [
    "systemctl status maddash-server -l\n",
    "sudo systemctl restart maddash-server\n",
    "systemctl status perfsonar-meshconfig-guiagent -l\n",
    "systemctl status postgresql-9.5 -l\n",
    "systemctl status cassandra -l\n",
    "systemctl status httpd -l"
   ]
  },
  {
   "cell_type": "markdown",
   "metadata": {},
   "source": [
    "## verify the MaDDash webUI is available\n",
    "<p>the following cell will make a call to `curl` to request the text of the MaDDash webUI main page.</p>\n",
    "<p>alternatively, launch a new web browser tab to view the dashboard.</p>"
   ]
  },
  {
   "cell_type": "code",
   "execution_count": 5,
   "metadata": {},
   "outputs": [
    {
     "name": "stdout",
     "output_type": "stream",
     "text": [
      "<!DOCTYPE HTML PUBLIC \"-//W3C//DTD HTML 4.01//EN\" \"http://www.w3.org/TR/html4/strict.dtd\">\n",
      "<html>\n",
      "\t<head>\n",
      "\t\t<meta http-equiv=\"Content-Type\" content=\"text/html; charset=iso-8859-1\">\n",
      "\t\t<title>MaDDash - Monitoring and Debugging Dashboard</title>\n",
      "\t\t<link rel=\"stylesheet\" href=\"lib/dojo/dijit/themes/claro/claro.css\" media=\"screen\">\n",
      "\t\t<link rel=\"stylesheet\" href=\"style/maddash-webui.css\" media=\"screen\">\n",
      "\t\t<link rel=\"stylesheet\" href=\"style/maddash.css\" media=\"screen\">\n",
      "\t\t<link rel=\"stylesheet\" href=\"style/tipsy.css\" />\n",
      "        <link rel=\"stylesheet\" href=\"style/jquery.fancybox-1.3.4.css\" />\n",
      "\t\n",
      "\t    <script src=\"lib/jquery.min.js\"></script>\n",
      "        <script src=\"lib/jquery-ui.min.js\"></script>\n",
      "        <script type=\"text/javascript\" src=\"lib/jquery.tipsy.js\"></script>\n",
      "\t\t<script src=\"lib/dojo/dojo/dojo.js\" data-dojo-config=\"parseOnLoad: true\"></script>\n",
      "\t\t<script src=\"lib/dojo/dojo/dojo-maddash.js\"></script>\n",
      "\t\t<script src=\"lib/d3.v2.js\"></script>\n",
      "\t\t<script type=\"text/javascript\" src=\"lib/maddash.js\"></script>\n",
      "\t\t<script type=\"text/javascript\" src=\"lib/maddash-webui.js\"></script>\n",
      "\t\t<script>\n",
      "\t\t\trequire([\"dijit/TitlePane\",\"dijit/MenuBar\",\"dijit/PopupMenuBarItem\",\"dijit/MenuSeparator\",\"dijit/DropDownMenu\",\"dijit/MenuItem\",\"dijit/layout/ContentPane\",\"dojo/parser\"]);\n",
      "\t\t\t\n",
      "\t\t\tfunction loadDashWidgets(){\n",
      "\t\t\t    var configDS = new MaDDashDataSource(\"etc/config.json\", false);\n",
      "\t\t\t    var config = new MadDashConfig();\n",
      "\t\t\t    configDS.connect(config);\n",
      "\t\t\t    configDS.render();\n",
      "\t\t\t    var titlePane = new MadDashTitleSpan(\"maddashTitle\", \"index.cgi\");\n",
      "\t\t\t    titlePane.render(config.data);\n",
      "\t\t\t    \n",
      "\t\t\t    //set custom click handler\n",
      "\t\t\t    var handleClick = function(d){\n",
      "\t\t\t        var href = \"details.cgi?uri=\" + d.uri;\n",
      "                     window.open( href );\n",
      "                }\n",
      "\t\t\t    var gs = new MaDDashDataSource(\"/maddash/grids\"); \n",
      "\t\t\t\tvar ds = new MaDDashDataSource(\"/maddash/dashboards\"); \n",
      "\t\t\t\tvar mnuds = new MaDDashDataSource(\"/maddash/dashboards\"); \n",
      "\t\t\t\tvar refreshSource = null;\n",
      "\t\t\t\tvar userConfig = {};\n",
      "\t\t\t\tif(null == \"grid\"){\n",
      "\t\t\t\t    gs.connect(new MaDDashDashboardPane(\"maddashDashboardPane\", null, null, config.data, userConfig, handleClick));\n",
      "\t\t\t\t    refreshSource = gs;\n",
      "\t\t\t\t}else{\n",
      "\t\t\t\t    ds.connect(new MaDDashDashboardPane(\"maddashDashboardPane\", null, null, config.data, userConfig, handleClick));\n",
      "\t\t\t\t    refreshSource = ds;\n",
      "\t\t\t\t}\n",
      "\t\t\t\tmnuds.connect(new MadDashNavMenu(\"maddashMenuBar\", \"index.cgi\", config, userConfig, gs, refreshSource));\n",
      "\t\t\t\trefreshSource.connect(new MaDDashRefreshLabel(\"maddashRefreshStatus\"));\n",
      "\t\t\t\t\n",
      "\t\t\t\tmnuds.render();\n",
      "\t\t\t\tds.render();\n",
      "\t\t\t}\n",
      "\t\t</script>\n",
      "\t</head>\n",
      "\t<body class=\"claro\" style=\"font-family:sans-serif\" marginheight=\"0\" marginwidth=\"0\" onload=\"loadDashWidgets()\">\n",
      "\t\t<div id=\"maddashTitle\" class=\"maddashTitle\"></div>\n",
      "\t\t<div id=\"maddashMenuBar\"></div>\n",
      "\t\t<div id=\"maddashRefreshStatus\"></div>\n",
      "\t\t<div id=\"maddashDashboardPane\">\n",
      "\t\t    <img style='position:relative;left:49%;top:49%' height='20' width='20' class='loader' src='images/loader.gif'/>\n",
      "\t\t</div>\n",
      "\t\t<!-- add space for mouseover -->\n",
      "\t        <div id=\"footer\" class=\"maddashFooter\">\n",
      "                </div>\n",
      "                <div class=\"maddashFooterMoreInfo\">\n",
      "                  <br>\n",
      "                  <hr width=\"90%\">\n",
      "                  More information on MaDDash available <a target=\"newwindow\" href=\"http://software.es.net/maddash\">here</a>\n",
      "                </div>\n",
      "\t</body>\n",
      "</html>\n"
     ]
    }
   ],
   "source": [
    "curl http://$(hostname -s)/maddash-webui/"
   ]
  },
  {
   "cell_type": "markdown",
   "metadata": {},
   "source": [
    "## verify the esmond MA is operational\n",
    "<p>without any data in the MA at this point the expected output is an open and close pair of square brackets</p>"
   ]
  },
  {
   "cell_type": "code",
   "execution_count": 6,
   "metadata": {},
   "outputs": [
    {
     "name": "stdout",
     "output_type": "stream",
     "text": [
      "[{\"url\":\"http://gigiot-22/esmond/perfsonar/archive/0263c9e018b3499baf6f437ab05f9c43/?format=json\",\"metadata-key\":\"0263c9e018b3499baf6f437ab05f9c43\",\"subject-type\":\"point-to-point\",\"event-types\":[{\"summaries\":[],\"time-updated\":1520128226,\"base-uri\":\"/esmond/perfsonar/archive/0263c9e018b3499baf6f437ab05f9c43/packet-retransmits/base\",\"event-type\":\"packet-retransmits\"},{\"summaries\":[],\"time-updated\":1520128226,\"base-uri\":\"/esmond/perfsonar/archive/0263c9e018b3499baf6f437ab05f9c43/pscheduler-run-href/base\",\"event-type\":\"pscheduler-run-href\"},{\"summaries\":[{\"summary-type\":\"average\",\"uri\":\"/esmond/perfsonar/archive/0263c9e018b3499baf6f437ab05f9c43/throughput/averages/86400\",\"time-updated\":1520128226,\"summary-window\":\"86400\"}],\"time-updated\":1520128226,\"base-uri\":\"/esmond/perfsonar/archive/0263c9e018b3499baf6f437ab05f9c43/throughput/base\",\"event-type\":\"throughput\"},{\"summaries\":[],\"time-updated\":null,\"base-uri\":\"/esmond/perfsonar/archive/0263c9e018b3499baf6f437ab05f9c43/failures/base\",\"event-type\":\"failures\"},{\"summaries\":[],\"time-updated\":1520128226,\"base-uri\":\"/esmond/perfsonar/archive/0263c9e018b3499baf6f437ab05f9c43/throughput-subintervals/base\",\"event-type\":\"throughput-subintervals\"},{\"summaries\":[],\"time-updated\":1520128226,\"base-uri\":\"/esmond/perfsonar/archive/0263c9e018b3499baf6f437ab05f9c43/packet-retransmits-subintervals/base\",\"event-type\":\"packet-retransmits-subintervals\"}],\"source\":\"137.164.48.222\",\"destination\":\"137.164.48.224\",\"measurement-agent\":\"137.164.48.222\",\"tool-name\":\"pscheduler/iperf3\",\"input-source\":\"gigiot-22\",\"input-destination\":\"gigiot-24\",\"bw-ignore-first-seconds\":\"PT5S\",\"bw-parallel-streams\":\"1\",\"ip-transport-protocol\":\"tcp\",\"pscheduler-test-type\":\"throughput\",\"time-duration\":\"44.0\",\"uri\":\"/esmond/perfsonar/archive/0263c9e018b3499baf6f437ab05f9c43/\",\"metadata-count-total\":48,\"metadata-previous-page\":null,\"metadata-next-page\":null},{\"url\":\"http://gigiot-22/esmond/perfsonar/archive/03c1fff98c3649d59e34c51db99a8dfa/?format=json\",\"metadata-key\":\"03c1fff98c3649d59e34c51db99a8dfa\",\"subject-type\":\"point-to-point\",\"event-types\":[{\"summaries\":[],\"time-updated\":1520132296,\"base-uri\":\"/esmond/perfsonar/archive/03c1fff98c3649d59e34c51db99a8dfa/packet-trace/base\",\"event-type\":\"packet-trace\"},{\"summaries\":[],\"time-updated\":null,\"base-uri\":\"/esmond/perfsonar/archive/03c1fff98c3649d59e34c51db99a8dfa/failures/base\",\"event-type\":\"failures\"},{\"summaries\":[],\"time-updated\":null,\"base-uri\":\"/esmond/perfsonar/archive/03c1fff98c3649d59e34c51db99a8dfa/path-mtu/base\",\"event-type\":\"path-mtu\"},{\"summaries\":[],\"time-updated\":1520132296,\"base-uri\":\"/esmond/perfsonar/archive/03c1fff98c3649d59e34c51db99a8dfa/pscheduler-run-href/base\",\"event-type\":\"pscheduler-run-href\"}],\"source\":\"137.164.48.227\",\"destination\":\"137.164.48.222\",\"measurement-agent\":\"137.164.48.222\",\"tool-name\":\"pscheduler/traceroute\",\"input-source\":\"gigiot-27\",\"input-destination\":\"gigiot-22\",\"ip-packet-size\":\"40\",\"pscheduler-test-type\":\"trace\",\"time-duration\":\"8.0\",\"trace-max-ttl\":\"64\",\"uri\":\"/esmond/perfsonar/archive/03c1fff98c3649d59e34c51db99a8dfa/\"},{\"url\":\"http://gigiot-22/esmond/perfsonar/archive/14c25d3b05c9466b9fd5b7eec6956cd5/?format=json\",\"metadata-key\":\"14c25d3b05c9466b9fd5b7eec6956cd5\",\"subject-type\":\"point-to-point\",\"event-types\":[{\"summaries\":[],\"time-updated\":1520130639,\"base-uri\":\"/esmond/perfsonar/archive/14c25d3b05c9466b9fd5b7eec6956cd5/packet-trace/base\",\"event-type\":\"packet-trace\"},{\"summaries\":[],\"time-updated\":null,\"base-uri\":\"/esmond/perfsonar/archive/14c25d3b05c9466b9fd5b7eec6956cd5/failures/base\",\"event-type\":\"failures\"},{\"summaries\":[],\"time-updated\":null,\"base-uri\":\"/esmond/perfsonar/archive/14c25d3b05c9466b9fd5b7eec6956cd5/path-mtu/base\",\"event-type\":\"path-mtu\"},{\"summaries\":[],\"time-updated\":1520130639,\"base-uri\":\"/esmond/perfsonar/archive/14c25d3b05c9466b9fd5b7eec6956cd5/pscheduler-run-href/base\",\"event-type\":\"pscheduler-run-href\"}],\"source\":\"137.164.48.226\",\"destination\":\"137.164.48.222\",\"measurement-agent\":\"137.164.48.222\",\"tool-name\":\"pscheduler/traceroute\",\"input-source\":\"gigiot-26\",\"input-destination\":\"gigiot-22\",\"ip-packet-size\":\"40\",\"pscheduler-test-type\":\"trace\",\"time-duration\":\"8.0\",\"trace-max-ttl\":\"64\",\"uri\":\"/esmond/perfsonar/archive/14c25d3b05c9466b9fd5b7eec6956cd5/\"},{\"url\":\"http://gigiot-22/esmond/perfsonar/archive/17ac32bf9c36452f884ce298f3272643/?format=json\",\"metadata-key\":\"17ac32bf9c36452f884ce298f3272643\",\"subject-type\":\"point-to-point\",\"event-types\":[{\"summaries\":[],\"time-updated\":1520134839,\"base-uri\":\"/esmond/perfsonar/archive/17ac32bf9c36452f884ce298f3272643/packet-retransmits/base\",\"event-type\":\"packet-retransmits\"},{\"summaries\":[],\"time-updated\":1520134839,\"base-uri\":\"/esmond/perfsonar/archive/17ac32bf9c36452f884ce298f3272643/pscheduler-run-href/base\",\"event-type\":\"pscheduler-run-href\"},{\"summaries\":[{\"summary-type\":\"average\",\"uri\":\"/esmond/perfsonar/archive/17ac32bf9c36452f884ce298f3272643/throughput/averages/86400\",\"time-updated\":1520134839,\"summary-window\":\"86400\"}],\"time-updated\":1520134839,\"base-uri\":\"/esmond/perfsonar/archive/17ac32bf9c36452f884ce298f3272643/throughput/base\",\"event-type\":\"throughput\"},{\"summaries\":[],\"time-updated\":null,\"base-uri\":\"/esmond/perfsonar/archive/17ac32bf9c36452f884ce298f3272643/failures/base\",\"event-type\":\"failures\"},{\"summaries\":[],\"time-updated\":1520134839,\"base-uri\":\"/esmond/perfsonar/archive/17ac32bf9c36452f884ce298f3272643/throughput-subintervals/base\",\"event-type\":\"throughput-subintervals\"},{\"summaries\":[],\"time-updated\":1520134839,\"base-uri\":\"/esmond/perfsonar/archive/17ac32bf9c36452f884ce298f3272643/packet-retransmits-subintervals/base\",\"event-type\":\"packet-retransmits-subintervals\"}],\"source\":\"137.164.48.207\",\"destination\":\"137.164.48.222\",\"measurement-agent\":\"137.164.48.222\",\"tool-name\":\"pscheduler/iperf3\",\"input-source\":\"gigiot-07\",\"input-destination\":\"gigiot-22\",\"bw-ignore-first-seconds\":\"PT5S\",\"bw-parallel-streams\":\"1\",\"ip-transport-protocol\":\"tcp\",\"pscheduler-test-type\":\"throughput\",\"time-duration\":\"44.0\",\"uri\":\"/esmond/perfsonar/archive/17ac32bf9c36452f884ce298f3272643/\"},{\"url\":\"http://gigiot-22/esmond/perfsonar/archive/17d3cad6f71149ee9c8256e3f702f237/?format=json\",\"metadata-key\":\"17d3cad6f71149ee9c8256e3f702f237\",\"subject-type\":\"point-to-point\",\"event-types\":[{\"summaries\":[],\"time-updated\":1520130166,\"base-uri\":\"/esmond/perfsonar/archive/17d3cad6f71149ee9c8256e3f702f237/packet-trace/base\",\"event-type\":\"packet-trace\"},{\"summaries\":[],\"time-updated\":null,\"base-uri\":\"/esmond/perfsonar/archive/17d3cad6f71149ee9c8256e3f702f237/failures/base\",\"event-type\":\"failures\"},{\"summaries\":[],\"time-updated\":null,\"base-uri\":\"/esmond/perfsonar/archive/17d3cad6f71149ee9c8256e3f702f237/path-mtu/base\",\"event-type\":\"path-mtu\"},{\"summaries\":[],\"time-updated\":1520130166,\"base-uri\":\"/esmond/perfsonar/archive/17d3cad6f71149ee9c8256e3f702f237/pscheduler-run-href/base\",\"event-type\":\"pscheduler-run-href\"}],\"source\":\"137.164.48.228\",\"destination\":\"137.164.48.222\",\"measurement-agent\":\"137.164.48.222\",\"tool-name\":\"pscheduler/traceroute\",\"input-source\":\"gigiot-28\",\"input-destination\":\"gigiot-22\",\"ip-packet-size\":\"40\",\"pscheduler-test-type\":\"trace\",\"time-duration\":\"8.0\",\"trace-max-ttl\":\"64\",\"uri\":\"/esmond/perfsonar/archive/17d3cad6f71149ee9c8256e3f702f237/\"},{\"url\":\"http://gigiot-22/esmond/perfsonar/archive/18aa06007c4145e7a73f52a4fcf2ded2/?format=json\",\"metadata-key\":\"18aa06007c4145e7a73f52a4fcf2ded2\",\"subject-type\":\"point-to-point\",\"event-types\":[{\"summaries\":[],\"time-updated\":1520127342,\"base-uri\":\"/esmond/perfsonar/archive/18aa06007c4145e7a73f52a4fcf2ded2/packet-trace/base\",\"event-type\":\"packet-trace\"},{\"summaries\":[],\"time-updated\":null,\"base-uri\":\"/esmond/perfsonar/archive/18aa06007c4145e7a73f52a4fcf2ded2/failures/base\",\"event-type\":\"failures\"},{\"summaries\":[],\"time-updated\":null,\"base-uri\":\"/esmond/perfsonar/archive/18aa06007c4145e7a73f52a4fcf2ded2/path-mtu/base\",\"event-type\":\"path-mtu\"},{\"summaries\":[],\"time-updated\":1520127342,\"base-uri\":\"/esmond/perfsonar/archive/18aa06007c4145e7a73f52a4fcf2ded2/pscheduler-run-href/base\",\"event-type\":\"pscheduler-run-href\"}],\"source\":\"137.164.48.224\",\"destination\":\"137.164.48.222\",\"measurement-agent\":\"137.164.48.222\",\"tool-name\":\"pscheduler/traceroute\",\"input-source\":\"gigiot-24\",\"input-destination\":\"gigiot-22\",\"ip-packet-size\":\"40\",\"pscheduler-test-type\":\"trace\",\"time-duration\":\"8.0\",\"trace-max-ttl\":\"64\",\"uri\":\"/esmond/perfsonar/archive/18aa06007c4145e7a73f52a4fcf2ded2/\"},{\"url\":\"http://gigiot-22/esmond/perfsonar/archive/1e52d5e50a6043b483ea76eb717948a3/?format=json\",\"metadata-key\":\"1e52d5e50a6043b483ea76eb717948a3\",\"subject-type\":\"point-to-point\",\"event-types\":[{\"summaries\":[],\"time-updated\":1520135316,\"base-uri\":\"/esmond/perfsonar/archive/1e52d5e50a6043b483ea76eb717948a3/time-error-estimates/base\",\"event-type\":\"time-error-estimates\"},{\"summaries\":[],\"time-updated\":1520135316,\"base-uri\":\"/esmond/perfsonar/archive/1e52d5e50a6043b483ea76eb717948a3/packet-duplicates/base\",\"event-type\":\"packet-duplicates\"},{\"summaries\":[],\"time-updated\":1520135316,\"base-uri\":\"/esmond/perfsonar/archive/1e52d5e50a6043b483ea76eb717948a3/pscheduler-run-href/base\",\"event-type\":\"pscheduler-run-href\"},{\"summaries\":[],\"time-updated\":1520135316,\"base-uri\":\"/esmond/perfsonar/archive/1e52d5e50a6043b483ea76eb717948a3/histogram-ttl/base\",\"event-type\":\"histogram-ttl\"},{\"summaries\":[{\"summary-type\":\"aggregation\",\"uri\":\"/esmond/perfsonar/archive/1e52d5e50a6043b483ea76eb717948a3/packet-count-sent/aggregations/300\",\"time-updated\":1520135316,\"summary-window\":\"300\"},{\"summary-type\":\"aggregation\",\"uri\":\"/esmond/perfsonar/archive/1e52d5e50a6043b483ea76eb717948a3/packet-count-sent/aggregations/3600\",\"time-updated\":1520135316,\"summary-window\":\"3600\"},{\"summary-type\":\"aggregation\",\"uri\":\"/esmond/perfsonar/archive/1e52d5e50a6043b483ea76eb717948a3/packet-count-sent/aggregations/86400\",\"time-updated\":1520135316,\"summary-window\":\"86400\"}],\"time-updated\":1520135316,\"base-uri\":\"/esmond/perfsonar/archive/1e52d5e50a6043b483ea76eb717948a3/packet-count-sent/base\",\"event-type\":\"packet-count-sent\"},{\"summaries\":[],\"time-updated\":1520135316,\"base-uri\":\"/esmond/perfsonar/archive/1e52d5e50a6043b483ea76eb717948a3/packet-reorders/base\",\"event-type\":\"packet-reorders\"},{\"summaries\":[{\"summary-type\":\"aggregation\",\"uri\":\"/esmond/perfsonar/archive/1e52d5e50a6043b483ea76eb717948a3/packet-count-lost/aggregations/300\",\"time-updated\":1520135316,\"summary-window\":\"300\"},{\"summary-type\":\"aggregation\",\"uri\":\"/esmond/perfsonar/archive/1e52d5e50a6043b483ea76eb717948a3/packet-count-lost/aggregations/3600\",\"time-updated\":1520135316,\"summary-window\":\"3600\"},{\"summary-type\":\"aggregation\",\"uri\":\"/esmond/perfsonar/archive/1e52d5e50a6043b483ea76eb717948a3/packet-count-lost/aggregations/86400\",\"time-updated\":1520135316,\"summary-window\":\"86400\"}],\"time-updated\":1520135316,\"base-uri\":\"/esmond/perfsonar/archive/1e52d5e50a6043b483ea76eb717948a3/packet-count-lost/base\",\"event-type\":\"packet-count-lost\"},{\"summaries\":[{\"summary-type\":\"aggregation\",\"uri\":\"/esmond/perfsonar/archive/1e52d5e50a6043b483ea76eb717948a3/histogram-owdelay/aggregations/300\",\"time-updated\":1520135316,\"summary-window\":\"300\"},{\"summary-type\":\"aggregation\",\"uri\":\"/esmond/perfsonar/archive/1e52d5e50a6043b483ea76eb717948a3/histogram-owdelay/aggregations/3600\",\"time-updated\":1520135316,\"summary-window\":\"3600\"},{\"summary-type\":\"aggregation\",\"uri\":\"/esmond/perfsonar/archive/1e52d5e50a6043b483ea76eb717948a3/histogram-owdelay/aggregations/86400\",\"time-updated\":1520135316,\"summary-window\":\"86400\"},{\"summary-type\":\"statistics\",\"uri\":\"/esmond/perfsonar/archive/1e52d5e50a6043b483ea76eb717948a3/histogram-owdelay/statistics/0\",\"time-updated\":1520135316,\"summary-window\":\"0\"},{\"summary-type\":\"statistics\",\"uri\":\"/esmond/perfsonar/archive/1e52d5e50a6043b483ea76eb717948a3/histogram-owdelay/statistics/300\",\"time-updated\":1520135316,\"summary-window\":\"300\"},{\"summary-type\":\"statistics\",\"uri\":\"/esmond/perfsonar/archive/1e52d5e50a6043b483ea76eb717948a3/histogram-owdelay/statistics/3600\",\"time-updated\":1520135316,\"summary-window\":\"3600\"},{\"summary-type\":\"statistics\",\"uri\":\"/esmond/perfsonar/archive/1e52d5e50a6043b483ea76eb717948a3/histogram-owdelay/statistics/86400\",\"time-updated\":1520135316,\"summary-window\":\"86400\"}],\"time-updated\":1520135316,\"base-uri\":\"/esmond/perfsonar/archive/1e52d5e50a6043b483ea76eb717948a3/histogram-owdelay/base\",\"event-type\":\"histogram-owdelay\"},{\"summaries\":[],\"time-updated\":null,\"base-uri\":\"/esmond/perfsonar/archive/1e52d5e50a6043b483ea76eb717948a3/failures/base\",\"event-type\":\"failures\"},{\"summaries\":[{\"summary-type\":\"aggregation\",\"uri\":\"/esmond/perfsonar/archive/1e52d5e50a6043b483ea76eb717948a3/packet-loss-rate/aggregations/300\",\"time-updated\":1520135316,\"summary-window\":\"300\"},{\"summary-type\":\"aggregation\",\"uri\":\"/esmond/perfsonar/archive/1e52d5e50a6043b483ea76eb717948a3/packet-loss-rate/aggregations/3600\",\"time-updated\":1520135316,\"summary-window\":\"3600\"},{\"summary-type\":\"aggregation\",\"uri\":\"/esmond/perfsonar/archive/1e52d5e50a6043b483ea76eb717948a3/packet-loss-rate/aggregations/86400\",\"time-updated\":1520135316,\"summary-window\":\"86400\"}],\"time-updated\":1520135316,\"base-uri\":\"/esmond/perfsonar/archive/1e52d5e50a6043b483ea76eb717948a3/packet-loss-rate/base\",\"event-type\":\"packet-loss-rate\"}],\"source\":\"137.164.48.222\",\"destination\":\"137.164.48.226\",\"measurement-agent\":\"137.164.48.222\",\"tool-name\":\"pscheduler/powstream\",\"input-source\":\"gigiot-22\",\"input-destination\":\"gigiot-26\",\"ip-packet-padding\":\"0\",\"pscheduler-test-type\":\"latencybg\",\"sample-size\":\"300\",\"time-duration\":\"86400.0\",\"time-probe-interval\":\"0.1\",\"uri\":\"/esmond/perfsonar/archive/1e52d5e50a6043b483ea76eb717948a3/\"},{\"url\":\"http://gigiot-22/esmond/perfsonar/archive/1f2327d0976f441fa6400fb3f2e50ccd/?format=json\",\"metadata-key\":\"1f2327d0976f441fa6400fb3f2e50ccd\",\"subject-type\":\"point-to-point\",\"event-types\":[{\"summaries\":[],\"time-updated\":1520135311,\"base-uri\":\"/esmond/perfsonar/archive/1f2327d0976f441fa6400fb3f2e50ccd/time-error-estimates/base\",\"event-type\":\"time-error-estimates\"},{\"summaries\":[],\"time-updated\":1520135311,\"base-uri\":\"/esmond/perfsonar/archive/1f2327d0976f441fa6400fb3f2e50ccd/packet-duplicates/base\",\"event-type\":\"packet-duplicates\"},{\"summaries\":[],\"time-updated\":1520135312,\"base-uri\":\"/esmond/perfsonar/archive/1f2327d0976f441fa6400fb3f2e50ccd/pscheduler-run-href/base\",\"event-type\":\"pscheduler-run-href\"},{\"summaries\":[],\"time-updated\":1520135312,\"base-uri\":\"/esmond/perfsonar/archive/1f2327d0976f441fa6400fb3f2e50ccd/histogram-ttl/base\",\"event-type\":\"histogram-ttl\"},{\"summaries\":[{\"summary-type\":\"aggregation\",\"uri\":\"/esmond/perfsonar/archive/1f2327d0976f441fa6400fb3f2e50ccd/packet-count-sent/aggregations/300\",\"time-updated\":1520135312,\"summary-window\":\"300\"},{\"summary-type\":\"aggregation\",\"uri\":\"/esmond/perfsonar/archive/1f2327d0976f441fa6400fb3f2e50ccd/packet-count-sent/aggregations/3600\",\"time-updated\":1520135312,\"summary-window\":\"3600\"},{\"summary-type\":\"aggregation\",\"uri\":\"/esmond/perfsonar/archive/1f2327d0976f441fa6400fb3f2e50ccd/packet-count-sent/aggregations/86400\",\"time-updated\":1520135312,\"summary-window\":\"86400\"}],\"time-updated\":1520135312,\"base-uri\":\"/esmond/perfsonar/archive/1f2327d0976f441fa6400fb3f2e50ccd/packet-count-sent/base\",\"event-type\":\"packet-count-sent\"},{\"summaries\":[],\"time-updated\":1520135312,\"base-uri\":\"/esmond/perfsonar/archive/1f2327d0976f441fa6400fb3f2e50ccd/packet-reorders/base\",\"event-type\":\"packet-reorders\"},{\"summaries\":[{\"summary-type\":\"aggregation\",\"uri\":\"/esmond/perfsonar/archive/1f2327d0976f441fa6400fb3f2e50ccd/packet-count-lost/aggregations/300\",\"time-updated\":1520135312,\"summary-window\":\"300\"},{\"summary-type\":\"aggregation\",\"uri\":\"/esmond/perfsonar/archive/1f2327d0976f441fa6400fb3f2e50ccd/packet-count-lost/aggregations/3600\",\"time-updated\":1520135312,\"summary-window\":\"3600\"},{\"summary-type\":\"aggregation\",\"uri\":\"/esmond/perfsonar/archive/1f2327d0976f441fa6400fb3f2e50ccd/packet-count-lost/aggregations/86400\",\"time-updated\":1520135312,\"summary-window\":\"86400\"}],\"time-updated\":1520135312,\"base-uri\":\"/esmond/perfsonar/archive/1f2327d0976f441fa6400fb3f2e50ccd/packet-count-lost/base\",\"event-type\":\"packet-count-lost\"},{\"summaries\":[{\"summary-type\":\"aggregation\",\"uri\":\"/esmond/perfsonar/archive/1f2327d0976f441fa6400fb3f2e50ccd/histogram-owdelay/aggregations/300\",\"time-updated\":1520135311,\"summary-window\":\"300\"},{\"summary-type\":\"aggregation\",\"uri\":\"/esmond/perfsonar/archive/1f2327d0976f441fa6400fb3f2e50ccd/histogram-owdelay/aggregations/3600\",\"time-updated\":1520135311,\"summary-window\":\"3600\"},{\"summary-type\":\"aggregation\",\"uri\":\"/esmond/perfsonar/archive/1f2327d0976f441fa6400fb3f2e50ccd/histogram-owdelay/aggregations/86400\",\"time-updated\":1520135311,\"summary-window\":\"86400\"},{\"summary-type\":\"statistics\",\"uri\":\"/esmond/perfsonar/archive/1f2327d0976f441fa6400fb3f2e50ccd/histogram-owdelay/statistics/0\",\"time-updated\":1520135311,\"summary-window\":\"0\"},{\"summary-type\":\"statistics\",\"uri\":\"/esmond/perfsonar/archive/1f2327d0976f441fa6400fb3f2e50ccd/histogram-owdelay/statistics/300\",\"time-updated\":1520135311,\"summary-window\":\"300\"},{\"summary-type\":\"statistics\",\"uri\":\"/esmond/perfsonar/archive/1f2327d0976f441fa6400fb3f2e50ccd/histogram-owdelay/statistics/3600\",\"time-updated\":1520135311,\"summary-window\":\"3600\"},{\"summary-type\":\"statistics\",\"uri\":\"/esmond/perfsonar/archive/1f2327d0976f441fa6400fb3f2e50ccd/histogram-owdelay/statistics/86400\",\"time-updated\":1520135311,\"summary-window\":\"86400\"}],\"time-updated\":1520135311,\"base-uri\":\"/esmond/perfsonar/archive/1f2327d0976f441fa6400fb3f2e50ccd/histogram-owdelay/base\",\"event-type\":\"histogram-owdelay\"},{\"summaries\":[],\"time-updated\":null,\"base-uri\":\"/esmond/perfsonar/archive/1f2327d0976f441fa6400fb3f2e50ccd/failures/base\",\"event-type\":\"failures\"},{\"summaries\":[{\"summary-type\":\"aggregation\",\"uri\":\"/esmond/perfsonar/archive/1f2327d0976f441fa6400fb3f2e50ccd/packet-loss-rate/aggregations/300\",\"time-updated\":1520135312,\"summary-window\":\"300\"},{\"summary-type\":\"aggregation\",\"uri\":\"/esmond/perfsonar/archive/1f2327d0976f441fa6400fb3f2e50ccd/packet-loss-rate/aggregations/3600\",\"time-updated\":1520135312,\"summary-window\":\"3600\"},{\"summary-type\":\"aggregation\",\"uri\":\"/esmond/perfsonar/archive/1f2327d0976f441fa6400fb3f2e50ccd/packet-loss-rate/aggregations/86400\",\"time-updated\":1520135312,\"summary-window\":\"86400\"}],\"time-updated\":1520135312,\"base-uri\":\"/esmond/perfsonar/archive/1f2327d0976f441fa6400fb3f2e50ccd/packet-loss-rate/base\",\"event-type\":\"packet-loss-rate\"}],\"source\":\"137.164.48.222\",\"destination\":\"137.164.48.223\",\"measurement-agent\":\"137.164.48.222\",\"tool-name\":\"pscheduler/powstream\",\"input-source\":\"gigiot-22\",\"input-destination\":\"gigiot-23\",\"ip-packet-padding\":\"0\",\"pscheduler-test-type\":\"latencybg\",\"sample-size\":\"300\",\"time-duration\":\"86400.0\",\"time-probe-interval\":\"0.1\",\"uri\":\"/esmond/perfsonar/archive/1f2327d0976f441fa6400fb3f2e50ccd/\"},{\"url\":\"http://gigiot-22/esmond/perfsonar/archive/22d0b5916ade452485de240817c1be74/?format=json\",\"metadata-key\":\"22d0b5916ade452485de240817c1be74\",\"subject-type\":\"point-to-point\",\"event-types\":[{\"summaries\":[],\"time-updated\":1520135311,\"base-uri\":\"/esmond/perfsonar/archive/22d0b5916ade452485de240817c1be74/time-error-estimates/base\",\"event-type\":\"time-error-estimates\"},{\"summaries\":[],\"time-updated\":1520135312,\"base-uri\":\"/esmond/perfsonar/archive/22d0b5916ade452485de240817c1be74/packet-duplicates/base\",\"event-type\":\"packet-duplicates\"},{\"summaries\":[],\"time-updated\":1520135312,\"base-uri\":\"/esmond/perfsonar/archive/22d0b5916ade452485de240817c1be74/pscheduler-run-href/base\",\"event-type\":\"pscheduler-run-href\"},{\"summaries\":[],\"time-updated\":1520135312,\"base-uri\":\"/esmond/perfsonar/archive/22d0b5916ade452485de240817c1be74/histogram-ttl/base\",\"event-type\":\"histogram-ttl\"},{\"summaries\":[{\"summary-type\":\"aggregation\",\"uri\":\"/esmond/perfsonar/archive/22d0b5916ade452485de240817c1be74/packet-count-sent/aggregations/300\",\"time-updated\":1520135312,\"summary-window\":\"300\"},{\"summary-type\":\"aggregation\",\"uri\":\"/esmond/perfsonar/archive/22d0b5916ade452485de240817c1be74/packet-count-sent/aggregations/3600\",\"time-updated\":1520135312,\"summary-window\":\"3600\"},{\"summary-type\":\"aggregation\",\"uri\":\"/esmond/perfsonar/archive/22d0b5916ade452485de240817c1be74/packet-count-sent/aggregations/86400\",\"time-updated\":1520135312,\"summary-window\":\"86400\"}],\"time-updated\":1520135312,\"base-uri\":\"/esmond/perfsonar/archive/22d0b5916ade452485de240817c1be74/packet-count-sent/base\",\"event-type\":\"packet-count-sent\"},{\"summaries\":[],\"time-updated\":1520135312,\"base-uri\":\"/esmond/perfsonar/archive/22d0b5916ade452485de240817c1be74/packet-reorders/base\",\"event-type\":\"packet-reorders\"},{\"summaries\":[{\"summary-type\":\"aggregation\",\"uri\":\"/esmond/perfsonar/archive/22d0b5916ade452485de240817c1be74/packet-count-lost/aggregations/300\",\"time-updated\":1520135312,\"summary-window\":\"300\"},{\"summary-type\":\"aggregation\",\"uri\":\"/esmond/perfsonar/archive/22d0b5916ade452485de240817c1be74/packet-count-lost/aggregations/3600\",\"time-updated\":1520135312,\"summary-window\":\"3600\"},{\"summary-type\":\"aggregation\",\"uri\":\"/esmond/perfsonar/archive/22d0b5916ade452485de240817c1be74/packet-count-lost/aggregations/86400\",\"time-updated\":1520135312,\"summary-window\":\"86400\"}],\"time-updated\":1520135312,\"base-uri\":\"/esmond/perfsonar/archive/22d0b5916ade452485de240817c1be74/packet-count-lost/base\",\"event-type\":\"packet-count-lost\"},{\"summaries\":[{\"summary-type\":\"aggregation\",\"uri\":\"/esmond/perfsonar/archive/22d0b5916ade452485de240817c1be74/histogram-owdelay/aggregations/300\",\"time-updated\":1520135312,\"summary-window\":\"300\"},{\"summary-type\":\"aggregation\",\"uri\":\"/esmond/perfsonar/archive/22d0b5916ade452485de240817c1be74/histogram-owdelay/aggregations/3600\",\"time-updated\":1520135312,\"summary-window\":\"3600\"},{\"summary-type\":\"aggregation\",\"uri\":\"/esmond/perfsonar/archive/22d0b5916ade452485de240817c1be74/histogram-owdelay/aggregations/86400\",\"time-updated\":1520135312,\"summary-window\":\"86400\"},{\"summary-type\":\"statistics\",\"uri\":\"/esmond/perfsonar/archive/22d0b5916ade452485de240817c1be74/histogram-owdelay/statistics/0\",\"time-updated\":1520135312,\"summary-window\":\"0\"},{\"summary-type\":\"statistics\",\"uri\":\"/esmond/perfsonar/archive/22d0b5916ade452485de240817c1be74/histogram-owdelay/statistics/300\",\"time-updated\":1520135312,\"summary-window\":\"300\"},{\"summary-type\":\"statistics\",\"uri\":\"/esmond/perfsonar/archive/22d0b5916ade452485de240817c1be74/histogram-owdelay/statistics/3600\",\"time-updated\":1520135312,\"summary-window\":\"3600\"},{\"summary-type\":\"statistics\",\"uri\":\"/esmond/perfsonar/archive/22d0b5916ade452485de240817c1be74/histogram-owdelay/statistics/86400\",\"time-updated\":1520135312,\"summary-window\":\"86400\"}],\"time-updated\":1520135312,\"base-uri\":\"/esmond/perfsonar/archive/22d0b5916ade452485de240817c1be74/histogram-owdelay/base\",\"event-type\":\"histogram-owdelay\"},{\"summaries\":[],\"time-updated\":null,\"base-uri\":\"/esmond/perfsonar/archive/22d0b5916ade452485de240817c1be74/failures/base\",\"event-type\":\"failures\"},{\"summaries\":[{\"summary-type\":\"aggregation\",\"uri\":\"/esmond/perfsonar/archive/22d0b5916ade452485de240817c1be74/packet-loss-rate/aggregations/300\",\"time-updated\":1520135312,\"summary-window\":\"300\"},{\"summary-type\":\"aggregation\",\"uri\":\"/esmond/perfsonar/archive/22d0b5916ade452485de240817c1be74/packet-loss-rate/aggregations/3600\",\"time-updated\":1520135312,\"summary-window\":\"3600\"},{\"summary-type\":\"aggregation\",\"uri\":\"/esmond/perfsonar/archive/22d0b5916ade452485de240817c1be74/packet-loss-rate/aggregations/86400\",\"time-updated\":1520135312,\"summary-window\":\"86400\"}],\"time-updated\":1520135312,\"base-uri\":\"/esmond/perfsonar/archive/22d0b5916ade452485de240817c1be74/packet-loss-rate/base\",\"event-type\":\"packet-loss-rate\"}],\"source\":\"137.164.48.227\",\"destination\":\"137.164.48.222\",\"measurement-agent\":\"137.164.48.222\",\"tool-name\":\"pscheduler/powstream\",\"input-source\":\"gigiot-27\",\"input-destination\":\"gigiot-22\",\"ip-packet-padding\":\"0\",\"mode-flip\":\"True\",\"pscheduler-test-type\":\"latencybg\",\"sample-size\":\"300\",\"time-duration\":\"86400.0\",\"time-probe-interval\":\"0.1\",\"uri\":\"/esmond/perfsonar/archive/22d0b5916ade452485de240817c1be74/\"},{\"url\":\"http://gigiot-22/esmond/perfsonar/archive/2ad5057712e54b1ebfd4f9a6f619d1a2/?format=json\",\"metadata-key\":\"2ad5057712e54b1ebfd4f9a6f619d1a2\",\"subject-type\":\"point-to-point\",\"event-types\":[{\"summaries\":[],\"time-updated\":1520135311,\"base-uri\":\"/esmond/perfsonar/archive/2ad5057712e54b1ebfd4f9a6f619d1a2/time-error-estimates/base\",\"event-type\":\"time-error-estimates\"},{\"summaries\":[],\"time-updated\":1520135311,\"base-uri\":\"/esmond/perfsonar/archive/2ad5057712e54b1ebfd4f9a6f619d1a2/packet-duplicates/base\",\"event-type\":\"packet-duplicates\"},{\"summaries\":[],\"time-updated\":1520135312,\"base-uri\":\"/esmond/perfsonar/archive/2ad5057712e54b1ebfd4f9a6f619d1a2/pscheduler-run-href/base\",\"event-type\":\"pscheduler-run-href\"},{\"summaries\":[],\"time-updated\":1520135311,\"base-uri\":\"/esmond/perfsonar/archive/2ad5057712e54b1ebfd4f9a6f619d1a2/histogram-ttl/base\",\"event-type\":\"histogram-ttl\"},{\"summaries\":[{\"summary-type\":\"aggregation\",\"uri\":\"/esmond/perfsonar/archive/2ad5057712e54b1ebfd4f9a6f619d1a2/packet-count-sent/aggregations/300\",\"time-updated\":1520135311,\"summary-window\":\"300\"},{\"summary-type\":\"aggregation\",\"uri\":\"/esmond/perfsonar/archive/2ad5057712e54b1ebfd4f9a6f619d1a2/packet-count-sent/aggregations/3600\",\"time-updated\":1520135311,\"summary-window\":\"3600\"},{\"summary-type\":\"aggregation\",\"uri\":\"/esmond/perfsonar/archive/2ad5057712e54b1ebfd4f9a6f619d1a2/packet-count-sent/aggregations/86400\",\"time-updated\":1520135311,\"summary-window\":\"86400\"}],\"time-updated\":1520135311,\"base-uri\":\"/esmond/perfsonar/archive/2ad5057712e54b1ebfd4f9a6f619d1a2/packet-count-sent/base\",\"event-type\":\"packet-count-sent\"},{\"summaries\":[],\"time-updated\":1520135311,\"base-uri\":\"/esmond/perfsonar/archive/2ad5057712e54b1ebfd4f9a6f619d1a2/packet-reorders/base\",\"event-type\":\"packet-reorders\"},{\"summaries\":[{\"summary-type\":\"aggregation\",\"uri\":\"/esmond/perfsonar/archive/2ad5057712e54b1ebfd4f9a6f619d1a2/packet-count-lost/aggregations/300\",\"time-updated\":1520135311,\"summary-window\":\"300\"},{\"summary-type\":\"aggregation\",\"uri\":\"/esmond/perfsonar/archive/2ad5057712e54b1ebfd4f9a6f619d1a2/packet-count-lost/aggregations/3600\",\"time-updated\":1520135311,\"summary-window\":\"3600\"},{\"summary-type\":\"aggregation\",\"uri\":\"/esmond/perfsonar/archive/2ad5057712e54b1ebfd4f9a6f619d1a2/packet-count-lost/aggregations/86400\",\"time-updated\":1520135311,\"summary-window\":\"86400\"}],\"time-updated\":1520135311,\"base-uri\":\"/esmond/perfsonar/archive/2ad5057712e54b1ebfd4f9a6f619d1a2/packet-count-lost/base\",\"event-type\":\"packet-count-lost\"},{\"summaries\":[{\"summary-type\":\"aggregation\",\"uri\":\"/esmond/perfsonar/archive/2ad5057712e54b1ebfd4f9a6f619d1a2/histogram-owdelay/aggregations/300\",\"time-updated\":1520135311,\"summary-window\":\"300\"},{\"summary-type\":\"aggregation\",\"uri\":\"/esmond/perfsonar/archive/2ad5057712e54b1ebfd4f9a6f619d1a2/histogram-owdelay/aggregations/3600\",\"time-updated\":1520135311,\"summary-window\":\"3600\"},{\"summary-type\":\"aggregation\",\"uri\":\"/esmond/perfsonar/archive/2ad5057712e54b1ebfd4f9a6f619d1a2/histogram-owdelay/aggregations/86400\",\"time-updated\":1520135311,\"summary-window\":\"86400\"},{\"summary-type\":\"statistics\",\"uri\":\"/esmond/perfsonar/archive/2ad5057712e54b1ebfd4f9a6f619d1a2/histogram-owdelay/statistics/0\",\"time-updated\":1520135311,\"summary-window\":\"0\"},{\"summary-type\":\"statistics\",\"uri\":\"/esmond/perfsonar/archive/2ad5057712e54b1ebfd4f9a6f619d1a2/histogram-owdelay/statistics/300\",\"time-updated\":1520135311,\"summary-window\":\"300\"},{\"summary-type\":\"statistics\",\"uri\":\"/esmond/perfsonar/archive/2ad5057712e54b1ebfd4f9a6f619d1a2/histogram-owdelay/statistics/3600\",\"time-updated\":1520135311,\"summary-window\":\"3600\"},{\"summary-type\":\"statistics\",\"uri\":\"/esmond/perfsonar/archive/2ad5057712e54b1ebfd4f9a6f619d1a2/histogram-owdelay/statistics/86400\",\"time-updated\":1520135311,\"summary-window\":\"86400\"}],\"time-updated\":1520135311,\"base-uri\":\"/esmond/perfsonar/archive/2ad5057712e54b1ebfd4f9a6f619d1a2/histogram-owdelay/base\",\"event-type\":\"histogram-owdelay\"},{\"summaries\":[],\"time-updated\":null,\"base-uri\":\"/esmond/perfsonar/archive/2ad5057712e54b1ebfd4f9a6f619d1a2/failures/base\",\"event-type\":\"failures\"},{\"summaries\":[{\"summary-type\":\"aggregation\",\"uri\":\"/esmond/perfsonar/archive/2ad5057712e54b1ebfd4f9a6f619d1a2/packet-loss-rate/aggregations/300\",\"time-updated\":1520135312,\"summary-window\":\"300\"},{\"summary-type\":\"aggregation\",\"uri\":\"/esmond/perfsonar/archive/2ad5057712e54b1ebfd4f9a6f619d1a2/packet-loss-rate/aggregations/3600\",\"time-updated\":1520135312,\"summary-window\":\"3600\"},{\"summary-type\":\"aggregation\",\"uri\":\"/esmond/perfsonar/archive/2ad5057712e54b1ebfd4f9a6f619d1a2/packet-loss-rate/aggregations/86400\",\"time-updated\":1520135312,\"summary-window\":\"86400\"}],\"time-updated\":1520135312,\"base-uri\":\"/esmond/perfsonar/archive/2ad5057712e54b1ebfd4f9a6f619d1a2/packet-loss-rate/base\",\"event-type\":\"packet-loss-rate\"}],\"source\":\"137.164.48.222\",\"destination\":\"137.164.48.225\",\"measurement-agent\":\"137.164.48.222\",\"tool-name\":\"pscheduler/powstream\",\"input-source\":\"gigiot-22\",\"input-destination\":\"gigiot-25\",\"ip-packet-padding\":\"0\",\"pscheduler-test-type\":\"latencybg\",\"sample-size\":\"300\",\"time-duration\":\"86400.0\",\"time-probe-interval\":\"0.1\",\"uri\":\"/esmond/perfsonar/archive/2ad5057712e54b1ebfd4f9a6f619d1a2/\"},{\"url\":\"http://gigiot-22/esmond/perfsonar/archive/2d1dd9ee694c4f1ea4a10f7215f1151a/?format=json\",\"metadata-key\":\"2d1dd9ee694c4f1ea4a10f7215f1151a\",\"subject-type\":\"point-to-point\",\"event-types\":[{\"summaries\":[],\"time-updated\":1520126683,\"base-uri\":\"/esmond/perfsonar/archive/2d1dd9ee694c4f1ea4a10f7215f1151a/packet-trace/base\",\"event-type\":\"packet-trace\"},{\"summaries\":[],\"time-updated\":null,\"base-uri\":\"/esmond/perfsonar/archive/2d1dd9ee694c4f1ea4a10f7215f1151a/failures/base\",\"event-type\":\"failures\"},{\"summaries\":[],\"time-updated\":null,\"base-uri\":\"/esmond/perfsonar/archive/2d1dd9ee694c4f1ea4a10f7215f1151a/path-mtu/base\",\"event-type\":\"path-mtu\"},{\"summaries\":[],\"time-updated\":1520126683,\"base-uri\":\"/esmond/perfsonar/archive/2d1dd9ee694c4f1ea4a10f7215f1151a/pscheduler-run-href/base\",\"event-type\":\"pscheduler-run-href\"}],\"source\":\"137.164.48.225\",\"destination\":\"137.164.48.222\",\"measurement-agent\":\"137.164.48.222\",\"tool-name\":\"pscheduler/traceroute\",\"input-source\":\"gigiot-25\",\"input-destination\":\"gigiot-22\",\"ip-packet-size\":\"40\",\"pscheduler-test-type\":\"trace\",\"time-duration\":\"8.0\",\"trace-max-ttl\":\"64\",\"uri\":\"/esmond/perfsonar/archive/2d1dd9ee694c4f1ea4a10f7215f1151a/\"},{\"url\":\"http://gigiot-22/esmond/perfsonar/archive/35ee9e7c5409401f85065c2b49bd5177/?format=json\",\"metadata-key\":\"35ee9e7c5409401f85065c2b49bd5177\",\"subject-type\":\"point-to-point\",\"event-types\":[{\"summaries\":[],\"time-updated\":1520130692,\"base-uri\":\"/esmond/perfsonar/archive/35ee9e7c5409401f85065c2b49bd5177/packet-retransmits/base\",\"event-type\":\"packet-retransmits\"},{\"summaries\":[],\"time-updated\":1520130692,\"base-uri\":\"/esmond/perfsonar/archive/35ee9e7c5409401f85065c2b49bd5177/pscheduler-run-href/base\",\"event-type\":\"pscheduler-run-href\"},{\"summaries\":[{\"summary-type\":\"average\",\"uri\":\"/esmond/perfsonar/archive/35ee9e7c5409401f85065c2b49bd5177/throughput/averages/86400\",\"time-updated\":1520130692,\"summary-window\":\"86400\"}],\"time-updated\":1520130692,\"base-uri\":\"/esmond/perfsonar/archive/35ee9e7c5409401f85065c2b49bd5177/throughput/base\",\"event-type\":\"throughput\"},{\"summaries\":[],\"time-updated\":null,\"base-uri\":\"/esmond/perfsonar/archive/35ee9e7c5409401f85065c2b49bd5177/failures/base\",\"event-type\":\"failures\"},{\"summaries\":[],\"time-updated\":1520130692,\"base-uri\":\"/esmond/perfsonar/archive/35ee9e7c5409401f85065c2b49bd5177/throughput-subintervals/base\",\"event-type\":\"throughput-subintervals\"},{\"summaries\":[],\"time-updated\":1520130692,\"base-uri\":\"/esmond/perfsonar/archive/35ee9e7c5409401f85065c2b49bd5177/packet-retransmits-subintervals/base\",\"event-type\":\"packet-retransmits-subintervals\"}],\"source\":\"137.164.48.222\",\"destination\":\"137.164.48.206\",\"measurement-agent\":\"137.164.48.222\",\"tool-name\":\"pscheduler/iperf3\",\"input-source\":\"gigiot-22\",\"input-destination\":\"gigiot-06\",\"bw-ignore-first-seconds\":\"PT5S\",\"bw-parallel-streams\":\"1\",\"ip-transport-protocol\":\"tcp\",\"pscheduler-test-type\":\"throughput\",\"time-duration\":\"44.0\",\"uri\":\"/esmond/perfsonar/archive/35ee9e7c5409401f85065c2b49bd5177/\"},{\"url\":\"http://gigiot-22/esmond/perfsonar/archive/3842a628553e4585b6a89a766ee0f2fc/?format=json\",\"metadata-key\":\"3842a628553e4585b6a89a766ee0f2fc\",\"subject-type\":\"point-to-point\",\"event-types\":[{\"summaries\":[],\"time-updated\":1520132707,\"base-uri\":\"/esmond/perfsonar/archive/3842a628553e4585b6a89a766ee0f2fc/packet-retransmits/base\",\"event-type\":\"packet-retransmits\"},{\"summaries\":[],\"time-updated\":1520132707,\"base-uri\":\"/esmond/perfsonar/archive/3842a628553e4585b6a89a766ee0f2fc/pscheduler-run-href/base\",\"event-type\":\"pscheduler-run-href\"},{\"summaries\":[{\"summary-type\":\"average\",\"uri\":\"/esmond/perfsonar/archive/3842a628553e4585b6a89a766ee0f2fc/throughput/averages/86400\",\"time-updated\":1520132707,\"summary-window\":\"86400\"}],\"time-updated\":1520132707,\"base-uri\":\"/esmond/perfsonar/archive/3842a628553e4585b6a89a766ee0f2fc/throughput/base\",\"event-type\":\"throughput\"},{\"summaries\":[],\"time-updated\":null,\"base-uri\":\"/esmond/perfsonar/archive/3842a628553e4585b6a89a766ee0f2fc/failures/base\",\"event-type\":\"failures\"},{\"summaries\":[],\"time-updated\":1520132707,\"base-uri\":\"/esmond/perfsonar/archive/3842a628553e4585b6a89a766ee0f2fc/throughput-subintervals/base\",\"event-type\":\"throughput-subintervals\"},{\"summaries\":[],\"time-updated\":1520132707,\"base-uri\":\"/esmond/perfsonar/archive/3842a628553e4585b6a89a766ee0f2fc/packet-retransmits-subintervals/base\",\"event-type\":\"packet-retransmits-subintervals\"}],\"source\":\"137.164.48.206\",\"destination\":\"137.164.48.222\",\"measurement-agent\":\"137.164.48.222\",\"tool-name\":\"pscheduler/iperf3\",\"input-source\":\"gigiot-06\",\"input-destination\":\"gigiot-22\",\"time-duration\":\"44.0\",\"pscheduler-test-type\":\"throughput\",\"ip-transport-protocol\":\"tcp\",\"bw-parallel-streams\":\"1\",\"bw-ignore-first-seconds\":\"PT5S\",\"uri\":\"/esmond/perfsonar/archive/3842a628553e4585b6a89a766ee0f2fc/\"},{\"url\":\"http://gigiot-22/esmond/perfsonar/archive/3d89772bc8b04e44b6b5b1c8388e85c7/?format=json\",\"metadata-key\":\"3d89772bc8b04e44b6b5b1c8388e85c7\",\"subject-type\":\"point-to-point\",\"event-types\":[{\"summaries\":[],\"time-updated\":1520127643,\"base-uri\":\"/esmond/perfsonar/archive/3d89772bc8b04e44b6b5b1c8388e85c7/packet-retransmits/base\",\"event-type\":\"packet-retransmits\"},{\"summaries\":[],\"time-updated\":1520127643,\"base-uri\":\"/esmond/perfsonar/archive/3d89772bc8b04e44b6b5b1c8388e85c7/pscheduler-run-href/base\",\"event-type\":\"pscheduler-run-href\"},{\"summaries\":[{\"summary-type\":\"average\",\"uri\":\"/esmond/perfsonar/archive/3d89772bc8b04e44b6b5b1c8388e85c7/throughput/averages/86400\",\"time-updated\":1520127643,\"summary-window\":\"86400\"}],\"time-updated\":1520127643,\"base-uri\":\"/esmond/perfsonar/archive/3d89772bc8b04e44b6b5b1c8388e85c7/throughput/base\",\"event-type\":\"throughput\"},{\"summaries\":[],\"time-updated\":null,\"base-uri\":\"/esmond/perfsonar/archive/3d89772bc8b04e44b6b5b1c8388e85c7/failures/base\",\"event-type\":\"failures\"},{\"summaries\":[],\"time-updated\":1520127643,\"base-uri\":\"/esmond/perfsonar/archive/3d89772bc8b04e44b6b5b1c8388e85c7/throughput-subintervals/base\",\"event-type\":\"throughput-subintervals\"},{\"summaries\":[],\"time-updated\":1520127643,\"base-uri\":\"/esmond/perfsonar/archive/3d89772bc8b04e44b6b5b1c8388e85c7/packet-retransmits-subintervals/base\",\"event-type\":\"packet-retransmits-subintervals\"}],\"source\":\"137.164.48.222\",\"destination\":\"137.164.48.228\",\"measurement-agent\":\"137.164.48.222\",\"tool-name\":\"pscheduler/iperf3\",\"input-source\":\"gigiot-22\",\"input-destination\":\"gigiot-28\",\"bw-ignore-first-seconds\":\"PT5S\",\"bw-parallel-streams\":\"1\",\"ip-transport-protocol\":\"tcp\",\"pscheduler-test-type\":\"throughput\",\"time-duration\":\"44.0\",\"uri\":\"/esmond/perfsonar/archive/3d89772bc8b04e44b6b5b1c8388e85c7/\"},{\"url\":\"http://gigiot-22/esmond/perfsonar/archive/3f13a45b0f164f3fb59045ec6e383241/?format=json\",\"metadata-key\":\"3f13a45b0f164f3fb59045ec6e383241\",\"subject-type\":\"point-to-point\",\"event-types\":[{\"summaries\":[],\"time-updated\":1520132909,\"base-uri\":\"/esmond/perfsonar/archive/3f13a45b0f164f3fb59045ec6e383241/packet-trace/base\",\"event-type\":\"packet-trace\"},{\"summaries\":[],\"time-updated\":null,\"base-uri\":\"/esmond/perfsonar/archive/3f13a45b0f164f3fb59045ec6e383241/failures/base\",\"event-type\":\"failures\"},{\"summaries\":[],\"time-updated\":null,\"base-uri\":\"/esmond/perfsonar/archive/3f13a45b0f164f3fb59045ec6e383241/path-mtu/base\",\"event-type\":\"path-mtu\"},{\"summaries\":[],\"time-updated\":1520132909,\"base-uri\":\"/esmond/perfsonar/archive/3f13a45b0f164f3fb59045ec6e383241/pscheduler-run-href/base\",\"event-type\":\"pscheduler-run-href\"}],\"source\":\"137.164.48.222\",\"destination\":\"137.164.48.224\",\"measurement-agent\":\"137.164.48.222\",\"tool-name\":\"pscheduler/traceroute\",\"input-source\":\"gigiot-22\",\"input-destination\":\"gigiot-24\",\"trace-max-ttl\":\"64\",\"time-duration\":\"8.0\",\"pscheduler-test-type\":\"trace\",\"ip-packet-size\":\"40\",\"uri\":\"/esmond/perfsonar/archive/3f13a45b0f164f3fb59045ec6e383241/\"},{\"url\":\"http://gigiot-22/esmond/perfsonar/archive/4075af0d7ac74ff6a4aad8927e660316/?format=json\",\"metadata-key\":\"4075af0d7ac74ff6a4aad8927e660316\",\"subject-type\":\"point-to-point\",\"event-types\":[{\"summaries\":[],\"time-updated\":1520135316,\"base-uri\":\"/esmond/perfsonar/archive/4075af0d7ac74ff6a4aad8927e660316/time-error-estimates/base\",\"event-type\":\"time-error-estimates\"},{\"summaries\":[],\"time-updated\":1520135316,\"base-uri\":\"/esmond/perfsonar/archive/4075af0d7ac74ff6a4aad8927e660316/packet-duplicates/base\",\"event-type\":\"packet-duplicates\"},{\"summaries\":[],\"time-updated\":1520135316,\"base-uri\":\"/esmond/perfsonar/archive/4075af0d7ac74ff6a4aad8927e660316/pscheduler-run-href/base\",\"event-type\":\"pscheduler-run-href\"},{\"summaries\":[],\"time-updated\":1520135316,\"base-uri\":\"/esmond/perfsonar/archive/4075af0d7ac74ff6a4aad8927e660316/histogram-ttl/base\",\"event-type\":\"histogram-ttl\"},{\"summaries\":[{\"summary-type\":\"aggregation\",\"uri\":\"/esmond/perfsonar/archive/4075af0d7ac74ff6a4aad8927e660316/packet-count-sent/aggregations/300\",\"time-updated\":1520135316,\"summary-window\":\"300\"},{\"summary-type\":\"aggregation\",\"uri\":\"/esmond/perfsonar/archive/4075af0d7ac74ff6a4aad8927e660316/packet-count-sent/aggregations/3600\",\"time-updated\":1520135316,\"summary-window\":\"3600\"},{\"summary-type\":\"aggregation\",\"uri\":\"/esmond/perfsonar/archive/4075af0d7ac74ff6a4aad8927e660316/packet-count-sent/aggregations/86400\",\"time-updated\":1520135316,\"summary-window\":\"86400\"}],\"time-updated\":1520135316,\"base-uri\":\"/esmond/perfsonar/archive/4075af0d7ac74ff6a4aad8927e660316/packet-count-sent/base\",\"event-type\":\"packet-count-sent\"},{\"summaries\":[],\"time-updated\":1520135316,\"base-uri\":\"/esmond/perfsonar/archive/4075af0d7ac74ff6a4aad8927e660316/packet-reorders/base\",\"event-type\":\"packet-reorders\"},{\"summaries\":[{\"summary-type\":\"aggregation\",\"uri\":\"/esmond/perfsonar/archive/4075af0d7ac74ff6a4aad8927e660316/packet-count-lost/aggregations/300\",\"time-updated\":1520135316,\"summary-window\":\"300\"},{\"summary-type\":\"aggregation\",\"uri\":\"/esmond/perfsonar/archive/4075af0d7ac74ff6a4aad8927e660316/packet-count-lost/aggregations/3600\",\"time-updated\":1520135316,\"summary-window\":\"3600\"},{\"summary-type\":\"aggregation\",\"uri\":\"/esmond/perfsonar/archive/4075af0d7ac74ff6a4aad8927e660316/packet-count-lost/aggregations/86400\",\"time-updated\":1520135316,\"summary-window\":\"86400\"}],\"time-updated\":1520135316,\"base-uri\":\"/esmond/perfsonar/archive/4075af0d7ac74ff6a4aad8927e660316/packet-count-lost/base\",\"event-type\":\"packet-count-lost\"},{\"summaries\":[{\"summary-type\":\"aggregation\",\"uri\":\"/esmond/perfsonar/archive/4075af0d7ac74ff6a4aad8927e660316/histogram-owdelay/aggregations/300\",\"time-updated\":1520135316,\"summary-window\":\"300\"},{\"summary-type\":\"aggregation\",\"uri\":\"/esmond/perfsonar/archive/4075af0d7ac74ff6a4aad8927e660316/histogram-owdelay/aggregations/3600\",\"time-updated\":1520135316,\"summary-window\":\"3600\"},{\"summary-type\":\"aggregation\",\"uri\":\"/esmond/perfsonar/archive/4075af0d7ac74ff6a4aad8927e660316/histogram-owdelay/aggregations/86400\",\"time-updated\":1520135316,\"summary-window\":\"86400\"},{\"summary-type\":\"statistics\",\"uri\":\"/esmond/perfsonar/archive/4075af0d7ac74ff6a4aad8927e660316/histogram-owdelay/statistics/0\",\"time-updated\":1520135316,\"summary-window\":\"0\"},{\"summary-type\":\"statistics\",\"uri\":\"/esmond/perfsonar/archive/4075af0d7ac74ff6a4aad8927e660316/histogram-owdelay/statistics/300\",\"time-updated\":1520135316,\"summary-window\":\"300\"},{\"summary-type\":\"statistics\",\"uri\":\"/esmond/perfsonar/archive/4075af0d7ac74ff6a4aad8927e660316/histogram-owdelay/statistics/3600\",\"time-updated\":1520135316,\"summary-window\":\"3600\"},{\"summary-type\":\"statistics\",\"uri\":\"/esmond/perfsonar/archive/4075af0d7ac74ff6a4aad8927e660316/histogram-owdelay/statistics/86400\",\"time-updated\":1520135316,\"summary-window\":\"86400\"}],\"time-updated\":1520135316,\"base-uri\":\"/esmond/perfsonar/archive/4075af0d7ac74ff6a4aad8927e660316/histogram-owdelay/base\",\"event-type\":\"histogram-owdelay\"},{\"summaries\":[],\"time-updated\":null,\"base-uri\":\"/esmond/perfsonar/archive/4075af0d7ac74ff6a4aad8927e660316/failures/base\",\"event-type\":\"failures\"},{\"summaries\":[{\"summary-type\":\"aggregation\",\"uri\":\"/esmond/perfsonar/archive/4075af0d7ac74ff6a4aad8927e660316/packet-loss-rate/aggregations/300\",\"time-updated\":1520135316,\"summary-window\":\"300\"},{\"summary-type\":\"aggregation\",\"uri\":\"/esmond/perfsonar/archive/4075af0d7ac74ff6a4aad8927e660316/packet-loss-rate/aggregations/3600\",\"time-updated\":1520135316,\"summary-window\":\"3600\"},{\"summary-type\":\"aggregation\",\"uri\":\"/esmond/perfsonar/archive/4075af0d7ac74ff6a4aad8927e660316/packet-loss-rate/aggregations/86400\",\"time-updated\":1520135316,\"summary-window\":\"86400\"}],\"time-updated\":1520135316,\"base-uri\":\"/esmond/perfsonar/archive/4075af0d7ac74ff6a4aad8927e660316/packet-loss-rate/base\",\"event-type\":\"packet-loss-rate\"}],\"source\":\"137.164.48.222\",\"destination\":\"137.164.48.224\",\"measurement-agent\":\"137.164.48.222\",\"tool-name\":\"pscheduler/powstream\",\"input-source\":\"gigiot-22\",\"input-destination\":\"gigiot-24\",\"ip-packet-padding\":\"0\",\"pscheduler-test-type\":\"latencybg\",\"sample-size\":\"300\",\"time-duration\":\"86400.0\",\"time-probe-interval\":\"0.1\",\"uri\":\"/esmond/perfsonar/archive/4075af0d7ac74ff6a4aad8927e660316/\"},{\"url\":\"http://gigiot-22/esmond/perfsonar/archive/439fa43e469c42bc87cc102e945b7e87/?format=json\",\"metadata-key\":\"439fa43e469c42bc87cc102e945b7e87\",\"subject-type\":\"point-to-point\",\"event-types\":[{\"summaries\":[],\"time-updated\":1520135311,\"base-uri\":\"/esmond/perfsonar/archive/439fa43e469c42bc87cc102e945b7e87/time-error-estimates/base\",\"event-type\":\"time-error-estimates\"},{\"summaries\":[],\"time-updated\":1520135311,\"base-uri\":\"/esmond/perfsonar/archive/439fa43e469c42bc87cc102e945b7e87/packet-duplicates/base\",\"event-type\":\"packet-duplicates\"},{\"summaries\":[],\"time-updated\":1520135311,\"base-uri\":\"/esmond/perfsonar/archive/439fa43e469c42bc87cc102e945b7e87/pscheduler-run-href/base\",\"event-type\":\"pscheduler-run-href\"},{\"summaries\":[],\"time-updated\":1520135311,\"base-uri\":\"/esmond/perfsonar/archive/439fa43e469c42bc87cc102e945b7e87/histogram-ttl/base\",\"event-type\":\"histogram-ttl\"},{\"summaries\":[{\"summary-type\":\"aggregation\",\"uri\":\"/esmond/perfsonar/archive/439fa43e469c42bc87cc102e945b7e87/packet-count-sent/aggregations/300\",\"time-updated\":1520135311,\"summary-window\":\"300\"},{\"summary-type\":\"aggregation\",\"uri\":\"/esmond/perfsonar/archive/439fa43e469c42bc87cc102e945b7e87/packet-count-sent/aggregations/3600\",\"time-updated\":1520135311,\"summary-window\":\"3600\"},{\"summary-type\":\"aggregation\",\"uri\":\"/esmond/perfsonar/archive/439fa43e469c42bc87cc102e945b7e87/packet-count-sent/aggregations/86400\",\"time-updated\":1520135311,\"summary-window\":\"86400\"}],\"time-updated\":1520135311,\"base-uri\":\"/esmond/perfsonar/archive/439fa43e469c42bc87cc102e945b7e87/packet-count-sent/base\",\"event-type\":\"packet-count-sent\"},{\"summaries\":[],\"time-updated\":1520135311,\"base-uri\":\"/esmond/perfsonar/archive/439fa43e469c42bc87cc102e945b7e87/packet-reorders/base\",\"event-type\":\"packet-reorders\"},{\"summaries\":[{\"summary-type\":\"aggregation\",\"uri\":\"/esmond/perfsonar/archive/439fa43e469c42bc87cc102e945b7e87/packet-count-lost/aggregations/300\",\"time-updated\":1520135311,\"summary-window\":\"300\"},{\"summary-type\":\"aggregation\",\"uri\":\"/esmond/perfsonar/archive/439fa43e469c42bc87cc102e945b7e87/packet-count-lost/aggregations/3600\",\"time-updated\":1520135311,\"summary-window\":\"3600\"},{\"summary-type\":\"aggregation\",\"uri\":\"/esmond/perfsonar/archive/439fa43e469c42bc87cc102e945b7e87/packet-count-lost/aggregations/86400\",\"time-updated\":1520135311,\"summary-window\":\"86400\"}],\"time-updated\":1520135311,\"base-uri\":\"/esmond/perfsonar/archive/439fa43e469c42bc87cc102e945b7e87/packet-count-lost/base\",\"event-type\":\"packet-count-lost\"},{\"summaries\":[{\"summary-type\":\"aggregation\",\"uri\":\"/esmond/perfsonar/archive/439fa43e469c42bc87cc102e945b7e87/histogram-owdelay/aggregations/300\",\"time-updated\":1520135311,\"summary-window\":\"300\"},{\"summary-type\":\"aggregation\",\"uri\":\"/esmond/perfsonar/archive/439fa43e469c42bc87cc102e945b7e87/histogram-owdelay/aggregations/3600\",\"time-updated\":1520135311,\"summary-window\":\"3600\"},{\"summary-type\":\"aggregation\",\"uri\":\"/esmond/perfsonar/archive/439fa43e469c42bc87cc102e945b7e87/histogram-owdelay/aggregations/86400\",\"time-updated\":1520135311,\"summary-window\":\"86400\"},{\"summary-type\":\"statistics\",\"uri\":\"/esmond/perfsonar/archive/439fa43e469c42bc87cc102e945b7e87/histogram-owdelay/statistics/0\",\"time-updated\":1520135311,\"summary-window\":\"0\"},{\"summary-type\":\"statistics\",\"uri\":\"/esmond/perfsonar/archive/439fa43e469c42bc87cc102e945b7e87/histogram-owdelay/statistics/300\",\"time-updated\":1520135311,\"summary-window\":\"300\"},{\"summary-type\":\"statistics\",\"uri\":\"/esmond/perfsonar/archive/439fa43e469c42bc87cc102e945b7e87/histogram-owdelay/statistics/3600\",\"time-updated\":1520135311,\"summary-window\":\"3600\"},{\"summary-type\":\"statistics\",\"uri\":\"/esmond/perfsonar/archive/439fa43e469c42bc87cc102e945b7e87/histogram-owdelay/statistics/86400\",\"time-updated\":1520135311,\"summary-window\":\"86400\"}],\"time-updated\":1520135311,\"base-uri\":\"/esmond/perfsonar/archive/439fa43e469c42bc87cc102e945b7e87/histogram-owdelay/base\",\"event-type\":\"histogram-owdelay\"},{\"summaries\":[],\"time-updated\":null,\"base-uri\":\"/esmond/perfsonar/archive/439fa43e469c42bc87cc102e945b7e87/failures/base\",\"event-type\":\"failures\"},{\"summaries\":[{\"summary-type\":\"aggregation\",\"uri\":\"/esmond/perfsonar/archive/439fa43e469c42bc87cc102e945b7e87/packet-loss-rate/aggregations/300\",\"time-updated\":1520135311,\"summary-window\":\"300\"},{\"summary-type\":\"aggregation\",\"uri\":\"/esmond/perfsonar/archive/439fa43e469c42bc87cc102e945b7e87/packet-loss-rate/aggregations/3600\",\"time-updated\":1520135311,\"summary-window\":\"3600\"},{\"summary-type\":\"aggregation\",\"uri\":\"/esmond/perfsonar/archive/439fa43e469c42bc87cc102e945b7e87/packet-loss-rate/aggregations/86400\",\"time-updated\":1520135311,\"summary-window\":\"86400\"}],\"time-updated\":1520135311,\"base-uri\":\"/esmond/perfsonar/archive/439fa43e469c42bc87cc102e945b7e87/packet-loss-rate/base\",\"event-type\":\"packet-loss-rate\"}],\"source\":\"137.164.48.228\",\"destination\":\"137.164.48.222\",\"measurement-agent\":\"137.164.48.222\",\"tool-name\":\"pscheduler/powstream\",\"input-source\":\"gigiot-28\",\"input-destination\":\"gigiot-22\",\"ip-packet-padding\":\"0\",\"mode-flip\":\"True\",\"pscheduler-test-type\":\"latencybg\",\"sample-size\":\"300\",\"time-duration\":\"86400.0\",\"time-probe-interval\":\"0.1\",\"uri\":\"/esmond/perfsonar/archive/439fa43e469c42bc87cc102e945b7e87/\"},{\"url\":\"http://gigiot-22/esmond/perfsonar/archive/48b2d076d5654b2ea3fb802a212739dd/?format=json\",\"metadata-key\":\"48b2d076d5654b2ea3fb802a212739dd\",\"subject-type\":\"point-to-point\",\"event-types\":[{\"summaries\":[],\"time-updated\":1520132587,\"base-uri\":\"/esmond/perfsonar/archive/48b2d076d5654b2ea3fb802a212739dd/packet-retransmits/base\",\"event-type\":\"packet-retransmits\"},{\"summaries\":[],\"time-updated\":1520132587,\"base-uri\":\"/esmond/perfsonar/archive/48b2d076d5654b2ea3fb802a212739dd/pscheduler-run-href/base\",\"event-type\":\"pscheduler-run-href\"},{\"summaries\":[{\"summary-type\":\"average\",\"uri\":\"/esmond/perfsonar/archive/48b2d076d5654b2ea3fb802a212739dd/throughput/averages/86400\",\"time-updated\":1520132587,\"summary-window\":\"86400\"}],\"time-updated\":1520132587,\"base-uri\":\"/esmond/perfsonar/archive/48b2d076d5654b2ea3fb802a212739dd/throughput/base\",\"event-type\":\"throughput\"},{\"summaries\":[],\"time-updated\":null,\"base-uri\":\"/esmond/perfsonar/archive/48b2d076d5654b2ea3fb802a212739dd/failures/base\",\"event-type\":\"failures\"},{\"summaries\":[],\"time-updated\":1520132587,\"base-uri\":\"/esmond/perfsonar/archive/48b2d076d5654b2ea3fb802a212739dd/throughput-subintervals/base\",\"event-type\":\"throughput-subintervals\"},{\"summaries\":[],\"time-updated\":1520132587,\"base-uri\":\"/esmond/perfsonar/archive/48b2d076d5654b2ea3fb802a212739dd/packet-retransmits-subintervals/base\",\"event-type\":\"packet-retransmits-subintervals\"}],\"source\":\"137.164.48.228\",\"destination\":\"137.164.48.222\",\"measurement-agent\":\"137.164.48.222\",\"tool-name\":\"pscheduler/iperf3\",\"input-source\":\"gigiot-28\",\"input-destination\":\"gigiot-22\",\"time-duration\":\"44.0\",\"pscheduler-test-type\":\"throughput\",\"ip-transport-protocol\":\"tcp\",\"bw-parallel-streams\":\"1\",\"bw-ignore-first-seconds\":\"PT5S\",\"uri\":\"/esmond/perfsonar/archive/48b2d076d5654b2ea3fb802a212739dd/\"},{\"url\":\"http://gigiot-22/esmond/perfsonar/archive/4ffc399a221a49a194ede1e23e30ae8a/?format=json\",\"metadata-key\":\"4ffc399a221a49a194ede1e23e30ae8a\",\"subject-type\":\"point-to-point\",\"event-types\":[{\"summaries\":[],\"time-updated\":1520131349,\"base-uri\":\"/esmond/perfsonar/archive/4ffc399a221a49a194ede1e23e30ae8a/packet-retransmits/base\",\"event-type\":\"packet-retransmits\"},{\"summaries\":[],\"time-updated\":1520131349,\"base-uri\":\"/esmond/perfsonar/archive/4ffc399a221a49a194ede1e23e30ae8a/pscheduler-run-href/base\",\"event-type\":\"pscheduler-run-href\"},{\"summaries\":[{\"summary-type\":\"average\",\"uri\":\"/esmond/perfsonar/archive/4ffc399a221a49a194ede1e23e30ae8a/throughput/averages/86400\",\"time-updated\":1520131349,\"summary-window\":\"86400\"}],\"time-updated\":1520131349,\"base-uri\":\"/esmond/perfsonar/archive/4ffc399a221a49a194ede1e23e30ae8a/throughput/base\",\"event-type\":\"throughput\"},{\"summaries\":[],\"time-updated\":null,\"base-uri\":\"/esmond/perfsonar/archive/4ffc399a221a49a194ede1e23e30ae8a/failures/base\",\"event-type\":\"failures\"},{\"summaries\":[],\"time-updated\":1520131349,\"base-uri\":\"/esmond/perfsonar/archive/4ffc399a221a49a194ede1e23e30ae8a/throughput-subintervals/base\",\"event-type\":\"throughput-subintervals\"},{\"summaries\":[],\"time-updated\":1520131349,\"base-uri\":\"/esmond/perfsonar/archive/4ffc399a221a49a194ede1e23e30ae8a/packet-retransmits-subintervals/base\",\"event-type\":\"packet-retransmits-subintervals\"}],\"source\":\"137.164.48.222\",\"destination\":\"137.164.48.214\",\"measurement-agent\":\"137.164.48.222\",\"tool-name\":\"pscheduler/iperf3\",\"input-source\":\"gigiot-22\",\"input-destination\":\"gigiot-14\",\"bw-ignore-first-seconds\":\"PT5S\",\"bw-parallel-streams\":\"1\",\"ip-transport-protocol\":\"tcp\",\"pscheduler-test-type\":\"throughput\",\"time-duration\":\"44.0\",\"uri\":\"/esmond/perfsonar/archive/4ffc399a221a49a194ede1e23e30ae8a/\"},{\"url\":\"http://gigiot-22/esmond/perfsonar/archive/5aeead7b85224cb192d984d51c658e06/?format=json\",\"metadata-key\":\"5aeead7b85224cb192d984d51c658e06\",\"subject-type\":\"point-to-point\",\"event-types\":[{\"summaries\":[],\"time-updated\":1520135311,\"base-uri\":\"/esmond/perfsonar/archive/5aeead7b85224cb192d984d51c658e06/time-error-estimates/base\",\"event-type\":\"time-error-estimates\"},{\"summaries\":[],\"time-updated\":1520135311,\"base-uri\":\"/esmond/perfsonar/archive/5aeead7b85224cb192d984d51c658e06/packet-duplicates/base\",\"event-type\":\"packet-duplicates\"},{\"summaries\":[],\"time-updated\":1520135311,\"base-uri\":\"/esmond/perfsonar/archive/5aeead7b85224cb192d984d51c658e06/pscheduler-run-href/base\",\"event-type\":\"pscheduler-run-href\"},{\"summaries\":[],\"time-updated\":1520135311,\"base-uri\":\"/esmond/perfsonar/archive/5aeead7b85224cb192d984d51c658e06/histogram-ttl/base\",\"event-type\":\"histogram-ttl\"},{\"summaries\":[{\"summary-type\":\"aggregation\",\"uri\":\"/esmond/perfsonar/archive/5aeead7b85224cb192d984d51c658e06/packet-count-sent/aggregations/300\",\"time-updated\":1520135311,\"summary-window\":\"300\"},{\"summary-type\":\"aggregation\",\"uri\":\"/esmond/perfsonar/archive/5aeead7b85224cb192d984d51c658e06/packet-count-sent/aggregations/3600\",\"time-updated\":1520135311,\"summary-window\":\"3600\"},{\"summary-type\":\"aggregation\",\"uri\":\"/esmond/perfsonar/archive/5aeead7b85224cb192d984d51c658e06/packet-count-sent/aggregations/86400\",\"time-updated\":1520135311,\"summary-window\":\"86400\"}],\"time-updated\":1520135311,\"base-uri\":\"/esmond/perfsonar/archive/5aeead7b85224cb192d984d51c658e06/packet-count-sent/base\",\"event-type\":\"packet-count-sent\"},{\"summaries\":[],\"time-updated\":1520135311,\"base-uri\":\"/esmond/perfsonar/archive/5aeead7b85224cb192d984d51c658e06/packet-reorders/base\",\"event-type\":\"packet-reorders\"},{\"summaries\":[{\"summary-type\":\"aggregation\",\"uri\":\"/esmond/perfsonar/archive/5aeead7b85224cb192d984d51c658e06/packet-count-lost/aggregations/300\",\"time-updated\":1520135311,\"summary-window\":\"300\"},{\"summary-type\":\"aggregation\",\"uri\":\"/esmond/perfsonar/archive/5aeead7b85224cb192d984d51c658e06/packet-count-lost/aggregations/3600\",\"time-updated\":1520135311,\"summary-window\":\"3600\"},{\"summary-type\":\"aggregation\",\"uri\":\"/esmond/perfsonar/archive/5aeead7b85224cb192d984d51c658e06/packet-count-lost/aggregations/86400\",\"time-updated\":1520135311,\"summary-window\":\"86400\"}],\"time-updated\":1520135311,\"base-uri\":\"/esmond/perfsonar/archive/5aeead7b85224cb192d984d51c658e06/packet-count-lost/base\",\"event-type\":\"packet-count-lost\"},{\"summaries\":[{\"summary-type\":\"aggregation\",\"uri\":\"/esmond/perfsonar/archive/5aeead7b85224cb192d984d51c658e06/histogram-owdelay/aggregations/300\",\"time-updated\":1520135311,\"summary-window\":\"300\"},{\"summary-type\":\"aggregation\",\"uri\":\"/esmond/perfsonar/archive/5aeead7b85224cb192d984d51c658e06/histogram-owdelay/aggregations/3600\",\"time-updated\":1520135311,\"summary-window\":\"3600\"},{\"summary-type\":\"aggregation\",\"uri\":\"/esmond/perfsonar/archive/5aeead7b85224cb192d984d51c658e06/histogram-owdelay/aggregations/86400\",\"time-updated\":1520135311,\"summary-window\":\"86400\"},{\"summary-type\":\"statistics\",\"uri\":\"/esmond/perfsonar/archive/5aeead7b85224cb192d984d51c658e06/histogram-owdelay/statistics/0\",\"time-updated\":1520135311,\"summary-window\":\"0\"},{\"summary-type\":\"statistics\",\"uri\":\"/esmond/perfsonar/archive/5aeead7b85224cb192d984d51c658e06/histogram-owdelay/statistics/300\",\"time-updated\":1520135311,\"summary-window\":\"300\"},{\"summary-type\":\"statistics\",\"uri\":\"/esmond/perfsonar/archive/5aeead7b85224cb192d984d51c658e06/histogram-owdelay/statistics/3600\",\"time-updated\":1520135311,\"summary-window\":\"3600\"},{\"summary-type\":\"statistics\",\"uri\":\"/esmond/perfsonar/archive/5aeead7b85224cb192d984d51c658e06/histogram-owdelay/statistics/86400\",\"time-updated\":1520135311,\"summary-window\":\"86400\"}],\"time-updated\":1520135311,\"base-uri\":\"/esmond/perfsonar/archive/5aeead7b85224cb192d984d51c658e06/histogram-owdelay/base\",\"event-type\":\"histogram-owdelay\"},{\"summaries\":[],\"time-updated\":null,\"base-uri\":\"/esmond/perfsonar/archive/5aeead7b85224cb192d984d51c658e06/failures/base\",\"event-type\":\"failures\"},{\"summaries\":[{\"summary-type\":\"aggregation\",\"uri\":\"/esmond/perfsonar/archive/5aeead7b85224cb192d984d51c658e06/packet-loss-rate/aggregations/300\",\"time-updated\":1520135311,\"summary-window\":\"300\"},{\"summary-type\":\"aggregation\",\"uri\":\"/esmond/perfsonar/archive/5aeead7b85224cb192d984d51c658e06/packet-loss-rate/aggregations/3600\",\"time-updated\":1520135311,\"summary-window\":\"3600\"},{\"summary-type\":\"aggregation\",\"uri\":\"/esmond/perfsonar/archive/5aeead7b85224cb192d984d51c658e06/packet-loss-rate/aggregations/86400\",\"time-updated\":1520135311,\"summary-window\":\"86400\"}],\"time-updated\":1520135311,\"base-uri\":\"/esmond/perfsonar/archive/5aeead7b85224cb192d984d51c658e06/packet-loss-rate/base\",\"event-type\":\"packet-loss-rate\"}],\"source\":\"137.164.48.223\",\"destination\":\"137.164.48.222\",\"measurement-agent\":\"137.164.48.222\",\"tool-name\":\"pscheduler/powstream\",\"input-source\":\"gigiot-23\",\"input-destination\":\"gigiot-22\",\"ip-packet-padding\":\"0\",\"mode-flip\":\"True\",\"pscheduler-test-type\":\"latencybg\",\"sample-size\":\"300\",\"time-duration\":\"86400.0\",\"time-probe-interval\":\"0.1\",\"uri\":\"/esmond/perfsonar/archive/5aeead7b85224cb192d984d51c658e06/\"},{\"url\":\"http://gigiot-22/esmond/perfsonar/archive/5b8a076f551e455cacf9d3d5c5be3b70/?format=json\",\"metadata-key\":\"5b8a076f551e455cacf9d3d5c5be3b70\",\"subject-type\":\"point-to-point\",\"event-types\":[{\"summaries\":[],\"time-updated\":1520135316,\"base-uri\":\"/esmond/perfsonar/archive/5b8a076f551e455cacf9d3d5c5be3b70/time-error-estimates/base\",\"event-type\":\"time-error-estimates\"},{\"summaries\":[],\"time-updated\":1520135316,\"base-uri\":\"/esmond/perfsonar/archive/5b8a076f551e455cacf9d3d5c5be3b70/packet-duplicates/base\",\"event-type\":\"packet-duplicates\"},{\"summaries\":[],\"time-updated\":1520135316,\"base-uri\":\"/esmond/perfsonar/archive/5b8a076f551e455cacf9d3d5c5be3b70/pscheduler-run-href/base\",\"event-type\":\"pscheduler-run-href\"},{\"summaries\":[],\"time-updated\":1520135316,\"base-uri\":\"/esmond/perfsonar/archive/5b8a076f551e455cacf9d3d5c5be3b70/histogram-ttl/base\",\"event-type\":\"histogram-ttl\"},{\"summaries\":[{\"summary-type\":\"aggregation\",\"uri\":\"/esmond/perfsonar/archive/5b8a076f551e455cacf9d3d5c5be3b70/packet-count-sent/aggregations/300\",\"time-updated\":1520135316,\"summary-window\":\"300\"},{\"summary-type\":\"aggregation\",\"uri\":\"/esmond/perfsonar/archive/5b8a076f551e455cacf9d3d5c5be3b70/packet-count-sent/aggregations/3600\",\"time-updated\":1520135316,\"summary-window\":\"3600\"},{\"summary-type\":\"aggregation\",\"uri\":\"/esmond/perfsonar/archive/5b8a076f551e455cacf9d3d5c5be3b70/packet-count-sent/aggregations/86400\",\"time-updated\":1520135316,\"summary-window\":\"86400\"}],\"time-updated\":1520135316,\"base-uri\":\"/esmond/perfsonar/archive/5b8a076f551e455cacf9d3d5c5be3b70/packet-count-sent/base\",\"event-type\":\"packet-count-sent\"},{\"summaries\":[],\"time-updated\":1520135316,\"base-uri\":\"/esmond/perfsonar/archive/5b8a076f551e455cacf9d3d5c5be3b70/packet-reorders/base\",\"event-type\":\"packet-reorders\"},{\"summaries\":[{\"summary-type\":\"aggregation\",\"uri\":\"/esmond/perfsonar/archive/5b8a076f551e455cacf9d3d5c5be3b70/packet-count-lost/aggregations/300\",\"time-updated\":1520135316,\"summary-window\":\"300\"},{\"summary-type\":\"aggregation\",\"uri\":\"/esmond/perfsonar/archive/5b8a076f551e455cacf9d3d5c5be3b70/packet-count-lost/aggregations/3600\",\"time-updated\":1520135316,\"summary-window\":\"3600\"},{\"summary-type\":\"aggregation\",\"uri\":\"/esmond/perfsonar/archive/5b8a076f551e455cacf9d3d5c5be3b70/packet-count-lost/aggregations/86400\",\"time-updated\":1520135316,\"summary-window\":\"86400\"}],\"time-updated\":1520135316,\"base-uri\":\"/esmond/perfsonar/archive/5b8a076f551e455cacf9d3d5c5be3b70/packet-count-lost/base\",\"event-type\":\"packet-count-lost\"},{\"summaries\":[{\"summary-type\":\"aggregation\",\"uri\":\"/esmond/perfsonar/archive/5b8a076f551e455cacf9d3d5c5be3b70/histogram-owdelay/aggregations/300\",\"time-updated\":1520135316,\"summary-window\":\"300\"},{\"summary-type\":\"aggregation\",\"uri\":\"/esmond/perfsonar/archive/5b8a076f551e455cacf9d3d5c5be3b70/histogram-owdelay/aggregations/3600\",\"time-updated\":1520135316,\"summary-window\":\"3600\"},{\"summary-type\":\"aggregation\",\"uri\":\"/esmond/perfsonar/archive/5b8a076f551e455cacf9d3d5c5be3b70/histogram-owdelay/aggregations/86400\",\"time-updated\":1520135316,\"summary-window\":\"86400\"},{\"summary-type\":\"statistics\",\"uri\":\"/esmond/perfsonar/archive/5b8a076f551e455cacf9d3d5c5be3b70/histogram-owdelay/statistics/0\",\"time-updated\":1520135316,\"summary-window\":\"0\"},{\"summary-type\":\"statistics\",\"uri\":\"/esmond/perfsonar/archive/5b8a076f551e455cacf9d3d5c5be3b70/histogram-owdelay/statistics/300\",\"time-updated\":1520135316,\"summary-window\":\"300\"},{\"summary-type\":\"statistics\",\"uri\":\"/esmond/perfsonar/archive/5b8a076f551e455cacf9d3d5c5be3b70/histogram-owdelay/statistics/3600\",\"time-updated\":1520135316,\"summary-window\":\"3600\"},{\"summary-type\":\"statistics\",\"uri\":\"/esmond/perfsonar/archive/5b8a076f551e455cacf9d3d5c5be3b70/histogram-owdelay/statistics/86400\",\"time-updated\":1520135316,\"summary-window\":\"86400\"}],\"time-updated\":1520135316,\"base-uri\":\"/esmond/perfsonar/archive/5b8a076f551e455cacf9d3d5c5be3b70/histogram-owdelay/base\",\"event-type\":\"histogram-owdelay\"},{\"summaries\":[],\"time-updated\":null,\"base-uri\":\"/esmond/perfsonar/archive/5b8a076f551e455cacf9d3d5c5be3b70/failures/base\",\"event-type\":\"failures\"},{\"summaries\":[{\"summary-type\":\"aggregation\",\"uri\":\"/esmond/perfsonar/archive/5b8a076f551e455cacf9d3d5c5be3b70/packet-loss-rate/aggregations/300\",\"time-updated\":1520135316,\"summary-window\":\"300\"},{\"summary-type\":\"aggregation\",\"uri\":\"/esmond/perfsonar/archive/5b8a076f551e455cacf9d3d5c5be3b70/packet-loss-rate/aggregations/3600\",\"time-updated\":1520135316,\"summary-window\":\"3600\"},{\"summary-type\":\"aggregation\",\"uri\":\"/esmond/perfsonar/archive/5b8a076f551e455cacf9d3d5c5be3b70/packet-loss-rate/aggregations/86400\",\"time-updated\":1520135316,\"summary-window\":\"86400\"}],\"time-updated\":1520135316,\"base-uri\":\"/esmond/perfsonar/archive/5b8a076f551e455cacf9d3d5c5be3b70/packet-loss-rate/base\",\"event-type\":\"packet-loss-rate\"}],\"source\":\"137.164.48.222\",\"destination\":\"137.164.48.227\",\"measurement-agent\":\"137.164.48.222\",\"tool-name\":\"pscheduler/powstream\",\"input-source\":\"gigiot-22\",\"input-destination\":\"gigiot-27\",\"ip-packet-padding\":\"0\",\"pscheduler-test-type\":\"latencybg\",\"sample-size\":\"300\",\"time-duration\":\"86400.0\",\"time-probe-interval\":\"0.1\",\"uri\":\"/esmond/perfsonar/archive/5b8a076f551e455cacf9d3d5c5be3b70/\"},{\"url\":\"http://gigiot-22/esmond/perfsonar/archive/5fe5b2687a3a41689e4ed2831d8d98a7/?format=json\",\"metadata-key\":\"5fe5b2687a3a41689e4ed2831d8d98a7\",\"subject-type\":\"point-to-point\",\"event-types\":[{\"summaries\":[],\"time-updated\":1520130386,\"base-uri\":\"/esmond/perfsonar/archive/5fe5b2687a3a41689e4ed2831d8d98a7/packet-retransmits/base\",\"event-type\":\"packet-retransmits\"},{\"summaries\":[],\"time-updated\":1520130386,\"base-uri\":\"/esmond/perfsonar/archive/5fe5b2687a3a41689e4ed2831d8d98a7/pscheduler-run-href/base\",\"event-type\":\"pscheduler-run-href\"},{\"summaries\":[{\"summary-type\":\"average\",\"uri\":\"/esmond/perfsonar/archive/5fe5b2687a3a41689e4ed2831d8d98a7/throughput/averages/86400\",\"time-updated\":1520130386,\"summary-window\":\"86400\"}],\"time-updated\":1520130386,\"base-uri\":\"/esmond/perfsonar/archive/5fe5b2687a3a41689e4ed2831d8d98a7/throughput/base\",\"event-type\":\"throughput\"},{\"summaries\":[],\"time-updated\":null,\"base-uri\":\"/esmond/perfsonar/archive/5fe5b2687a3a41689e4ed2831d8d98a7/failures/base\",\"event-type\":\"failures\"},{\"summaries\":[],\"time-updated\":1520130386,\"base-uri\":\"/esmond/perfsonar/archive/5fe5b2687a3a41689e4ed2831d8d98a7/throughput-subintervals/base\",\"event-type\":\"throughput-subintervals\"},{\"summaries\":[],\"time-updated\":1520130386,\"base-uri\":\"/esmond/perfsonar/archive/5fe5b2687a3a41689e4ed2831d8d98a7/packet-retransmits-subintervals/base\",\"event-type\":\"packet-retransmits-subintervals\"}],\"source\":\"137.164.48.222\",\"destination\":\"137.164.48.213\",\"measurement-agent\":\"137.164.48.222\",\"tool-name\":\"pscheduler/iperf3\",\"input-source\":\"gigiot-22\",\"input-destination\":\"gigiot-13\",\"bw-ignore-first-seconds\":\"PT5S\",\"bw-parallel-streams\":\"1\",\"ip-transport-protocol\":\"tcp\",\"pscheduler-test-type\":\"throughput\",\"time-duration\":\"44.0\",\"uri\":\"/esmond/perfsonar/archive/5fe5b2687a3a41689e4ed2831d8d98a7/\"},{\"url\":\"http://gigiot-22/esmond/perfsonar/archive/65f4a75e26784da89ec2275df20ce1e1/?format=json\",\"metadata-key\":\"65f4a75e26784da89ec2275df20ce1e1\",\"subject-type\":\"point-to-point\",\"event-types\":[{\"summaries\":[],\"time-updated\":null,\"base-uri\":\"/esmond/perfsonar/archive/65f4a75e26784da89ec2275df20ce1e1/packet-retransmits/base\",\"event-type\":\"packet-retransmits\"},{\"summaries\":[],\"time-updated\":1520134978,\"base-uri\":\"/esmond/perfsonar/archive/65f4a75e26784da89ec2275df20ce1e1/pscheduler-run-href/base\",\"event-type\":\"pscheduler-run-href\"},{\"summaries\":[{\"summary-type\":\"average\",\"uri\":\"/esmond/perfsonar/archive/65f4a75e26784da89ec2275df20ce1e1/throughput/averages/86400\",\"time-updated\":null,\"summary-window\":\"86400\"}],\"time-updated\":null,\"base-uri\":\"/esmond/perfsonar/archive/65f4a75e26784da89ec2275df20ce1e1/throughput/base\",\"event-type\":\"throughput\"},{\"summaries\":[],\"time-updated\":1520134977,\"base-uri\":\"/esmond/perfsonar/archive/65f4a75e26784da89ec2275df20ce1e1/failures/base\",\"event-type\":\"failures\"},{\"summaries\":[],\"time-updated\":null,\"base-uri\":\"/esmond/perfsonar/archive/65f4a75e26784da89ec2275df20ce1e1/throughput-subintervals/base\",\"event-type\":\"throughput-subintervals\"},{\"summaries\":[],\"time-updated\":null,\"base-uri\":\"/esmond/perfsonar/archive/65f4a75e26784da89ec2275df20ce1e1/packet-retransmits-subintervals/base\",\"event-type\":\"packet-retransmits-subintervals\"}],\"source\":\"137.164.48.222\",\"destination\":\"137.164.48.220\",\"measurement-agent\":\"137.164.48.222\",\"tool-name\":\"pscheduler/bwctliperf3\",\"input-source\":\"gigiot-22\",\"input-destination\":\"gigiot-20\",\"time-duration\":\"96.0\",\"pscheduler-test-type\":\"throughput\",\"ip-transport-protocol\":\"tcp\",\"bw-parallel-streams\":\"1\",\"bw-ignore-first-seconds\":\"PT5S\",\"uri\":\"/esmond/perfsonar/archive/65f4a75e26784da89ec2275df20ce1e1/\"},{\"url\":\"http://gigiot-22/esmond/perfsonar/archive/664340393be54f4489f1e4513399c9f3/?format=json\",\"metadata-key\":\"664340393be54f4489f1e4513399c9f3\",\"subject-type\":\"point-to-point\",\"event-types\":[{\"summaries\":[],\"time-updated\":1520128176,\"base-uri\":\"/esmond/perfsonar/archive/664340393be54f4489f1e4513399c9f3/packet-retransmits/base\",\"event-type\":\"packet-retransmits\"},{\"summaries\":[],\"time-updated\":1520128176,\"base-uri\":\"/esmond/perfsonar/archive/664340393be54f4489f1e4513399c9f3/pscheduler-run-href/base\",\"event-type\":\"pscheduler-run-href\"},{\"summaries\":[{\"summary-type\":\"average\",\"uri\":\"/esmond/perfsonar/archive/664340393be54f4489f1e4513399c9f3/throughput/averages/86400\",\"time-updated\":1520128176,\"summary-window\":\"86400\"}],\"time-updated\":1520128176,\"base-uri\":\"/esmond/perfsonar/archive/664340393be54f4489f1e4513399c9f3/throughput/base\",\"event-type\":\"throughput\"},{\"summaries\":[],\"time-updated\":null,\"base-uri\":\"/esmond/perfsonar/archive/664340393be54f4489f1e4513399c9f3/failures/base\",\"event-type\":\"failures\"},{\"summaries\":[],\"time-updated\":1520128176,\"base-uri\":\"/esmond/perfsonar/archive/664340393be54f4489f1e4513399c9f3/throughput-subintervals/base\",\"event-type\":\"throughput-subintervals\"},{\"summaries\":[],\"time-updated\":1520128176,\"base-uri\":\"/esmond/perfsonar/archive/664340393be54f4489f1e4513399c9f3/packet-retransmits-subintervals/base\",\"event-type\":\"packet-retransmits-subintervals\"}],\"source\":\"137.164.48.226\",\"destination\":\"137.164.48.222\",\"measurement-agent\":\"137.164.48.222\",\"tool-name\":\"pscheduler/iperf3\",\"input-source\":\"gigiot-26\",\"input-destination\":\"gigiot-22\",\"bw-ignore-first-seconds\":\"PT5S\",\"bw-parallel-streams\":\"1\",\"ip-transport-protocol\":\"tcp\",\"pscheduler-test-type\":\"throughput\",\"time-duration\":\"44.0\",\"uri\":\"/esmond/perfsonar/archive/664340393be54f4489f1e4513399c9f3/\"},{\"url\":\"http://gigiot-22/esmond/perfsonar/archive/7793737f96ba47efb69ee32d3a79a6a9/?format=json\",\"metadata-key\":\"7793737f96ba47efb69ee32d3a79a6a9\",\"subject-type\":\"point-to-point\",\"event-types\":[{\"summaries\":[],\"time-updated\":1520127358,\"base-uri\":\"/esmond/perfsonar/archive/7793737f96ba47efb69ee32d3a79a6a9/packet-retransmits/base\",\"event-type\":\"packet-retransmits\"},{\"summaries\":[],\"time-updated\":1520127358,\"base-uri\":\"/esmond/perfsonar/archive/7793737f96ba47efb69ee32d3a79a6a9/pscheduler-run-href/base\",\"event-type\":\"pscheduler-run-href\"},{\"summaries\":[{\"summary-type\":\"average\",\"uri\":\"/esmond/perfsonar/archive/7793737f96ba47efb69ee32d3a79a6a9/throughput/averages/86400\",\"time-updated\":1520127358,\"summary-window\":\"86400\"}],\"time-updated\":1520127358,\"base-uri\":\"/esmond/perfsonar/archive/7793737f96ba47efb69ee32d3a79a6a9/throughput/base\",\"event-type\":\"throughput\"},{\"summaries\":[],\"time-updated\":null,\"base-uri\":\"/esmond/perfsonar/archive/7793737f96ba47efb69ee32d3a79a6a9/failures/base\",\"event-type\":\"failures\"},{\"summaries\":[],\"time-updated\":1520127358,\"base-uri\":\"/esmond/perfsonar/archive/7793737f96ba47efb69ee32d3a79a6a9/throughput-subintervals/base\",\"event-type\":\"throughput-subintervals\"},{\"summaries\":[],\"time-updated\":1520127358,\"base-uri\":\"/esmond/perfsonar/archive/7793737f96ba47efb69ee32d3a79a6a9/packet-retransmits-subintervals/base\",\"event-type\":\"packet-retransmits-subintervals\"}],\"source\":\"137.164.48.222\",\"destination\":\"137.164.48.223\",\"measurement-agent\":\"137.164.48.222\",\"tool-name\":\"pscheduler/iperf3\",\"input-source\":\"gigiot-22\",\"input-destination\":\"gigiot-23\",\"bw-ignore-first-seconds\":\"PT5S\",\"bw-parallel-streams\":\"1\",\"ip-transport-protocol\":\"tcp\",\"pscheduler-test-type\":\"throughput\",\"time-duration\":\"44.0\",\"uri\":\"/esmond/perfsonar/archive/7793737f96ba47efb69ee32d3a79a6a9/\"},{\"url\":\"http://gigiot-22/esmond/perfsonar/archive/77e3a4c0be064d0ca4ca72b60b79fb39/?format=json\",\"metadata-key\":\"77e3a4c0be064d0ca4ca72b60b79fb39\",\"subject-type\":\"point-to-point\",\"event-types\":[{\"summaries\":[],\"time-updated\":1520127823,\"base-uri\":\"/esmond/perfsonar/archive/77e3a4c0be064d0ca4ca72b60b79fb39/packet-retransmits/base\",\"event-type\":\"packet-retransmits\"},{\"summaries\":[],\"time-updated\":1520127823,\"base-uri\":\"/esmond/perfsonar/archive/77e3a4c0be064d0ca4ca72b60b79fb39/pscheduler-run-href/base\",\"event-type\":\"pscheduler-run-href\"},{\"summaries\":[{\"summary-type\":\"average\",\"uri\":\"/esmond/perfsonar/archive/77e3a4c0be064d0ca4ca72b60b79fb39/throughput/averages/86400\",\"time-updated\":1520127823,\"summary-window\":\"86400\"}],\"time-updated\":1520127823,\"base-uri\":\"/esmond/perfsonar/archive/77e3a4c0be064d0ca4ca72b60b79fb39/throughput/base\",\"event-type\":\"throughput\"},{\"summaries\":[],\"time-updated\":null,\"base-uri\":\"/esmond/perfsonar/archive/77e3a4c0be064d0ca4ca72b60b79fb39/failures/base\",\"event-type\":\"failures\"},{\"summaries\":[],\"time-updated\":1520127823,\"base-uri\":\"/esmond/perfsonar/archive/77e3a4c0be064d0ca4ca72b60b79fb39/throughput-subintervals/base\",\"event-type\":\"throughput-subintervals\"},{\"summaries\":[],\"time-updated\":1520127823,\"base-uri\":\"/esmond/perfsonar/archive/77e3a4c0be064d0ca4ca72b60b79fb39/packet-retransmits-subintervals/base\",\"event-type\":\"packet-retransmits-subintervals\"}],\"source\":\"137.164.48.222\",\"destination\":\"137.164.48.226\",\"measurement-agent\":\"137.164.48.222\",\"tool-name\":\"pscheduler/iperf3\",\"input-source\":\"gigiot-22\",\"input-destination\":\"gigiot-26\",\"bw-ignore-first-seconds\":\"PT5S\",\"bw-parallel-streams\":\"1\",\"ip-transport-protocol\":\"tcp\",\"pscheduler-test-type\":\"throughput\",\"time-duration\":\"44.0\",\"uri\":\"/esmond/perfsonar/archive/77e3a4c0be064d0ca4ca72b60b79fb39/\"},{\"url\":\"http://gigiot-22/esmond/perfsonar/archive/7a0f84f78c514b41806c21918a2e1cef/?format=json\",\"metadata-key\":\"7a0f84f78c514b41806c21918a2e1cef\",\"subject-type\":\"point-to-point\",\"event-types\":[{\"summaries\":[],\"time-updated\":1520127674,\"base-uri\":\"/esmond/perfsonar/archive/7a0f84f78c514b41806c21918a2e1cef/packet-trace/base\",\"event-type\":\"packet-trace\"},{\"summaries\":[],\"time-updated\":null,\"base-uri\":\"/esmond/perfsonar/archive/7a0f84f78c514b41806c21918a2e1cef/failures/base\",\"event-type\":\"failures\"},{\"summaries\":[],\"time-updated\":null,\"base-uri\":\"/esmond/perfsonar/archive/7a0f84f78c514b41806c21918a2e1cef/path-mtu/base\",\"event-type\":\"path-mtu\"},{\"summaries\":[],\"time-updated\":1520127674,\"base-uri\":\"/esmond/perfsonar/archive/7a0f84f78c514b41806c21918a2e1cef/pscheduler-run-href/base\",\"event-type\":\"pscheduler-run-href\"}],\"source\":\"137.164.48.222\",\"destination\":\"137.164.48.228\",\"measurement-agent\":\"137.164.48.222\",\"tool-name\":\"pscheduler/traceroute\",\"input-source\":\"gigiot-22\",\"input-destination\":\"gigiot-28\",\"ip-packet-size\":\"40\",\"pscheduler-test-type\":\"trace\",\"time-duration\":\"8.0\",\"trace-max-ttl\":\"64\",\"uri\":\"/esmond/perfsonar/archive/7a0f84f78c514b41806c21918a2e1cef/\"},{\"url\":\"http://gigiot-22/esmond/perfsonar/archive/7ff41003486449c5858e5db212a6a20a/?format=json\",\"metadata-key\":\"7ff41003486449c5858e5db212a6a20a\",\"subject-type\":\"point-to-point\",\"event-types\":[{\"summaries\":[],\"time-updated\":1520132803,\"base-uri\":\"/esmond/perfsonar/archive/7ff41003486449c5858e5db212a6a20a/packet-retransmits/base\",\"event-type\":\"packet-retransmits\"},{\"summaries\":[],\"time-updated\":1520132803,\"base-uri\":\"/esmond/perfsonar/archive/7ff41003486449c5858e5db212a6a20a/pscheduler-run-href/base\",\"event-type\":\"pscheduler-run-href\"},{\"summaries\":[{\"summary-type\":\"average\",\"uri\":\"/esmond/perfsonar/archive/7ff41003486449c5858e5db212a6a20a/throughput/averages/86400\",\"time-updated\":1520132803,\"summary-window\":\"86400\"}],\"time-updated\":1520132803,\"base-uri\":\"/esmond/perfsonar/archive/7ff41003486449c5858e5db212a6a20a/throughput/base\",\"event-type\":\"throughput\"},{\"summaries\":[],\"time-updated\":null,\"base-uri\":\"/esmond/perfsonar/archive/7ff41003486449c5858e5db212a6a20a/failures/base\",\"event-type\":\"failures\"},{\"summaries\":[],\"time-updated\":1520132803,\"base-uri\":\"/esmond/perfsonar/archive/7ff41003486449c5858e5db212a6a20a/throughput-subintervals/base\",\"event-type\":\"throughput-subintervals\"},{\"summaries\":[],\"time-updated\":1520132803,\"base-uri\":\"/esmond/perfsonar/archive/7ff41003486449c5858e5db212a6a20a/packet-retransmits-subintervals/base\",\"event-type\":\"packet-retransmits-subintervals\"}],\"source\":\"137.164.48.222\",\"destination\":\"137.164.48.221\",\"measurement-agent\":\"137.164.48.222\",\"tool-name\":\"pscheduler/iperf3\",\"input-source\":\"gigiot-22\",\"input-destination\":\"gigiot-21\",\"time-duration\":\"44.0\",\"pscheduler-test-type\":\"throughput\",\"ip-transport-protocol\":\"tcp\",\"bw-parallel-streams\":\"1\",\"bw-ignore-first-seconds\":\"PT5S\",\"uri\":\"/esmond/perfsonar/archive/7ff41003486449c5858e5db212a6a20a/\"},{\"url\":\"http://gigiot-22/esmond/perfsonar/archive/827836edf514415397090a2a4beb8117/?format=json\",\"metadata-key\":\"827836edf514415397090a2a4beb8117\",\"subject-type\":\"point-to-point\",\"event-types\":[{\"summaries\":[],\"time-updated\":1520130772,\"base-uri\":\"/esmond/perfsonar/archive/827836edf514415397090a2a4beb8117/packet-retransmits/base\",\"event-type\":\"packet-retransmits\"},{\"summaries\":[],\"time-updated\":1520130772,\"base-uri\":\"/esmond/perfsonar/archive/827836edf514415397090a2a4beb8117/pscheduler-run-href/base\",\"event-type\":\"pscheduler-run-href\"},{\"summaries\":[{\"summary-type\":\"average\",\"uri\":\"/esmond/perfsonar/archive/827836edf514415397090a2a4beb8117/throughput/averages/86400\",\"time-updated\":1520130772,\"summary-window\":\"86400\"}],\"time-updated\":1520130772,\"base-uri\":\"/esmond/perfsonar/archive/827836edf514415397090a2a4beb8117/throughput/base\",\"event-type\":\"throughput\"},{\"summaries\":[],\"time-updated\":null,\"base-uri\":\"/esmond/perfsonar/archive/827836edf514415397090a2a4beb8117/failures/base\",\"event-type\":\"failures\"},{\"summaries\":[],\"time-updated\":1520130772,\"base-uri\":\"/esmond/perfsonar/archive/827836edf514415397090a2a4beb8117/throughput-subintervals/base\",\"event-type\":\"throughput-subintervals\"},{\"summaries\":[],\"time-updated\":1520130772,\"base-uri\":\"/esmond/perfsonar/archive/827836edf514415397090a2a4beb8117/packet-retransmits-subintervals/base\",\"event-type\":\"packet-retransmits-subintervals\"}],\"source\":\"137.164.48.220\",\"destination\":\"137.164.48.222\",\"measurement-agent\":\"137.164.48.222\",\"tool-name\":\"pscheduler/bwctliperf3\",\"input-source\":\"gigiot-20\",\"input-destination\":\"gigiot-22\",\"bw-ignore-first-seconds\":\"PT5S\",\"bw-parallel-streams\":\"1\",\"ip-transport-protocol\":\"tcp\",\"pscheduler-test-type\":\"throughput\",\"time-duration\":\"96.0\",\"uri\":\"/esmond/perfsonar/archive/827836edf514415397090a2a4beb8117/\"},{\"url\":\"http://gigiot-22/esmond/perfsonar/archive/84060aa813eb4cb9a947169b66845fee/?format=json\",\"metadata-key\":\"84060aa813eb4cb9a947169b66845fee\",\"subject-type\":\"point-to-point\",\"event-types\":[{\"summaries\":[],\"time-updated\":1520131580,\"base-uri\":\"/esmond/perfsonar/archive/84060aa813eb4cb9a947169b66845fee/packet-trace/base\",\"event-type\":\"packet-trace\"},{\"summaries\":[],\"time-updated\":null,\"base-uri\":\"/esmond/perfsonar/archive/84060aa813eb4cb9a947169b66845fee/failures/base\",\"event-type\":\"failures\"},{\"summaries\":[],\"time-updated\":null,\"base-uri\":\"/esmond/perfsonar/archive/84060aa813eb4cb9a947169b66845fee/path-mtu/base\",\"event-type\":\"path-mtu\"},{\"summaries\":[],\"time-updated\":1520131580,\"base-uri\":\"/esmond/perfsonar/archive/84060aa813eb4cb9a947169b66845fee/pscheduler-run-href/base\",\"event-type\":\"pscheduler-run-href\"}],\"source\":\"137.164.48.223\",\"destination\":\"137.164.48.222\",\"measurement-agent\":\"137.164.48.222\",\"tool-name\":\"pscheduler/traceroute\",\"input-source\":\"gigiot-23\",\"input-destination\":\"gigiot-22\",\"ip-packet-size\":\"40\",\"pscheduler-test-type\":\"trace\",\"time-duration\":\"8.0\",\"trace-max-ttl\":\"64\",\"uri\":\"/esmond/perfsonar/archive/84060aa813eb4cb9a947169b66845fee/\"},{\"url\":\"http://gigiot-22/esmond/perfsonar/archive/873efd1a0c4545b9b2e14277cd02cc75/?format=json\",\"metadata-key\":\"873efd1a0c4545b9b2e14277cd02cc75\",\"subject-type\":\"point-to-point\",\"event-types\":[{\"summaries\":[],\"time-updated\":1520129293,\"base-uri\":\"/esmond/perfsonar/archive/873efd1a0c4545b9b2e14277cd02cc75/packet-trace/base\",\"event-type\":\"packet-trace\"},{\"summaries\":[],\"time-updated\":null,\"base-uri\":\"/esmond/perfsonar/archive/873efd1a0c4545b9b2e14277cd02cc75/failures/base\",\"event-type\":\"failures\"},{\"summaries\":[],\"time-updated\":null,\"base-uri\":\"/esmond/perfsonar/archive/873efd1a0c4545b9b2e14277cd02cc75/path-mtu/base\",\"event-type\":\"path-mtu\"},{\"summaries\":[],\"time-updated\":1520129293,\"base-uri\":\"/esmond/perfsonar/archive/873efd1a0c4545b9b2e14277cd02cc75/pscheduler-run-href/base\",\"event-type\":\"pscheduler-run-href\"}],\"source\":\"137.164.48.222\",\"destination\":\"137.164.48.227\",\"measurement-agent\":\"137.164.48.222\",\"tool-name\":\"pscheduler/traceroute\",\"input-source\":\"gigiot-22\",\"input-destination\":\"gigiot-27\",\"ip-packet-size\":\"40\",\"pscheduler-test-type\":\"trace\",\"time-duration\":\"8.0\",\"trace-max-ttl\":\"64\",\"uri\":\"/esmond/perfsonar/archive/873efd1a0c4545b9b2e14277cd02cc75/\"},{\"url\":\"http://gigiot-22/esmond/perfsonar/archive/887a314d2f99401c9f519e06cde674aa/?format=json\",\"metadata-key\":\"887a314d2f99401c9f519e06cde674aa\",\"subject-type\":\"point-to-point\",\"event-types\":[{\"summaries\":[],\"time-updated\":1520132756,\"base-uri\":\"/esmond/perfsonar/archive/887a314d2f99401c9f519e06cde674aa/packet-retransmits/base\",\"event-type\":\"packet-retransmits\"},{\"summaries\":[],\"time-updated\":1520132756,\"base-uri\":\"/esmond/perfsonar/archive/887a314d2f99401c9f519e06cde674aa/pscheduler-run-href/base\",\"event-type\":\"pscheduler-run-href\"},{\"summaries\":[{\"summary-type\":\"average\",\"uri\":\"/esmond/perfsonar/archive/887a314d2f99401c9f519e06cde674aa/throughput/averages/86400\",\"time-updated\":1520132756,\"summary-window\":\"86400\"}],\"time-updated\":1520132756,\"base-uri\":\"/esmond/perfsonar/archive/887a314d2f99401c9f519e06cde674aa/throughput/base\",\"event-type\":\"throughput\"},{\"summaries\":[],\"time-updated\":null,\"base-uri\":\"/esmond/perfsonar/archive/887a314d2f99401c9f519e06cde674aa/failures/base\",\"event-type\":\"failures\"},{\"summaries\":[],\"time-updated\":1520132756,\"base-uri\":\"/esmond/perfsonar/archive/887a314d2f99401c9f519e06cde674aa/throughput-subintervals/base\",\"event-type\":\"throughput-subintervals\"},{\"summaries\":[],\"time-updated\":1520132756,\"base-uri\":\"/esmond/perfsonar/archive/887a314d2f99401c9f519e06cde674aa/packet-retransmits-subintervals/base\",\"event-type\":\"packet-retransmits-subintervals\"}],\"source\":\"137.164.48.224\",\"destination\":\"137.164.48.222\",\"measurement-agent\":\"137.164.48.222\",\"tool-name\":\"pscheduler/iperf3\",\"input-source\":\"gigiot-24\",\"input-destination\":\"gigiot-22\",\"time-duration\":\"44.0\",\"pscheduler-test-type\":\"throughput\",\"ip-transport-protocol\":\"tcp\",\"bw-parallel-streams\":\"1\",\"bw-ignore-first-seconds\":\"PT5S\",\"uri\":\"/esmond/perfsonar/archive/887a314d2f99401c9f519e06cde674aa/\"},{\"url\":\"http://gigiot-22/esmond/perfsonar/archive/88ad46e420ea403a8a520c2107019c50/?format=json\",\"metadata-key\":\"88ad46e420ea403a8a520c2107019c50\",\"subject-type\":\"point-to-point\",\"event-types\":[{\"summaries\":[],\"time-updated\":1520132861,\"base-uri\":\"/esmond/perfsonar/archive/88ad46e420ea403a8a520c2107019c50/packet-retransmits/base\",\"event-type\":\"packet-retransmits\"},{\"summaries\":[],\"time-updated\":1520132861,\"base-uri\":\"/esmond/perfsonar/archive/88ad46e420ea403a8a520c2107019c50/pscheduler-run-href/base\",\"event-type\":\"pscheduler-run-href\"},{\"summaries\":[{\"summary-type\":\"average\",\"uri\":\"/esmond/perfsonar/archive/88ad46e420ea403a8a520c2107019c50/throughput/averages/86400\",\"time-updated\":1520132861,\"summary-window\":\"86400\"}],\"time-updated\":1520132861,\"base-uri\":\"/esmond/perfsonar/archive/88ad46e420ea403a8a520c2107019c50/throughput/base\",\"event-type\":\"throughput\"},{\"summaries\":[],\"time-updated\":null,\"base-uri\":\"/esmond/perfsonar/archive/88ad46e420ea403a8a520c2107019c50/failures/base\",\"event-type\":\"failures\"},{\"summaries\":[],\"time-updated\":1520132861,\"base-uri\":\"/esmond/perfsonar/archive/88ad46e420ea403a8a520c2107019c50/throughput-subintervals/base\",\"event-type\":\"throughput-subintervals\"},{\"summaries\":[],\"time-updated\":1520132861,\"base-uri\":\"/esmond/perfsonar/archive/88ad46e420ea403a8a520c2107019c50/packet-retransmits-subintervals/base\",\"event-type\":\"packet-retransmits-subintervals\"}],\"source\":\"137.164.48.214\",\"destination\":\"137.164.48.222\",\"measurement-agent\":\"137.164.48.222\",\"tool-name\":\"pscheduler/iperf3\",\"input-source\":\"gigiot-14\",\"input-destination\":\"gigiot-22\",\"time-duration\":\"44.0\",\"pscheduler-test-type\":\"throughput\",\"ip-transport-protocol\":\"tcp\",\"bw-parallel-streams\":\"1\",\"bw-ignore-first-seconds\":\"PT5S\",\"uri\":\"/esmond/perfsonar/archive/88ad46e420ea403a8a520c2107019c50/\"},{\"url\":\"http://gigiot-22/esmond/perfsonar/archive/9102c59c7ac34ad19e6b94f959853455/?format=json\",\"metadata-key\":\"9102c59c7ac34ad19e6b94f959853455\",\"subject-type\":\"point-to-point\",\"event-types\":[{\"summaries\":[],\"time-updated\":1520129896,\"base-uri\":\"/esmond/perfsonar/archive/9102c59c7ac34ad19e6b94f959853455/packet-retransmits/base\",\"event-type\":\"packet-retransmits\"},{\"summaries\":[],\"time-updated\":1520129896,\"base-uri\":\"/esmond/perfsonar/archive/9102c59c7ac34ad19e6b94f959853455/pscheduler-run-href/base\",\"event-type\":\"pscheduler-run-href\"},{\"summaries\":[{\"summary-type\":\"average\",\"uri\":\"/esmond/perfsonar/archive/9102c59c7ac34ad19e6b94f959853455/throughput/averages/86400\",\"time-updated\":1520129896,\"summary-window\":\"86400\"}],\"time-updated\":1520129896,\"base-uri\":\"/esmond/perfsonar/archive/9102c59c7ac34ad19e6b94f959853455/throughput/base\",\"event-type\":\"throughput\"},{\"summaries\":[],\"time-updated\":null,\"base-uri\":\"/esmond/perfsonar/archive/9102c59c7ac34ad19e6b94f959853455/failures/base\",\"event-type\":\"failures\"},{\"summaries\":[],\"time-updated\":1520129896,\"base-uri\":\"/esmond/perfsonar/archive/9102c59c7ac34ad19e6b94f959853455/throughput-subintervals/base\",\"event-type\":\"throughput-subintervals\"},{\"summaries\":[],\"time-updated\":1520129896,\"base-uri\":\"/esmond/perfsonar/archive/9102c59c7ac34ad19e6b94f959853455/packet-retransmits-subintervals/base\",\"event-type\":\"packet-retransmits-subintervals\"}],\"source\":\"137.164.48.222\",\"destination\":\"137.164.48.225\",\"measurement-agent\":\"137.164.48.222\",\"tool-name\":\"pscheduler/iperf3\",\"input-source\":\"gigiot-22\",\"input-destination\":\"gigiot-25\",\"bw-ignore-first-seconds\":\"PT5S\",\"bw-parallel-streams\":\"1\",\"ip-transport-protocol\":\"tcp\",\"pscheduler-test-type\":\"throughput\",\"time-duration\":\"44.0\",\"uri\":\"/esmond/perfsonar/archive/9102c59c7ac34ad19e6b94f959853455/\"},{\"url\":\"http://gigiot-22/esmond/perfsonar/archive/9da4e09c6e974172aee8a7d7f1414c92/?format=json\",\"metadata-key\":\"9da4e09c6e974172aee8a7d7f1414c92\",\"subject-type\":\"point-to-point\",\"event-types\":[{\"summaries\":[],\"time-updated\":1520127472,\"base-uri\":\"/esmond/perfsonar/archive/9da4e09c6e974172aee8a7d7f1414c92/packet-retransmits/base\",\"event-type\":\"packet-retransmits\"},{\"summaries\":[],\"time-updated\":1520127472,\"base-uri\":\"/esmond/perfsonar/archive/9da4e09c6e974172aee8a7d7f1414c92/pscheduler-run-href/base\",\"event-type\":\"pscheduler-run-href\"},{\"summaries\":[{\"summary-type\":\"average\",\"uri\":\"/esmond/perfsonar/archive/9da4e09c6e974172aee8a7d7f1414c92/throughput/averages/86400\",\"time-updated\":1520127472,\"summary-window\":\"86400\"}],\"time-updated\":1520127472,\"base-uri\":\"/esmond/perfsonar/archive/9da4e09c6e974172aee8a7d7f1414c92/throughput/base\",\"event-type\":\"throughput\"},{\"summaries\":[],\"time-updated\":null,\"base-uri\":\"/esmond/perfsonar/archive/9da4e09c6e974172aee8a7d7f1414c92/failures/base\",\"event-type\":\"failures\"},{\"summaries\":[],\"time-updated\":1520127472,\"base-uri\":\"/esmond/perfsonar/archive/9da4e09c6e974172aee8a7d7f1414c92/throughput-subintervals/base\",\"event-type\":\"throughput-subintervals\"},{\"summaries\":[],\"time-updated\":1520127472,\"base-uri\":\"/esmond/perfsonar/archive/9da4e09c6e974172aee8a7d7f1414c92/packet-retransmits-subintervals/base\",\"event-type\":\"packet-retransmits-subintervals\"}],\"source\":\"137.164.48.227\",\"destination\":\"137.164.48.222\",\"measurement-agent\":\"137.164.48.222\",\"tool-name\":\"pscheduler/iperf3\",\"input-source\":\"gigiot-27\",\"input-destination\":\"gigiot-22\",\"bw-ignore-first-seconds\":\"PT5S\",\"bw-parallel-streams\":\"1\",\"ip-transport-protocol\":\"tcp\",\"pscheduler-test-type\":\"throughput\",\"time-duration\":\"44.0\",\"uri\":\"/esmond/perfsonar/archive/9da4e09c6e974172aee8a7d7f1414c92/\"},{\"url\":\"http://gigiot-22/esmond/perfsonar/archive/a422781679244b31baf527ed17798fa7/?format=json\",\"metadata-key\":\"a422781679244b31baf527ed17798fa7\",\"subject-type\":\"point-to-point\",\"event-types\":[{\"summaries\":[],\"time-updated\":1520132381,\"base-uri\":\"/esmond/perfsonar/archive/a422781679244b31baf527ed17798fa7/packet-retransmits/base\",\"event-type\":\"packet-retransmits\"},{\"summaries\":[],\"time-updated\":1520132381,\"base-uri\":\"/esmond/perfsonar/archive/a422781679244b31baf527ed17798fa7/pscheduler-run-href/base\",\"event-type\":\"pscheduler-run-href\"},{\"summaries\":[{\"summary-type\":\"average\",\"uri\":\"/esmond/perfsonar/archive/a422781679244b31baf527ed17798fa7/throughput/averages/86400\",\"time-updated\":1520132381,\"summary-window\":\"86400\"}],\"time-updated\":1520132381,\"base-uri\":\"/esmond/perfsonar/archive/a422781679244b31baf527ed17798fa7/throughput/base\",\"event-type\":\"throughput\"},{\"summaries\":[],\"time-updated\":null,\"base-uri\":\"/esmond/perfsonar/archive/a422781679244b31baf527ed17798fa7/failures/base\",\"event-type\":\"failures\"},{\"summaries\":[],\"time-updated\":1520132381,\"base-uri\":\"/esmond/perfsonar/archive/a422781679244b31baf527ed17798fa7/throughput-subintervals/base\",\"event-type\":\"throughput-subintervals\"},{\"summaries\":[],\"time-updated\":1520132381,\"base-uri\":\"/esmond/perfsonar/archive/a422781679244b31baf527ed17798fa7/packet-retransmits-subintervals/base\",\"event-type\":\"packet-retransmits-subintervals\"}],\"source\":\"137.164.48.225\",\"destination\":\"137.164.48.222\",\"measurement-agent\":\"137.164.48.222\",\"tool-name\":\"pscheduler/iperf3\",\"input-source\":\"gigiot-25\",\"input-destination\":\"gigiot-22\",\"bw-ignore-first-seconds\":\"PT5S\",\"bw-parallel-streams\":\"1\",\"ip-transport-protocol\":\"tcp\",\"pscheduler-test-type\":\"throughput\",\"time-duration\":\"44.0\",\"uri\":\"/esmond/perfsonar/archive/a422781679244b31baf527ed17798fa7/\"},{\"url\":\"http://gigiot-22/esmond/perfsonar/archive/a7adaaa3ed9b4a488e5b5489fcbde8a7/?format=json\",\"metadata-key\":\"a7adaaa3ed9b4a488e5b5489fcbde8a7\",\"subject-type\":\"point-to-point\",\"event-types\":[{\"summaries\":[],\"time-updated\":1520132002,\"base-uri\":\"/esmond/perfsonar/archive/a7adaaa3ed9b4a488e5b5489fcbde8a7/packet-retransmits/base\",\"event-type\":\"packet-retransmits\"},{\"summaries\":[],\"time-updated\":1520132002,\"base-uri\":\"/esmond/perfsonar/archive/a7adaaa3ed9b4a488e5b5489fcbde8a7/pscheduler-run-href/base\",\"event-type\":\"pscheduler-run-href\"},{\"summaries\":[{\"summary-type\":\"average\",\"uri\":\"/esmond/perfsonar/archive/a7adaaa3ed9b4a488e5b5489fcbde8a7/throughput/averages/86400\",\"time-updated\":1520132002,\"summary-window\":\"86400\"}],\"time-updated\":1520132002,\"base-uri\":\"/esmond/perfsonar/archive/a7adaaa3ed9b4a488e5b5489fcbde8a7/throughput/base\",\"event-type\":\"throughput\"},{\"summaries\":[],\"time-updated\":null,\"base-uri\":\"/esmond/perfsonar/archive/a7adaaa3ed9b4a488e5b5489fcbde8a7/failures/base\",\"event-type\":\"failures\"},{\"summaries\":[],\"time-updated\":1520132002,\"base-uri\":\"/esmond/perfsonar/archive/a7adaaa3ed9b4a488e5b5489fcbde8a7/throughput-subintervals/base\",\"event-type\":\"throughput-subintervals\"},{\"summaries\":[],\"time-updated\":1520132002,\"base-uri\":\"/esmond/perfsonar/archive/a7adaaa3ed9b4a488e5b5489fcbde8a7/packet-retransmits-subintervals/base\",\"event-type\":\"packet-retransmits-subintervals\"}],\"source\":\"137.164.48.222\",\"destination\":\"137.164.48.227\",\"measurement-agent\":\"137.164.48.222\",\"tool-name\":\"pscheduler/iperf3\",\"input-source\":\"gigiot-22\",\"input-destination\":\"gigiot-27\",\"bw-ignore-first-seconds\":\"PT5S\",\"bw-parallel-streams\":\"1\",\"ip-transport-protocol\":\"tcp\",\"pscheduler-test-type\":\"throughput\",\"time-duration\":\"44.0\",\"uri\":\"/esmond/perfsonar/archive/a7adaaa3ed9b4a488e5b5489fcbde8a7/\"},{\"url\":\"http://gigiot-22/esmond/perfsonar/archive/ae3ab44cdd764aba961e2fac2a668804/?format=json\",\"metadata-key\":\"ae3ab44cdd764aba961e2fac2a668804\",\"subject-type\":\"point-to-point\",\"event-types\":[{\"summaries\":[],\"time-updated\":1520127752,\"base-uri\":\"/esmond/perfsonar/archive/ae3ab44cdd764aba961e2fac2a668804/packet-retransmits/base\",\"event-type\":\"packet-retransmits\"},{\"summaries\":[],\"time-updated\":1520127752,\"base-uri\":\"/esmond/perfsonar/archive/ae3ab44cdd764aba961e2fac2a668804/pscheduler-run-href/base\",\"event-type\":\"pscheduler-run-href\"},{\"summaries\":[{\"summary-type\":\"average\",\"uri\":\"/esmond/perfsonar/archive/ae3ab44cdd764aba961e2fac2a668804/throughput/averages/86400\",\"time-updated\":1520127752,\"summary-window\":\"86400\"}],\"time-updated\":1520127752,\"base-uri\":\"/esmond/perfsonar/archive/ae3ab44cdd764aba961e2fac2a668804/throughput/base\",\"event-type\":\"throughput\"},{\"summaries\":[],\"time-updated\":null,\"base-uri\":\"/esmond/perfsonar/archive/ae3ab44cdd764aba961e2fac2a668804/failures/base\",\"event-type\":\"failures\"},{\"summaries\":[],\"time-updated\":1520127752,\"base-uri\":\"/esmond/perfsonar/archive/ae3ab44cdd764aba961e2fac2a668804/throughput-subintervals/base\",\"event-type\":\"throughput-subintervals\"},{\"summaries\":[],\"time-updated\":1520127752,\"base-uri\":\"/esmond/perfsonar/archive/ae3ab44cdd764aba961e2fac2a668804/packet-retransmits-subintervals/base\",\"event-type\":\"packet-retransmits-subintervals\"}],\"source\":\"137.164.48.213\",\"destination\":\"137.164.48.222\",\"measurement-agent\":\"137.164.48.222\",\"tool-name\":\"pscheduler/iperf3\",\"input-source\":\"gigiot-13\",\"input-destination\":\"gigiot-22\",\"bw-ignore-first-seconds\":\"PT5S\",\"bw-parallel-streams\":\"1\",\"ip-transport-protocol\":\"tcp\",\"pscheduler-test-type\":\"throughput\",\"time-duration\":\"44.0\",\"uri\":\"/esmond/perfsonar/archive/ae3ab44cdd764aba961e2fac2a668804/\"},{\"url\":\"http://gigiot-22/esmond/perfsonar/archive/afc4b2d353f646b2b72aec980e201b76/?format=json\",\"metadata-key\":\"afc4b2d353f646b2b72aec980e201b76\",\"subject-type\":\"point-to-point\",\"event-types\":[{\"summaries\":[],\"time-updated\":1520135321,\"base-uri\":\"/esmond/perfsonar/archive/afc4b2d353f646b2b72aec980e201b76/time-error-estimates/base\",\"event-type\":\"time-error-estimates\"},{\"summaries\":[],\"time-updated\":1520135321,\"base-uri\":\"/esmond/perfsonar/archive/afc4b2d353f646b2b72aec980e201b76/packet-duplicates/base\",\"event-type\":\"packet-duplicates\"},{\"summaries\":[],\"time-updated\":1520135321,\"base-uri\":\"/esmond/perfsonar/archive/afc4b2d353f646b2b72aec980e201b76/pscheduler-run-href/base\",\"event-type\":\"pscheduler-run-href\"},{\"summaries\":[],\"time-updated\":1520135321,\"base-uri\":\"/esmond/perfsonar/archive/afc4b2d353f646b2b72aec980e201b76/histogram-ttl/base\",\"event-type\":\"histogram-ttl\"},{\"summaries\":[{\"summary-type\":\"aggregation\",\"uri\":\"/esmond/perfsonar/archive/afc4b2d353f646b2b72aec980e201b76/packet-count-sent/aggregations/300\",\"time-updated\":1520135321,\"summary-window\":\"300\"},{\"summary-type\":\"aggregation\",\"uri\":\"/esmond/perfsonar/archive/afc4b2d353f646b2b72aec980e201b76/packet-count-sent/aggregations/3600\",\"time-updated\":1520135321,\"summary-window\":\"3600\"},{\"summary-type\":\"aggregation\",\"uri\":\"/esmond/perfsonar/archive/afc4b2d353f646b2b72aec980e201b76/packet-count-sent/aggregations/86400\",\"time-updated\":1520135321,\"summary-window\":\"86400\"}],\"time-updated\":1520135321,\"base-uri\":\"/esmond/perfsonar/archive/afc4b2d353f646b2b72aec980e201b76/packet-count-sent/base\",\"event-type\":\"packet-count-sent\"},{\"summaries\":[],\"time-updated\":1520135321,\"base-uri\":\"/esmond/perfsonar/archive/afc4b2d353f646b2b72aec980e201b76/packet-reorders/base\",\"event-type\":\"packet-reorders\"},{\"summaries\":[{\"summary-type\":\"aggregation\",\"uri\":\"/esmond/perfsonar/archive/afc4b2d353f646b2b72aec980e201b76/packet-count-lost/aggregations/300\",\"time-updated\":1520135321,\"summary-window\":\"300\"},{\"summary-type\":\"aggregation\",\"uri\":\"/esmond/perfsonar/archive/afc4b2d353f646b2b72aec980e201b76/packet-count-lost/aggregations/3600\",\"time-updated\":1520135321,\"summary-window\":\"3600\"},{\"summary-type\":\"aggregation\",\"uri\":\"/esmond/perfsonar/archive/afc4b2d353f646b2b72aec980e201b76/packet-count-lost/aggregations/86400\",\"time-updated\":1520135321,\"summary-window\":\"86400\"}],\"time-updated\":1520135321,\"base-uri\":\"/esmond/perfsonar/archive/afc4b2d353f646b2b72aec980e201b76/packet-count-lost/base\",\"event-type\":\"packet-count-lost\"},{\"summaries\":[{\"summary-type\":\"aggregation\",\"uri\":\"/esmond/perfsonar/archive/afc4b2d353f646b2b72aec980e201b76/histogram-owdelay/aggregations/300\",\"time-updated\":1520135321,\"summary-window\":\"300\"},{\"summary-type\":\"aggregation\",\"uri\":\"/esmond/perfsonar/archive/afc4b2d353f646b2b72aec980e201b76/histogram-owdelay/aggregations/3600\",\"time-updated\":1520135321,\"summary-window\":\"3600\"},{\"summary-type\":\"aggregation\",\"uri\":\"/esmond/perfsonar/archive/afc4b2d353f646b2b72aec980e201b76/histogram-owdelay/aggregations/86400\",\"time-updated\":1520135321,\"summary-window\":\"86400\"},{\"summary-type\":\"statistics\",\"uri\":\"/esmond/perfsonar/archive/afc4b2d353f646b2b72aec980e201b76/histogram-owdelay/statistics/0\",\"time-updated\":1520135321,\"summary-window\":\"0\"},{\"summary-type\":\"statistics\",\"uri\":\"/esmond/perfsonar/archive/afc4b2d353f646b2b72aec980e201b76/histogram-owdelay/statistics/300\",\"time-updated\":1520135321,\"summary-window\":\"300\"},{\"summary-type\":\"statistics\",\"uri\":\"/esmond/perfsonar/archive/afc4b2d353f646b2b72aec980e201b76/histogram-owdelay/statistics/3600\",\"time-updated\":1520135321,\"summary-window\":\"3600\"},{\"summary-type\":\"statistics\",\"uri\":\"/esmond/perfsonar/archive/afc4b2d353f646b2b72aec980e201b76/histogram-owdelay/statistics/86400\",\"time-updated\":1520135321,\"summary-window\":\"86400\"}],\"time-updated\":1520135321,\"base-uri\":\"/esmond/perfsonar/archive/afc4b2d353f646b2b72aec980e201b76/histogram-owdelay/base\",\"event-type\":\"histogram-owdelay\"},{\"summaries\":[],\"time-updated\":null,\"base-uri\":\"/esmond/perfsonar/archive/afc4b2d353f646b2b72aec980e201b76/failures/base\",\"event-type\":\"failures\"},{\"summaries\":[{\"summary-type\":\"aggregation\",\"uri\":\"/esmond/perfsonar/archive/afc4b2d353f646b2b72aec980e201b76/packet-loss-rate/aggregations/300\",\"time-updated\":1520135321,\"summary-window\":\"300\"},{\"summary-type\":\"aggregation\",\"uri\":\"/esmond/perfsonar/archive/afc4b2d353f646b2b72aec980e201b76/packet-loss-rate/aggregations/3600\",\"time-updated\":1520135321,\"summary-window\":\"3600\"},{\"summary-type\":\"aggregation\",\"uri\":\"/esmond/perfsonar/archive/afc4b2d353f646b2b72aec980e201b76/packet-loss-rate/aggregations/86400\",\"time-updated\":1520135321,\"summary-window\":\"86400\"}],\"time-updated\":1520135321,\"base-uri\":\"/esmond/perfsonar/archive/afc4b2d353f646b2b72aec980e201b76/packet-loss-rate/base\",\"event-type\":\"packet-loss-rate\"}],\"source\":\"137.164.48.222\",\"destination\":\"137.164.48.228\",\"measurement-agent\":\"137.164.48.222\",\"tool-name\":\"pscheduler/powstream\",\"input-source\":\"gigiot-22\",\"input-destination\":\"gigiot-28\",\"ip-packet-padding\":\"0\",\"pscheduler-test-type\":\"latencybg\",\"sample-size\":\"300\",\"time-duration\":\"86400.0\",\"time-probe-interval\":\"0.1\",\"uri\":\"/esmond/perfsonar/archive/afc4b2d353f646b2b72aec980e201b76/\"},{\"url\":\"http://gigiot-22/esmond/perfsonar/archive/b3290f312d3c4347b87a06422f62f1d1/?format=json\",\"metadata-key\":\"b3290f312d3c4347b87a06422f62f1d1\",\"subject-type\":\"point-to-point\",\"event-types\":[{\"summaries\":[],\"time-updated\":1520131916,\"base-uri\":\"/esmond/perfsonar/archive/b3290f312d3c4347b87a06422f62f1d1/packet-trace/base\",\"event-type\":\"packet-trace\"},{\"summaries\":[],\"time-updated\":null,\"base-uri\":\"/esmond/perfsonar/archive/b3290f312d3c4347b87a06422f62f1d1/failures/base\",\"event-type\":\"failures\"},{\"summaries\":[],\"time-updated\":null,\"base-uri\":\"/esmond/perfsonar/archive/b3290f312d3c4347b87a06422f62f1d1/path-mtu/base\",\"event-type\":\"path-mtu\"},{\"summaries\":[],\"time-updated\":1520131916,\"base-uri\":\"/esmond/perfsonar/archive/b3290f312d3c4347b87a06422f62f1d1/pscheduler-run-href/base\",\"event-type\":\"pscheduler-run-href\"}],\"source\":\"137.164.48.222\",\"destination\":\"137.164.48.226\",\"measurement-agent\":\"137.164.48.222\",\"tool-name\":\"pscheduler/traceroute\",\"input-source\":\"gigiot-22\",\"input-destination\":\"gigiot-26\",\"ip-packet-size\":\"40\",\"pscheduler-test-type\":\"trace\",\"time-duration\":\"8.0\",\"trace-max-ttl\":\"64\",\"uri\":\"/esmond/perfsonar/archive/b3290f312d3c4347b87a06422f62f1d1/\"},{\"url\":\"http://gigiot-22/esmond/perfsonar/archive/bf794404752e48efadc2710a69880863/?format=json\",\"metadata-key\":\"bf794404752e48efadc2710a69880863\",\"subject-type\":\"point-to-point\",\"event-types\":[{\"summaries\":[],\"time-updated\":1520130735,\"base-uri\":\"/esmond/perfsonar/archive/bf794404752e48efadc2710a69880863/packet-trace/base\",\"event-type\":\"packet-trace\"},{\"summaries\":[],\"time-updated\":null,\"base-uri\":\"/esmond/perfsonar/archive/bf794404752e48efadc2710a69880863/failures/base\",\"event-type\":\"failures\"},{\"summaries\":[],\"time-updated\":null,\"base-uri\":\"/esmond/perfsonar/archive/bf794404752e48efadc2710a69880863/path-mtu/base\",\"event-type\":\"path-mtu\"},{\"summaries\":[],\"time-updated\":1520130735,\"base-uri\":\"/esmond/perfsonar/archive/bf794404752e48efadc2710a69880863/pscheduler-run-href/base\",\"event-type\":\"pscheduler-run-href\"}],\"source\":\"137.164.48.222\",\"destination\":\"137.164.48.225\",\"measurement-agent\":\"137.164.48.222\",\"tool-name\":\"pscheduler/traceroute\",\"input-source\":\"gigiot-22\",\"input-destination\":\"gigiot-25\",\"ip-packet-size\":\"40\",\"pscheduler-test-type\":\"trace\",\"time-duration\":\"8.0\",\"trace-max-ttl\":\"64\",\"uri\":\"/esmond/perfsonar/archive/bf794404752e48efadc2710a69880863/\"},{\"url\":\"http://gigiot-22/esmond/perfsonar/archive/c58a19da6c3f4b3d9e0330ad46c0c27a/?format=json\",\"metadata-key\":\"c58a19da6c3f4b3d9e0330ad46c0c27a\",\"subject-type\":\"point-to-point\",\"event-types\":[{\"summaries\":[],\"time-updated\":1520135311,\"base-uri\":\"/esmond/perfsonar/archive/c58a19da6c3f4b3d9e0330ad46c0c27a/time-error-estimates/base\",\"event-type\":\"time-error-estimates\"},{\"summaries\":[],\"time-updated\":1520135311,\"base-uri\":\"/esmond/perfsonar/archive/c58a19da6c3f4b3d9e0330ad46c0c27a/packet-duplicates/base\",\"event-type\":\"packet-duplicates\"},{\"summaries\":[],\"time-updated\":1520135311,\"base-uri\":\"/esmond/perfsonar/archive/c58a19da6c3f4b3d9e0330ad46c0c27a/pscheduler-run-href/base\",\"event-type\":\"pscheduler-run-href\"},{\"summaries\":[],\"time-updated\":1520135311,\"base-uri\":\"/esmond/perfsonar/archive/c58a19da6c3f4b3d9e0330ad46c0c27a/histogram-ttl/base\",\"event-type\":\"histogram-ttl\"},{\"summaries\":[{\"summary-type\":\"aggregation\",\"uri\":\"/esmond/perfsonar/archive/c58a19da6c3f4b3d9e0330ad46c0c27a/packet-count-sent/aggregations/300\",\"time-updated\":1520135311,\"summary-window\":\"300\"},{\"summary-type\":\"aggregation\",\"uri\":\"/esmond/perfsonar/archive/c58a19da6c3f4b3d9e0330ad46c0c27a/packet-count-sent/aggregations/3600\",\"time-updated\":1520135311,\"summary-window\":\"3600\"},{\"summary-type\":\"aggregation\",\"uri\":\"/esmond/perfsonar/archive/c58a19da6c3f4b3d9e0330ad46c0c27a/packet-count-sent/aggregations/86400\",\"time-updated\":1520135311,\"summary-window\":\"86400\"}],\"time-updated\":1520135311,\"base-uri\":\"/esmond/perfsonar/archive/c58a19da6c3f4b3d9e0330ad46c0c27a/packet-count-sent/base\",\"event-type\":\"packet-count-sent\"},{\"summaries\":[],\"time-updated\":1520135311,\"base-uri\":\"/esmond/perfsonar/archive/c58a19da6c3f4b3d9e0330ad46c0c27a/packet-reorders/base\",\"event-type\":\"packet-reorders\"},{\"summaries\":[{\"summary-type\":\"aggregation\",\"uri\":\"/esmond/perfsonar/archive/c58a19da6c3f4b3d9e0330ad46c0c27a/packet-count-lost/aggregations/300\",\"time-updated\":1520135311,\"summary-window\":\"300\"},{\"summary-type\":\"aggregation\",\"uri\":\"/esmond/perfsonar/archive/c58a19da6c3f4b3d9e0330ad46c0c27a/packet-count-lost/aggregations/3600\",\"time-updated\":1520135311,\"summary-window\":\"3600\"},{\"summary-type\":\"aggregation\",\"uri\":\"/esmond/perfsonar/archive/c58a19da6c3f4b3d9e0330ad46c0c27a/packet-count-lost/aggregations/86400\",\"time-updated\":1520135311,\"summary-window\":\"86400\"}],\"time-updated\":1520135311,\"base-uri\":\"/esmond/perfsonar/archive/c58a19da6c3f4b3d9e0330ad46c0c27a/packet-count-lost/base\",\"event-type\":\"packet-count-lost\"},{\"summaries\":[{\"summary-type\":\"aggregation\",\"uri\":\"/esmond/perfsonar/archive/c58a19da6c3f4b3d9e0330ad46c0c27a/histogram-owdelay/aggregations/300\",\"time-updated\":1520135311,\"summary-window\":\"300\"},{\"summary-type\":\"aggregation\",\"uri\":\"/esmond/perfsonar/archive/c58a19da6c3f4b3d9e0330ad46c0c27a/histogram-owdelay/aggregations/3600\",\"time-updated\":1520135311,\"summary-window\":\"3600\"},{\"summary-type\":\"aggregation\",\"uri\":\"/esmond/perfsonar/archive/c58a19da6c3f4b3d9e0330ad46c0c27a/histogram-owdelay/aggregations/86400\",\"time-updated\":1520135311,\"summary-window\":\"86400\"},{\"summary-type\":\"statistics\",\"uri\":\"/esmond/perfsonar/archive/c58a19da6c3f4b3d9e0330ad46c0c27a/histogram-owdelay/statistics/0\",\"time-updated\":1520135311,\"summary-window\":\"0\"},{\"summary-type\":\"statistics\",\"uri\":\"/esmond/perfsonar/archive/c58a19da6c3f4b3d9e0330ad46c0c27a/histogram-owdelay/statistics/300\",\"time-updated\":1520135311,\"summary-window\":\"300\"},{\"summary-type\":\"statistics\",\"uri\":\"/esmond/perfsonar/archive/c58a19da6c3f4b3d9e0330ad46c0c27a/histogram-owdelay/statistics/3600\",\"time-updated\":1520135311,\"summary-window\":\"3600\"},{\"summary-type\":\"statistics\",\"uri\":\"/esmond/perfsonar/archive/c58a19da6c3f4b3d9e0330ad46c0c27a/histogram-owdelay/statistics/86400\",\"time-updated\":1520135311,\"summary-window\":\"86400\"}],\"time-updated\":1520135311,\"base-uri\":\"/esmond/perfsonar/archive/c58a19da6c3f4b3d9e0330ad46c0c27a/histogram-owdelay/base\",\"event-type\":\"histogram-owdelay\"},{\"summaries\":[],\"time-updated\":null,\"base-uri\":\"/esmond/perfsonar/archive/c58a19da6c3f4b3d9e0330ad46c0c27a/failures/base\",\"event-type\":\"failures\"},{\"summaries\":[{\"summary-type\":\"aggregation\",\"uri\":\"/esmond/perfsonar/archive/c58a19da6c3f4b3d9e0330ad46c0c27a/packet-loss-rate/aggregations/300\",\"time-updated\":1520135311,\"summary-window\":\"300\"},{\"summary-type\":\"aggregation\",\"uri\":\"/esmond/perfsonar/archive/c58a19da6c3f4b3d9e0330ad46c0c27a/packet-loss-rate/aggregations/3600\",\"time-updated\":1520135311,\"summary-window\":\"3600\"},{\"summary-type\":\"aggregation\",\"uri\":\"/esmond/perfsonar/archive/c58a19da6c3f4b3d9e0330ad46c0c27a/packet-loss-rate/aggregations/86400\",\"time-updated\":1520135311,\"summary-window\":\"86400\"}],\"time-updated\":1520135311,\"base-uri\":\"/esmond/perfsonar/archive/c58a19da6c3f4b3d9e0330ad46c0c27a/packet-loss-rate/base\",\"event-type\":\"packet-loss-rate\"}],\"source\":\"137.164.48.226\",\"destination\":\"137.164.48.222\",\"measurement-agent\":\"137.164.48.222\",\"tool-name\":\"pscheduler/powstream\",\"input-source\":\"gigiot-26\",\"input-destination\":\"gigiot-22\",\"ip-packet-padding\":\"0\",\"mode-flip\":\"True\",\"pscheduler-test-type\":\"latencybg\",\"sample-size\":\"300\",\"time-duration\":\"86400.0\",\"time-probe-interval\":\"0.1\",\"uri\":\"/esmond/perfsonar/archive/c58a19da6c3f4b3d9e0330ad46c0c27a/\"},{\"url\":\"http://gigiot-22/esmond/perfsonar/archive/c98f597f7dd547c7b4cd2470c51891df/?format=json\",\"metadata-key\":\"c98f597f7dd547c7b4cd2470c51891df\",\"subject-type\":\"point-to-point\",\"event-types\":[{\"summaries\":[],\"time-updated\":1520127417,\"base-uri\":\"/esmond/perfsonar/archive/c98f597f7dd547c7b4cd2470c51891df/packet-retransmits/base\",\"event-type\":\"packet-retransmits\"},{\"summaries\":[],\"time-updated\":1520127417,\"base-uri\":\"/esmond/perfsonar/archive/c98f597f7dd547c7b4cd2470c51891df/pscheduler-run-href/base\",\"event-type\":\"pscheduler-run-href\"},{\"summaries\":[{\"summary-type\":\"average\",\"uri\":\"/esmond/perfsonar/archive/c98f597f7dd547c7b4cd2470c51891df/throughput/averages/86400\",\"time-updated\":1520127417,\"summary-window\":\"86400\"}],\"time-updated\":1520127417,\"base-uri\":\"/esmond/perfsonar/archive/c98f597f7dd547c7b4cd2470c51891df/throughput/base\",\"event-type\":\"throughput\"},{\"summaries\":[],\"time-updated\":null,\"base-uri\":\"/esmond/perfsonar/archive/c98f597f7dd547c7b4cd2470c51891df/failures/base\",\"event-type\":\"failures\"},{\"summaries\":[],\"time-updated\":1520127417,\"base-uri\":\"/esmond/perfsonar/archive/c98f597f7dd547c7b4cd2470c51891df/throughput-subintervals/base\",\"event-type\":\"throughput-subintervals\"},{\"summaries\":[],\"time-updated\":1520127417,\"base-uri\":\"/esmond/perfsonar/archive/c98f597f7dd547c7b4cd2470c51891df/packet-retransmits-subintervals/base\",\"event-type\":\"packet-retransmits-subintervals\"}],\"source\":\"137.164.48.221\",\"destination\":\"137.164.48.222\",\"measurement-agent\":\"137.164.48.222\",\"tool-name\":\"pscheduler/iperf3\",\"input-source\":\"gigiot-21\",\"input-destination\":\"gigiot-22\",\"bw-ignore-first-seconds\":\"PT5S\",\"bw-parallel-streams\":\"1\",\"ip-transport-protocol\":\"tcp\",\"pscheduler-test-type\":\"throughput\",\"time-duration\":\"44.0\",\"uri\":\"/esmond/perfsonar/archive/c98f597f7dd547c7b4cd2470c51891df/\"},{\"url\":\"http://gigiot-22/esmond/perfsonar/archive/cdd5e1566a8b49808914b781741d9a93/?format=json\",\"metadata-key\":\"cdd5e1566a8b49808914b781741d9a93\",\"subject-type\":\"point-to-point\",\"event-types\":[{\"summaries\":[],\"time-updated\":1520131873,\"base-uri\":\"/esmond/perfsonar/archive/cdd5e1566a8b49808914b781741d9a93/packet-trace/base\",\"event-type\":\"packet-trace\"},{\"summaries\":[],\"time-updated\":null,\"base-uri\":\"/esmond/perfsonar/archive/cdd5e1566a8b49808914b781741d9a93/failures/base\",\"event-type\":\"failures\"},{\"summaries\":[],\"time-updated\":null,\"base-uri\":\"/esmond/perfsonar/archive/cdd5e1566a8b49808914b781741d9a93/path-mtu/base\",\"event-type\":\"path-mtu\"},{\"summaries\":[],\"time-updated\":1520131873,\"base-uri\":\"/esmond/perfsonar/archive/cdd5e1566a8b49808914b781741d9a93/pscheduler-run-href/base\",\"event-type\":\"pscheduler-run-href\"}],\"source\":\"137.164.48.222\",\"destination\":\"137.164.48.223\",\"measurement-agent\":\"137.164.48.222\",\"tool-name\":\"pscheduler/traceroute\",\"input-source\":\"gigiot-22\",\"input-destination\":\"gigiot-23\",\"ip-packet-size\":\"40\",\"pscheduler-test-type\":\"trace\",\"time-duration\":\"8.0\",\"trace-max-ttl\":\"64\",\"uri\":\"/esmond/perfsonar/archive/cdd5e1566a8b49808914b781741d9a93/\"},{\"url\":\"http://gigiot-22/esmond/perfsonar/archive/d41dace47c724986a07d7bb4e4fe71d1/?format=json\",\"metadata-key\":\"d41dace47c724986a07d7bb4e4fe71d1\",\"subject-type\":\"point-to-point\",\"event-types\":[{\"summaries\":[],\"time-updated\":1520127535,\"base-uri\":\"/esmond/perfsonar/archive/d41dace47c724986a07d7bb4e4fe71d1/packet-retransmits/base\",\"event-type\":\"packet-retransmits\"},{\"summaries\":[],\"time-updated\":1520127535,\"base-uri\":\"/esmond/perfsonar/archive/d41dace47c724986a07d7bb4e4fe71d1/pscheduler-run-href/base\",\"event-type\":\"pscheduler-run-href\"},{\"summaries\":[{\"summary-type\":\"average\",\"uri\":\"/esmond/perfsonar/archive/d41dace47c724986a07d7bb4e4fe71d1/throughput/averages/86400\",\"time-updated\":1520127535,\"summary-window\":\"86400\"}],\"time-updated\":1520127535,\"base-uri\":\"/esmond/perfsonar/archive/d41dace47c724986a07d7bb4e4fe71d1/throughput/base\",\"event-type\":\"throughput\"},{\"summaries\":[],\"time-updated\":null,\"base-uri\":\"/esmond/perfsonar/archive/d41dace47c724986a07d7bb4e4fe71d1/failures/base\",\"event-type\":\"failures\"},{\"summaries\":[],\"time-updated\":1520127535,\"base-uri\":\"/esmond/perfsonar/archive/d41dace47c724986a07d7bb4e4fe71d1/throughput-subintervals/base\",\"event-type\":\"throughput-subintervals\"},{\"summaries\":[],\"time-updated\":1520127535,\"base-uri\":\"/esmond/perfsonar/archive/d41dace47c724986a07d7bb4e4fe71d1/packet-retransmits-subintervals/base\",\"event-type\":\"packet-retransmits-subintervals\"}],\"source\":\"137.164.48.222\",\"destination\":\"137.164.48.207\",\"measurement-agent\":\"137.164.48.222\",\"tool-name\":\"pscheduler/iperf3\",\"input-source\":\"gigiot-22\",\"input-destination\":\"gigiot-07\",\"bw-ignore-first-seconds\":\"PT5S\",\"bw-parallel-streams\":\"1\",\"ip-transport-protocol\":\"tcp\",\"pscheduler-test-type\":\"throughput\",\"time-duration\":\"44.0\",\"uri\":\"/esmond/perfsonar/archive/d41dace47c724986a07d7bb4e4fe71d1/\"},{\"url\":\"http://gigiot-22/esmond/perfsonar/archive/dbd6adc3a6c84789bc208420054c1baf/?format=json\",\"metadata-key\":\"dbd6adc3a6c84789bc208420054c1baf\",\"subject-type\":\"point-to-point\",\"event-types\":[{\"summaries\":[],\"time-updated\":1520135311,\"base-uri\":\"/esmond/perfsonar/archive/dbd6adc3a6c84789bc208420054c1baf/time-error-estimates/base\",\"event-type\":\"time-error-estimates\"},{\"summaries\":[],\"time-updated\":1520135311,\"base-uri\":\"/esmond/perfsonar/archive/dbd6adc3a6c84789bc208420054c1baf/packet-duplicates/base\",\"event-type\":\"packet-duplicates\"},{\"summaries\":[],\"time-updated\":1520135311,\"base-uri\":\"/esmond/perfsonar/archive/dbd6adc3a6c84789bc208420054c1baf/pscheduler-run-href/base\",\"event-type\":\"pscheduler-run-href\"},{\"summaries\":[],\"time-updated\":1520135311,\"base-uri\":\"/esmond/perfsonar/archive/dbd6adc3a6c84789bc208420054c1baf/histogram-ttl/base\",\"event-type\":\"histogram-ttl\"},{\"summaries\":[{\"summary-type\":\"aggregation\",\"uri\":\"/esmond/perfsonar/archive/dbd6adc3a6c84789bc208420054c1baf/packet-count-sent/aggregations/300\",\"time-updated\":1520135311,\"summary-window\":\"300\"},{\"summary-type\":\"aggregation\",\"uri\":\"/esmond/perfsonar/archive/dbd6adc3a6c84789bc208420054c1baf/packet-count-sent/aggregations/3600\",\"time-updated\":1520135311,\"summary-window\":\"3600\"},{\"summary-type\":\"aggregation\",\"uri\":\"/esmond/perfsonar/archive/dbd6adc3a6c84789bc208420054c1baf/packet-count-sent/aggregations/86400\",\"time-updated\":1520135311,\"summary-window\":\"86400\"}],\"time-updated\":1520135311,\"base-uri\":\"/esmond/perfsonar/archive/dbd6adc3a6c84789bc208420054c1baf/packet-count-sent/base\",\"event-type\":\"packet-count-sent\"},{\"summaries\":[],\"time-updated\":1520135311,\"base-uri\":\"/esmond/perfsonar/archive/dbd6adc3a6c84789bc208420054c1baf/packet-reorders/base\",\"event-type\":\"packet-reorders\"},{\"summaries\":[{\"summary-type\":\"aggregation\",\"uri\":\"/esmond/perfsonar/archive/dbd6adc3a6c84789bc208420054c1baf/packet-count-lost/aggregations/300\",\"time-updated\":1520135311,\"summary-window\":\"300\"},{\"summary-type\":\"aggregation\",\"uri\":\"/esmond/perfsonar/archive/dbd6adc3a6c84789bc208420054c1baf/packet-count-lost/aggregations/3600\",\"time-updated\":1520135311,\"summary-window\":\"3600\"},{\"summary-type\":\"aggregation\",\"uri\":\"/esmond/perfsonar/archive/dbd6adc3a6c84789bc208420054c1baf/packet-count-lost/aggregations/86400\",\"time-updated\":1520135311,\"summary-window\":\"86400\"}],\"time-updated\":1520135311,\"base-uri\":\"/esmond/perfsonar/archive/dbd6adc3a6c84789bc208420054c1baf/packet-count-lost/base\",\"event-type\":\"packet-count-lost\"},{\"summaries\":[{\"summary-type\":\"aggregation\",\"uri\":\"/esmond/perfsonar/archive/dbd6adc3a6c84789bc208420054c1baf/histogram-owdelay/aggregations/300\",\"time-updated\":1520135311,\"summary-window\":\"300\"},{\"summary-type\":\"aggregation\",\"uri\":\"/esmond/perfsonar/archive/dbd6adc3a6c84789bc208420054c1baf/histogram-owdelay/aggregations/3600\",\"time-updated\":1520135311,\"summary-window\":\"3600\"},{\"summary-type\":\"aggregation\",\"uri\":\"/esmond/perfsonar/archive/dbd6adc3a6c84789bc208420054c1baf/histogram-owdelay/aggregations/86400\",\"time-updated\":1520135311,\"summary-window\":\"86400\"},{\"summary-type\":\"statistics\",\"uri\":\"/esmond/perfsonar/archive/dbd6adc3a6c84789bc208420054c1baf/histogram-owdelay/statistics/0\",\"time-updated\":1520135311,\"summary-window\":\"0\"},{\"summary-type\":\"statistics\",\"uri\":\"/esmond/perfsonar/archive/dbd6adc3a6c84789bc208420054c1baf/histogram-owdelay/statistics/300\",\"time-updated\":1520135311,\"summary-window\":\"300\"},{\"summary-type\":\"statistics\",\"uri\":\"/esmond/perfsonar/archive/dbd6adc3a6c84789bc208420054c1baf/histogram-owdelay/statistics/3600\",\"time-updated\":1520135311,\"summary-window\":\"3600\"},{\"summary-type\":\"statistics\",\"uri\":\"/esmond/perfsonar/archive/dbd6adc3a6c84789bc208420054c1baf/histogram-owdelay/statistics/86400\",\"time-updated\":1520135311,\"summary-window\":\"86400\"}],\"time-updated\":1520135311,\"base-uri\":\"/esmond/perfsonar/archive/dbd6adc3a6c84789bc208420054c1baf/histogram-owdelay/base\",\"event-type\":\"histogram-owdelay\"},{\"summaries\":[],\"time-updated\":null,\"base-uri\":\"/esmond/perfsonar/archive/dbd6adc3a6c84789bc208420054c1baf/failures/base\",\"event-type\":\"failures\"},{\"summaries\":[{\"summary-type\":\"aggregation\",\"uri\":\"/esmond/perfsonar/archive/dbd6adc3a6c84789bc208420054c1baf/packet-loss-rate/aggregations/300\",\"time-updated\":1520135311,\"summary-window\":\"300\"},{\"summary-type\":\"aggregation\",\"uri\":\"/esmond/perfsonar/archive/dbd6adc3a6c84789bc208420054c1baf/packet-loss-rate/aggregations/3600\",\"time-updated\":1520135311,\"summary-window\":\"3600\"},{\"summary-type\":\"aggregation\",\"uri\":\"/esmond/perfsonar/archive/dbd6adc3a6c84789bc208420054c1baf/packet-loss-rate/aggregations/86400\",\"time-updated\":1520135311,\"summary-window\":\"86400\"}],\"time-updated\":1520135311,\"base-uri\":\"/esmond/perfsonar/archive/dbd6adc3a6c84789bc208420054c1baf/packet-loss-rate/base\",\"event-type\":\"packet-loss-rate\"}],\"source\":\"137.164.48.225\",\"destination\":\"137.164.48.222\",\"measurement-agent\":\"137.164.48.222\",\"tool-name\":\"pscheduler/powstream\",\"input-source\":\"gigiot-25\",\"input-destination\":\"gigiot-22\",\"ip-packet-padding\":\"0\",\"mode-flip\":\"True\",\"pscheduler-test-type\":\"latencybg\",\"sample-size\":\"300\",\"time-duration\":\"86400.0\",\"time-probe-interval\":\"0.1\",\"uri\":\"/esmond/perfsonar/archive/dbd6adc3a6c84789bc208420054c1baf/\"},{\"url\":\"http://gigiot-22/esmond/perfsonar/archive/f74ec40eb85b4ff790a75b140ef4973b/?format=json\",\"metadata-key\":\"f74ec40eb85b4ff790a75b140ef4973b\",\"subject-type\":\"point-to-point\",\"event-types\":[{\"summaries\":[],\"time-updated\":1520135316,\"base-uri\":\"/esmond/perfsonar/archive/f74ec40eb85b4ff790a75b140ef4973b/time-error-estimates/base\",\"event-type\":\"time-error-estimates\"},{\"summaries\":[],\"time-updated\":1520135316,\"base-uri\":\"/esmond/perfsonar/archive/f74ec40eb85b4ff790a75b140ef4973b/packet-duplicates/base\",\"event-type\":\"packet-duplicates\"},{\"summaries\":[],\"time-updated\":1520135316,\"base-uri\":\"/esmond/perfsonar/archive/f74ec40eb85b4ff790a75b140ef4973b/pscheduler-run-href/base\",\"event-type\":\"pscheduler-run-href\"},{\"summaries\":[],\"time-updated\":1520135316,\"base-uri\":\"/esmond/perfsonar/archive/f74ec40eb85b4ff790a75b140ef4973b/histogram-ttl/base\",\"event-type\":\"histogram-ttl\"},{\"summaries\":[{\"summary-type\":\"aggregation\",\"uri\":\"/esmond/perfsonar/archive/f74ec40eb85b4ff790a75b140ef4973b/packet-count-sent/aggregations/300\",\"time-updated\":1520135316,\"summary-window\":\"300\"},{\"summary-type\":\"aggregation\",\"uri\":\"/esmond/perfsonar/archive/f74ec40eb85b4ff790a75b140ef4973b/packet-count-sent/aggregations/3600\",\"time-updated\":1520135316,\"summary-window\":\"3600\"},{\"summary-type\":\"aggregation\",\"uri\":\"/esmond/perfsonar/archive/f74ec40eb85b4ff790a75b140ef4973b/packet-count-sent/aggregations/86400\",\"time-updated\":1520135316,\"summary-window\":\"86400\"}],\"time-updated\":1520135316,\"base-uri\":\"/esmond/perfsonar/archive/f74ec40eb85b4ff790a75b140ef4973b/packet-count-sent/base\",\"event-type\":\"packet-count-sent\"},{\"summaries\":[],\"time-updated\":1520135316,\"base-uri\":\"/esmond/perfsonar/archive/f74ec40eb85b4ff790a75b140ef4973b/packet-reorders/base\",\"event-type\":\"packet-reorders\"},{\"summaries\":[{\"summary-type\":\"aggregation\",\"uri\":\"/esmond/perfsonar/archive/f74ec40eb85b4ff790a75b140ef4973b/packet-count-lost/aggregations/300\",\"time-updated\":1520135316,\"summary-window\":\"300\"},{\"summary-type\":\"aggregation\",\"uri\":\"/esmond/perfsonar/archive/f74ec40eb85b4ff790a75b140ef4973b/packet-count-lost/aggregations/3600\",\"time-updated\":1520135316,\"summary-window\":\"3600\"},{\"summary-type\":\"aggregation\",\"uri\":\"/esmond/perfsonar/archive/f74ec40eb85b4ff790a75b140ef4973b/packet-count-lost/aggregations/86400\",\"time-updated\":1520135316,\"summary-window\":\"86400\"}],\"time-updated\":1520135316,\"base-uri\":\"/esmond/perfsonar/archive/f74ec40eb85b4ff790a75b140ef4973b/packet-count-lost/base\",\"event-type\":\"packet-count-lost\"},{\"summaries\":[{\"summary-type\":\"aggregation\",\"uri\":\"/esmond/perfsonar/archive/f74ec40eb85b4ff790a75b140ef4973b/histogram-owdelay/aggregations/300\",\"time-updated\":1520135316,\"summary-window\":\"300\"},{\"summary-type\":\"aggregation\",\"uri\":\"/esmond/perfsonar/archive/f74ec40eb85b4ff790a75b140ef4973b/histogram-owdelay/aggregations/3600\",\"time-updated\":1520135316,\"summary-window\":\"3600\"},{\"summary-type\":\"aggregation\",\"uri\":\"/esmond/perfsonar/archive/f74ec40eb85b4ff790a75b140ef4973b/histogram-owdelay/aggregations/86400\",\"time-updated\":1520135316,\"summary-window\":\"86400\"},{\"summary-type\":\"statistics\",\"uri\":\"/esmond/perfsonar/archive/f74ec40eb85b4ff790a75b140ef4973b/histogram-owdelay/statistics/0\",\"time-updated\":1520135316,\"summary-window\":\"0\"},{\"summary-type\":\"statistics\",\"uri\":\"/esmond/perfsonar/archive/f74ec40eb85b4ff790a75b140ef4973b/histogram-owdelay/statistics/300\",\"time-updated\":1520135316,\"summary-window\":\"300\"},{\"summary-type\":\"statistics\",\"uri\":\"/esmond/perfsonar/archive/f74ec40eb85b4ff790a75b140ef4973b/histogram-owdelay/statistics/3600\",\"time-updated\":1520135316,\"summary-window\":\"3600\"},{\"summary-type\":\"statistics\",\"uri\":\"/esmond/perfsonar/archive/f74ec40eb85b4ff790a75b140ef4973b/histogram-owdelay/statistics/86400\",\"time-updated\":1520135316,\"summary-window\":\"86400\"}],\"time-updated\":1520135316,\"base-uri\":\"/esmond/perfsonar/archive/f74ec40eb85b4ff790a75b140ef4973b/histogram-owdelay/base\",\"event-type\":\"histogram-owdelay\"},{\"summaries\":[],\"time-updated\":null,\"base-uri\":\"/esmond/perfsonar/archive/f74ec40eb85b4ff790a75b140ef4973b/failures/base\",\"event-type\":\"failures\"},{\"summaries\":[{\"summary-type\":\"aggregation\",\"uri\":\"/esmond/perfsonar/archive/f74ec40eb85b4ff790a75b140ef4973b/packet-loss-rate/aggregations/300\",\"time-updated\":1520135316,\"summary-window\":\"300\"},{\"summary-type\":\"aggregation\",\"uri\":\"/esmond/perfsonar/archive/f74ec40eb85b4ff790a75b140ef4973b/packet-loss-rate/aggregations/3600\",\"time-updated\":1520135316,\"summary-window\":\"3600\"},{\"summary-type\":\"aggregation\",\"uri\":\"/esmond/perfsonar/archive/f74ec40eb85b4ff790a75b140ef4973b/packet-loss-rate/aggregations/86400\",\"time-updated\":1520135316,\"summary-window\":\"86400\"}],\"time-updated\":1520135316,\"base-uri\":\"/esmond/perfsonar/archive/f74ec40eb85b4ff790a75b140ef4973b/packet-loss-rate/base\",\"event-type\":\"packet-loss-rate\"}],\"source\":\"137.164.48.224\",\"destination\":\"137.164.48.222\",\"measurement-agent\":\"137.164.48.222\",\"tool-name\":\"pscheduler/powstream\",\"input-source\":\"gigiot-24\",\"input-destination\":\"gigiot-22\",\"ip-packet-padding\":\"0\",\"mode-flip\":\"True\",\"pscheduler-test-type\":\"latencybg\",\"sample-size\":\"300\",\"time-duration\":\"86400.0\",\"time-probe-interval\":\"0.1\",\"uri\":\"/esmond/perfsonar/archive/f74ec40eb85b4ff790a75b140ef4973b/\"},{\"url\":\"http://gigiot-22/esmond/perfsonar/archive/fc122a5361034f21b0d37fec440a2f20/?format=json\",\"metadata-key\":\"fc122a5361034f21b0d37fec440a2f20\",\"subject-type\":\"point-to-point\",\"event-types\":[{\"summaries\":[],\"time-updated\":1520126092,\"base-uri\":\"/esmond/perfsonar/archive/fc122a5361034f21b0d37fec440a2f20/packet-retransmits/base\",\"event-type\":\"packet-retransmits\"},{\"summaries\":[],\"time-updated\":1520126092,\"base-uri\":\"/esmond/perfsonar/archive/fc122a5361034f21b0d37fec440a2f20/pscheduler-run-href/base\",\"event-type\":\"pscheduler-run-href\"},{\"summaries\":[{\"summary-type\":\"average\",\"uri\":\"/esmond/perfsonar/archive/fc122a5361034f21b0d37fec440a2f20/throughput/averages/86400\",\"time-updated\":1520126092,\"summary-window\":\"86400\"}],\"time-updated\":1520126092,\"base-uri\":\"/esmond/perfsonar/archive/fc122a5361034f21b0d37fec440a2f20/throughput/base\",\"event-type\":\"throughput\"},{\"summaries\":[],\"time-updated\":null,\"base-uri\":\"/esmond/perfsonar/archive/fc122a5361034f21b0d37fec440a2f20/failures/base\",\"event-type\":\"failures\"},{\"summaries\":[],\"time-updated\":1520126092,\"base-uri\":\"/esmond/perfsonar/archive/fc122a5361034f21b0d37fec440a2f20/throughput-subintervals/base\",\"event-type\":\"throughput-subintervals\"},{\"summaries\":[],\"time-updated\":1520126092,\"base-uri\":\"/esmond/perfsonar/archive/fc122a5361034f21b0d37fec440a2f20/packet-retransmits-subintervals/base\",\"event-type\":\"packet-retransmits-subintervals\"}],\"source\":\"137.164.48.223\",\"destination\":\"137.164.48.222\",\"measurement-agent\":\"137.164.48.222\",\"tool-name\":\"pscheduler/iperf3\",\"input-source\":\"gigiot-23\",\"input-destination\":\"gigiot-22\",\"bw-ignore-first-seconds\":\"PT5S\",\"bw-parallel-streams\":\"1\",\"ip-transport-protocol\":\"tcp\",\"pscheduler-test-type\":\"throughput\",\"time-duration\":\"44.0\",\"uri\":\"/esmond/perfsonar/archive/fc122a5361034f21b0d37fec440a2f20/\"}]"
     ]
    }
   ],
   "source": [
    "curl http://$(hostname -s)/esmond/perfsonar/archive/?format=json"
   ]
  },
  {
   "cell_type": "markdown",
   "metadata": {},
   "source": [
    "## create an adminstrative user for the MaDDash webUI\n",
    "<p>MaDDash provides an adminstrative interface available through the webUI at <pre>http://enter.the.ma.ip.here/maddash-webui/admin</pre> <p>in a termal session, use `htpasswd` to update `/etc/maddash/maddash-webui/admin-users`</p>\n",
    "<pre>htpasswd /etc/maddash/maddash-webui/admin-users admin</pre>"
   ]
  },
  {
   "cell_type": "markdown",
   "metadata": {},
   "source": [
    "# Creating and publishing a perfSONAR mesh json\n",
    "<p>the next set of steps will produce and publish an updated mesh json:\n",
    "<ul>\n",
    "<li>process the mesh json to update MaDDash server yaml configuration: configuring checks to query the esmond; thresholds for performance, and organizing dashboards</li>\n",
    "<li>publish the mesh json for participating perfSONAR nodes: which process the mesh json to update their test configuration</li>\n",
    "</ul>\n",
    "</p>"
   ]
  },
  {
   "cell_type": "markdown",
   "metadata": {},
   "source": [
    "## use wget to transfer a baseline mesh configuration (.conf)\n",
    "<p>the mesh .conf file provides a more human-readable configuration syntax (than json).</p>\n",
    "<p>subsequent steps reference the mesh .conf to build the mesh json</p>"
   ]
  },
  {
   "cell_type": "code",
   "execution_count": 7,
   "metadata": {},
   "outputs": [
    {
     "name": "stdout",
     "output_type": "stream",
     "text": [
      "--2018-03-03 19:51:12--  http://fiona-10-01:8000/prp-fiona-ws-mesh--gigiot-22.conf\n",
      "Resolving fiona-10-01 (fiona-10-01)... 137.164.48.196\n",
      "Connecting to fiona-10-01 (fiona-10-01)|137.164.48.196|:8000... connected.\n",
      "HTTP request sent, awaiting response... 404 File not found\n",
      "2018-03-03 19:51:12 ERROR 404: File not found.\n",
      "\n",
      "* About to connect() to gigiot-ma-4 port 80 (#0)\n",
      "*   Trying 137.164.48.232...\n",
      "* Connected to gigiot-ma-4 (137.164.48.232) port 80 (#0)\n",
      "> GET /prp-fiona-ws-mesh--gigiot-ma-4.json HTTP/1.1\n",
      "> User-Agent: curl/7.29.0\n",
      "> Host: gigiot-ma-4\n",
      "> Accept: */*\n",
      "> \n",
      "< HTTP/1.1 200 OK\n",
      "< Date: Sun, 04 Mar 2018 03:51:12 GMT\n",
      "< Server: Apache/2.4.6 (CentOS) OpenSSL/1.0.2k-fips mod_wsgi/3.4 Python/2.7.5\n",
      "< Last-Modified: Sat, 03 Mar 2018 23:35:17 GMT\n",
      "< ETag: \"368e-5668a8ba2e2d3\"\n",
      "< Accept-Ranges: bytes\n",
      "< Content-Length: 13966\n",
      "< Content-Type: application/json\n",
      "< \n",
      "{\n",
      "   \"administrators\" : [\n",
      "      {\n",
      "         \"email\" : \"jhess@cenic.org\",\n",
      "         \"name\" : \"John Hess\"\n",
      "      }\n",
      "   ],\n",
      "   \"organizations\" : [\n",
      "      {\n",
      "         \"sites\" : [\n",
      "            {\n",
      "               \"hosts\" : [\n",
      "                  {\n",
      "                     \"addresses\" : [\n",
      "                        \"gigiot-01\",\n",
      "                        \"137.164.48.201\"\n",
      "                     ],\n",
      "                     \"description\" : \"gigiot-01\"\n",
      "                  }\n",
      "               ],\n",
      "               \"description\" : \"gigiot-01\"\n",
      "            },\n",
      "            {\n",
      "               \"hosts\" : [\n",
      "                  {\n",
      "                     \"addresses\" : [\n",
      "                        \"gigiot-02\",\n",
      "                        \"137.164.48.202\"\n",
      "                     ],\n",
      "                     \"description\" : \"gigiot-02\"\n",
      "                  }\n",
      "               ],\n",
      "               \"description\" : \"gigiot-02\"\n",
      "            },\n",
      "            {\n",
      "               \"hosts\" : [\n",
      "                  {\n",
      "                     \"addresses\" : [\n",
      "                        \"gigiot-03\",\n",
      "                        \"137.164.48.203\"\n",
      "                     ],\n",
      "                     \"description\" : \"gigiot-03\"\n",
      "                  }\n",
      "               ],\n",
      "               \"description\" : \"gigiot-03\"\n",
      "            },\n",
      "            {\n",
      "               \"hosts\" : [\n",
      "                  {\n",
      "                     \"addresses\" : [\n",
      "                        \"gigiot-04\",\n",
      "                        \"137.164.48.204\"\n",
      "                     ],\n",
      "                     \"description\" : \"gigiot-04\"\n",
      "                  }\n",
      "               ],\n",
      "               \"description\" : \"gigiot-04\"\n",
      "            },\n",
      "            {\n",
      "               \"hosts\" : [\n",
      "                  {\n",
      "                     \"addresses\" : [\n",
      "                        \"gigiot-05\",\n",
      "                        \"137.164.48.205\"\n",
      "                     ],\n",
      "                     \"description\" : \"gigiot-05\"\n",
      "                  }\n",
      "               ],\n",
      "               \"description\" : \"gigiot-05\"\n",
      "            },\n",
      "            {\n",
      "               \"hosts\" : [\n",
      "                  {\n",
      "                     \"addresses\" : [\n",
      "                        \"gigiot-06\",\n",
      "                        \"137.164.48.206\"\n",
      "                     ],\n",
      "                     \"description\" : \"gigiot-06\"\n",
      "                  }\n",
      "               ],\n",
      "               \"description\" : \"gigiot-06\"\n",
      "            },\n",
      "            {\n",
      "               \"hosts\" : [\n",
      "                  {\n",
      "                     \"addresses\" : [\n",
      "                        \"gigiot-07\",\n",
      "                        \"137.164.48.207\"\n",
      "                     ],\n",
      "                     \"description\" : \"gigiot-07\"\n",
      "                  }\n",
      "               ],\n",
      "               \"description\" : \"gigiot-07\"\n",
      "            }\n",
      "         ],\n",
      "         \"description\" : \"PRP FIONA Workshop Group 1\"\n",
      "      },\n",
      "      {\n",
      "         \"sites\" : [\n",
      "            {\n",
      "               \"hosts\" : [\n",
      "                  {\n",
      "                     \"addresses\" : [\n",
      "                        \"gigiot-08\",\n",
      "                        \"137.164.48.208\"\n",
      "                     ],\n",
      "                     \"description\" : \"gigiot-08\"\n",
      "                  }\n",
      "               ],\n",
      "               \"description\" : \"gigiot-08\"\n",
      "            },\n",
      "            {\n",
      "               \"hosts\" : [\n",
      "                  {\n",
      "                     \"addresses\" : [\n",
      "                        \"gigiot-09\",\n",
      "                        \"137.164.48.209\"\n",
      "                     ],\n",
      "                     \"description\" : \"gigiot-09\"\n",
      "                  }\n",
      "               ],\n",
      "               \"description\" : \"gigiot-09\"\n",
      "            },\n",
      "            {\n",
      "               \"hosts\" : [\n",
      "                  {\n",
      "                     \"addresses\" : [\n",
      "                        \"gigiot-10\",\n",
      "                        \"137.164.48.210\"\n",
      "                     ],\n",
      "                     \"description\" : \"gigiot-10\"\n",
      "                  }\n",
      "               ],\n",
      "               \"description\" : \"gigiot-10\"\n",
      "            },\n",
      "            {\n",
      "               \"hosts\" : [\n",
      "                  {\n",
      "                     \"addresses\" : [\n",
      "                        \"gigiot-11\",\n",
      "                        \"137.164.48.211\"\n",
      "                     ],\n",
      "                     \"description\" : \"gigiot-11\"\n",
      "                  }\n",
      "               ],\n",
      "               \"description\" : \"gigiot-11\"\n",
      "            },\n",
      "            {\n",
      "               \"hosts\" : [\n",
      "                  {\n",
      "                     \"addresses\" : [\n",
      "                        \"gigiot-12\",\n",
      "                        \"137.164.48.212\"\n",
      "                     ],\n",
      "                     \"description\" : \"gigiot-12\"\n",
      "                  }\n",
      "               ],\n",
      "               \"description\" : \"gigiot-12\"\n",
      "            },\n",
      "            {\n",
      "               \"hosts\" : [\n",
      "                  {\n",
      "                     \"addresses\" : [\n",
      "                        \"gigiot-13\",\n",
      "                        \"137.164.48.213\"\n",
      "                     ],\n",
      "                     \"description\" : \"gigiot-13\"\n",
      "                  }\n",
      "               ],\n",
      "               \"description\" : \"gigiot-13\"\n",
      "            },\n",
      "            {\n",
      "               \"hosts\" : [\n",
      "                  {\n",
      "                     \"addresses\" : [\n",
      "                        \"gigiot-14\",\n",
      "                        \"137.164.48.214\"\n",
      "                     ],\n",
      "                     \"description\" : \"gigiot-14\"\n",
      "                  }\n",
      "               ],\n",
      "               \"description\" : \"gigiot-14\"\n",
      "            }\n",
      "         ],\n",
      "         \"description\" : \"PRP FIONA Workshop Group 2\"\n",
      "      },\n",
      "      {\n",
      "         \"sites\" : [\n",
      "            {\n",
      "               \"hosts\" : [\n",
      "                  {\n",
      "                     \"addresses\" : [\n",
      "                        \"gigiot-15\",\n",
      "                        \"137.164.48.215\"\n",
      "                     ],\n",
      "                     \"description\" : \"gigiot-15\"\n",
      "                  }\n",
      "               ],\n",
      "               \"description\" : \"gigiot-15\"\n",
      "            },\n",
      "            {\n",
      "               \"hosts\" : [\n",
      "                  {\n",
      "                     \"addresses\" : [\n",
      "                        \"gigiot-16\",\n",
      "                        \"137.164.48.216\"\n",
      "                     ],\n",
      "                     \"description\" : \"gigiot-16\"\n",
      "                  }\n",
      "               ],\n",
      "               \"description\" : \"gigiot-16\"\n",
      "            },\n",
      "            {\n",
      "               \"hosts\" : [\n",
      "                  {\n",
      "                     \"addresses\" : [\n",
      "                        \"gigiot-17\",\n",
      "                        \"137.164.48.217\"\n",
      "                     ],\n",
      "                     \"description\" : \"gigiot-17\"\n",
      "                  }\n",
      "               ],\n",
      "               \"description\" : \"gigiot-17\"\n",
      "            },\n",
      "            {\n",
      "               \"hosts\" : [\n",
      "                  {\n",
      "                     \"addresses\" : [\n",
      "                        \"gigiot-18\",\n",
      "                        \"137.164.48.218\"\n",
      "                     ],\n",
      "                     \"description\" : \"gigiot-18\"\n",
      "                  }\n",
      "               ],\n",
      "               \"description\" : \"gigiot-18\"\n",
      "            },\n",
      "            {\n",
      "               \"hosts\" : [\n",
      "                  {\n",
      "                     \"addresses\" : [\n",
      "                        \"gigiot-19\",\n",
      "                        \"137.164.48.219\"\n",
      "                     ],\n",
      "                     \"description\" : \"gigiot-19\"\n",
      "                  }\n",
      "               ],\n",
      "               \"description\" : \"gigiot-19\"\n",
      "            },\n",
      "            {\n",
      "               \"hosts\" : [\n",
      "                  {\n",
      "                     \"addresses\" : [\n",
      "                        \"gigiot-20\",\n",
      "                        \"137.164.48.220\"\n",
      "                     ],\n",
      "                     \"description\" : \"gigiot-20\"\n",
      "                  }\n",
      "               ],\n",
      "               \"description\" : \"gigiot-20\"\n",
      "            },\n",
      "            {\n",
      "               \"hosts\" : [\n",
      "                  {\n",
      "                     \"addresses\" : [\n",
      "                        \"gigiot-21\",\n",
      "                        \"137.164.48.221\"\n",
      "                     ],\n",
      "                     \"description\" : \"gigiot-21\"\n",
      "                  }\n",
      "               ],\n",
      "               \"description\" : \"gigiot-21\"\n",
      "            }\n",
      "         ],\n",
      "         \"description\" : \"PRP FIONA Workshop Group 3\"\n",
      "      },\n",
      "      {\n",
      "         \"sites\" : [\n",
      "            {\n",
      "               \"hosts\" : [\n",
      "                  {\n",
      "                     \"addresses\" : [\n",
      "                        \"gigiot-22\",\n",
      "                        \"137.164.48.222\"\n",
      "                     ],\n",
      "                     \"description\" : \"gigiot-22\"\n",
      "                  }\n",
      "               ],\n",
      "               \"description\" : \"gigiot-22\"\n",
      "            },\n",
      "            {\n",
      "               \"hosts\" : [\n",
      "                  {\n",
      "                     \"addresses\" : [\n",
      "                        \"gigiot-23\",\n",
      "                        \"137.164.48.223\"\n",
      "                     ],\n",
      "                     \"description\" : \"gigiot-23\"\n",
      "                  }\n",
      "               ],\n",
      "               \"description\" : \"gigiot-23\"\n",
      "            },\n",
      "            {\n",
      "               \"hosts\" : [\n",
      "                  {\n",
      "                     \"addresses\" : [\n",
      "                        \"gigiot-24\",\n",
      "                        \"137.164.48.224\"\n",
      "                     ],\n",
      "                     \"description\" : \"gigiot-24\"\n",
      "                  }\n",
      "               ],\n",
      "               \"description\" : \"gigiot-24\"\n",
      "            },\n",
      "            {\n",
      "               \"hosts\" : [\n",
      "                  {\n",
      "                     \"addresses\" : [\n",
      "                        \"gigiot-25\",\n",
      "                        \"137.164.48.225\"\n",
      "                     ],\n",
      "                     \"description\" : \"gigiot-25\"\n",
      "                  }\n",
      "               ],\n",
      "               \"description\" : \"gigiot-25\"\n",
      "            },\n",
      "            {\n",
      "               \"hosts\" : [\n",
      "                  {\n",
      "                     \"addresses\" : [\n",
      "                        \"gigiot-26\",\n",
      "                        \"137.164.48.226\"\n",
      "                     ],\n",
      "                     \"description\" : \"gigiot-26\"\n",
      "                  }\n",
      "               ],\n",
      "               \"description\" : \"gigiot-26\"\n",
      "            },\n",
      "            {\n",
      "               \"hosts\" : [\n",
      "                  {\n",
      "                     \"addresses\" : [\n",
      "                        \"gigiot-27\",\n",
      "                        \"137.164.48.227\"\n",
      "                     ],\n",
      "                     \"description\" : \"gigiot-27\"\n",
      "                  }\n",
      "               ],\n",
      "               \"description\" : \"gigiot-27\"\n",
      "            },\n",
      "            {\n",
      "               \"hosts\" : [\n",
      "                  {\n",
      "                     \"addresses\" : [\n",
      "                        \"gigiot-28\",\n",
      "                        \"137.164.48.228\"\n",
      "                     ],\n",
      "                     \"description\" : \"gigiot-28\"\n",
      "                  }\n",
      "               ],\n",
      "               \"description\" : \"gigiot-28\"\n",
      "            }\n",
      "         ],\n",
      "         \"description\" : \"PRP FIONA Workshop Group 4\"\n",
      "      }\n",
      "   ],\n",
      "   \"measurement_archives\" : [\n",
      "      {\n",
      "         \"read_url\" : \"http://137.164.48.232/esmond/perfsonar/archive/\",\n",
      "         \"write_url\" : \"http://137.164.48.232/esmond/perfsonar/archive/\",\n",
      "         \"type\" : \"perfsonarbuoy/bwctl\"\n",
      "      },\n",
      "      {\n",
      "         \"read_url\" : \"http://137.164.48.232/esmond/perfsonar/archive/\",\n",
      "         \"write_url\" : \"http://137.164.48.232/esmond/perfsonar/archive/\",\n",
      "         \"type\" : \"traceroute\"\n",
      "      },\n",
      "      {\n",
      "         \"read_url\" : \"http://137.164.48.232/esmond/perfsonar/archive/\",\n",
      "         \"write_url\" : \"http://137.164.48.232/esmond/perfsonar/archive/\",\n",
      "         \"type\" : \"perfsonarbuoy/owamp\"\n",
      "      }\n",
      "   ],\n",
      "   \"tests\" : [\n",
      "      {\n",
      "         \"members\" : {\n",
      "            \"a_members\" : [\n",
      "               \"gigiot-22\",\n",
      "               \"gigiot-23\"\n",
      "            ],\n",
      "            \"b_members\" : [\n",
      "               \"gigiot-06\",\n",
      "               \"gigiot-07\",\n",
      "               \"gigiot-13\",\n",
      "               \"gigiot-14\",\n",
      "               \"gigiot-20\",\n",
      "               \"gigiot-21\"\n",
      "            ],\n",
      "            \"type\" : \"disjoint\"\n",
      "         },\n",
      "         \"parameters\" : {\n",
      "            \"protocol\" : \"tcp\",\n",
      "            \"omit_interval\" : \"5\",\n",
      "            \"duration\" : \"30\",\n",
      "            \"interval\" : \"7200\",\n",
      "            \"force_bidirectional\" : \"1\",\n",
      "            \"tool\" : \"iperf3\",\n",
      "            \"ipv4_only\" : \"1\",\n",
      "            \"random_start_percentage\" : \"25\",\n",
      "            \"type\" : \"perfsonarbuoy/bwctl\"\n",
      "         },\n",
      "         \"description\" : \"iperf3 Throughput, disjoint\"\n",
      "      },\n",
      "      {\n",
      "         \"members\" : {\n",
      "            \"members\" : [\n",
      "               \"gigiot-22\",\n",
      "               \"gigiot-23\",\n",
      "               \"gigiot-24\",\n",
      "               \"gigiot-25\",\n",
      "               \"gigiot-26\",\n",
      "               \"gigiot-27\",\n",
      "               \"gigiot-28\"\n",
      "            ],\n",
      "            \"type\" : \"mesh\"\n",
      "         },\n",
      "         \"parameters\" : {\n",
      "            \"protocol\" : \"tcp\",\n",
      "            \"omit_interval\" : \"5\",\n",
      "            \"duration\" : \"30\",\n",
      "            \"interval\" : \"7200\",\n",
      "            \"force_bidirectional\" : \"1\",\n",
      "            \"tool\" : \"iperf3\",\n",
      "            \"ipv4_only\" : \"1\",\n",
      "            \"random_start_percentage\" : \"25\",\n",
      "            \"type\" : \"perfsonarbuoy/bwctl\"\n",
      "         },\n",
      "         \"description\" : \"iperf3 Throughput\"\n",
      "      },\n",
      "      {\n",
      "         \"members\" : {\n",
      "            \"members\" : [\n",
      "               \"gigiot-22\",\n",
      "               \"gigiot-23\",\n",
      "               \"gigiot-24\",\n",
      "               \"gigiot-25\",\n",
      "               \"gigiot-26\",\n",
      "               \"gigiot-27\",\n",
      "               \"gigiot-28\"\n",
      "            ],\n",
      "            \"type\" : \"mesh\"\n",
      "         },\n",
      "         \"parameters\" : {\n",
      "            \"loss_threshold\" : \"10\",\n",
      "            \"bucket_width\" : \"0.0001\",\n",
      "            \"sample_count\" : \"300\",\n",
      "            \"packet_interval\" : \"0.1\",\n",
      "            \"force_bidirectional\" : \"1\",\n",
      "            \"ipv4_only\" : \"1\",\n",
      "            \"packet_padding\" : \"0\",\n",
      "            \"type\" : \"perfsonarbuoy/owamp\",\n",
      "            \"session_count\" : \"18000\"\n",
      "         },\n",
      "         \"description\" : \"owamp Packet Loss\"\n",
      "      },\n",
      "      {\n",
      "         \"members\" : {\n",
      "            \"members\" : [\n",
      "               \"gigiot-22\",\n",
      "               \"gigiot-23\",\n",
      "               \"gigiot-24\",\n",
      "               \"gigiot-25\",\n",
      "               \"gigiot-26\",\n",
      "               \"gigiot-27\",\n",
      "               \"gigiot-28\"\n",
      "            ],\n",
      "            \"type\" : \"mesh\"\n",
      "         },\n",
      "         \"parameters\" : {\n",
      "            \"protocol\" : \"udp\",\n",
      "            \"max_ttl\" : \"64\",\n",
      "            \"waittime\" : \"5\",\n",
      "            \"force_bidirectional\" : \"1\",\n",
      "            \"pause\" : \"0\",\n",
      "            \"first_ttl\" : \"0\",\n",
      "            \"as\" : \"1\",\n",
      "            \"ipv4_only\" : \"1\",\n",
      "            \"timeout\" : \"30\",\n",
      "            \"type\" : \"traceroute\",\n",
      "            \"packet_size\" : \"40\",\n",
      "            \"test_interval\" : \"7200\"\n",
      "         },\n",
      "         \"description\" : \"Traceroute\"\n",
      "      }\n",
      "   ],\n",
      "   \"description\" : \"Earth Sciences perfSONAR\"\n",
      "}\n",
      "* Connection #0 to host gigiot-ma-4 left intact\n"
     ]
    }
   ],
   "source": [
    "cd /var/www/html\n",
    "wget http://fiona-10-01:8000/prp-fiona-ws-mesh--$(hostname -s).conf -O prp-fiona-ws-mesh--$(hostname -s).conf\n",
    "curl -v http://gigiot-ma-4/prp-fiona-ws-mesh--gigiot-ma-4.json"
   ]
  },
  {
   "cell_type": "markdown",
   "metadata": {},
   "source": [
    "## check the contents of the baseline mesh .conf\n",
    "<p>use your favorite editor to make any necessary changes</p>"
   ]
  },
  {
   "cell_type": "code",
   "execution_count": 9,
   "metadata": {},
   "outputs": [],
   "source": [
    "cat /var/www/html/prp-fiona-ws-mesh--$(hostname -s).conf"
   ]
  },
  {
   "cell_type": "markdown",
   "metadata": {},
   "source": [
    "## generate the perfSONAR mesh json"
   ]
  },
  {
   "cell_type": "code",
   "execution_count": 10,
   "metadata": {},
   "outputs": [],
   "source": [
    "/usr/lib/perfsonar/bin/build_json --verbose /var/www/html/prp-fiona-ws-mesh--$(hostname -s).conf > /var/www/html/prp-fiona-ws-mesh--$(hostname -s).json"
   ]
  },
  {
   "cell_type": "markdown",
   "metadata": {},
   "source": [
    "## view the mesh json"
   ]
  },
  {
   "cell_type": "code",
   "execution_count": 11,
   "metadata": {},
   "outputs": [
    {
     "name": "stdout",
     "output_type": "stream",
     "text": [
      "{}\n"
     ]
    }
   ],
   "source": [
    "cat /var/www/html/prp-fiona-ws-mesh--$(hostname -s).json"
   ]
  },
  {
   "cell_type": "markdown",
   "metadata": {},
   "source": [
    "## validate the generated perfSONAR mesh json"
   ]
  },
  {
   "cell_type": "code",
   "execution_count": 12,
   "metadata": {},
   "outputs": [
    {
     "name": "stdout",
     "output_type": "stream",
     "text": [
      "2018/03/03 19:57:09 (8833) DEBUG> Utils.pm:119 perfSONAR_PS::Client::Utils::send_http_request - Sending HTTP GET to http://gigiot-22/prp-fiona-ws-mesh--gigiot-22.json\n"
     ]
    }
   ],
   "source": [
    "/usr/lib/perfsonar/bin/validate_json --verbose --config_url=http://$(hostname -s)/prp-fiona-ws-mesh--$(hostname -s).json"
   ]
  },
  {
   "cell_type": "markdown",
   "metadata": {},
   "source": [
    "# Update the MaDDash server yaml configuration\n",
    "<p>in the next series of steps we will:</p>\n",
    "<ul>\n",
    "<li>set up a fresh `maddash.yaml` configuration on which to subsequently apply changes</li>\n",
    "<li>update the `meshconfig-guiagent.conf` file to create a mesh referencing the newly created perfSONAR mesh json</li>\n",
    "<li>update the `maddash.yaml` for GridFTP checks, thresholds, and dashboards</li>\n",
    "</ul>"
   ]
  },
  {
   "cell_type": "markdown",
   "metadata": {},
   "source": [
    "## create a fresh `maddash.yaml` file"
   ]
  },
  {
   "cell_type": "code",
   "execution_count": null,
   "metadata": {},
   "outputs": [],
   "source": [
    "if [ -f /etc/maddash/maddash-server/maddash.yaml ]; then\n",
    "mv /etc/maddash/maddash-server/maddash.yaml /etc/maddash/maddash-server/maddash.yaml.orig\n",
    "cat>/etc/maddash/maddash-server/maddash.yaml <<EOL\n",
    "##\n",
    "# Set the directory where the database will be stored\n",
    "database: /var/lib/maddash/\n",
    "\n",
    "##\n",
    "# Set the number of jobs that can run in parallel. Default is 20.\n",
    "#jobThreadPoolSize: 20\n",
    "\n",
    "##\n",
    "# Set number of jobs that can be in queue at one time. Default is 250.\n",
    "#jobBatchSize: 250\n",
    "\n",
    "###\n",
    "# Disable the job scheduler if you only want to run the REST server\n",
    "#disableScheduler: 0\n",
    "\n",
    "###\n",
    "# Skips table and index rebuild at start-up. It can speed up start-up time if set to 1.\n",
    "#skipTableBuild: 0\n",
    "\n",
    "##\n",
    "# Set the host where the REST server listens\n",
    "serverHost: \"localhost\"\n",
    "\n",
    "##\n",
    "# Activate http and set the port where it listens\n",
    "http:\n",
    "    port: 8881\n",
    "EOL\n",
    "chown maddash:maddash /etc/maddash/maddash-server/maddash.yaml\n",
    "chmod 644 /etc/maddash/maddash-server/maddash.yaml\n",
    "fi"
   ]
  },
  {
   "cell_type": "markdown",
   "metadata": {},
   "source": [
    "## view the `maddash.yaml` file"
   ]
  },
  {
   "cell_type": "code",
   "execution_count": null,
   "metadata": {},
   "outputs": [],
   "source": [
    "cat /etc/maddash/maddash-server/maddash.yaml"
   ]
  },
  {
   "cell_type": "markdown",
   "metadata": {},
   "source": [
    "## update `meshconfig-guiagent.conf` to add a `<mesh>` stanza referencing the mesh json</p>"
   ]
  },
  {
   "cell_type": "code",
   "execution_count": null,
   "metadata": {},
   "outputs": [],
   "source": [
    "if [ ! -f /etc/perfsonar/meshconfig-guiagent.conf.orig ]; then\n",
    "cp /etc/perfsonar/meshconfig-guiagent.conf /etc/perfsonar/meshconfig-guiagent.conf.orig\n",
    "cat >> /etc/perfsonar/meshconfig-guiagent.conf <<EOL\n",
    "## You can define more meshes to configure against by adding more 'mesh' blocks.\n",
    "<mesh>\n",
    "    configuration_url             http://$(hostname -s)/prp-fiona-ws-mesh--$(hostname -s).json\n",
    "#    #validate_certificate         0\n",
    "#    #ca_certificate_file          /etc/pki/tls/certs/ca-bundle.crt\n",
    "</mesh>\n",
    "EOL\n",
    "elif [ -f /etc/perfsonar/meshconfig-guiagent.conf.orig ]; then\n",
    "rm -f /etc/perfsonar/meshconfig-guiagent.conf\n",
    "cp /etc/perfsonar/meshconfig-guiagent.conf.orig /etc/perfsonar/meshconfig-guiagent.conf\n",
    "cat >> /etc/perfsonar/meshconfig-guiagent.conf <<EOL\n",
    "## You can define more meshes to configure against by adding more 'mesh' blocks.\n",
    "<mesh>\n",
    "    configuration_url             http://$(hostname -s)/prp-fiona-ws-mesh--$(hostname -s).json\n",
    "#    #validate_certificate         0\n",
    "#    #ca_certificate_file          /etc/pki/tls/certs/ca-bundle.crt\n",
    "</mesh>\n",
    "EOL\n",
    "fi"
   ]
  },
  {
   "cell_type": "markdown",
   "metadata": {},
   "source": [
    "## review the updated `meshconfig-guiagent.conf`"
   ]
  },
  {
   "cell_type": "code",
   "execution_count": null,
   "metadata": {},
   "outputs": [],
   "source": [
    "cat /etc/perfsonar/meshconfig-guiagent.conf "
   ]
  },
  {
   "cell_type": "markdown",
   "metadata": {},
   "source": [
    "## restart the `perfsonar-meshconfig-guiagent` process"
   ]
  },
  {
   "cell_type": "code",
   "execution_count": null,
   "metadata": {},
   "outputs": [],
   "source": [
    "systemctl restart perfsonar-meshconfig-guiagent"
   ]
  },
  {
   "cell_type": "markdown",
   "metadata": {},
   "source": [
    "## review the updated `maddash.yaml`"
   ]
  },
  {
   "cell_type": "code",
   "execution_count": null,
   "metadata": {},
   "outputs": [],
   "source": [
    "cat /etc/maddash/maddash-server/maddash.yaml"
   ]
  },
  {
   "cell_type": "markdown",
   "metadata": {},
   "source": [
    "## restart the `maddash-server` process\n"
   ]
  },
  {
   "cell_type": "code",
   "execution_count": null,
   "metadata": {},
   "outputs": [],
   "source": [
    "systemctl restart maddash-server"
   ]
  },
  {
   "cell_type": "markdown",
   "metadata": {},
   "source": [
    "## browse to the MaDDAsh server webUI to confirm the updates"
   ]
  },
  {
   "cell_type": "markdown",
   "metadata": {},
   "source": [
    "# Update MaDDash server configuration file for visualizing GridFTP disk-to-disk throughput  \n"
   ]
  },
  {
   "cell_type": "markdown",
   "metadata": {},
   "source": [
    "## apply a patch file to a copy of `maddash.yaml` to insert sections for GridFTP-related checks, dashboards and grids, and groups"
   ]
  },
  {
   "cell_type": "code",
   "execution_count": null,
   "metadata": {},
   "outputs": [],
   "source": [
    "cd /etc/maddash/maddash-server/\n",
    "cat maddash.yaml > maddash--$(hostname -s)--ps.yaml\n",
    "wget http://fiona-10-01:8000/maddash--$(hostname -s)--ps-gridftp.yaml.patch -O maddash--$(hostname -s)--ps-gridftp.yaml.patch\n",
    "patch --input=maddash--$(hostname -s)--ps-gridftp.yaml.patch --output=maddash--$(hostname -s)--ps-gridftp.yaml maddash--$(hostname -s)--ps.yaml"
   ]
  },
  {
   "cell_type": "markdown",
   "metadata": {},
   "source": [
    "## sanity check the diff of the copy of `maddash.yaml` and patched file"
   ]
  },
  {
   "cell_type": "code",
   "execution_count": null,
   "metadata": {},
   "outputs": [],
   "source": [
    "diff -U 4 maddash--$(hostname -s)--ps.yaml maddash--$(hostname -s)--ps-gridftp.yaml"
   ]
  },
  {
   "cell_type": "markdown",
   "metadata": {},
   "source": [
    "## replace `maddash.yaml` with the patched file"
   ]
  },
  {
   "cell_type": "code",
   "execution_count": null,
   "metadata": {},
   "outputs": [],
   "source": [
    "cat maddash--$(hostname -s)--ps-gridftp.yaml > maddash.yaml"
   ]
  },
  {
   "cell_type": "markdown",
   "metadata": {},
   "source": [
    "# update the MaDDash webUI `config.json` to reflect the customized dashboard naming\n",
    "<p>review the current contents of <pre>/etc/maddash/maddash-webui/config.json</pre></p>"
   ]
  },
  {
   "cell_type": "code",
   "execution_count": null,
   "metadata": {},
   "outputs": [],
   "source": [
    "cd /etc/maddash/maddash-webui\n",
    "cat config.json"
   ]
  },
  {
   "cell_type": "markdown",
   "metadata": {},
   "source": [
    "## use `wget` to transfer an customized `config.json` and replace the original"
   ]
  },
  {
   "cell_type": "code",
   "execution_count": null,
   "metadata": {},
   "outputs": [],
   "source": [
    "wget http://fiona-10-01:8000/webui--$(hostname -s)--config.json -O webui--$(hostname -s)--config.json\n",
    "cat webui--$(hostname -s)--config.json > config.json"
   ]
  },
  {
   "cell_type": "markdown",
   "metadata": {},
   "source": [
    "## restart the `maddash-server` process \n",
    "<p>NOTE: in a separate terminal session, run <pre>tail -f /var/log/maddash/maddash-server.netlogger.log</pre> to check for errors</p>"
   ]
  },
  {
   "cell_type": "code",
   "execution_count": null,
   "metadata": {},
   "outputs": [],
   "source": [
    "systemctl restart maddash-server"
   ]
  },
  {
   "cell_type": "markdown",
   "metadata": {},
   "source": [
    "## browse to the MaDDash webUI to confirm the new GridFTP dashboards are present\n",
    "<p>NOTE: you will need to clear your browsers cache in order to view the results of the updated webUI config.json</p>\n",
    "<p>ex: with Chrome, select <pre>Clear Browsing Data...</pre> to bring up a dialog of options.  clearing the last hour of browsing data should be sufficient</p>"
   ]
  },
  {
   "cell_type": "markdown",
   "metadata": {},
   "source": [
    "# Update esmond to add credentials to register GridFTP transfer results\n",
    "<p>the following steps will update your central esmond MA to authtenticate GridFTP nodes by an API key</p>  \n",
    "<p>on the nodes running GridFTP transfers, we will use the generated API key to configure the script which parses the transfer logs and registers the throughput results to the esmond MA</p>\n",
    "<p>NOTE: you may re-run this cell and it will display the previously generated API key</p>\n"
   ]
  },
  {
   "cell_type": "code",
   "execution_count": null,
   "metadata": {},
   "outputs": [],
   "source": [
    "cd /usr/lib/esmond\n",
    ". bin/activate\n",
    "python esmond/manage.py add_api_key_user gridftp"
   ]
  },
  {
   "cell_type": "markdown",
   "metadata": {},
   "source": [
    "# Update esmond to add credentials for pS nodes to register results\n",
    "<p>the following cell will update your central esmond MA to authtenticate pS nodes to by their IP address</p>"
   ]
  },
  {
   "cell_type": "code",
   "execution_count": null,
   "metadata": {},
   "outputs": [],
   "source": [
    "cd /usr/lib/esmond\n",
    ". bin/activate\n",
    "for node in $(cat /var/www/html/prp-fiona-ws-mesh--$(hostname -s).conf | grep member | awk '{ print $2 }'); do  python esmond/manage.py add_user_ip_address $node `dig +short $node` ; done\n"
   ]
  },
  {
   "cell_type": "markdown",
   "metadata": {},
   "source": [
    "# Update nodes to schedule GridFTP transfers and perfSONAR tests, and register results to the central MA \n",
    "<p>in the next session, we will work on the nodes running GridFTP server and perfSONAR testpoint to update their configurations</p>\n",
    "<p>this would be a good time to SAVE your WORK in this notebook</p>"
   ]
  }
 ],
 "metadata": {
  "kernelspec": {
   "display_name": "Bash",
   "language": "bash",
   "name": "bash"
  },
  "language_info": {
   "codemirror_mode": "shell",
   "file_extension": ".sh",
   "mimetype": "text/x-sh",
   "name": "bash"
  }
 },
 "nbformat": 4,
 "nbformat_minor": 2
}
