{
 "cells": [
  {
   "cell_type": "markdown",
   "metadata": {},
   "source": [
    "## PRP gigiot-fiona GridFTP and system tuning notebook"
   ]
  },
  {
   "cell_type": "markdown",
   "metadata": {},
   "source": [
    "<code>This notebook is running a Bash kernel and can execute any simple executable or shell command"
   ]
  },
  {
   "cell_type": "code",
   "execution_count": 1,
   "metadata": {
    "slideshow": {
     "slide_type": "-"
    }
   },
   "outputs": [
    {
     "name": "stdout",
     "output_type": "stream",
     "text": [
      "3.10.0-693.17.1.el7.x86_64\n"
     ]
    }
   ],
   "source": [
    "uname -r"
   ]
  },
  {
   "cell_type": "markdown",
   "metadata": {},
   "source": [
    "<br>\n",
    "<br>\n",
    "<code> Install the Globus yum repository"
   ]
  },
  {
   "cell_type": "code",
   "execution_count": 6,
   "metadata": {},
   "outputs": [],
   "source": [
    "cat << EOF > /etc/yum.repos.d/globus.repo\n",
    "[globus]\n",
    "name=Extra Packages for Enterprise Linux 7 - $basearch\n",
    "baseurl=http://137.164.48.196/centos-7-x86_64/globus\n",
    "failovermethod=priority\n",
    "enabled=1\n",
    "EOF"
   ]
  },
  {
   "cell_type": "code",
   "execution_count": 7,
   "metadata": {},
   "outputs": [],
   "source": [
    "rpm --import http://fiona-10-01:8000/RPM-GPG-KEY-Globus"
   ]
  },
  {
   "cell_type": "code",
   "execution_count": 8,
   "metadata": {},
   "outputs": [],
   "source": [
    "cat << EOF > /etc/yum.repos.d/perfsonar.repo\n",
    "[perfsonar]\n",
    "name=Extra Packages for Enterprise Linux 7 - $basearch\n",
    "baseurl=http://137.164.48.196/centos-7-x86_64/perfsonar\n",
    "failovermethod=priority\n",
    "enabled=1\n",
    "gpgcheck=1\n",
    "EOF"
   ]
  },
  {
   "cell_type": "markdown",
   "metadata": {},
   "source": [
    "<br>\n",
    "<br>\n",
    "<code> Disable SELINUX to allow code installation"
   ]
  },
  {
   "cell_type": "code",
   "execution_count": 9,
   "metadata": {},
   "outputs": [],
   "source": [
    "sed -i 's/SELINUX=enforcing/SELINUX=disabled/g' /etc/selinux/config\n",
    "setenforce 0"
   ]
  },
  {
   "cell_type": "markdown",
   "metadata": {},
   "source": [
    "<br>\n",
    "<br>\n",
    "<code> enable TP for accurate clock sync"
   ]
  },
  {
   "cell_type": "code",
   "execution_count": 10,
   "metadata": {},
   "outputs": [
    {
     "name": "stdout",
     "output_type": "stream",
     "text": [
      "Loaded plugins: fastestmirror\n",
      "globus                                                   | 2.9 kB     00:00     \n",
      "perfsonar                                                | 2.9 kB     00:00     \n",
      "globus/primary_db                                          | 636 kB   00:00     \n",
      "Loading mirror speeds from cached hostfile\n",
      "Package ntp-4.2.6p5-25.el7.centos.2.x86_64 already installed and latest version\n",
      "Nothing to do\n"
     ]
    }
   ],
   "source": [
    "yum -y install ntp\n",
    "systemctl enable ntpd\n",
    "systemctl start ntpd"
   ]
  },
  {
   "cell_type": "markdown",
   "metadata": {},
   "source": [
    "<br>\n",
    "<br>\n",
    "<code> Check for clock sync"
   ]
  },
  {
   "cell_type": "code",
   "execution_count": 11,
   "metadata": {},
   "outputs": [
    {
     "name": "stdout",
     "output_type": "stream",
     "text": [
      "     remote           refid      st t when poll reach   delay   offset  jitter\n",
      "==============================================================================\n",
      "*fiona-10-01     69.89.207.99     2 u  133  256  377    0.260    2.066   0.478\n"
     ]
    }
   ],
   "source": [
    "ntpq -p"
   ]
  },
  {
   "cell_type": "markdown",
   "metadata": {},
   "source": [
    "<br>\n",
    "<br>\n",
    "<code> Check the hostname <br>\n",
    "Must respond with FQHN"
   ]
  },
  {
   "cell_type": "code",
   "execution_count": 12,
   "metadata": {},
   "outputs": [
    {
     "name": "stdout",
     "output_type": "stream",
     "text": [
      "gigiot-22.conf.cenic.org\n"
     ]
    }
   ],
   "source": [
    "hostname -f"
   ]
  },
  {
   "cell_type": "markdown",
   "metadata": {},
   "source": [
    "<br>\n",
    "<br>\n",
    "<code>detect the interface used as the default route"
   ]
  },
  {
   "cell_type": "code",
   "execution_count": 13,
   "metadata": {},
   "outputs": [
    {
     "name": "stdout",
     "output_type": "stream",
     "text": [
      "enp3s0\n"
     ]
    }
   ],
   "source": [
    "default_iface=$(awk '$2 == 00000000 { print $1 }' /proc/net/route)\n",
    "echo $default_iface"
   ]
  },
  {
   "cell_type": "markdown",
   "metadata": {},
   "source": [
    "<br>\n",
    "<br>\n",
    "<code> Use ethtool to disable adaptive-rx on the interface<br>ifconfig for setting the txqueuelen of the default interface<br>and tc to enable fair queueing and set pacing to 1Gbps"
   ]
  },
  {
   "cell_type": "code",
   "execution_count": 14,
   "metadata": {},
   "outputs": [],
   "source": [
    "if [ ! -f /opt/prp/netconf.sh ]; then\n",
    "mkdir -p /opt/prp\n",
    "cat>/opt/prp/netconf.sh <<EOL\n",
    "#/usr/sbin/ethtool -C $default_iface adaptive-rx off # not supported on EL-20-3700\n",
    "/sbin/ifconfig $default_iface txqueuelen 10000\n",
    "/usr/sbin/tc qdisc add dev $default_iface root fq maxrate 1gbit\n",
    "EOL\n",
    "chmod +x /opt/prp/netconf.sh\n",
    "fi"
   ]
  },
  {
   "cell_type": "markdown",
   "metadata": {},
   "source": [
    "<br>\n",
    "<br>\n",
    "<code>Install the netconf tuning script as a systemd service"
   ]
  },
  {
   "cell_type": "code",
   "execution_count": 15,
   "metadata": {},
   "outputs": [
    {
     "name": "stdout",
     "output_type": "stream",
     "text": [
      "Created symlink from /etc/systemd/system/default.target.wants/prp-net.service to /etc/systemd/system/prp-net.service.\n"
     ]
    }
   ],
   "source": [
    "if [ ! -f /etc/systemd/system/prp-net.service ]; then\n",
    "cat>/etc/systemd/system/prp-net.service <<EOL\n",
    "[Unit]\n",
    "After=network.target\n",
    "\n",
    "[Service]\n",
    "ExecStart=/opt/prp/netconf.sh\n",
    "\n",
    "[Install]\n",
    "WantedBy=default.target\n",
    "EOL\n",
    "systemctl daemon-reload\n",
    "systemctl enable prp-net.service\n",
    "fi"
   ]
  },
  {
   "cell_type": "markdown",
   "metadata": {},
   "source": [
    "<br>\n",
    "<br>\n",
    "<code> These settings are tuning the TCP stack in the OS increasing default values to allow large flows from remote systems with high RTT. The bbr congestion control was developed by Google and now available in most Linux distributions."
   ]
  },
  {
   "cell_type": "code",
   "execution_count": 16,
   "metadata": {},
   "outputs": [],
   "source": [
    "if [ ! -f /etc/sysctl.d/prp.conf ]; then\n",
    "cat>/etc/sysctl.d/prp.conf <<EOL\n",
    "net.core.rmem_max = 67108864 \n",
    "net.core.wmem_max = 67108864 \n",
    "net.ipv4.tcp_rmem = 4096 87380 33554432\n",
    "net.ipv4.tcp_wmem = 4096 65536 33554432\n",
    "net.ipv4.tcp_congestion_control=bbr\n",
    "net.ipv4.tcp_mtu_probing=1\n",
    "net.core.default_qdisc = fq\n",
    "EOL\n",
    "fi"
   ]
  },
  {
   "cell_type": "markdown",
   "metadata": {},
   "source": [
    "<br>\n",
    "<br>\n",
    "<code>Add a series of options to grub.cfg and run grub2-mkconfig to register the new kernel parameters "
   ]
  },
  {
   "cell_type": "code",
   "execution_count": 17,
   "metadata": {},
   "outputs": [
    {
     "name": "stdout",
     "output_type": "stream",
     "text": [
      "Generating grub configuration file ...\n",
      "Found linux image: /boot/vmlinuz-3.10.0-693.17.1.el7.x86_64\n",
      "Found initrd image: /boot/initramfs-3.10.0-693.17.1.el7.x86_64.img\n",
      "Found linux image: /boot/vmlinuz-3.10.0-693.el7.x86_64\n",
      "Found initrd image: /boot/initramfs-3.10.0-693.el7.x86_64.img\n",
      "Found linux image: /boot/vmlinuz-0-rescue-a909d43b6cb248ee8a139582f5a92e90\n",
      "Found initrd image: /boot/initramfs-0-rescue-a909d43b6cb248ee8a139582f5a92e90.img\n",
      "done\n"
     ]
    }
   ],
   "source": [
    "if ! grep --quiet default_hugepagesz /etc/default/grub; then\n",
    "\tsed -i 's/^GRUB_CMDLINE_LINUX=\\\"[^\\\"]*/& default_hugepagesz=1GB hugepagesz=1GB hugepages=8 elevator=noop processor.max_cstate=1 intel_iommu=off idle=poll intel_idle.max_cstate=0 nosoftlockup mce=ignore_mce/' /etc/default/grub\n",
    "\tgrub2-mkconfig -o /boot/grub2/grub.cfg\n",
    "fi"
   ]
  },
  {
   "cell_type": "markdown",
   "metadata": {},
   "source": [
    "<br>\n",
    "<br>\n",
    "<code>Look at the interface queueing setting to the left of \"state\""
   ]
  },
  {
   "cell_type": "code",
   "execution_count": 18,
   "metadata": {},
   "outputs": [
    {
     "name": "stdout",
     "output_type": "stream",
     "text": [
      "2: enp3s0: <BROADCAST,MULTICAST,UP,LOWER_UP> mtu 1500 qdisc fq state UP qlen 1000\n"
     ]
    }
   ],
   "source": [
    "ip a | grep UP | grep -v lo"
   ]
  },
  {
   "cell_type": "markdown",
   "metadata": {},
   "source": [
    "# SAVE your work NOW"
   ]
  },
  {
   "cell_type": "code",
   "execution_count": null,
   "metadata": {},
   "outputs": [],
   "source": [
    "reboot"
   ]
  },
  {
   "cell_type": "markdown",
   "metadata": {},
   "source": [
    "<br>\n",
    "<br>\n",
    "<code> Now look again at the queueing setting to the left of \"state\"<br>\n",
    "<code> You should see \"fq\" <br>\n",
    "<code> This shows \"Fair Queueing\" is enabled."
   ]
  },
  {
   "cell_type": "code",
   "execution_count": 1,
   "metadata": {},
   "outputs": [
    {
     "name": "stdout",
     "output_type": "stream",
     "text": [
      "2: enp3s0: <BROADCAST,MULTICAST,UP,LOWER_UP> mtu 1500 qdisc fq state UP qlen 1000\n"
     ]
    }
   ],
   "source": [
    "ip a | grep UP | grep -v lo"
   ]
  },
  {
   "cell_type": "markdown",
   "metadata": {},
   "source": [
    "<br>\n",
    "<br>\n",
    "<code> Disable unwanted services"
   ]
  },
  {
   "cell_type": "code",
   "execution_count": 2,
   "metadata": {},
   "outputs": [
    {
     "name": "stdout",
     "output_type": "stream",
     "text": [
      "Removed symlink /etc/systemd/system/multi-user.target.wants/irqbalance.service.\n"
     ]
    }
   ],
   "source": [
    "systemctl stop wpa_supplicant\n",
    "systemctl disable wpa_supplicant\n",
    "systemctl stop NetworkManager \n",
    "systemctl disable NetworkManager\n",
    "systemctl stop irqbalance.service\n",
    "systemctl disable irqbalance.service"
   ]
  },
  {
   "cell_type": "markdown",
   "metadata": {},
   "source": [
    "<br>\n",
    "<br>\n",
    "<code> Enable tuned for managing server performance profiles"
   ]
  },
  {
   "cell_type": "code",
   "execution_count": 3,
   "metadata": {},
   "outputs": [],
   "source": [
    "systemctl start tuned\n",
    "systemctl enable tuned"
   ]
  },
  {
   "cell_type": "markdown",
   "metadata": {},
   "source": [
    "<br>\n",
    "<br>\n",
    "<code> Check the CPU speed"
   ]
  },
  {
   "cell_type": "code",
   "execution_count": 4,
   "metadata": {},
   "outputs": [
    {
     "name": "stdout",
     "output_type": "stream",
     "text": [
      "cpu \u001b[01;31m\u001b[KMH\u001b[m\u001b[Kz\t\t: 480.000\n",
      "cpu \u001b[01;31m\u001b[KMH\u001b[m\u001b[Kz\t\t: 480.000\n",
      "cpu \u001b[01;31m\u001b[KMH\u001b[m\u001b[Kz\t\t: 640.000\n",
      "cpu \u001b[01;31m\u001b[KMH\u001b[m\u001b[Kz\t\t: 720.000\n"
     ]
    }
   ],
   "source": [
    "cat /proc/cpuinfo | grep MH"
   ]
  },
  {
   "cell_type": "markdown",
   "metadata": {},
   "source": [
    "<br>\n",
    "<br>\n",
    "<code> Check current performace tuning setting"
   ]
  },
  {
   "cell_type": "code",
   "execution_count": 5,
   "metadata": {},
   "outputs": [
    {
     "name": "stdout",
     "output_type": "stream",
     "text": [
      "Current active profile: balanced\n"
     ]
    }
   ],
   "source": [
    "tuned-adm active"
   ]
  },
  {
   "cell_type": "markdown",
   "metadata": {},
   "source": [
    "<br>\n",
    "<br>\n",
    "<code> Set tuned profile to network-throughput"
   ]
  },
  {
   "cell_type": "code",
   "execution_count": 6,
   "metadata": {},
   "outputs": [],
   "source": [
    "tuned-adm profile network-throughput"
   ]
  },
  {
   "cell_type": "markdown",
   "metadata": {},
   "source": [
    "<br>\n",
    "<br>\n",
    "<code> Check CPU speed again.<br>\n",
    "You should see the cores running at max."
   ]
  },
  {
   "cell_type": "code",
   "execution_count": 7,
   "metadata": {},
   "outputs": [
    {
     "name": "stdout",
     "output_type": "stream",
     "text": [
      "cpu \u001b[01;31m\u001b[KMH\u001b[m\u001b[Kz\t\t: 1601.000\n",
      "cpu \u001b[01;31m\u001b[KMH\u001b[m\u001b[Kz\t\t: 1601.000\n",
      "cpu \u001b[01;31m\u001b[KMH\u001b[m\u001b[Kz\t\t: 1601.000\n",
      "cpu \u001b[01;31m\u001b[KMH\u001b[m\u001b[Kz\t\t: 1601.000\n"
     ]
    }
   ],
   "source": [
    "cat /proc/cpuinfo | grep MH"
   ]
  },
  {
   "cell_type": "markdown",
   "metadata": {},
   "source": [
    "<br>\n",
    "<br>\n",
    "<code> Add port restrictions to the root users bash environment"
   ]
  },
  {
   "cell_type": "code",
   "execution_count": 8,
   "metadata": {},
   "outputs": [],
   "source": [
    "cat << EOF >> /root/.bashrc\n",
    "export GLOBUS_TCP_PORT_RANGE=50000,51000\n",
    "export GLOBUS_TCP_SOURCE_RANGE=50000,51000\n",
    "EOF"
   ]
  },
  {
   "cell_type": "markdown",
   "metadata": {},
   "source": [
    "<br>\n",
    "<br>\n",
    "<code> Install the globus connect server opensource repository and yum install the globus-connect-server package"
   ]
  },
  {
   "cell_type": "code",
   "execution_count": 9,
   "metadata": {},
   "outputs": [
    {
     "name": "stdout",
     "output_type": "stream",
     "text": [
      "Loaded plugins: fastestmirror\n",
      "Loading mirror speeds from cached hostfile\n",
      "Resolving Dependencies\n",
      "--> Running transaction check\n",
      "---> Package libevent.x86_64 0:2.0.21-4.el7 will be updated\n",
      "---> Package libevent.x86_64 0:2.0.22-1.rhel7 will be an update\n",
      "--> Finished Dependency Resolution\n",
      "\n",
      "Dependencies Resolved\n",
      "\n",
      "================================================================================\n",
      " Package          Arch           Version                Repository         Size\n",
      "================================================================================\n",
      "Updating:\n",
      " libevent         x86_64         2.0.22-1.rhel7         perfsonar         212 k\n",
      "\n",
      "Transaction Summary\n",
      "================================================================================\n",
      "Upgrade  1 Package\n",
      "\n",
      "Total download size: 212 k\n",
      "Downloading packages:\n",
      "Delta RPMs disabled because /usr/bin/applydeltarpm not installed.\n",
      "warning: /var/cache/yum/x86_64/7/perfsonar/packages/libevent-2.0.22-1.rhel7.x86_64.rpm: Header V4 DSA/SHA1 Signature, key ID 9d7b9686: NOKEY\n",
      "Public key for libevent-2.0.22-1.rhel7.x86_64.rpm is not installed\n",
      "libevent-2.0.22-1.rhel7.x86_64.rpm                         | 212 kB   00:00     \n",
      "\n",
      "\n",
      "Public key for libevent-2.0.22-1.rhel7.x86_64.rpm is not installed\n",
      "Loaded plugins: fastestmirror\n",
      "Loading mirror speeds from cached hostfile\n",
      "Resolving Dependencies\n",
      "--> Running transaction check\n",
      "---> Package globus-connect-server.noarch 0:4.0.46-1.el7+gt6 will be installed\n",
      "--> Processing Dependency: globus-connect-server-web = 4.0.46 for package: globus-connect-server-4.0.46-1.el7+gt6.noarch\n",
      "--> Processing Dependency: globus-connect-server-io = 4.0.46 for package: globus-connect-server-4.0.46-1.el7+gt6.noarch\n",
      "--> Processing Dependency: globus-connect-server-id = 4.0.46 for package: globus-connect-server-4.0.46-1.el7+gt6.noarch\n",
      "--> Processing Dependency: globus-connect-server-common = 4.0.46 for package: globus-connect-server-4.0.46-1.el7+gt6.noarch\n",
      "--> Running transaction check\n",
      "---> Package globus-connect-server-common.noarch 0:4.0.46-1.el7+gt6 will be installed\n",
      "---> Package globus-connect-server-id.noarch 0:4.0.46-1.el7+gt6 will be installed\n",
      "--> Processing Dependency: myproxy-server for package: globus-connect-server-id-4.0.46-1.el7+gt6.noarch\n",
      "--> Processing Dependency: myproxy for package: globus-connect-server-id-4.0.46-1.el7+gt6.noarch\n",
      "--> Processing Dependency: gsi-openssh-clients for package: globus-connect-server-id-4.0.46-1.el7+gt6.noarch\n",
      "--> Processing Dependency: gsi-openssh for package: globus-connect-server-id-4.0.46-1.el7+gt6.noarch\n",
      "--> Processing Dependency: globus-simple-ca for package: globus-connect-server-id-4.0.46-1.el7+gt6.noarch\n",
      "--> Processing Dependency: globus-gsi-cert-utils-progs for package: globus-connect-server-id-4.0.46-1.el7+gt6.noarch\n",
      "---> Package globus-connect-server-io.noarch 0:4.0.46-1.el7+gt6 will be installed\n",
      "--> Processing Dependency: globus-gridmap-verify-myproxy-callout >= 1.2 for package: globus-connect-server-io-4.0.46-1.el7+gt6.noarch\n",
      "--> Processing Dependency: globus-gridmap-eppn-callout >= 0.4 for package: globus-connect-server-io-4.0.46-1.el7+gt6.noarch\n",
      "--> Processing Dependency: globus-gridftp-server-progs >= 9.3 for package: globus-connect-server-io-4.0.46-1.el7+gt6.noarch\n",
      "--> Processing Dependency: globus-callout >= 2.4 for package: globus-connect-server-io-4.0.46-1.el7+gt6.noarch\n",
      "--> Processing Dependency: globus-gss-assist-progs for package: globus-connect-server-io-4.0.46-1.el7+gt6.noarch\n",
      "--> Processing Dependency: globus-gass-copy-progs for package: globus-connect-server-io-4.0.46-1.el7+gt6.noarch\n",
      "---> Package globus-connect-server-web.noarch 0:4.0.46-1.el7+gt6 will be installed\n",
      "--> Processing Dependency: myproxy-oauth for package: globus-connect-server-web-4.0.46-1.el7+gt6.noarch\n",
      "--> Running transaction check\n",
      "---> Package globus-callout.x86_64 0:3.15-3.el7+gt6 will be installed\n",
      "--> Processing Dependency: globus-common(x86-64) >= 15 for package: globus-callout-3.15-3.el7+gt6.x86_64\n",
      "--> Processing Dependency: libglobus_common.so.0(GLOBUS_COMMON_14)(64bit) for package: globus-callout-3.15-3.el7+gt6.x86_64\n",
      "--> Processing Dependency: libltdl.so.7()(64bit) for package: globus-callout-3.15-3.el7+gt6.x86_64\n",
      "--> Processing Dependency: libglobus_common.so.0()(64bit) for package: globus-callout-3.15-3.el7+gt6.x86_64\n",
      "---> Package globus-gass-copy-progs.x86_64 0:9.28-1.el7+gt6 will be installed\n",
      "--> Processing Dependency: globus-gass-copy(x86-64) = 9.28-1.el7+gt6 for package: globus-gass-copy-progs-9.28-1.el7+gt6.x86_64\n",
      "--> Processing Dependency: libglobus_gssapi_gsi.so.4(globus_gssapi_gsi)(64bit) for package: globus-gass-copy-progs-9.28-1.el7+gt6.x86_64\n",
      "--> Processing Dependency: libglobus_io.so.3()(64bit) for package: globus-gass-copy-progs-9.28-1.el7+gt6.x86_64\n",
      "--> Processing Dependency: libglobus_gssapi_gsi.so.4()(64bit) for package: globus-gass-copy-progs-9.28-1.el7+gt6.x86_64\n",
      "--> Processing Dependency: libglobus_gssapi_error.so.2()(64bit) for package: globus-gass-copy-progs-9.28-1.el7+gt6.x86_64\n",
      "--> Processing Dependency: libglobus_gsi_sysconfig.so.1()(64bit) for package: globus-gass-copy-progs-9.28-1.el7+gt6.x86_64\n",
      "--> Processing Dependency: libglobus_gass_transfer.so.2()(64bit) for package: globus-gass-copy-progs-9.28-1.el7+gt6.x86_64\n",
      "--> Processing Dependency: libglobus_gass_copy.so.2()(64bit) for package: globus-gass-copy-progs-9.28-1.el7+gt6.x86_64\n",
      "--> Processing Dependency: libglobus_ftp_control.so.1()(64bit) for package: globus-gass-copy-progs-9.28-1.el7+gt6.x86_64\n",
      "--> Processing Dependency: libglobus_ftp_client.so.2()(64bit) for package: globus-gass-copy-progs-9.28-1.el7+gt6.x86_64\n",
      "---> Package globus-gridftp-server-progs.x86_64 0:12.4-1.el7+gt6 will be installed\n",
      "--> Processing Dependency: globus-gridftp-server(x86-64) = 12.4-1.el7+gt6 for package: globus-gridftp-server-progs-12.4-1.el7+gt6.x86_64\n",
      "--> Processing Dependency: globus-xio-gsi-driver(x86-64) >= 2 for package: globus-gridftp-server-progs-12.4-1.el7+gt6.x86_64\n",
      "--> Processing Dependency: libglobus_xio.so.0()(64bit) for package: globus-gridftp-server-progs-12.4-1.el7+gt6.x86_64\n",
      "--> Processing Dependency: libglobus_usage.so.0()(64bit) for package: globus-gridftp-server-progs-12.4-1.el7+gt6.x86_64\n",
      "--> Processing Dependency: libglobus_gss_assist.so.3()(64bit) for package: globus-gridftp-server-progs-12.4-1.el7+gt6.x86_64\n",
      "--> Processing Dependency: libglobus_gsi_credential.so.1()(64bit) for package: globus-gridftp-server-progs-12.4-1.el7+gt6.x86_64\n",
      "--> Processing Dependency: libglobus_gridftp_server_control.so.0()(64bit) for package: globus-gridftp-server-progs-12.4-1.el7+gt6.x86_64\n",
      "--> Processing Dependency: libglobus_gridftp_server.so.6()(64bit) for package: globus-gridftp-server-progs-12.4-1.el7+gt6.x86_64\n",
      "--> Processing Dependency: libglobus_gfork.so.0()(64bit) for package: globus-gridftp-server-progs-12.4-1.el7+gt6.x86_64\n",
      "--> Processing Dependency: libglobus_authz.so.0()(64bit) for package: globus-gridftp-server-progs-12.4-1.el7+gt6.x86_64\n",
      "---> Package globus-gridmap-eppn-callout.x86_64 0:1.13-1.el7+gt6 will be installed\n",
      "--> Processing Dependency: libglobus_openssl_error.so.0()(64bit) for package: globus-gridmap-eppn-callout-1.13-1.el7+gt6.x86_64\n",
      "--> Processing Dependency: libglobus_gsi_cert_utils.so.0()(64bit) for package: globus-gridmap-eppn-callout-1.13-1.el7+gt6.x86_64\n",
      "--> Processing Dependency: libglobus_gridmap_callout_error.so.0()(64bit) for package: globus-gridmap-eppn-callout-1.13-1.el7+gt6.x86_64\n",
      "---> Package globus-gridmap-verify-myproxy-callout.x86_64 0:2.9-1.el7+gt6 will be installed\n",
      "---> Package globus-gsi-cert-utils-progs.x86_64 0:9.16-1.el7+gt6 will be installed\n",
      "--> Processing Dependency: globus-common-progs >= 14 for package: globus-gsi-cert-utils-progs-9.16-1.el7+gt6.x86_64\n",
      "---> Package globus-gss-assist-progs.x86_64 0:11.1-1.el7+gt6 will be installed\n",
      "---> Package globus-simple-ca.noarch 0:4.24-4.el7+gt6 will be installed\n",
      "---> Package gsi-openssh.x86_64 0:7.5p1b-1.el7+gt6 will be installed\n",
      "---> Package gsi-openssh-clients.x86_64 0:7.5p1b-1.el7+gt6 will be installed\n",
      "---> Package myproxy.x86_64 0:6.1.28-4.el7+gt6 will be installed\n",
      "--> Processing Dependency: myproxy-libs(x86-64) = 6.1.28-4.el7+gt6 for package: myproxy-6.1.28-4.el7+gt6.x86_64\n",
      "--> Processing Dependency: globus-proxy-utils >= 5 for package: myproxy-6.1.28-4.el7+gt6.x86_64\n",
      "--> Processing Dependency: libmyproxy.so.6()(64bit) for package: myproxy-6.1.28-4.el7+gt6.x86_64\n",
      "--> Processing Dependency: libglobus_gsi_proxy_core.so.0()(64bit) for package: myproxy-6.1.28-4.el7+gt6.x86_64\n",
      "--> Processing Dependency: libglobus_gsi_callback.so.0()(64bit) for package: myproxy-6.1.28-4.el7+gt6.x86_64\n",
      "---> Package myproxy-oauth.noarch 0:0.27-1.el7+gt6 will be installed\n",
      "--> Processing Dependency: python-crypto for package: myproxy-oauth-0.27-1.el7+gt6.noarch\n",
      "--> Processing Dependency: pyOpenSSL for package: myproxy-oauth-0.27-1.el7+gt6.noarch\n",
      "--> Processing Dependency: m2crypto for package: myproxy-oauth-0.27-1.el7+gt6.noarch\n",
      "---> Package myproxy-server.x86_64 0:6.1.28-4.el7+gt6 will be installed\n",
      "--> Running transaction check\n",
      "---> Package globus-authz.x86_64 0:3.15-1.el7+gt6 will be installed\n",
      "--> Processing Dependency: libglobus_gsi_authz_callout_error.so.0()(64bit) for package: globus-authz-3.15-1.el7+gt6.x86_64\n",
      "---> Package globus-common.x86_64 0:17.2-1.el7+gt6 will be installed\n",
      "---> Package globus-common-progs.x86_64 0:17.2-1.el7+gt6 will be installed\n",
      "---> Package globus-ftp-client.x86_64 0:8.36-1.el7+gt6 will be installed\n",
      "--> Processing Dependency: globus-xio-popen-driver(x86-64) >= 2 for package: globus-ftp-client-8.36-1.el7+gt6.x86_64\n",
      "---> Package globus-ftp-control.x86_64 0:8.2-1.el7+gt6 will be installed\n",
      "---> Package globus-gass-copy.x86_64 0:9.28-1.el7+gt6 will be installed\n",
      "---> Package globus-gass-transfer.x86_64 0:8.10-3.el7+gt6 will be installed\n",
      "---> Package globus-gfork.x86_64 0:4.9-4.el7+gt6 will be installed\n",
      "---> Package globus-gridftp-server.x86_64 0:12.4-1.el7+gt6 will be installed\n",
      "--> Processing Dependency: globus-xio-udt-driver(x86-64) >= 1 for package: globus-gridftp-server-12.4-1.el7+gt6.x86_64\n",
      "---> Package globus-gridftp-server-control.x86_64 0:6.0-3.el7 will be installed\n",
      "--> Processing Dependency: globus-xio-pipe-driver(x86-64) >= 2 for package: globus-gridftp-server-control-6.0-3.el7.x86_64\n",
      "---> Package globus-gridmap-callout-error.x86_64 0:2.5-4.el7+gt6 will be installed\n",
      "---> Package globus-gsi-callback.x86_64 0:5.13-1.el7+gt6 will be installed\n",
      "--> Processing Dependency: libglobus_openssl.so.0()(64bit) for package: globus-gsi-callback-5.13-1.el7+gt6.x86_64\n",
      "---> Package globus-gsi-cert-utils.x86_64 0:9.16-1.el7+gt6 will be installed\n",
      "---> Package globus-gsi-credential.x86_64 0:7.14-1.el7+gt6 will be installed\n",
      "---> Package globus-gsi-openssl-error.x86_64 0:3.8-1.el7+gt6 will be installed\n",
      "---> Package globus-gsi-proxy-core.x86_64 0:8.6-1.el7+gt6 will be installed\n",
      "--> Processing Dependency: libglobus_proxy_ssl.so.1()(64bit) for package: globus-gsi-proxy-core-8.6-1.el7+gt6.x86_64\n",
      "---> Package globus-gsi-sysconfig.x86_64 0:8.0-1.el7+gt6 will be installed\n",
      "---> Package globus-gss-assist.x86_64 0:11.1-1.el7+gt6 will be installed\n",
      "---> Package globus-gssapi-error.x86_64 0:5.5-3.el7+gt6 will be installed\n",
      "---> Package globus-gssapi-gsi.x86_64 0:13.4-1.el7+gt6 will be installed\n",
      "---> Package globus-io.x86_64 0:11.9-1.el7+gt6 will be installed\n",
      "---> Package globus-proxy-utils.x86_64 0:6.19-1.el7+gt6 will be installed\n",
      "---> Package globus-usage.x86_64 0:4.5-3.el7+gt6 will be installed\n",
      "---> Package globus-xio.x86_64 0:5.16-1.el7+gt6 will be installed\n",
      "---> Package globus-xio-gsi-driver.x86_64 0:4.1-1.el7+gt6 will be installed\n",
      "---> Package libtool-ltdl.x86_64 0:2.4.2-22.el7_3 will be installed\n",
      "---> Package m2crypto.x86_64 0:0.21.1-17.el7 will be installed\n",
      "---> Package myproxy-libs.x86_64 0:6.1.28-4.el7+gt6 will be installed\n",
      "---> Package pyOpenSSL.x86_64 0:0.13.1-3.el7 will be installed\n",
      "---> Package python2-crypto.x86_64 0:2.6.1-15.el7 will be installed\n",
      "--> Processing Dependency: libtomcrypt.so.0()(64bit) for package: python2-crypto-2.6.1-15.el7.x86_64\n",
      "--> Running transaction check\n",
      "---> Package globus-authz-callout-error.x86_64 0:3.6-3.el7+gt6 will be installed\n",
      "---> Package globus-gsi-proxy-ssl.x86_64 0:5.10-1.el7+gt6 will be installed\n",
      "---> Package globus-openssl-module.x86_64 0:4.8-1.el7+gt6 will be installed\n",
      "---> Package globus-xio-pipe-driver.x86_64 0:3.10-1.el7+gt6 will be installed\n",
      "---> Package globus-xio-popen-driver.x86_64 0:3.6-3.el7+gt6 will be installed\n",
      "---> Package globus-xio-udt-driver.x86_64 0:1.28-1.el7+gt6 will be installed\n",
      "--> Processing Dependency: libudt.so.0()(64bit) for package: globus-xio-udt-driver-1.28-1.el7+gt6.x86_64\n",
      "--> Processing Dependency: libnice.so.10()(64bit) for package: globus-xio-udt-driver-1.28-1.el7+gt6.x86_64\n",
      "---> Package libtomcrypt.x86_64 0:1.17-26.el7 will be installed\n",
      "--> Processing Dependency: libtommath >= 0.42.0 for package: libtomcrypt-1.17-26.el7.x86_64\n",
      "--> Processing Dependency: libtommath.so.0()(64bit) for package: libtomcrypt-1.17-26.el7.x86_64\n",
      "--> Running transaction check\n",
      "---> Package libnice.x86_64 0:0.1.3-4.el7 will be installed\n",
      "--> Processing Dependency: libgupnp-igd-1.0.so.4()(64bit) for package: libnice-0.1.3-4.el7.x86_64\n",
      "--> Processing Dependency: libgupnp-1.0.so.4()(64bit) for package: libnice-0.1.3-4.el7.x86_64\n",
      "--> Processing Dependency: libgstreamer-1.0.so.0()(64bit) for package: libnice-0.1.3-4.el7.x86_64\n",
      "--> Processing Dependency: libgstreamer-0.10.so.0()(64bit) for package: libnice-0.1.3-4.el7.x86_64\n",
      "--> Processing Dependency: libgstbase-1.0.so.0()(64bit) for package: libnice-0.1.3-4.el7.x86_64\n",
      "--> Processing Dependency: libgstbase-0.10.so.0()(64bit) for package: libnice-0.1.3-4.el7.x86_64\n",
      "---> Package libtommath.x86_64 0:0.42.0-6.el7 will be installed\n",
      "---> Package udt.x86_64 0:4.11-6.el7 will be installed\n",
      "--> Running transaction check\n",
      "---> Package gstreamer.x86_64 0:0.10.36-7.el7 will be installed\n",
      "--> Processing Dependency: gstreamer-tools >= 0.10.36 for package: gstreamer-0.10.36-7.el7.x86_64\n",
      "---> Package gstreamer1.x86_64 0:1.10.4-2.el7 will be installed\n",
      "---> Package gupnp.x86_64 0:1.0.1-1.el7 will be installed\n",
      "--> Processing Dependency: libsoup-2.4.so.1()(64bit) for package: gupnp-1.0.1-1.el7.x86_64\n",
      "--> Processing Dependency: libgssdp-1.0.so.3()(64bit) for package: gupnp-1.0.1-1.el7.x86_64\n",
      "---> Package gupnp-igd.x86_64 0:0.2.4-1.el7 will be installed\n",
      "--> Running transaction check\n",
      "---> Package gssdp.x86_64 0:1.0.1-1.el7 will be installed\n",
      "---> Package gstreamer-tools.x86_64 0:0.10.36-7.el7 will be installed\n",
      "---> Package libsoup.x86_64 0:2.56.0-4.el7_4 will be installed\n",
      "--> Processing Dependency: glib-networking(x86-64) >= 2.38.0 for package: libsoup-2.56.0-4.el7_4.x86_64\n",
      "--> Running transaction check\n",
      "---> Package glib-networking.x86_64 0:2.50.0-1.el7 will be installed\n",
      "--> Processing Dependency: gsettings-desktop-schemas for package: glib-networking-2.50.0-1.el7.x86_64\n",
      "--> Running transaction check\n",
      "---> Package gsettings-desktop-schemas.x86_64 0:3.22.0-1.el7 will be installed\n",
      "--> Finished Dependency Resolution\n",
      "\n",
      "Dependencies Resolved\n",
      "\n",
      "================================================================================\n",
      " Package                               Arch   Version             Repository\n",
      "                                                                           Size\n",
      "================================================================================\n",
      "Installing:\n",
      " globus-connect-server                 noarch 4.0.46-1.el7+gt6    globus   18 k\n",
      "Installing for dependencies:\n",
      " glib-networking                       x86_64 2.50.0-1.el7        base    131 k\n",
      " globus-authz                          x86_64 3.15-1.el7+gt6      globus   15 k\n",
      " globus-authz-callout-error            x86_64 3.6-3.el7+gt6       globus   12 k\n",
      " globus-callout                        x86_64 3.15-3.el7+gt6      globus   20 k\n",
      " globus-common                         x86_64 17.2-1.el7+gt6      globus  126 k\n",
      " globus-common-progs                   x86_64 17.2-1.el7+gt6      globus   46 k\n",
      " globus-connect-server-common          noarch 4.0.46-1.el7+gt6    globus  162 k\n",
      " globus-connect-server-id              noarch 4.0.46-1.el7+gt6    globus   18 k\n",
      " globus-connect-server-io              noarch 4.0.46-1.el7+gt6    globus   18 k\n",
      " globus-connect-server-web             noarch 4.0.46-1.el7+gt6    globus   18 k\n",
      " globus-ftp-client                     x86_64 8.36-1.el7+gt6      globus   98 k\n",
      " globus-ftp-control                    x86_64 8.2-1.el7+gt6       globus   73 k\n",
      " globus-gass-copy                      x86_64 9.28-1.el7+gt6      globus   38 k\n",
      " globus-gass-copy-progs                x86_64 9.28-1.el7+gt6      globus   44 k\n",
      " globus-gass-transfer                  x86_64 8.10-3.el7+gt6      globus   42 k\n",
      " globus-gfork                          x86_64 4.9-4.el7+gt6       globus   20 k\n",
      " globus-gridftp-server                 x86_64 12.4-1.el7+gt6      globus  191 k\n",
      " globus-gridftp-server-control         x86_64 6.0-3.el7           epel     74 k\n",
      " globus-gridftp-server-progs           x86_64 12.4-1.el7+gt6      globus   63 k\n",
      " globus-gridmap-callout-error          x86_64 2.5-4.el7+gt6       globus   11 k\n",
      " globus-gridmap-eppn-callout           x86_64 1.13-1.el7+gt6      globus   18 k\n",
      " globus-gridmap-verify-myproxy-callout x86_64 2.9-1.el7+gt6       globus   16 k\n",
      " globus-gsi-callback                   x86_64 5.13-1.el7+gt6      globus   41 k\n",
      " globus-gsi-cert-utils                 x86_64 9.16-1.el7+gt6      globus   21 k\n",
      " globus-gsi-cert-utils-progs           x86_64 9.16-1.el7+gt6      globus   30 k\n",
      " globus-gsi-credential                 x86_64 7.14-1.el7+gt6      globus   35 k\n",
      " globus-gsi-openssl-error              x86_64 3.8-1.el7+gt6       globus   17 k\n",
      " globus-gsi-proxy-core                 x86_64 8.6-1.el7+gt6       globus   36 k\n",
      " globus-gsi-proxy-ssl                  x86_64 5.10-1.el7+gt6      globus   17 k\n",
      " globus-gsi-sysconfig                  x86_64 8.0-1.el7+gt6       globus   29 k\n",
      " globus-gss-assist                     x86_64 11.1-1.el7+gt6      globus   35 k\n",
      " globus-gss-assist-progs               x86_64 11.1-1.el7+gt6      globus   21 k\n",
      " globus-gssapi-error                   x86_64 5.5-3.el7+gt6       globus   14 k\n",
      " globus-gssapi-gsi                     x86_64 13.4-1.el7+gt6      globus   68 k\n",
      " globus-io                             x86_64 11.9-1.el7+gt6      globus   41 k\n",
      " globus-openssl-module                 x86_64 4.8-1.el7+gt6       globus   15 k\n",
      " globus-proxy-utils                    x86_64 6.19-1.el7+gt6      globus   52 k\n",
      " globus-simple-ca                      noarch 4.24-4.el7+gt6      globus   34 k\n",
      " globus-usage                          x86_64 4.5-3.el7+gt6       globus   16 k\n",
      " globus-xio                            x86_64 5.16-1.el7+gt6      globus  157 k\n",
      " globus-xio-gsi-driver                 x86_64 4.1-1.el7+gt6       globus   35 k\n",
      " globus-xio-pipe-driver                x86_64 3.10-1.el7+gt6      globus   16 k\n",
      " globus-xio-popen-driver               x86_64 3.6-3.el7+gt6       globus   19 k\n",
      " globus-xio-udt-driver                 x86_64 1.28-1.el7+gt6      globus   26 k\n",
      " gsettings-desktop-schemas             x86_64 3.22.0-1.el7        base    550 k\n",
      " gsi-openssh                           x86_64 7.5p1b-1.el7+gt6    globus  480 k\n",
      " gsi-openssh-clients                   x86_64 7.5p1b-1.el7+gt6    globus  416 k\n",
      " gssdp                                 x86_64 1.0.1-1.el7         base     48 k\n",
      " gstreamer                             x86_64 0.10.36-7.el7       base    958 k\n",
      " gstreamer-tools                       x86_64 0.10.36-7.el7       base     27 k\n",
      " gstreamer1                            x86_64 1.10.4-2.el7        base    1.2 M\n",
      " gupnp                                 x86_64 1.0.1-1.el7         base     93 k\n",
      " gupnp-igd                             x86_64 0.2.4-1.el7         base     29 k\n",
      " libnice                               x86_64 0.1.3-4.el7         base    128 k\n",
      " libsoup                               x86_64 2.56.0-4.el7_4      updates 398 k\n",
      " libtomcrypt                           x86_64 1.17-26.el7         extras  224 k\n",
      " libtommath                            x86_64 0.42.0-6.el7        extras   36 k\n",
      " libtool-ltdl                          x86_64 2.4.2-22.el7_3      base     49 k\n",
      " m2crypto                              x86_64 0.21.1-17.el7       base    429 k\n",
      " myproxy                               x86_64 6.1.28-4.el7+gt6    globus   85 k\n",
      " myproxy-libs                          x86_64 6.1.28-4.el7+gt6    globus  108 k\n",
      " myproxy-oauth                         noarch 0.27-1.el7+gt6      globus   47 k\n",
      " myproxy-server                        x86_64 6.1.28-4.el7+gt6    globus   55 k\n",
      " pyOpenSSL                             x86_64 0.13.1-3.el7        base    133 k\n",
      " python2-crypto                        x86_64 2.6.1-15.el7        extras  477 k\n",
      " udt                                   x86_64 4.11-6.el7          epel     95 k\n",
      "\n",
      "Transaction Summary\n",
      "================================================================================\n",
      "Install  1 Package (+66 Dependent packages)\n",
      "\n",
      "Total download size: 7.9 M\n",
      "Installed size: 28 M\n",
      "Downloading packages:\n",
      "(1/67): glib-networking-2.50.0-1.el7.x86_64.rpm            | 131 kB   00:00     \n",
      "(2/67): globus-authz-3.15-1.el7+gt6.x86_64.rpm             |  15 kB   00:00     \n",
      "(3/67): globus-authz-callout-error-3.6-3.el7+gt6.x86_64.rp |  12 kB   00:00     \n",
      "(4/67): globus-callout-3.15-3.el7+gt6.x86_64.rpm           |  20 kB   00:00     \n",
      "(5/67): globus-common-17.2-1.el7+gt6.x86_64.rpm            | 126 kB   00:00     \n",
      "(6/67): globus-common-progs-17.2-1.el7+gt6.x86_64.rpm      |  46 kB   00:00     \n",
      "(7/67): globus-connect-server-4.0.46-1.el7+gt6.noarch.rpm  |  18 kB   00:00     \n",
      "(8/67): globus-connect-server-common-4.0.46-1.el7+gt6.noar | 162 kB   00:00     \n",
      "(9/67): globus-connect-server-id-4.0.46-1.el7+gt6.noarch.r |  18 kB   00:00     \n",
      "(10/67): globus-connect-server-io-4.0.46-1.el7+gt6.noarch. |  18 kB   00:00     \n",
      "(11/67): globus-connect-server-web-4.0.46-1.el7+gt6.noarch |  18 kB   00:00     \n",
      "(12/67): globus-ftp-client-8.36-1.el7+gt6.x86_64.rpm       |  98 kB   00:00     \n",
      "(13/67): globus-ftp-control-8.2-1.el7+gt6.x86_64.rpm       |  73 kB   00:00     \n",
      "(14/67): globus-gass-copy-9.28-1.el7+gt6.x86_64.rpm        |  38 kB   00:00     \n",
      "(15/67): globus-gass-copy-progs-9.28-1.el7+gt6.x86_64.rpm  |  44 kB   00:00     \n",
      "(16/67): globus-gass-transfer-8.10-3.el7+gt6.x86_64.rpm    |  42 kB   00:00     \n",
      "(17/67): globus-gfork-4.9-4.el7+gt6.x86_64.rpm             |  20 kB   00:00     \n",
      "(18/67): globus-gridftp-server-12.4-1.el7+gt6.x86_64.rpm   | 191 kB   00:00     \n",
      "(19/67): globus-gridftp-server-progs-12.4-1.el7+gt6.x86_64 |  63 kB   00:00     \n",
      "(20/67): globus-gridmap-eppn-callout-1.13-1.el7+gt6.x86_64 |  18 kB   00:00     \n",
      "(21/67): globus-gridmap-verify-myproxy-callout-2.9-1.el7+g |  16 kB   00:00     \n",
      "(22/67): globus-gsi-callback-5.13-1.el7+gt6.x86_64.rpm     |  41 kB   00:00     \n",
      "(23/67): globus-gsi-cert-utils-9.16-1.el7+gt6.x86_64.rpm   |  21 kB   00:00     \n",
      "(24/67): globus-gsi-cert-utils-progs-9.16-1.el7+gt6.x86_64 |  30 kB   00:00     \n",
      "(25/67): globus-gsi-credential-7.14-1.el7+gt6.x86_64.rpm   |  35 kB   00:00     \n",
      "(26/67): globus-gsi-openssl-error-3.8-1.el7+gt6.x86_64.rpm |  17 kB   00:00     \n",
      "(27/67): globus-gridftp-server-control-6.0-3.el7.x86_64.rp |  74 kB   00:00     \n",
      "(28/67): globus-gsi-proxy-core-8.6-1.el7+gt6.x86_64.rpm    |  36 kB   00:00     \n",
      "(29/67): globus-gsi-proxy-ssl-5.10-1.el7+gt6.x86_64.rpm    |  17 kB   00:00     \n",
      "(30/67): globus-gridmap-callout-error-2.5-4.el7+gt6.x86_64 |  11 kB   00:00     \n",
      "(31/67): globus-gsi-sysconfig-8.0-1.el7+gt6.x86_64.rpm     |  29 kB   00:00     \n",
      "(32/67): globus-gss-assist-11.1-1.el7+gt6.x86_64.rpm       |  35 kB   00:00     \n",
      "(33/67): globus-gss-assist-progs-11.1-1.el7+gt6.x86_64.rpm |  21 kB   00:00     \n",
      "(34/67): globus-gssapi-error-5.5-3.el7+gt6.x86_64.rpm      |  14 kB   00:00     \n",
      "(35/67): globus-gssapi-gsi-13.4-1.el7+gt6.x86_64.rpm       |  68 kB   00:00     \n",
      "(36/67): globus-io-11.9-1.el7+gt6.x86_64.rpm               |  41 kB   00:00     \n",
      "(37/67): globus-openssl-module-4.8-1.el7+gt6.x86_64.rpm    |  15 kB   00:00     \n",
      "(38/67): globus-proxy-utils-6.19-1.el7+gt6.x86_64.rpm      |  52 kB   00:00     \n",
      "(39/67): globus-simple-ca-4.24-4.el7+gt6.noarch.rpm        |  34 kB   00:00     \n",
      "(40/67): globus-usage-4.5-3.el7+gt6.x86_64.rpm             |  16 kB   00:00     \n",
      "(41/67): globus-xio-5.16-1.el7+gt6.x86_64.rpm              | 157 kB   00:00     \n",
      "(42/67): globus-xio-gsi-driver-4.1-1.el7+gt6.x86_64.rpm    |  35 kB   00:00     \n",
      "(43/67): globus-xio-pipe-driver-3.10-1.el7+gt6.x86_64.rpm  |  16 kB   00:00     \n",
      "(44/67): globus-xio-popen-driver-3.6-3.el7+gt6.x86_64.rpm  |  19 kB   00:00     \n",
      "(45/67): globus-xio-udt-driver-1.28-1.el7+gt6.x86_64.rpm   |  26 kB   00:00     \n",
      "(46/67): gsi-openssh-7.5p1b-1.el7+gt6.x86_64.rpm           | 480 kB   00:00     \n",
      "(47/67): gsettings-desktop-schemas-3.22.0-1.el7.x86_64.rpm | 550 kB   00:00     \n",
      "(48/67): gsi-openssh-clients-7.5p1b-1.el7+gt6.x86_64.rpm   | 416 kB   00:00     \n",
      "(49/67): gssdp-1.0.1-1.el7.x86_64.rpm                      |  48 kB   00:00     \n",
      "(50/67): gstreamer-0.10.36-7.el7.x86_64.rpm                | 958 kB   00:00     \n",
      "(51/67): gstreamer-tools-0.10.36-7.el7.x86_64.rpm          |  27 kB   00:00     \n",
      "(52/67): gupnp-1.0.1-1.el7.x86_64.rpm                      |  93 kB   00:00     \n",
      "(53/67): gupnp-igd-0.2.4-1.el7.x86_64.rpm                  |  29 kB   00:00     \n",
      "(54/67): libnice-0.1.3-4.el7.x86_64.rpm                    | 128 kB   00:00     \n",
      "(55/67): libtool-ltdl-2.4.2-22.el7_3.x86_64.rpm            |  49 kB   00:00     \n",
      "(56/67): m2crypto-0.21.1-17.el7.x86_64.rpm                 | 429 kB   00:00     \n",
      "(57/67): myproxy-6.1.28-4.el7+gt6.x86_64.rpm               |  85 kB   00:00     \n",
      "(58/67): myproxy-libs-6.1.28-4.el7+gt6.x86_64.rpm          | 108 kB   00:00     \n",
      "(59/67): libsoup-2.56.0-4.el7_4.x86_64.rpm                 | 398 kB   00:00     \n",
      "(60/67): gstreamer1-1.10.4-2.el7.x86_64.rpm                | 1.2 MB   00:00     \n",
      "(61/67): myproxy-oauth-0.27-1.el7+gt6.noarch.rpm           |  47 kB   00:00     \n",
      "(62/67): myproxy-server-6.1.28-4.el7+gt6.x86_64.rpm        |  55 kB   00:00     \n",
      "(63/67): libtomcrypt-1.17-26.el7.x86_64.rpm                | 224 kB   00:00     \n",
      "(64/67): pyOpenSSL-0.13.1-3.el7.x86_64.rpm                 | 133 kB   00:00     \n",
      "(65/67): libtommath-0.42.0-6.el7.x86_64.rpm                |  36 kB   00:00     \n",
      "(66/67): python2-crypto-2.6.1-15.el7.x86_64.rpm            | 477 kB   00:00     \n",
      "(67/67): udt-4.11-6.el7.x86_64.rpm                         |  95 kB   00:00     \n",
      "--------------------------------------------------------------------------------\n",
      "Total                                              7.0 MB/s | 7.9 MB  00:01     \n",
      "Running transaction check\n",
      "Running transaction test\n",
      "Transaction test succeeded\n",
      "Running transaction\n",
      "  Installing : libtool-ltdl-2.4.2-22.el7_3.x86_64                          1/67 \n",
      "  Installing : globus-common-17.2-1.el7+gt6.x86_64                         2/67 \n",
      "  Installing : globus-xio-5.16-1.el7+gt6.x86_64                            3/67 \n",
      "  Installing : globus-gsi-openssl-error-3.8-1.el7+gt6.x86_64               4/67 \n",
      "  Installing : globus-usage-4.5-3.el7+gt6.x86_64                           5/67 \n",
      "  Installing : globus-connect-server-common-4.0.46-1.el7+gt6.noarch        6/67 \n",
      "  Installing : globus-common-progs-17.2-1.el7+gt6.x86_64                   7/67 \n",
      "  Installing : globus-callout-3.15-3.el7+gt6.x86_64                        8/67 \n",
      "  Installing : globus-gfork-4.9-4.el7+gt6.x86_64                           9/67 \n",
      "  Installing : globus-gsi-proxy-ssl-5.10-1.el7+gt6.x86_64                 10/67 \n",
      "  Installing : globus-openssl-module-4.8-1.el7+gt6.x86_64                 11/67 \n",
      "  Installing : globus-gsi-sysconfig-8.0-1.el7+gt6.x86_64                  12/67 \n",
      "  Installing : globus-gsi-cert-utils-9.16-1.el7+gt6.x86_64                13/67 \n",
      "  Installing : globus-gsi-callback-5.13-1.el7+gt6.x86_64                  14/67 \n",
      "  Installing : globus-gsi-credential-7.14-1.el7+gt6.x86_64                15/67 \n",
      "  Installing : globus-gsi-proxy-core-8.6-1.el7+gt6.x86_64                 16/67 \n",
      "  Installing : globus-gssapi-gsi-13.4-1.el7+gt6.x86_64                    17/67 \n",
      "  Installing : globus-gss-assist-11.1-1.el7+gt6.x86_64                    18/67 \n",
      "  Installing : globus-gssapi-error-5.5-3.el7+gt6.x86_64                   19/67 \n",
      "  Installing : globus-xio-gsi-driver-4.1-1.el7+gt6.x86_64                 20/67 \n",
      "  Installing : globus-io-11.9-1.el7+gt6.x86_64                            21/67 \n",
      "  Installing : globus-ftp-control-8.2-1.el7+gt6.x86_64                    22/67 \n",
      "  Installing : gsi-openssh-7.5p1b-1.el7+gt6.x86_64                        23/67 \n",
      "  Installing : globus-gsi-cert-utils-progs-9.16-1.el7+gt6.x86_64          24/67 \n",
      "  Installing : gsi-openssh-clients-7.5p1b-1.el7+gt6.x86_64                25/67 \n",
      "  Installing : globus-gass-transfer-8.10-3.el7+gt6.x86_64                 26/67 \n",
      "  Installing : globus-gridmap-callout-error-2.5-4.el7+gt6.x86_64          27/67 \n",
      "  Installing : myproxy-libs-6.1.28-4.el7+gt6.x86_64                       28/67 \n",
      "  Installing : myproxy-server-6.1.28-4.el7+gt6.x86_64                     29/67 \n",
      "  Installing : globus-gridmap-eppn-callout-1.13-1.el7+gt6.x86_64          30/67 \n",
      "  Installing : globus-gridmap-verify-myproxy-callout-2.9-1.el7+gt6.x86_   31/67 \n",
      "  Installing : globus-simple-ca-4.24-4.el7+gt6.noarch                     32/67 \n",
      " \n",
      "\n",
      "    C e r t i f i c a t e    A u t h o r i t y    S e t u p\n",
      "\n",
      "This script will setup a Certificate Authority for signing Globus\n",
      "users certificates.  It will also generate a simple CA package\n",
      "that can be distributed to the users of the CA.\n",
      "\n",
      "The CA information about the certificates it distributes will\n",
      "be kept in:\n",
      "\n",
      "/var/lib/globus/simple_ca\n",
      "\n",
      "The unique subject name for this CA is:\n",
      "\n",
      "cn=Globus Simple CA, ou=simpleCA-gigiot-22.conf.cenic.org, ou=GlobusTest, o=Grid\n",
      "\n",
      "Installing new CA files to /etc/grid-security/certificates... done\n",
      "Creating RPM source tarball... done\n",
      "\tglobus_simple_ca_4ce18f13.tar.gz\n",
      "\n",
      "setting the default CA to: /O=Grid/OU=GlobusTest/OU=simpleCA-gigiot-22.conf.cenic.org/CN=Globus Simple CA\n",
      "\n",
      "linking /etc/grid-security/certificates/grid-security.conf.4ce18f13 to\n",
      "        /etc/grid-security/grid-security.conf\n",
      "\n",
      "linking /etc/grid-security/certificates/globus-host-ssl.conf.4ce18f13 to\n",
      "        /etc/grid-security/globus-host-ssl.conf\n",
      "\n",
      "linking /etc/grid-security/certificates/globus-user-ssl.conf.4ce18f13 to\n",
      "        /etc/grid-security/globus-user-ssl.conf\n",
      "\n",
      "\n",
      "...done.\n",
      "\n",
      "Generating a 2048 bit RSA private key\n",
      "...............................................................................+++\n",
      "..................................................+++\n",
      "writing new private key to '/etc/grid-security/hostkey.pem'\n",
      "-----\n",
      "You are about to be asked to enter information that will be incorporated\n",
      "into your certificate request.\n",
      "What you are about to enter is what is called a Distinguished Name or a DN.\n",
      "There are quite a few fields but you can leave some blank\n",
      "For some fields there will be a default value,\n",
      "If you enter '.', the field will be left blank.\n",
      "-----\n",
      "Level 0 Organization [Grid]:Level 0 Organizational Unit [GlobusTest]:Level 1 Organizational Unit [simpleCA-gigiot-22.conf.cenic.org]:Name (E.g., John M. Smith) []:\u001b[3;J\u001b[H\u001b[2J\n",
      "A private host key and a certificate request has been generated\n",
      "with the subject:\n",
      "\n",
      "/(/usr/bin/openssl req -text -noout < /etc/grid-security/grid-cert-request.3295.output 2>&1 | grep 'Subject:' | awk -F: '{print }' | cut -c2- )\n",
      "\n",
      "----------------------------------------------------------\n",
      "\n",
      "The private key is stored in /etc/grid-security/hostkey.pem\n",
      "The request is stored in /etc/grid-security/hostcert_request.pem\n",
      "\n",
      "Please e-mail the request to the Globus Simple CA root@gigiot-22.conf.cenic.org\n",
      "You may use a command similar to the following:\n",
      "\n",
      " cat /etc/grid-security/hostcert_request.pem | mail root@gigiot-22.conf.cenic.org\n",
      "\n",
      "Only use the above if this machine can send AND receive e-mail. if not, please\n",
      "mail using some other method.\n",
      "\n",
      "Your certificate will be mailed to you within two working days.\n",
      "If you receive no response, contact Globus Simple CA at root@gigiot-22.conf.cenic.org\n",
      "\n",
      "The new signed certificate is at: /var/lib/globus/simple_ca/newcerts/01.pem\n",
      "\n",
      "/tmp/tmp.m1tNIeKEwb\n",
      "  Installing : globus-proxy-utils-6.19-1.el7+gt6.x86_64                   33/67 \n",
      "  Installing : myproxy-6.1.28-4.el7+gt6.x86_64                            34/67 \n",
      "  Installing : globus-connect-server-id-4.0.46-1.el7+gt6.noarch           35/67 \n",
      "  Installing : globus-gss-assist-progs-11.1-1.el7+gt6.x86_64              36/67 \n",
      "  Installing : globus-xio-pipe-driver-3.10-1.el7+gt6.x86_64               37/67 \n",
      "  Installing : globus-gridftp-server-control-6.0-3.el7.x86_64             38/67 \n",
      "  Installing : globus-xio-popen-driver-3.6-3.el7+gt6.x86_64               39/67 \n",
      "  Installing : globus-ftp-client-8.36-1.el7+gt6.x86_64                    40/67 \n",
      "  Installing : globus-gass-copy-9.28-1.el7+gt6.x86_64                     41/67 \n",
      "  Installing : globus-gass-copy-progs-9.28-1.el7+gt6.x86_64               42/67 \n",
      "  Installing : globus-authz-callout-error-3.6-3.el7+gt6.x86_64            43/67 \n",
      "  Installing : globus-authz-3.15-1.el7+gt6.x86_64                         44/67 \n",
      "  Installing : gstreamer-tools-0.10.36-7.el7.x86_64                       45/67 \n",
      "  Installing : gstreamer-0.10.36-7.el7.x86_64                             46/67 \n",
      "  Installing : libtommath-0.42.0-6.el7.x86_64                             47/67 \n",
      "  Installing : libtomcrypt-1.17-26.el7.x86_64                             48/67 \n",
      "  Installing : python2-crypto-2.6.1-15.el7.x86_64                         49/67 \n",
      "  Installing : m2crypto-0.21.1-17.el7.x86_64                              50/67 \n",
      "  Installing : udt-4.11-6.el7.x86_64                                      51/67 \n",
      "  Installing : gsettings-desktop-schemas-3.22.0-1.el7.x86_64              52/67 \n",
      "  Installing : glib-networking-2.50.0-1.el7.x86_64                        53/67 \n",
      "  Installing : libsoup-2.56.0-4.el7_4.x86_64                              54/67 \n",
      "  Installing : gssdp-1.0.1-1.el7.x86_64                                   55/67 \n",
      "  Installing : gupnp-1.0.1-1.el7.x86_64                                   56/67 \n",
      "  Installing : gupnp-igd-0.2.4-1.el7.x86_64                               57/67 \n",
      "  Installing : pyOpenSSL-0.13.1-3.el7.x86_64                              58/67 \n",
      "  Installing : myproxy-oauth-0.27-1.el7+gt6.noarch                        59/67 \n",
      "  Installing : globus-connect-server-web-4.0.46-1.el7+gt6.noarch          60/67 \n",
      "  Installing : gstreamer1-1.10.4-2.el7.x86_64                             61/67 \n",
      "  Installing : libnice-0.1.3-4.el7.x86_64                                 62/67 \n",
      "  Installing : globus-xio-udt-driver-1.28-1.el7+gt6.x86_64                63/67 \n",
      "  Installing : globus-gridftp-server-12.4-1.el7+gt6.x86_64                64/67 \n",
      "  Installing : globus-gridftp-server-progs-12.4-1.el7+gt6.x86_64          65/67 \n",
      "  Installing : globus-connect-server-io-4.0.46-1.el7+gt6.noarch           66/67 \n",
      "  Installing : globus-connect-server-4.0.46-1.el7+gt6.noarch              67/67 \n",
      "  Verifying  : globus-gass-transfer-8.10-3.el7+gt6.x86_64                  1/67 \n",
      "  Verifying  : gupnp-igd-0.2.4-1.el7.x86_64                                2/67 \n",
      "  Verifying  : globus-common-17.2-1.el7+gt6.x86_64                         3/67 \n",
      "  Verifying  : globus-gfork-4.9-4.el7+gt6.x86_64                           4/67 \n",
      "  Verifying  : globus-gsi-cert-utils-progs-9.16-1.el7+gt6.x86_64           5/67 \n",
      "  Verifying  : globus-gsi-credential-7.14-1.el7+gt6.x86_64                 6/67 \n",
      "  Verifying  : libnice-0.1.3-4.el7.x86_64                                  7/67 \n",
      "  Verifying  : globus-gsi-sysconfig-8.0-1.el7+gt6.x86_64                   8/67 \n",
      "  Verifying  : myproxy-oauth-0.27-1.el7+gt6.noarch                         9/67 \n",
      "  Verifying  : globus-common-progs-17.2-1.el7+gt6.x86_64                  10/67 \n",
      "  Verifying  : myproxy-6.1.28-4.el7+gt6.x86_64                            11/67 \n",
      "  Verifying  : globus-callout-3.15-3.el7+gt6.x86_64                       12/67 \n",
      "  Verifying  : gsi-openssh-7.5p1b-1.el7+gt6.x86_64                        13/67 \n",
      "  Verifying  : gstreamer1-1.10.4-2.el7.x86_64                             14/67 \n",
      "  Verifying  : globus-gridftp-server-12.4-1.el7+gt6.x86_64                15/67 \n",
      "  Verifying  : myproxy-libs-6.1.28-4.el7+gt6.x86_64                       16/67 \n",
      "  Verifying  : gupnp-1.0.1-1.el7.x86_64                                   17/67 \n",
      "  Verifying  : globus-gsi-proxy-ssl-5.10-1.el7+gt6.x86_64                 18/67 \n",
      "  Verifying  : globus-io-11.9-1.el7+gt6.x86_64                            19/67 \n",
      "  Verifying  : globus-gssapi-error-5.5-3.el7+gt6.x86_64                   20/67 \n",
      "  Verifying  : globus-connect-server-io-4.0.46-1.el7+gt6.noarch           21/67 \n",
      "  Verifying  : globus-usage-4.5-3.el7+gt6.x86_64                          22/67 \n",
      "  Verifying  : libsoup-2.56.0-4.el7_4.x86_64                              23/67 \n",
      "  Verifying  : pyOpenSSL-0.13.1-3.el7.x86_64                              24/67 \n",
      "  Verifying  : globus-gss-assist-11.1-1.el7+gt6.x86_64                    25/67 \n",
      "  Verifying  : globus-gridmap-callout-error-2.5-4.el7+gt6.x86_64          26/67 \n",
      "  Verifying  : globus-connect-server-common-4.0.46-1.el7+gt6.noarch       27/67 \n",
      "  Verifying  : myproxy-server-6.1.28-4.el7+gt6.x86_64                     28/67 \n",
      "  Verifying  : libtool-ltdl-2.4.2-22.el7_3.x86_64                         29/67 \n",
      "  Verifying  : gssdp-1.0.1-1.el7.x86_64                                   30/67 \n",
      "  Verifying  : gsettings-desktop-schemas-3.22.0-1.el7.x86_64              31/67 \n",
      "  Verifying  : gsi-openssh-clients-7.5p1b-1.el7+gt6.x86_64                32/67 \n",
      "  Verifying  : globus-gass-copy-progs-9.28-1.el7+gt6.x86_64               33/67 \n",
      "  Verifying  : globus-gsi-openssl-error-3.8-1.el7+gt6.x86_64              34/67 \n",
      "  Verifying  : globus-xio-pipe-driver-3.10-1.el7+gt6.x86_64               35/67 \n",
      "  Verifying  : globus-xio-popen-driver-3.6-3.el7+gt6.x86_64               36/67 \n",
      "  Verifying  : globus-authz-callout-error-3.6-3.el7+gt6.x86_64            37/67 \n",
      "  Verifying  : globus-ftp-control-8.2-1.el7+gt6.x86_64                    38/67 \n",
      "  Verifying  : globus-gridmap-eppn-callout-1.13-1.el7+gt6.x86_64          39/67 \n",
      "  Verifying  : globus-ftp-client-8.36-1.el7+gt6.x86_64                    40/67 \n",
      "  Verifying  : libtomcrypt-1.17-26.el7.x86_64                             41/67 \n",
      "  Verifying  : globus-gass-copy-9.28-1.el7+gt6.x86_64                     42/67 \n",
      "  Verifying  : globus-xio-gsi-driver-4.1-1.el7+gt6.x86_64                 43/67 \n",
      "  Verifying  : udt-4.11-6.el7.x86_64                                      44/67 \n",
      "  Verifying  : globus-gsi-callback-5.13-1.el7+gt6.x86_64                  45/67 \n",
      "  Verifying  : m2crypto-0.21.1-17.el7.x86_64                              46/67 \n",
      "  Verifying  : globus-gridftp-server-progs-12.4-1.el7+gt6.x86_64          47/67 \n",
      "  Verifying  : globus-xio-5.16-1.el7+gt6.x86_64                           48/67 \n",
      "  Verifying  : globus-openssl-module-4.8-1.el7+gt6.x86_64                 49/67 \n",
      "  Verifying  : globus-gridftp-server-control-6.0-3.el7.x86_64             50/67 \n",
      "  Verifying  : globus-xio-udt-driver-1.28-1.el7+gt6.x86_64                51/67 \n",
      "  Verifying  : globus-connect-server-web-4.0.46-1.el7+gt6.noarch          52/67 \n",
      "  Verifying  : libtommath-0.42.0-6.el7.x86_64                             53/67 \n",
      "  Verifying  : python2-crypto-2.6.1-15.el7.x86_64                         54/67 \n",
      "  Verifying  : gstreamer-0.10.36-7.el7.x86_64                             55/67 \n",
      "  Verifying  : glib-networking-2.50.0-1.el7.x86_64                        56/67 \n",
      "  Verifying  : globus-authz-3.15-1.el7+gt6.x86_64                         57/67 \n",
      "  Verifying  : globus-proxy-utils-6.19-1.el7+gt6.x86_64                   58/67 \n",
      "  Verifying  : globus-connect-server-4.0.46-1.el7+gt6.noarch              59/67 \n",
      "  Verifying  : globus-gsi-cert-utils-9.16-1.el7+gt6.x86_64                60/67 \n",
      "  Verifying  : globus-gridmap-verify-myproxy-callout-2.9-1.el7+gt6.x86_   61/67 \n",
      "  Verifying  : globus-gsi-proxy-core-8.6-1.el7+gt6.x86_64                 62/67 \n",
      "  Verifying  : gstreamer-tools-0.10.36-7.el7.x86_64                       63/67 \n",
      "  Verifying  : globus-gssapi-gsi-13.4-1.el7+gt6.x86_64                    64/67 \n",
      "  Verifying  : globus-simple-ca-4.24-4.el7+gt6.noarch                     65/67 \n",
      "  Verifying  : globus-connect-server-id-4.0.46-1.el7+gt6.noarch           66/67 \n",
      "  Verifying  : globus-gss-assist-progs-11.1-1.el7+gt6.x86_64              67/67 \n",
      "\n",
      "Installed:\n",
      "  globus-connect-server.noarch 0:4.0.46-1.el7+gt6                               \n",
      "\n",
      "Dependency Installed:\n",
      "  glib-networking.x86_64 0:2.50.0-1.el7                                         \n",
      "  globus-authz.x86_64 0:3.15-1.el7+gt6                                          \n",
      "  globus-authz-callout-error.x86_64 0:3.6-3.el7+gt6                             \n",
      "  globus-callout.x86_64 0:3.15-3.el7+gt6                                        \n",
      "  globus-common.x86_64 0:17.2-1.el7+gt6                                         \n",
      "  globus-common-progs.x86_64 0:17.2-1.el7+gt6                                   \n",
      "  globus-connect-server-common.noarch 0:4.0.46-1.el7+gt6                        \n",
      "  globus-connect-server-id.noarch 0:4.0.46-1.el7+gt6                            \n",
      "  globus-connect-server-io.noarch 0:4.0.46-1.el7+gt6                            \n",
      "  globus-connect-server-web.noarch 0:4.0.46-1.el7+gt6                           \n",
      "  globus-ftp-client.x86_64 0:8.36-1.el7+gt6                                     \n",
      "  globus-ftp-control.x86_64 0:8.2-1.el7+gt6                                     \n",
      "  globus-gass-copy.x86_64 0:9.28-1.el7+gt6                                      \n",
      "  globus-gass-copy-progs.x86_64 0:9.28-1.el7+gt6                                \n",
      "  globus-gass-transfer.x86_64 0:8.10-3.el7+gt6                                  \n",
      "  globus-gfork.x86_64 0:4.9-4.el7+gt6                                           \n",
      "  globus-gridftp-server.x86_64 0:12.4-1.el7+gt6                                 \n",
      "  globus-gridftp-server-control.x86_64 0:6.0-3.el7                              \n",
      "  globus-gridftp-server-progs.x86_64 0:12.4-1.el7+gt6                           \n",
      "  globus-gridmap-callout-error.x86_64 0:2.5-4.el7+gt6                           \n",
      "  globus-gridmap-eppn-callout.x86_64 0:1.13-1.el7+gt6                           \n",
      "  globus-gridmap-verify-myproxy-callout.x86_64 0:2.9-1.el7+gt6                  \n",
      "  globus-gsi-callback.x86_64 0:5.13-1.el7+gt6                                   \n",
      "  globus-gsi-cert-utils.x86_64 0:9.16-1.el7+gt6                                 \n",
      "  globus-gsi-cert-utils-progs.x86_64 0:9.16-1.el7+gt6                           \n",
      "  globus-gsi-credential.x86_64 0:7.14-1.el7+gt6                                 \n",
      "  globus-gsi-openssl-error.x86_64 0:3.8-1.el7+gt6                               \n",
      "  globus-gsi-proxy-core.x86_64 0:8.6-1.el7+gt6                                  \n",
      "  globus-gsi-proxy-ssl.x86_64 0:5.10-1.el7+gt6                                  \n",
      "  globus-gsi-sysconfig.x86_64 0:8.0-1.el7+gt6                                   \n",
      "  globus-gss-assist.x86_64 0:11.1-1.el7+gt6                                     \n",
      "  globus-gss-assist-progs.x86_64 0:11.1-1.el7+gt6                               \n",
      "  globus-gssapi-error.x86_64 0:5.5-3.el7+gt6                                    \n",
      "  globus-gssapi-gsi.x86_64 0:13.4-1.el7+gt6                                     \n",
      "  globus-io.x86_64 0:11.9-1.el7+gt6                                             \n",
      "  globus-openssl-module.x86_64 0:4.8-1.el7+gt6                                  \n",
      "  globus-proxy-utils.x86_64 0:6.19-1.el7+gt6                                    \n",
      "  globus-simple-ca.noarch 0:4.24-4.el7+gt6                                      \n",
      "  globus-usage.x86_64 0:4.5-3.el7+gt6                                           \n",
      "  globus-xio.x86_64 0:5.16-1.el7+gt6                                            \n",
      "  globus-xio-gsi-driver.x86_64 0:4.1-1.el7+gt6                                  \n",
      "  globus-xio-pipe-driver.x86_64 0:3.10-1.el7+gt6                                \n",
      "  globus-xio-popen-driver.x86_64 0:3.6-3.el7+gt6                                \n",
      "  globus-xio-udt-driver.x86_64 0:1.28-1.el7+gt6                                 \n",
      "  gsettings-desktop-schemas.x86_64 0:3.22.0-1.el7                               \n",
      "  gsi-openssh.x86_64 0:7.5p1b-1.el7+gt6                                         \n",
      "  gsi-openssh-clients.x86_64 0:7.5p1b-1.el7+gt6                                 \n",
      "  gssdp.x86_64 0:1.0.1-1.el7                                                    \n",
      "  gstreamer.x86_64 0:0.10.36-7.el7                                              \n",
      "  gstreamer-tools.x86_64 0:0.10.36-7.el7                                        \n",
      "  gstreamer1.x86_64 0:1.10.4-2.el7                                              \n",
      "  gupnp.x86_64 0:1.0.1-1.el7                                                    \n",
      "  gupnp-igd.x86_64 0:0.2.4-1.el7                                                \n",
      "  libnice.x86_64 0:0.1.3-4.el7                                                  \n",
      "  libsoup.x86_64 0:2.56.0-4.el7_4                                               \n",
      "  libtomcrypt.x86_64 0:1.17-26.el7                                              \n",
      "  libtommath.x86_64 0:0.42.0-6.el7                                              \n",
      "  libtool-ltdl.x86_64 0:2.4.2-22.el7_3                                          \n",
      "  m2crypto.x86_64 0:0.21.1-17.el7                                               \n",
      "  myproxy.x86_64 0:6.1.28-4.el7+gt6                                             \n",
      "  myproxy-libs.x86_64 0:6.1.28-4.el7+gt6                                        \n",
      "  myproxy-oauth.noarch 0:0.27-1.el7+gt6                                         \n",
      "  myproxy-server.x86_64 0:6.1.28-4.el7+gt6                                      \n",
      "  pyOpenSSL.x86_64 0:0.13.1-3.el7                                               \n",
      "  python2-crypto.x86_64 0:2.6.1-15.el7                                          \n",
      "  udt.x86_64 0:4.11-6.el7                                                       \n",
      "\n",
      "Complete!\n"
     ]
    }
   ],
   "source": [
    "rpm --import http://fiona-10-01:8000/RPM-GPG-KEY-Globus\n",
    "yum -y update\n",
    "yum -y install globus-connect-server "
   ]
  },
  {
   "cell_type": "markdown",
   "metadata": {},
   "source": [
    "<br>\n",
    "<br>\n",
    "<code> Add the gridftp user and enable the service using chkconfig"
   ]
  },
  {
   "cell_type": "code",
   "execution_count": 10,
   "metadata": {},
   "outputs": [],
   "source": [
    "adduser gridftp\n",
    "chkconfig globus-gridftp-server on\n",
    "chkconfig globus-gridftp-sshftp on"
   ]
  },
  {
   "cell_type": "markdown",
   "metadata": {},
   "source": [
    "<br>\n",
    "<br>\n",
    "<code> Replace the default config file with this new config that <br>\n",
    "allows anonymous access to a restricted read only volume."
   ]
  },
  {
   "cell_type": "code",
   "execution_count": 11,
   "metadata": {},
   "outputs": [],
   "source": [
    "cat << EOF >/etc/gridftp.conf\n",
    "\\$GLOBUS_ERROR_VERBOSE 1\n",
    "\\$GLOBUS_TCP_PORT_RANGE 50000,51000\n",
    "\\$GLOBUS_TCP_SOURCE_RANGE 50000,51000\n",
    "port 2811\n",
    "log_level ALL\n",
    "log_single /var/log/gridftp.log\n",
    "log_transfer /var/log/gridftp-transfer.log\n",
    "allow_anonymous 1\n",
    "anonymous_user gridftp\n",
    "disable_command_list \"APPE,RNTO,RNFR,ESTO,RMD,CHMOD,SITE,RDEL\"\n",
    "restrict_paths /data,/dev/zero,/dev/null\n",
    "dc_whitelist udt,gsi,tcp\n",
    "EOF"
   ]
  },
  {
   "cell_type": "markdown",
   "metadata": {},
   "source": [
    "<br>\n",
    "<br>\n",
    "<code> Reload the globus gridftp server applies the changed config file."
   ]
  },
  {
   "cell_type": "code",
   "execution_count": 12,
   "metadata": {},
   "outputs": [
    {
     "name": "stdout",
     "output_type": "stream",
     "text": [
      "Stopping globus-gridftp-server: OK\n",
      "Starting globus-gridftp-server: OK\n"
     ]
    }
   ],
   "source": [
    "/etc/init.d/globus-gridftp-server force-reload"
   ]
  },
  {
   "cell_type": "markdown",
   "metadata": {},
   "source": [
    "<br>\n",
    "<br>\n",
    "<code> Install the python gridftp log parser"
   ]
  },
  {
   "cell_type": "code",
   "execution_count": 13,
   "metadata": {},
   "outputs": [
    {
     "name": "stdout",
     "output_type": "stream",
     "text": [
      "Collecting esmond-client\n",
      "  Downloading esmond_client-2.0.tar.gz (63kB)\n",
      "\u001b[K    100% |████████████████████████████████| 71kB 1.8MB/s \n",
      "\u001b[?25hCollecting requests (from esmond-client)\n",
      "  Downloading requests-2.18.4-py2.py3-none-any.whl (88kB)\n",
      "\u001b[K    100% |████████████████████████████████| 92kB 2.5MB/s \n",
      "\u001b[?25hRequirement already up-to-date: python-dateutil in /usr/lib/python2.7/site-packages (from esmond-client)\n",
      "Requirement already up-to-date: certifi>=2017.4.17 in /usr/lib/python2.7/site-packages (from requests->esmond-client)\n",
      "Collecting chardet<3.1.0,>=3.0.2 (from requests->esmond-client)\n",
      "  Downloading chardet-3.0.4-py2.py3-none-any.whl (133kB)\n",
      "\u001b[K    100% |████████████████████████████████| 143kB 2.3MB/s \n",
      "\u001b[?25hCollecting idna<2.7,>=2.5 (from requests->esmond-client)\n",
      "  Downloading idna-2.6-py2.py3-none-any.whl (56kB)\n",
      "\u001b[K    100% |████████████████████████████████| 61kB 3.0MB/s \n",
      "\u001b[?25hRequirement already up-to-date: urllib3<1.23,>=1.21.1 in /usr/lib/python2.7/site-packages (from requests->esmond-client)\n",
      "Requirement already up-to-date: six>=1.5 in /usr/lib/python2.7/site-packages (from python-dateutil->esmond-client)\n",
      "Installing collected packages: chardet, idna, requests, esmond-client\n",
      "  Found existing installation: chardet 2.2.1\n",
      "    Uninstalling chardet-2.2.1:\n",
      "      Successfully uninstalled chardet-2.2.1\n",
      "  Found existing installation: requests 2.6.0\n",
      "\u001b[31m    DEPRECATION: Uninstalling a distutils installed project (requests) has been deprecated and will be removed in a future version. This is due to the fact that uninstalling a distutils project will only partially uninstall the project.\u001b[0m\n",
      "    Uninstalling requests-2.6.0:\n",
      "      Successfully uninstalled requests-2.6.0\n",
      "  Running setup.py install for esmond-client ... \u001b[?25ldone\n",
      "\u001b[?25hSuccessfully installed chardet-3.0.4 esmond-client-2.0 idna-2.6 requests-2.18.4\n"
     ]
    }
   ],
   "source": [
    "pip install --upgrade esmond-client"
   ]
  },
  {
   "cell_type": "markdown",
   "metadata": {},
   "source": [
    "<br>\n",
    "<br>\n",
    "<code> Grab a helper script that gragefully times out the globus url copy if it exceeds a value in seconds."
   ]
  },
  {
   "cell_type": "code",
   "execution_count": 14,
   "metadata": {},
   "outputs": [
    {
     "name": "stdout",
     "output_type": "stream",
     "text": [
      "--2018-03-03 14:21:02--  http://fiona-10-01:8000/timeout.sh\n",
      "Resolving fiona-10-01 (fiona-10-01)... 137.164.48.196\n",
      "Connecting to fiona-10-01 (fiona-10-01)|137.164.48.196|:8000... connected.\n",
      "HTTP request sent, awaiting response... 200 OK\n",
      "Length: 2658 (2.6K) [application/x-sh]\n",
      "Saving to: ‘/usr/local/bin/timeout.sh’\n",
      "\n",
      "100%[======================================>] 2,658       --.-K/s   in 0s      \n",
      "\n",
      "2018-03-03 14:22:47 (176 MB/s) - ‘/usr/local/bin/timeout.sh’ saved [2658/2658]\n",
      "\n"
     ]
    }
   ],
   "source": [
    "mkdir /opt/esmond-gridftp/\n",
    "wget http://fiona-10-01:8000/timeout.sh -O /usr/local/bin/timeout.sh\n",
    "chmod 755 /usr/local/bin/timeout.sh"
   ]
  },
  {
   "cell_type": "markdown",
   "metadata": {},
   "source": [
    "<br>\n",
    "<br>\n",
    "<code> Wget the cron-load-gridftp.sh script and make it executable"
   ]
  },
  {
   "cell_type": "code",
   "execution_count": 15,
   "metadata": {},
   "outputs": [
    {
     "name": "stdout",
     "output_type": "stream",
     "text": [
      "--2018-03-03 14:22:47--  http://fiona-10-01:8000/cron-load-gridftp.sh\n",
      "Resolving fiona-10-01 (fiona-10-01)... 137.164.48.196\n",
      "Connecting to fiona-10-01 (fiona-10-01)|137.164.48.196|:8000... connected.\n",
      "HTTP request sent, awaiting response... 200 OK\n",
      "Length: 781 [application/x-sh]\n",
      "Saving to: ‘/usr/local/bin/cron-load-gridftp.sh’\n",
      "\n",
      "100%[======================================>] 781         --.-K/s   in 0s      \n",
      "\n",
      "2018-03-03 14:23:17 (86.6 MB/s) - ‘/usr/local/bin/cron-load-gridftp.sh’ saved [781/781]\n",
      "\n"
     ]
    }
   ],
   "source": [
    "wget http://fiona-10-01:8000/cron-load-gridftp.sh -O /usr/local/bin/cron-load-gridftp.sh\n",
    "chmod 755 /usr/local/bin/cron-load-gridftp.sh"
   ]
  },
  {
   "cell_type": "markdown",
   "metadata": {},
   "source": [
    "<br>\n",
    "<br>\n",
    "<code> Inspect the contents of the script."
   ]
  },
  {
   "cell_type": "code",
   "execution_count": 16,
   "metadata": {},
   "outputs": [
    {
     "name": "stdout",
     "output_type": "stream",
     "text": [
      "#!/bin/bash\n",
      "TMPFILE=`mktemp`\n",
      "python /usr/bin/esmond-ps-load-gridftp -p /opt/esmond-gridftp/prp-maddash.pickle -U http://fiona-10-02/esmond -u gridftp -k 252d94ad58d2ad08811bba190e441f9e37b65a50 -f /var/log/gridftp-transfer.log\n",
      "\n",
      "wget http://fiona-10-01:8000/cron-gridftp-transfer-mesh.sh -O /usr/local/bin/cron-gridftp-transfer-mesh.sh\n",
      "chmod 755 /usr/local/bin/cron-gridftp-transfer-mesh.sh\n",
      "sed -i '/'\"$HOSTNAME\"'/s/^/#/' /usr/local/bin/cron-gridftp-transfer-mesh.sh\n",
      "curl -s  http://fiona-10-01:8000/cron-mesh-timing.sh -o $TMPFILE\n",
      "MY_HOSTNAME=`hostname -f`\n",
      "\n",
      "grep -iq $MY_HOSTNAME $TMPFILE\n",
      "RC=$?\n",
      "\n",
      "if [[ $RC -eq 0 ]];then\n",
      "      grep -i $MY_HOSTNAME $TMPFILE > /etc/cron.d/cron-gridftp-transfer-mesh\n",
      "else\n",
      "      logger -t \"$0\" 'Error while downloading cronjob files'\n",
      "fi\n",
      "\n",
      "rm -f $TMPFILE"
     ]
    }
   ],
   "source": [
    "cat /usr/local/bin/cron-load-gridftp.sh"
   ]
  },
  {
   "cell_type": "markdown",
   "metadata": {},
   "source": [
    "<br>\n",
    "<br>\n",
    "<code> This script scrapes the gridftp log files for transfers that it has not included in its pickel file.<br>\n",
    "The results are uploaded to the central measurement archive running on fiona-10-02"
   ]
  },
  {
   "cell_type": "code",
   "execution_count": 17,
   "metadata": {},
   "outputs": [
    {
     "name": "stdout",
     "output_type": "stream",
     "text": [
      "ts=2018-03-03 14:23:33,378 event=main.start id=1520115813 no last record found\n",
      "ts=2018-03-03 14:23:33,379 event=main.process id=1520115813 No last record, processing /var/log/gridftp-transfer.log\n",
      "ts=2018-03-03 14:23:33,379 event=scan_and_load_netlogger.end id=1520115813 Loaded 0 records\n",
      "--2018-03-03 14:23:33--  http://fiona-10-01:8000/cron-gridftp-transfer-mesh.sh\n",
      "Resolving fiona-10-01 (fiona-10-01)... 137.164.48.196\n",
      "Connecting to fiona-10-01 (fiona-10-01)|137.164.48.196|:8000... connected.\n",
      "HTTP request sent, awaiting response... 200 OK\n",
      "Length: 3423 (3.3K) [application/x-sh]\n",
      "Saving to: ‘/usr/local/bin/cron-gridftp-transfer-mesh.sh’\n",
      "\n",
      "100%[======================================>] 3,423       --.-K/s   in 0s      \n",
      "\n",
      "2018-03-03 14:23:33 (116 MB/s) - ‘/usr/local/bin/cron-gridftp-transfer-mesh.sh’ saved [3423/3423]\n",
      "\n"
     ]
    }
   ],
   "source": [
    "/usr/local/bin/cron-load-gridftp.sh "
   ]
  },
  {
   "cell_type": "markdown",
   "metadata": {},
   "source": [
    "<br>\n",
    "<br>\n",
    "<code> Running this file the first time pulles in the cron-gridftp-transfer-mesh for the host."
   ]
  },
  {
   "cell_type": "code",
   "execution_count": 18,
   "metadata": {},
   "outputs": [],
   "source": [
    "chmod 644 /etc/cron.d/cron-gridftp-transfer-mesh"
   ]
  },
  {
   "cell_type": "markdown",
   "metadata": {},
   "source": [
    "<br>\n",
    "<br>\n",
    "<code> Inspect the cron job"
   ]
  },
  {
   "cell_type": "code",
   "execution_count": 19,
   "metadata": {},
   "outputs": [
    {
     "name": "stdout",
     "output_type": "stream",
     "text": [
      "15 5,11,17,23 * * * root /usr/local/bin/cron-gridftp-transfer-mesh.sh &> /var/log/cron-gridftp-transfer-mesh.log # gigiot-22.conf.cenic.org\n",
      "31 * * * * root /usr/local/bin/cron-load-gridftp.sh &> /var/log/cron-gridftp-load.log\t# gigiot-22.conf.cenic.org\n"
     ]
    }
   ],
   "source": [
    "cat /etc/cron.d/cron-gridftp-transfer-mesh"
   ]
  },
  {
   "cell_type": "markdown",
   "metadata": {},
   "source": [
    "<br>\n",
    "<br>\n",
    "<code> Install ZFS <br>\n",
    "https://github.com/zfsonlinux/zfs/wiki/RHEL-and-CentOS<br>\n",
    "This takes too long so we installed it during PXE boot"
   ]
  },
  {
   "cell_type": "raw",
   "metadata": {},
   "source": [
    "yum -y install http://download.zfsonlinux.org/epel/zfs-release.el7_4.noarch.rpm\n",
    "yum -y install --enablerepo=epel kernel-devel zfs"
   ]
  },
  {
   "cell_type": "markdown",
   "metadata": {},
   "source": [
    "<br>\n",
    "<br>\n",
    "<code> Once you see a zfs install sucessful you can load the kernel module"
   ]
  },
  {
   "cell_type": "raw",
   "metadata": {},
   "source": [
    "modprobe zfs"
   ]
  },
  {
   "cell_type": "markdown",
   "metadata": {},
   "source": [
    "<br>\n",
    "<br>\n",
    "<code> Now create a zfs pool<br>\n",
    "This will be changed to /dev/sda /dev/sdb<br>\n",
    "For now we are using the second 32GB SD card and its slower than the thumbdrives"
   ]
  },
  {
   "cell_type": "code",
   "execution_count": 20,
   "metadata": {},
   "outputs": [],
   "source": [
    "zpool create -f -m /data data -o ashift=12 /dev/sda /dev/sdb\n",
    "zfs set recordsize=1024K data\n",
    "zfs set checksum=off data\n",
    "zfs set atime=off data"
   ]
  },
  {
   "cell_type": "raw",
   "metadata": {},
   "source": [
    "zpool create -f -m /data data -o ashift=12 /dev/sda\n",
    "zfs set recordsize=1024K data\n",
    "zfs set checksum=off data\n",
    "zfs set atime=off data"
   ]
  },
  {
   "cell_type": "raw",
   "metadata": {},
   "source": [
    "zpool create -f -m /data data -o ashift=12 /dev/sdb\n",
    "zfs set recordsize=1024K data\n",
    "zfs set checksum=off data\n",
    "zfs set atime=off data"
   ]
  },
  {
   "cell_type": "raw",
   "metadata": {},
   "source": [
    "zpool create -f -m /data data -o ashift=12 /dev/mmcblk1\n",
    "zfs set recordsize=1024K data\n",
    "zfs set checksum=off data\n",
    "zfs set atime=off data"
   ]
  },
  {
   "cell_type": "code",
   "execution_count": 21,
   "metadata": {},
   "outputs": [],
   "source": [
    "zpool export data\n",
    "zpool import -d /dev/disk/by-id/ data"
   ]
  },
  {
   "cell_type": "markdown",
   "metadata": {},
   "source": [
    "<br>\n",
    "<br>\n",
    "<code> Enable and start the systemd service"
   ]
  },
  {
   "cell_type": "code",
   "execution_count": 22,
   "metadata": {},
   "outputs": [],
   "source": [
    "systemctl enable zfs-import-cache\n",
    "systemctl enable zfs-mount.service \n",
    "systemctl start zfs-import-cache\n",
    "systemctl start zfs-mount.service \n",
    "systemctl enable zfs.target\n",
    "systemctl enable zfs-share.service \n",
    "systemctl start zfs.target\n",
    "systemctl start zfs-share.service "
   ]
  },
  {
   "cell_type": "markdown",
   "metadata": {},
   "source": [
    "<br>\n",
    "<br>\n",
    "<code> Add firewalld rules for globus-connect-server"
   ]
  },
  {
   "cell_type": "code",
   "execution_count": 23,
   "metadata": {},
   "outputs": [
    {
     "name": "stdout",
     "output_type": "stream",
     "text": [
      "success\n",
      "success\n",
      "success\n",
      "success\n",
      "success\n",
      "success\n"
     ]
    }
   ],
   "source": [
    "firewall-cmd --permanent --zone=public --add-port=2811/tcp\n",
    "firewall-cmd --permanent --zone=public --add-port=7512/tcp\n",
    "firewall-cmd --permanent --zone=public --add-port=50000-51000/tcp\n",
    "firewall-cmd --permanent --zone=public --add-port=50000-51000/udp\n",
    "firewall-cmd --permanent --zone=public --add-port=2223/tcp\n",
    "firewall-cmd --reload"
   ]
  },
  {
   "cell_type": "markdown",
   "metadata": {},
   "source": [
    "<br>\n",
    "<br>\n",
    "<code> Wget the 1G.dat test file"
   ]
  },
  {
   "cell_type": "code",
   "execution_count": 24,
   "metadata": {},
   "outputs": [
    {
     "name": "stdout",
     "output_type": "stream",
     "text": [
      "--2018-03-03 14:26:16--  http://fiona-10-01:8000/1G.dat\n",
      "Resolving fiona-10-01 (fiona-10-01)... 137.164.48.196\n",
      "Connecting to fiona-10-01 (fiona-10-01)|137.164.48.196|:8000... connected.\n",
      "HTTP request sent, awaiting response... 200 OK\n",
      "Length: 1073741824 (1.0G) [application/octet-stream]\n",
      "Saving to: ‘/data/1G.dat’\n",
      "\n",
      "100%[====================================>] 1,073,741,824 36.2MB/s   in 23s    \n",
      "\n",
      "2018-03-03 14:26:39 (44.2 MB/s) - ‘/data/1G.dat’ saved [1073741824/1073741824]\n",
      "\n"
     ]
    }
   ],
   "source": [
    "wget http://fiona-10-01:8000/1G.dat -O /data/1G.dat"
   ]
  },
  {
   "cell_type": "markdown",
   "metadata": {},
   "source": [
    "<br>\n",
    "<br>\n",
    "<code> Execute the transfer mesh to run a test that pulls the 1G.dat file from every other host in the mesh."
   ]
  },
  {
   "cell_type": "code",
   "execution_count": 25,
   "metadata": {},
   "outputs": [
    {
     "name": "stdout",
     "output_type": "stream",
     "text": [
      "#!/bin/bash\n",
      "export GLOBUS_TCP_PORT_RANGE=50000,51000\n",
      "export GLOBUS_TCP_SOURCE_RANGE=50000,51000\n",
      "/usr/local/bin/timeout.sh -t 2000 globus-url-copy -vb -fast ftp://gigiot-01.conf.cenic.org:2811/data/1G.dat file:///data/1G.out\n",
      "/usr/local/bin/timeout.sh -t 2000 globus-url-copy -vb -fast ftp://gigiot-02.conf.cenic.org:2811/data/1G.dat file:///data/1G.out\n",
      "/usr/local/bin/timeout.sh -t 2000 globus-url-copy -vb -fast ftp://gigiot-03.conf.cenic.org:2811/data/1G.dat file:///data/1G.out\n",
      "/usr/local/bin/timeout.sh -t 2000 globus-url-copy -vb -fast ftp://gigiot-04.conf.cenic.org:2811/data/1G.dat file:///data/1G.out\n",
      "/usr/local/bin/timeout.sh -t 2000 globus-url-copy -vb -fast ftp://gigiot-05.conf.cenic.org:2811/data/1G.dat file:///data/1G.out\n",
      "/usr/local/bin/timeout.sh -t 2000 globus-url-copy -vb -fast ftp://gigiot-06.conf.cenic.org:2811/data/1G.dat file:///data/1G.out\n",
      "/usr/local/bin/timeout.sh -t 2000 globus-url-copy -vb -fast ftp://gigiot-07.conf.cenic.org:2811/data/1G.dat file:///data/1G.out\n",
      "/usr/local/bin/timeout.sh -t 2000 globus-url-copy -vb -fast ftp://gigiot-08.conf.cenic.org:2811/data/1G.dat file:///data/1G.out\n",
      "/usr/local/bin/timeout.sh -t 2000 globus-url-copy -vb -fast ftp://gigiot-09.conf.cenic.org:2811/data/1G.dat file:///data/1G.out\n",
      "/usr/local/bin/timeout.sh -t 2000 globus-url-copy -vb -fast ftp://gigiot-10.conf.cenic.org:2811/data/1G.dat file:///data/1G.out\n",
      "/usr/local/bin/timeout.sh -t 2000 globus-url-copy -vb -fast ftp://gigiot-11.conf.cenic.org:2811/data/1G.dat file:///data/1G.out\n",
      "/usr/local/bin/timeout.sh -t 2000 globus-url-copy -vb -fast ftp://gigiot-12.conf.cenic.org:2811/data/1G.dat file:///data/1G.out\n",
      "/usr/local/bin/timeout.sh -t 2000 globus-url-copy -vb -fast ftp://gigiot-13.conf.cenic.org:2811/data/1G.dat file:///data/1G.out\n",
      "/usr/local/bin/timeout.sh -t 2000 globus-url-copy -vb -fast ftp://gigiot-14.conf.cenic.org:2811/data/1G.dat file:///data/1G.out\n",
      "/usr/local/bin/timeout.sh -t 2000 globus-url-copy -vb -fast ftp://gigiot-15.conf.cenic.org:2811/data/1G.dat file:///data/1G.out\n",
      "/usr/local/bin/timeout.sh -t 2000 globus-url-copy -vb -fast ftp://gigiot-16.conf.cenic.org:2811/data/1G.dat file:///data/1G.out\n",
      "/usr/local/bin/timeout.sh -t 2000 globus-url-copy -vb -fast ftp://gigiot-17.conf.cenic.org:2811/data/1G.dat file:///data/1G.out\n",
      "/usr/local/bin/timeout.sh -t 2000 globus-url-copy -vb -fast ftp://gigiot-18.conf.cenic.org:2811/data/1G.dat file:///data/1G.out\n",
      "/usr/local/bin/timeout.sh -t 2000 globus-url-copy -vb -fast ftp://gigiot-19.conf.cenic.org:2811/data/1G.dat file:///data/1G.out\n",
      "/usr/local/bin/timeout.sh -t 2000 globus-url-copy -vb -fast ftp://gigiot-20.conf.cenic.org:2811/data/1G.dat file:///data/1G.out\n",
      "/usr/local/bin/timeout.sh -t 2000 globus-url-copy -vb -fast ftp://gigiot-21.conf.cenic.org:2811/data/1G.dat file:///data/1G.out\n",
      "#/usr/local/bin/timeout.sh -t 2000 globus-url-copy -vb -fast ftp://gigiot-22.conf.cenic.org:2811/data/1G.dat file:///data/1G.out\n",
      "/usr/local/bin/timeout.sh -t 2000 globus-url-copy -vb -fast ftp://gigiot-23.conf.cenic.org:2811/data/1G.dat file:///data/1G.out\n",
      "/usr/local/bin/timeout.sh -t 2000 globus-url-copy -vb -fast ftp://gigiot-24.conf.cenic.org:2811/data/1G.dat file:///data/1G.out\n",
      "/usr/local/bin/timeout.sh -t 2000 globus-url-copy -vb -fast ftp://gigiot-25.conf.cenic.org:2811/data/1G.dat file:///data/1G.out\n",
      "/usr/local/bin/timeout.sh -t 2000 globus-url-copy -vb -fast ftp://gigiot-26.conf.cenic.org:2811/data/1G.dat file:///data/1G.out"
     ]
    }
   ],
   "source": [
    "cat /usr/local/bin/cron-gridftp-transfer-mesh.sh"
   ]
  },
  {
   "cell_type": "markdown",
   "metadata": {},
   "source": [
    "<br>\n",
    "<br>\n",
    "<code> Load the results from other hosts pulling data from your host <br>\n",
    "This is run by cron but you can run by hand any time to push results to the central measurement archive"
   ]
  },
  {
   "cell_type": "code",
   "execution_count": 26,
   "metadata": {},
   "outputs": [
    {
     "name": "stdout",
     "output_type": "stream",
     "text": [
      "ts=2018-03-03 14:27:24,391 event=main.start id=1520116044 no last record found\n",
      "ts=2018-03-03 14:27:24,391 event=main.process id=1520116044 No last record, processing /var/log/gridftp-transfer.log\n",
      "ts=2018-03-03 14:27:24,391 event=scan_and_load_netlogger.end id=1520116044 Loaded 0 records\n",
      "--2018-03-03 14:27:24--  http://fiona-10-01:8000/cron-gridftp-transfer-mesh.sh\n",
      "Resolving fiona-10-01 (fiona-10-01)... 137.164.48.196\n",
      "Connecting to fiona-10-01 (fiona-10-01)|137.164.48.196|:8000... connected.\n",
      "HTTP request sent, awaiting response... 200 OK\n",
      "Length: 3423 (3.3K) [application/x-sh]\n",
      "Saving to: ‘/usr/local/bin/cron-gridftp-transfer-mesh.sh’\n",
      "\n",
      "100%[======================================>] 3,423       --.-K/s   in 0s      \n",
      "\n",
      "2018-03-03 14:27:24 (186 MB/s) - ‘/usr/local/bin/cron-gridftp-transfer-mesh.sh’ saved [3423/3423]\n",
      "\n"
     ]
    }
   ],
   "source": [
    "/usr/local/bin/cron-load-gridftp.sh"
   ]
  },
  {
   "cell_type": "markdown",
   "metadata": {},
   "source": [
    "<br>\n",
    "<br>\n",
    "<code> Install basic debugging service for bwctld-server"
   ]
  },
  {
   "cell_type": "code",
   "execution_count": 27,
   "metadata": {},
   "outputs": [
    {
     "name": "stdout",
     "output_type": "stream",
     "text": [
      "Loaded plugins: fastestmirror\n",
      "Cleaning repos: base epel extras globus perfsonar updates zfs\n",
      "Cleaning up everything\n",
      "Maybe you want: rm -rf /var/cache/yum, to also free up space taken by orphaned data from disabled or removed repos\n",
      "Cleaning up list of fastest mirrors\n",
      "Loaded plugins: fastestmirror\n",
      "base                                                     | 3.6 kB     00:00     \n",
      "epel                                                     | 4.7 kB     00:00     \n",
      "extras                                                   | 3.4 kB     00:00     \n",
      "globus                                                   | 2.9 kB     00:00     \n",
      "perfsonar                                                | 2.9 kB     00:00     \n",
      "updates                                                  | 3.4 kB     00:00     \n",
      "zfs                                                      | 2.9 kB     00:00     \n",
      "(1/10): base/group_gz                                      | 156 kB   00:00     \n",
      "(2/10): epel/group_gz                                      | 266 kB   00:00     \n",
      "(3/10): epel/updateinfo                                    | 900 kB   00:00     \n",
      "(4/10): base/primary_db                                    | 5.7 MB   00:00     \n",
      "(5/10): epel/primary_db                                    | 6.3 MB   00:00     \n",
      "(6/10): perfsonar/primary_db                               | 299 kB   00:00     \n",
      "(7/10): updates/primary_db                                 | 6.0 MB   00:00     \n",
      "(8/10): extras/primary_db                                  | 166 kB   00:00     \n",
      "(9/10): globus/primary_db                                  | 636 kB   00:00     \n",
      "(10/10): zfs/x86_64/primary_db                             |  55 kB   00:00     \n",
      "Determining fastest mirrors\n",
      "Package iperf3-3.3-1.el7.centos.x86_64 already installed and latest version\n",
      "Package bwctl-1.6.5-1.el7.centos.x86_64 already installed and latest version\n",
      "Package nuttcp-8.1.4-1.el7.centos.x86_64 already installed and latest version\n",
      "Nothing to do\n"
     ]
    }
   ],
   "source": [
    "yum clean all\n",
    "yum -y install iperf3 bwctl nuttcp"
   ]
  },
  {
   "cell_type": "markdown",
   "metadata": {},
   "source": [
    "<br>\n",
    "<br>\n",
    "<code> Enable and start the bwctld-server systemd service"
   ]
  },
  {
   "cell_type": "code",
   "execution_count": 28,
   "metadata": {},
   "outputs": [],
   "source": [
    "systemctl enable bwctl-server\n",
    "systemctl start bwctl-server"
   ]
  },
  {
   "cell_type": "markdown",
   "metadata": {},
   "source": [
    "<br>\n",
    "<br>\n",
    "<code> Add firewall rules for bwctld ports"
   ]
  },
  {
   "cell_type": "code",
   "execution_count": 29,
   "metadata": {},
   "outputs": [
    {
     "name": "stdout",
     "output_type": "stream",
     "text": [
      "success\n",
      "success\n",
      "success\n",
      "\u001b[91mWarning: ALREADY_ENABLED: 6001-6200:tcp\u001b[00m\n",
      "success\n",
      "\u001b[91mWarning: ALREADY_ENABLED: 6001-6200:udp\u001b[00m\n",
      "success\n",
      "success\n"
     ]
    }
   ],
   "source": [
    "firewall-cmd --permanent --zone=public --add-port=4823/tcp\n",
    "firewall-cmd --permanent --zone=public --add-port=5001-5900/tcp\n",
    "firewall-cmd --permanent --zone=public --add-port=5001-5900/udp\n",
    "firewall-cmd --permanent --zone=public --add-port=6001-6200/tcp\n",
    "firewall-cmd --permanent --zone=public --add-port=6001-6200/udp\n",
    "firewall-cmd --reload"
   ]
  },
  {
   "cell_type": "markdown",
   "metadata": {},
   "source": [
    "<br>\n",
    "<br>\n",
    "<code> Show current firewalld config"
   ]
  },
  {
   "cell_type": "code",
   "execution_count": 30,
   "metadata": {},
   "outputs": [
    {
     "name": "stdout",
     "output_type": "stream",
     "text": [
      "public (active)\n",
      "  target: default\n",
      "  icmp-block-inversion: no\n",
      "  interfaces: enp3s0\n",
      "  sources: \n",
      "  services: ssh dhcpv6-client ntp http https\n",
      "  ports: 5001-5300/udp 5001-5300/tcp 5301-5600/udp 5301-5600/tcp 5601-5900/udp 5601-5900/tcp 6001-6200/udp 6001-6200/tcp 8760-9960/udp 8760-9960/tcp 8888/tcp 2811/tcp 7512/tcp 50000-51000/tcp 50000-51000/udp 2223/tcp 4823/tcp 5001-5900/tcp 5001-5900/udp\n",
      "  protocols: \n",
      "  masquerade: no\n",
      "  forward-ports: \n",
      "  source-ports: \n",
      "  icmp-blocks: \n",
      "  rich rules: \n",
      "\t\n"
     ]
    }
   ],
   "source": [
    "firewall-cmd --list-all"
   ]
  },
  {
   "cell_type": "markdown",
   "metadata": {},
   "source": [
    "<br>\n",
    "<br>\n",
    "Load FIONA-Tuning for later lab."
   ]
  },
  {
   "cell_type": "code",
   "execution_count": 31,
   "metadata": {},
   "outputs": [
    {
     "name": "stdout",
     "output_type": "stream",
     "text": [
      "--2018-03-03 14:28:30--  http://fiona-10-01:8000/FIONA-Tuning.ipynb\n",
      "Resolving fiona-10-01 (fiona-10-01)... 137.164.48.196\n",
      "Connecting to fiona-10-01 (fiona-10-01)|137.164.48.196|:8000... connected.\n",
      "HTTP request sent, awaiting response... 200 OK\n",
      "Length: 1429 (1.4K) [application/octet-stream]\n",
      "Saving to: ‘FIONA-Tuning.ipynb’\n",
      "\n",
      "100%[======================================>] 1,429       --.-K/s   in 0s      \n",
      "\n",
      "2018-03-03 14:28:30 (117 MB/s) - ‘FIONA-Tuning.ipynb’ saved [1429/1429]\n",
      "\n"
     ]
    }
   ],
   "source": [
    "wget http://fiona-10-01:8000/FIONA-Tuning.ipynb"
   ]
  },
  {
   "cell_type": "markdown",
   "metadata": {},
   "source": [
    "<br>\n",
    "<br>\n",
    "Install the perfSONAR local repo."
   ]
  },
  {
   "cell_type": "code",
   "execution_count": 32,
   "metadata": {},
   "outputs": [],
   "source": [
    "cat << EOF > /etc/yum.repos.d/perfsonar.repo\n",
    "[perfsonar]\n",
    "name=Extra Packages for Enterprise Linux 7 - $basearch\n",
    "baseurl=http://137.164.48.196/centos-7-x86_64/perfsonar\n",
    "failovermethod=priority\n",
    "enabled=1\n",
    "EOF"
   ]
  },
  {
   "cell_type": "code",
   "execution_count": null,
   "metadata": {},
   "outputs": [],
   "source": []
  }
 ],
 "metadata": {
  "kernelspec": {
   "display_name": "Bash",
   "language": "bash",
   "name": "bash"
  },
  "language_info": {
   "codemirror_mode": "shell",
   "file_extension": ".sh",
   "mimetype": "text/x-sh",
   "name": "bash"
  }
 },
 "nbformat": 4,
 "nbformat_minor": 2
}
