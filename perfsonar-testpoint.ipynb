{
 "cells": [
  {
   "cell_type": "markdown",
   "metadata": {},
   "source": [
    "# perfSONAR testpoint installation and initial configuration\n",
    "<p>the following steps will install the `perfsonar-testpoint` bundle</p>\n",
    "<p>depending on the goals for this node, additional tasks include:\n",
    "<ul>\n",
    "<li>configuring this perfSONAR (pS) node to participate in a mesh</li>\n",
    "<li>setting up this node to participate in GridFTP disk-to-disk testing</p>\n",
    "</ul>"
   ]
  },
  {
   "cell_type": "markdown",
   "metadata": {},
   "source": [
    "## pull in the perfsonar-testpoint notebook\n",
    "<p>using your terminal app log into your fionette as root, and cd into /root</p>\n",
    "<p>use wget to transfer the perfsonar-testpoint notebook<pre>\n",
    "wget http://fiona-10-01:8000/perfsonar-testpoint.ipynb -O perfsonar-testpoint.ipynb\n",
    "</pre>\n",
    "<p>launch jupyter lab</p>\n",
    "<pre>jupyter lab --allow-root --ip=`your.fionette.ip`</pre>"
   ]
  },
  {
   "cell_type": "markdown",
   "metadata": {},
   "source": [
    "## first we will prepare the system for installing the `perfsonar-testpoint` bundle"
   ]
  },
  {
   "cell_type": "code",
   "execution_count": 1,
   "metadata": {},
   "outputs": [
    {
     "name": "stdout",
     "output_type": "stream",
     "text": [
      "3.10.0-693.17.1.el7.x86_64\n"
     ]
    }
   ],
   "source": [
    "uname -r"
   ]
  },
  {
   "cell_type": "code",
   "execution_count": 2,
   "metadata": {},
   "outputs": [
    {
     "name": "stdout",
     "output_type": "stream",
     "text": [
      "setenforce: SELinux is disabled\n"
     ]
    },
    {
     "ename": "",
     "evalue": "1",
     "execution_count": 2,
     "output_type": "error",
     "traceback": []
    }
   ],
   "source": [
    "sed -i 's/SELINUX=enforcing/SELINUX=disabled/g' /etc/selinux/config\n",
    "setenforce 0"
   ]
  },
  {
   "cell_type": "markdown",
   "metadata": {},
   "source": [
    "## setup NTP, bind-utils, traceroute (if not already present)"
   ]
  },
  {
   "cell_type": "code",
   "execution_count": 3,
   "metadata": {},
   "outputs": [
    {
     "name": "stdout",
     "output_type": "stream",
     "text": [
      "Loaded plugins: fastestmirror\n",
      "Loading mirror speeds from cached hostfile\n",
      "Package ntp-4.2.6p5-25.el7.centos.2.x86_64 already installed and latest version\n",
      "Package 32:bind-utils-9.9.4-51.el7_4.2.x86_64 already installed and latest version\n",
      "Package 3:traceroute-2.0.22-2.el7.x86_64 already installed and latest version\n",
      "Nothing to do\n"
     ]
    }
   ],
   "source": [
    "yum -y install ntp bind-utils traceroute"
   ]
  },
  {
   "cell_type": "code",
   "execution_count": 4,
   "metadata": {},
   "outputs": [],
   "source": [
    "systemctl enable ntpd"
   ]
  },
  {
   "cell_type": "markdown",
   "metadata": {},
   "source": [
    "# adjust `/etc/ntp.conf` for the workshop NTP server\n",
    "<p>review the contents of the file</p>"
   ]
  },
  {
   "cell_type": "code",
   "execution_count": 5,
   "metadata": {},
   "outputs": [
    {
     "name": "stdout",
     "output_type": "stream",
     "text": [
      "# /etc/ntp.conf, configuration for NTP\n",
      "# by default act only as a basic NTP client\n",
      "restrict -4 default nomodify nopeer noquery notrap\n",
      "restrict -6 default nomodify nopeer noquery notrap\n",
      "# allow NTP messages from the loopback address, useful for debugging\n",
      "restrict 127.0.0.1\n",
      "restrict ::1\n",
      "logfile /var/log/ntpd\n",
      "driftfile /var/lib/ntp/ntp.drift\n",
      "statsdir  /var/lib/ntp/\n",
      "statistics loopstats peerstats clockstats\n",
      "filegen loopstats file loopstats type day enable\n",
      "filegen peerstats file peerstats type day enable\n",
      "filegen clockstats file clockstats type day enable\n",
      "\n",
      "# You should have at least 4 NTP servers\n",
      "\n",
      "# server ntp-ucla.usno.navy.mil iburst   # Naval Observatory - Los Angeles, CA USA \n",
      "\n",
      "# server owamp.losa.net.internet2.edu iburst   # Internet2 - Los Angeles, CA USA \n",
      "\n",
      "# server owamp.salt.net.internet2.edu iburst   # Internet2 - Salt Lake City, UT USA \n",
      "\n",
      "# server saturn.es.net iburst   # ESnet - Sunnyvale, CA USA \n",
      "\n",
      "# server time3.chpc.utah.edu iburst   # UTAH - Server #3, University of Utah, Salt Lake City, UT USA \n",
      "\n",
      "server 137.164.48.196 iburst\n"
     ]
    }
   ],
   "source": [
    "cat /etc/ntp.conf"
   ]
  },
  {
   "cell_type": "markdown",
   "metadata": {},
   "source": [
    "<p>using your favorite editor, comment out NTP servers outside of the workshop and add an entry for the local NTP server</p>\n",
    "<pre>\n",
    "#server time.apple.com\n",
    "server 137.164.48.196 iburst\n",
    "</pre>"
   ]
  },
  {
   "cell_type": "markdown",
   "metadata": {},
   "source": [
    "## verify the changes"
   ]
  },
  {
   "cell_type": "code",
   "execution_count": 6,
   "metadata": {},
   "outputs": [
    {
     "name": "stdout",
     "output_type": "stream",
     "text": [
      "# /etc/ntp.conf, configuration for NTP\n",
      "# by default act only as a basic NTP client\n",
      "restrict -4 default nomodify nopeer noquery notrap\n",
      "restrict -6 default nomodify nopeer noquery notrap\n",
      "# allow NTP messages from the loopback address, useful for debugging\n",
      "restrict 127.0.0.1\n",
      "restrict ::1\n",
      "logfile /var/log/ntpd\n",
      "driftfile /var/lib/ntp/ntp.drift\n",
      "statsdir  /var/lib/ntp/\n",
      "statistics loopstats peerstats clockstats\n",
      "filegen loopstats file loopstats type day enable\n",
      "filegen peerstats file peerstats type day enable\n",
      "filegen clockstats file clockstats type day enable\n",
      "\n",
      "# You should have at least 4 NTP servers\n",
      "\n",
      "# server ntp-ucla.usno.navy.mil iburst   # Naval Observatory - Los Angeles, CA USA \n",
      "\n",
      "# server owamp.losa.net.internet2.edu iburst   # Internet2 - Los Angeles, CA USA \n",
      "\n",
      "# server owamp.salt.net.internet2.edu iburst   # Internet2 - Salt Lake City, UT USA \n",
      "\n",
      "# server saturn.es.net iburst   # ESnet - Sunnyvale, CA USA \n",
      "\n",
      "# server time3.chpc.utah.edu iburst   # UTAH - Server #3, University of Utah, Salt Lake City, UT USA \n",
      "\n",
      "server 137.164.48.196 iburst\n"
     ]
    }
   ],
   "source": [
    "cat /etc/ntp.conf"
   ]
  },
  {
   "cell_type": "code",
   "execution_count": 7,
   "metadata": {},
   "outputs": [],
   "source": [
    "systemctl start ntpd"
   ]
  },
  {
   "cell_type": "code",
   "execution_count": 8,
   "metadata": {},
   "outputs": [
    {
     "name": "stdout",
     "output_type": "stream",
     "text": [
      "\u001b[1;32m●\u001b[0m ntpd.service - Network Time Service\n",
      "   Loaded: loaded (/usr/lib/systemd/system/ntpd.service; enabled; vendor preset: disabled)\n",
      "   Active: \u001b[1;32mactive (running)\u001b[0m since Sat 2018-03-03 15:09:02 PST; 16min ago\n",
      " Main PID: 1131 (ntpd)\n",
      "   CGroup: /system.slice/ntpd.service\n",
      "           └─1131 /usr/sbin/ntpd -u ntp:ntp -g\n",
      "\n",
      "Mar 03 15:09:02 gigiot-22 systemd[1]: Starting Network Time Service...\n",
      "Mar 03 15:09:02 gigiot-22 ntpd[1117]: \u001b[1;39mntpd 4.2.6p5@1.2349-o Wed Apr 12 21:24:06 UTC 2017 (1)\u001b[0m\n",
      "Mar 03 15:09:02 gigiot-22 ntpd[1131]: \u001b[1;39mproto: precision = 0.100 usec\u001b[0m\n",
      "Mar 03 15:09:02 gigiot-22 ntpd[1131]: 0.0.0.0 c01d 0d kern kernel time sync enabled\n",
      "Mar 03 15:09:02 gigiot-22 systemd[1]: Started Network Time Service.\n"
     ]
    }
   ],
   "source": [
    "systemctl status ntpd -l"
   ]
  },
  {
   "cell_type": "code",
   "execution_count": 9,
   "metadata": {},
   "outputs": [
    {
     "name": "stdout",
     "output_type": "stream",
     "text": [
      "     remote           refid      st t when poll reach   delay   offset  jitter\n",
      "==============================================================================\n",
      "*fiona-10-01     69.89.207.99     2 u   41   64  373    0.171  -10.920   1.729\n",
      "associd=0 status=0614 leap_none, sync_ntp, 1 event, freq_mode,\n",
      "version=\"ntpd 4.2.6p5@1.2349-o Wed Apr 12 21:24:06 UTC 2017 (1)\",\n",
      "processor=\"x86_64\", system=\"Linux/3.10.0-693.17.1.el7.x86_64\", leap=00,\n",
      "stratum=3, precision=-23, rootdelay=67.828, rootdisp=56.109,\n",
      "refid=137.164.48.196,\n",
      "reftime=de45ac86.7c28226f  Sat, Mar  3 2018 15:21:42.484,\n",
      "clock=de45ad78.3a570451  Sat, Mar  3 2018 15:25:44.227, peer=44920, tc=6,\n",
      "mintc=3, offset=-24.116, frequency=-0.575, sys_jitter=0.000,\n",
      "clk_jitter=9.107, clk_wander=0.203\n"
     ]
    }
   ],
   "source": [
    "ntpq -p -c rv"
   ]
  },
  {
   "cell_type": "markdown",
   "metadata": {},
   "source": [
    "## determine default interface"
   ]
  },
  {
   "cell_type": "code",
   "execution_count": 10,
   "metadata": {},
   "outputs": [
    {
     "name": "stdout",
     "output_type": "stream",
     "text": [
      "enp3s0\n"
     ]
    }
   ],
   "source": [
    "default_iface=$(awk '$2 == 00000000 { print $1 }' /proc/net/route)\n",
    "echo $default_iface"
   ]
  },
  {
   "cell_type": "markdown",
   "metadata": {},
   "source": [
    "## confirm `hostname -f` responds with FQHN"
   ]
  },
  {
   "cell_type": "code",
   "execution_count": 11,
   "metadata": {},
   "outputs": [
    {
     "name": "stdout",
     "output_type": "stream",
     "text": [
      "gigiot-22.conf.cenic.org\n"
     ]
    }
   ],
   "source": [
    "hostname -f"
   ]
  },
  {
   "cell_type": "markdown",
   "metadata": {},
   "source": [
    "## use hostnamectl to set if its not a valid FQHN"
   ]
  },
  {
   "cell_type": "code",
   "execution_count": 12,
   "metadata": {},
   "outputs": [
    {
     "name": "stdout",
     "output_type": "stream",
     "text": [
      "gigiot-22.\n"
     ]
    }
   ],
   "source": [
    "myip=$(ip addr show dev $default_iface | grep 'inet '| awk '{print $2}' | awk -F \"/\" '{print $1}')\n",
    "dig -x $myip +short"
   ]
  },
  {
   "cell_type": "code",
   "execution_count": 13,
   "metadata": {},
   "outputs": [
    {
     "name": "stdout",
     "output_type": "stream",
     "text": [
      "gigiot-22.conf.cenic.org\n"
     ]
    }
   ],
   "source": [
    "hostnamectl set-hostname `dig -x $myip +short`\n",
    "hostname -f"
   ]
  },
  {
   "cell_type": "markdown",
   "metadata": {},
   "source": [
    "## view current link settings on default interface"
   ]
  },
  {
   "cell_type": "code",
   "execution_count": 14,
   "metadata": {},
   "outputs": [
    {
     "name": "stdout",
     "output_type": "stream",
     "text": [
      "2: enp3s0: <BROADCAST,MULTICAST,UP,LOWER_UP> mtu 9000 qdisc fq state UP mode DEFAULT qlen 10000\n",
      "    link/ether 40:8d:5c:f4:b6:c6 brd ff:ff:ff:ff:ff:ff\n",
      "qdisc noqueue 0: dev lo root refcnt 2 \n",
      "qdisc fq 0: dev enp3s0 root refcnt 2 limit 10000p flow_limit 100p buckets 1024 quantum 18028 initial_quantum 90140 \n"
     ]
    }
   ],
   "source": [
    "ip link show dev $default_iface\n",
    "tc qdisc show"
   ]
  },
  {
   "cell_type": "markdown",
   "metadata": {},
   "source": [
    "## create a custom udev rules file for tuning the NIC configuration "
   ]
  },
  {
   "cell_type": "code",
   "execution_count": 15,
   "metadata": {},
   "outputs": [],
   "source": [
    "if [ ! -f /etc/udev/rules.d/80-prp-fiona-ws--ps-netconf.rules ]; then\n",
    "cat > /etc/udev/rules.d/80-prp-fiona-ws--ps-netconf.rules <<EOL\n",
    "KERNEL==\"$default_iface\", RUN+=\"/sbin/ip link set %k mtu 9000\"\n",
    "KERNEL==\"$default_iface\", RUN+=\"/sbin/ip link set %k txqueuelen 10000\"\n",
    "EOL\n",
    "chmod 644 /etc/udev/rules.d/80-prp-fiona-ws--ps-netconf.rules\n",
    "fi"
   ]
  },
  {
   "cell_type": "markdown",
   "metadata": {},
   "source": [
    "## Use udevadm to reload the rules and trigger the action"
   ]
  },
  {
   "cell_type": "code",
   "execution_count": 16,
   "metadata": {},
   "outputs": [],
   "source": [
    "/sbin/udevadm control --reload-rules\n",
    "/sbin/udevadm trigger"
   ]
  },
  {
   "cell_type": "markdown",
   "metadata": {},
   "source": [
    "## confirm new NIC tuning settings are present"
   ]
  },
  {
   "cell_type": "code",
   "execution_count": 17,
   "metadata": {},
   "outputs": [
    {
     "name": "stdout",
     "output_type": "stream",
     "text": [
      "2: enp3s0: <BROADCAST,MULTICAST,UP,LOWER_UP> mtu 9000 qdisc fq state UP mode DEFAULT qlen 10000\n",
      "    link/ether 40:8d:5c:f4:b6:c6 brd ff:ff:ff:ff:ff:ff\n",
      "qdisc noqueue 0: dev lo root refcnt 2 \n",
      "qdisc fq 0: dev enp3s0 root refcnt 2 limit 10000p flow_limit 100p buckets 1024 quantum 18028 initial_quantum 90140 \n"
     ]
    }
   ],
   "source": [
    "ip link show dev $default_iface\n",
    "tc qdisc show"
   ]
  },
  {
   "cell_type": "markdown",
   "metadata": {},
   "source": [
    "## Create a custom sysctl file with desired settings"
   ]
  },
  {
   "cell_type": "code",
   "execution_count": 18,
   "metadata": {},
   "outputs": [],
   "source": [
    "if [ ! -f /etc/sysctl.d/80-prp-fiona-ws--ps-sysctl.conf ]; then\n",
    "cat>/etc/sysctl.d/80-prp-fiona-ws--ps-sysctl.conf <<EOL\n",
    "net.core.rmem_max = 67108864 \n",
    "net.core.wmem_max = 67108864 \n",
    "net.ipv4.tcp_rmem = 4096 87380 33554432\n",
    "net.ipv4.tcp_wmem = 4096 65536 33554432\n",
    "net.ipv4.tcp_congestion_control=htcp\n",
    "EOL\n",
    "fi\n",
    "chmod 644 /etc/sysctl.d/80-prp-fiona-ws--ps-sysctl.conf"
   ]
  },
  {
   "cell_type": "markdown",
   "metadata": {},
   "source": [
    "## Adjust kernel boot-time defaults and rebuild grub.cfg"
   ]
  },
  {
   "cell_type": "code",
   "execution_count": 19,
   "metadata": {},
   "outputs": [],
   "source": [
    "if ! grep --quiet default_hugepagesz /etc/default/grub; then\n",
    "\tsed -i 's/^GRUB_CMDLINE_LINUX=\\\"[^\\\"]*/& default_hugepagesz=1GB hugepagesz=1GB hugepages=8 elevator=noop processor.max_cstate=1 intel_iommu=off idle=poll intel_idle.max_cstate=0 nosoftlockup mce=ignore_mce/' /etc/default/grub\n",
    "\tgrub2-mkconfig -o /boot/grub2/grub.cfg\n",
    "fi"
   ]
  },
  {
   "cell_type": "code",
   "execution_count": 20,
   "metadata": {},
   "outputs": [
    {
     "name": "stdout",
     "output_type": "stream",
     "text": [
      "GRUB_TIMEOUT=5\n",
      "GRUB_DISTRIBUTOR=\"$(sed 's, release .*$,,g' /etc/system-release)\"\n",
      "GRUB_DEFAULT=saved\n",
      "GRUB_DISABLE_SUBMENU=true\n",
      "GRUB_TERMINAL_OUTPUT=\"console\"\n",
      "GRUB_CMDLINE_LINUX=\"crashkernel=auto rhgb quiet default_hugepagesz=1GB hugepagesz=1GB hugepages=8 elevator=noop processor.max_cstate=1 intel_iommu=off idle=poll intel_idle.max_cstate=0 nosoftlockup mce=ignore_mce\"\n",
      "GRUB_DISABLE_RECOVERY=\"true\"\n"
     ]
    }
   ],
   "source": [
    "cat /etc/default/grub"
   ]
  },
  {
   "cell_type": "markdown",
   "metadata": {},
   "source": [
    "# SAVE your work NOW"
   ]
  },
  {
   "cell_type": "code",
   "execution_count": null,
   "metadata": {},
   "outputs": [],
   "source": [
    "reboot"
   ]
  },
  {
   "cell_type": "markdown",
   "metadata": {},
   "source": [
    "## confirm intended tuning settings are present "
   ]
  },
  {
   "cell_type": "code",
   "execution_count": 1,
   "metadata": {},
   "outputs": [
    {
     "name": "stdout",
     "output_type": "stream",
     "text": [
      "2: enp3s0: <BROADCAST,MULTICAST,UP,LOWER_UP> mtu 9000 qdisc fq state UP mode DEFAULT qlen 10000\n",
      "qdisc noqueue 0: dev lo root refcnt 2 \n",
      "qdisc fq 0: dev enp3s0 root refcnt 2 limit 10000p flow_limit 100p buckets 1024 quantum 18028 initial_quantum 90140 \n"
     ]
    }
   ],
   "source": [
    "ip link show | grep UP | grep -v lo\n",
    "tc qdisc show"
   ]
  },
  {
   "cell_type": "markdown",
   "metadata": {},
   "source": [
    "## stop & disable a few un-wanted services and start & enable the `tuned` service"
   ]
  },
  {
   "cell_type": "code",
   "execution_count": 2,
   "metadata": {},
   "outputs": [],
   "source": [
    "systemctl stop NetworkManager \n",
    "systemctl disable NetworkManager\n",
    "systemctl stop irqbalance.service\n",
    "systemctl disable irqbalance.service\n",
    "systemctl stop wpa_supplicant\n",
    "systemctl disable wpa_supplicant\n",
    "systemctl start tuned\n",
    "systemctl enable tuned\n"
   ]
  },
  {
   "cell_type": "markdown",
   "metadata": {},
   "source": [
    "## check the current clock rate of the CPU cores"
   ]
  },
  {
   "cell_type": "code",
   "execution_count": 3,
   "metadata": {},
   "outputs": [
    {
     "name": "stdout",
     "output_type": "stream",
     "text": [
      "model name\t: Intel(R) Pentium(R) CPU  N3710  @ 1.60G\u001b[01;31m\u001b[KHz\u001b[m\u001b[K\n",
      "cpu M\u001b[01;31m\u001b[KHz\u001b[m\u001b[K\t\t: 1601.000\n",
      "model name\t: Intel(R) Pentium(R) CPU  N3710  @ 1.60G\u001b[01;31m\u001b[KHz\u001b[m\u001b[K\n",
      "cpu M\u001b[01;31m\u001b[KHz\u001b[m\u001b[K\t\t: 1601.000\n",
      "model name\t: Intel(R) Pentium(R) CPU  N3710  @ 1.60G\u001b[01;31m\u001b[KHz\u001b[m\u001b[K\n",
      "cpu M\u001b[01;31m\u001b[KHz\u001b[m\u001b[K\t\t: 1601.000\n",
      "model name\t: Intel(R) Pentium(R) CPU  N3710  @ 1.60G\u001b[01;31m\u001b[KHz\u001b[m\u001b[K\n",
      "cpu M\u001b[01;31m\u001b[KHz\u001b[m\u001b[K\t\t: 1601.000\n"
     ]
    }
   ],
   "source": [
    "cat /proc/cpuinfo | grep Hz"
   ]
  },
  {
   "cell_type": "markdown",
   "metadata": {},
   "source": [
    "## use `tuned-adm` to show the current active profile"
   ]
  },
  {
   "cell_type": "code",
   "execution_count": 4,
   "metadata": {},
   "outputs": [
    {
     "name": "stdout",
     "output_type": "stream",
     "text": [
      "Current active profile: throughput-performance\n"
     ]
    }
   ],
   "source": [
    "tuned-adm active"
   ]
  },
  {
   "cell_type": "markdown",
   "metadata": {},
   "source": [
    "## set `network-throughput` at the active profile"
   ]
  },
  {
   "cell_type": "code",
   "execution_count": 5,
   "metadata": {},
   "outputs": [],
   "source": [
    "tuned-adm profile network-throughput"
   ]
  },
  {
   "cell_type": "markdown",
   "metadata": {},
   "source": [
    "## re-check the clock rate of the CPU cores"
   ]
  },
  {
   "cell_type": "code",
   "execution_count": 6,
   "metadata": {},
   "outputs": [
    {
     "name": "stdout",
     "output_type": "stream",
     "text": [
      "model name\t: Intel(R) Pentium(R) CPU  N3710  @ 1.60G\u001b[01;31m\u001b[KHz\u001b[m\u001b[K\n",
      "cpu M\u001b[01;31m\u001b[KHz\u001b[m\u001b[K\t\t: 1601.000\n",
      "model name\t: Intel(R) Pentium(R) CPU  N3710  @ 1.60G\u001b[01;31m\u001b[KHz\u001b[m\u001b[K\n",
      "cpu M\u001b[01;31m\u001b[KHz\u001b[m\u001b[K\t\t: 1601.000\n",
      "model name\t: Intel(R) Pentium(R) CPU  N3710  @ 1.60G\u001b[01;31m\u001b[KHz\u001b[m\u001b[K\n",
      "cpu M\u001b[01;31m\u001b[KHz\u001b[m\u001b[K\t\t: 1601.000\n",
      "model name\t: Intel(R) Pentium(R) CPU  N3710  @ 1.60G\u001b[01;31m\u001b[KHz\u001b[m\u001b[K\n",
      "cpu M\u001b[01;31m\u001b[KHz\u001b[m\u001b[K\t\t: 1601.000\n"
     ]
    }
   ],
   "source": [
    "cat /proc/cpuinfo | grep Hz"
   ]
  },
  {
   "cell_type": "markdown",
   "metadata": {},
   "source": [
    "## Install the perfSONAR testpoint bundle (perfsonar-testpoint) and additional tools\n",
    "\n",
    "<p>The assumption is that CentOS 7 is installed on your machine and that you have access to the necessary tools and configuration to install the perfsonar-testpoint software bundle.</p>\n",
    "<p>First we will install some addditional and supplementary tools, if not already present on the system</p>"
   ]
  },
  {
   "cell_type": "markdown",
   "metadata": {},
   "source": [
    "## Installing the perfSONAR testpoint bundle\n",
    "<p>The instructions below are based on the perfSONAR CentOS Bundle Installation page, here:</p>\n",
    "<p>http://docs.perfsonar.net/install_centos.html</p>\n",
    "<p>with modifications for this workshop</p>\n",
    "## First we need to install the Extra Packages for Enterprise Linux (EPEL)"
   ]
  },
  {
   "cell_type": "markdown",
   "metadata": {},
   "source": [
    "## point yum to local perfSONAR repo "
   ]
  },
  {
   "cell_type": "code",
   "execution_count": 7,
   "metadata": {},
   "outputs": [],
   "source": [
    "cat << EOF > /etc/yum.repos.d/perfsonar.repo\n",
    "[perfsonar]\n",
    "name=Extra Packages for Enterprise Linux 7 - $basearch\n",
    "baseurl=http://137.164.48.196/centos-7-x86_64/perfsonar\n",
    "failovermethod=priority\n",
    "enabled=1\n",
    "gpgcheck=0\n",
    "EOF"
   ]
  },
  {
   "cell_type": "markdown",
   "metadata": {},
   "source": [
    "## Refresh the yum cache"
   ]
  },
  {
   "cell_type": "code",
   "execution_count": 8,
   "metadata": {},
   "outputs": [
    {
     "name": "stdout",
     "output_type": "stream",
     "text": [
      "Loaded plugins: fastestmirror\n",
      "Cleaning repos: base epel extras globus perfsonar updates zfs\n",
      "Cleaning up everything\n",
      "Maybe you want: rm -rf /var/cache/yum, to also free up space taken by orphaned data from disabled or removed repos\n",
      "Cleaning up list of fastest mirrors\n"
     ]
    }
   ],
   "source": [
    "yum clean all"
   ]
  },
  {
   "cell_type": "markdown",
   "metadata": {},
   "source": [
    "## Now we can proceed to install the `perfsonar-testpoint` bundle:\n",
    "<p>NOTE: due to the extensive output from installing this bundle, the call to yum includes the `-q` switch to set quiet mode.  output to `stderr` and any non-zero exit code will appear in the cell below.</p>\n",
    "<p>NOTE: in a terminal session, run <pre>tail -f /var/log/yum.log</pre> to track the bundle installation</p>"
   ]
  },
  {
   "cell_type": "code",
   "execution_count": 9,
   "metadata": {},
   "outputs": [
    {
     "name": "stdout",
     "output_type": "stream",
     "text": [
      "Package perfsonar-testpoint-4.0.2.1-1.el7.centos.noarch already installed and latest version\n"
     ]
    }
   ],
   "source": [
    "yum -y -q install perfsonar-testpoint"
   ]
  },
  {
   "cell_type": "markdown",
   "metadata": {},
   "source": [
    "## install optional `perfsonar-testpoint` packages"
   ]
  },
  {
   "cell_type": "code",
   "execution_count": 10,
   "metadata": {},
   "outputs": [
    {
     "name": "stdout",
     "output_type": "stream",
     "text": [
      "Loaded plugins: fastestmirror\n",
      "Loading mirror speeds from cached hostfile\n",
      "Package perfsonar-toolkit-ntp-4.0.2.2-1.el7.centos.noarch already installed and latest version\n",
      "Package perfsonar-toolkit-security-4.0.2.2-1.el7.centos.noarch already installed and latest version\n",
      "Package perfsonar-toolkit-sysctl-4.0.2.2-1.el7.centos.noarch already installed and latest version\n",
      "Package perfsonar-toolkit-servicewatcher-4.0.2.2-1.el7.centos.noarch already installed and latest version\n",
      "Package perfsonar-toolkit-systemenv-testpoint-4.0.2.2-1.el7.centos.noarch already installed and latest version\n",
      "Nothing to do\n"
     ]
    }
   ],
   "source": [
    "yum -y install perfsonar-toolkit-ntp perfsonar-toolkit-security perfsonar-toolkit-sysctl perfsonar-toolkit-servicewatcher perfsonar-toolkit-systemenv-testpoint"
   ]
  },
  {
   "cell_type": "markdown",
   "metadata": {},
   "source": [
    "## reload the firewall ruleset"
   ]
  },
  {
   "cell_type": "code",
   "execution_count": 11,
   "metadata": {},
   "outputs": [
    {
     "name": "stdout",
     "output_type": "stream",
     "text": [
      "success\n"
     ]
    }
   ],
   "source": [
    "firewall-cmd --reload"
   ]
  },
  {
   "cell_type": "markdown",
   "metadata": {},
   "source": [
    "## check current active firewall rules"
   ]
  },
  {
   "cell_type": "code",
   "execution_count": 12,
   "metadata": {},
   "outputs": [
    {
     "name": "stdout",
     "output_type": "stream",
     "text": [
      "public (active)\n",
      "  target: default\n",
      "  icmp-block-inversion: no\n",
      "  interfaces: enp3s0\n",
      "  sources: \n",
      "  services: ssh dhcpv6-client ntp http https\n",
      "  ports: 5001-5300/udp 5001-5300/tcp 5301-5600/udp 5301-5600/tcp 5601-5900/udp 5601-5900/tcp 6001-6200/udp 6001-6200/tcp 8760-9960/udp 8760-9960/tcp 8888/tcp 2811/tcp 7512/tcp 50000-51000/tcp 50000-51000/udp 2223/tcp 4823/tcp 5001-5900/tcp 5001-5900/udp\n",
      "  protocols: \n",
      "  masquerade: no\n",
      "  forward-ports: \n",
      "  source-ports: \n",
      "  icmp-blocks: \n",
      "  rich rules: \n",
      "\t\n"
     ]
    }
   ],
   "source": [
    "firewall-cmd --list-all"
   ]
  },
  {
   "cell_type": "markdown",
   "metadata": {},
   "source": [
    "## NOTE: if the output of entry for `services:` entry does include `bwctl` or `owamp-control` re-run the script to configure the firewall rules for perfSONAR"
   ]
  },
  {
   "cell_type": "code",
   "execution_count": 13,
   "metadata": {},
   "outputs": [
    {
     "name": "stdout",
     "output_type": "stream",
     "text": [
      "Adding perfSONAR firewall rules\n"
     ]
    }
   ],
   "source": [
    "/usr/lib/perfsonar/scripts/configure_firewall install"
   ]
  },
  {
   "cell_type": "markdown",
   "metadata": {},
   "source": [
    "## re-check firewall rules"
   ]
  },
  {
   "cell_type": "code",
   "execution_count": 14,
   "metadata": {},
   "outputs": [
    {
     "name": "stdout",
     "output_type": "stream",
     "text": [
      "public (active)\n",
      "  target: default\n",
      "  icmp-block-inversion: no\n",
      "  interfaces: enp3s0\n",
      "  sources: \n",
      "  services: ssh dhcpv6-client ntp http https traceroute bwctl owamp-control oppd\n",
      "  ports: 5001-5300/udp 5001-5300/tcp 5301-5600/udp 5301-5600/tcp 5601-5900/udp 5601-5900/tcp 6001-6200/udp 6001-6200/tcp 8760-9960/udp 8760-9960/tcp 8888/tcp 2811/tcp 7512/tcp 50000-51000/tcp 50000-51000/udp 2223/tcp 4823/tcp 5001-5900/tcp 5001-5900/udp\n",
      "  protocols: \n",
      "  masquerade: no\n",
      "  forward-ports: \n",
      "  source-ports: \n",
      "  icmp-blocks: \n",
      "  rich rules: \n",
      "\t\n"
     ]
    }
   ],
   "source": [
    "firewall-cmd --list-all"
   ]
  },
  {
   "cell_type": "markdown",
   "metadata": {},
   "source": [
    "## use `systemctl` to check the status of processes"
   ]
  },
  {
   "cell_type": "code",
   "execution_count": 15,
   "metadata": {},
   "outputs": [
    {
     "name": "stdout",
     "output_type": "stream",
     "text": [
      "\u001b[1;32m●\u001b[0m postgresql-9.5.service - PostgreSQL 9.5 database server\n",
      "   Loaded: loaded (/usr/lib/systemd/system/postgresql-9.5.service; enabled; vendor preset: disabled)\n",
      "   Active: \u001b[1;32mactive (running)\u001b[0m since Sat 2018-03-03 15:28:06 PST; 5min ago\n",
      " Main PID: 1923 (postgres)\n",
      "   CGroup: /system.slice/postgresql-9.5.service\n",
      "           ├─1923 /usr/pgsql-9.5/bin/postgres -D /var/lib/pgsql/9.5/data\n",
      "           ├─1962 postgres: logger process                              \n",
      "           ├─1971 postgres: checkpointer process                        \n",
      "           ├─1972 postgres: writer process                              \n",
      "           ├─1973 postgres: wal writer process                          \n",
      "           ├─1974 postgres: autovacuum launcher process                 \n",
      "           ├─1975 postgres: stats collector process                     \n",
      "           ├─2444 postgres: pscheduler pscheduler 127.0.0.1(36250) idle \n",
      "           ├─2446 postgres: pscheduler pscheduler 127.0.0.1(36252) idle \n",
      "           ├─2447 postgres: pscheduler pscheduler 127.0.0.1(36254) idle \n",
      "           ├─2448 postgres: pscheduler pscheduler 127.0.0.1(36256) idle \n",
      "           ├─2449 postgres: pscheduler pscheduler 127.0.0.1(36258) idle \n",
      "           ├─2451 postgres: pscheduler pscheduler 127.0.0.1(36260) idle \n",
      "           ├─2454 postgres: pscheduler pscheduler 127.0.0.1(36262) idle \n",
      "           ├─2455 postgres: pscheduler pscheduler 127.0.0.1(36264) idle \n",
      "           └─2458 postgres: pscheduler pscheduler 127.0.0.1(36266) idle \n",
      "\n",
      "Mar 03 15:28:05 gigiot-22 systemd[1]: Starting PostgreSQL 9.5 database server...\n",
      "Mar 03 15:28:05 gigiot-22 pg_ctl[1893]: < 2018-03-03 15:28:05.858 PST >LOG:  redirecting log output to logging collector process\n",
      "Mar 03 15:28:05 gigiot-22 pg_ctl[1893]: < 2018-03-03 15:28:05.858 PST >HINT:  Future log output will appear in directory \"pg_log\".\n",
      "Mar 03 15:28:06 gigiot-22 systemd[1]: Started PostgreSQL 9.5 database server.\n",
      "\u001b[1;32m●\u001b[0m httpd.service - The Apache HTTP Server\n",
      "   Loaded: loaded (/usr/lib/systemd/system/httpd.service; enabled; vendor preset: disabled)\n",
      "   Active: \u001b[1;32mactive (running)\u001b[0m since Sat 2018-03-03 15:28:06 PST; 5min ago\n",
      "     Docs: man:httpd(8)\n",
      "           man:apachectl(8)\n",
      " Main PID: 1869 (httpd)\n",
      "   Status: \"Total requests: 41; Current requests/sec: 0; Current traffic:   0 B/sec\"\n",
      "   CGroup: /system.slice/httpd.service\n",
      "           ├─1869 /usr/sbin/httpd -DFOREGROUND\n",
      "           ├─2043 /usr/sbin/httpd -DFOREGROUND\n",
      "           ├─2045 /usr/sbin/httpd -DFOREGROUND\n",
      "           ├─2046 /usr/sbin/httpd -DFOREGROUND\n",
      "           ├─2047 /usr/sbin/httpd -DFOREGROUND\n",
      "           ├─2048 /usr/sbin/httpd -DFOREGROUND\n",
      "           ├─2049 /usr/sbin/httpd -DFOREGROUND\n",
      "           ├─2050 /usr/sbin/httpd -DFOREGROUND\n",
      "           ├─2053 /usr/sbin/httpd -DFOREGROUND\n",
      "           ├─2054 /usr/sbin/httpd -DFOREGROUND\n",
      "           ├─2055 /usr/sbin/httpd -DFOREGROUND\n",
      "           ├─2057 /usr/sbin/httpd -DFOREGROUND\n",
      "           ├─2058 /usr/sbin/httpd -DFOREGROUND\n",
      "           ├─2061 /usr/sbin/httpd -DFOREGROUND\n",
      "           ├─2062 /usr/sbin/httpd -DFOREGROUND\n",
      "           ├─2065 /usr/sbin/httpd -DFOREGROUND\n",
      "           ├─2066 /usr/sbin/httpd -DFOREGROUND\n",
      "           ├─2069 /usr/sbin/httpd -DFOREGROUND\n",
      "           ├─2769 /usr/sbin/httpd -DFOREGROUND\n",
      "           ├─2835 /usr/sbin/httpd -DFOREGROUND\n",
      "           ├─2836 /usr/sbin/httpd -DFOREGROUND\n",
      "           └─2916 /usr/sbin/httpd -DFOREGROUND\n",
      "\n",
      "Mar 03 15:28:05 gigiot-22 systemd[1]: Starting The Apache HTTP Server...\n",
      "Mar 03 15:28:06 gigiot-22 httpd[1869]: AH00558: httpd: Could not reliably determine the server's fully qualified domain name, using 137.164.48.222. Set the 'ServerName' directive globally to suppress this message\n",
      "Mar 03 15:28:06 gigiot-22 systemd[1]: Started The Apache HTTP Server.\n",
      "Mar 03 15:28:14 gigiot-22 httpd[2057]: pscheduler-api INFO     Started\n",
      "Mar 03 15:28:17 gigiot-22 httpd[2057]: pscheduler-api INFO     Limits loaded from /etc/pscheduler/limits.conf\n",
      "\u001b[1;32m●\u001b[0m pscheduler-scheduler.service - pScheduler server - scheduler\n",
      "   Loaded: loaded (/usr/lib/systemd/system/pscheduler-scheduler.service; enabled; vendor preset: disabled)\n",
      "   Active: \u001b[1;32mactive (running)\u001b[0m since Sat 2018-03-03 15:28:06 PST; 5min ago\n",
      " Main PID: 2338 (scheduler)\n",
      "   CGroup: /system.slice/pscheduler-scheduler.service\n",
      "           └─2338 /usr/bin/python /usr/libexec/pscheduler/daemons/scheduler --daemon --pid-file /var/run/pscheduler-scheduler.pid --dsn @/etc/pscheduler/database/database-dsn\n",
      "\n",
      "Mar 03 15:28:06 gigiot-22 systemd[1]: Starting pScheduler server - scheduler...\n",
      "Mar 03 15:28:06 gigiot-22 systemd[1]: Started pScheduler server - scheduler.\n",
      "Mar 03 15:28:09 gigiot-22 scheduler[2338]: scheduler INFO     Started\n",
      "\n",
      "\u001b[1;32m●\u001b[0m pscheduler-ticker.service - pScheduler server - ticker\n",
      "   Loaded: loaded (/usr/lib/systemd/system/pscheduler-ticker.service; enabled; vendor preset: disabled)\n",
      "   Active: \u001b[1;32mactive (running)\u001b[0m since Sat 2018-03-03 15:28:06 PST; 5min ago\n",
      " Main PID: 2341 (ticker)\n",
      "   CGroup: /system.slice/pscheduler-ticker.service\n",
      "           └─2341 /usr/bin/python /usr/libexec/pscheduler/daemons/ticker --daemon --pid-file /var/run/pscheduler-ticker.pid --dsn @/etc/pscheduler/database/database-dsn\n",
      "\n",
      "Mar 03 15:28:06 gigiot-22 systemd[1]: Starting pScheduler server - ticker...\n",
      "Mar 03 15:28:06 gigiot-22 systemd[1]: Started pScheduler server - ticker.\n",
      "\n",
      "\u001b[1;32m●\u001b[0m pscheduler-archiver.service - pScheduler server - archiver\n",
      "   Loaded: loaded (/usr/lib/systemd/system/pscheduler-archiver.service; enabled; vendor preset: disabled)\n",
      "   Active: \u001b[1;32mactive (running)\u001b[0m since Sat 2018-03-03 15:28:06 PST; 5min ago\n",
      " Main PID: 2320 (archiver)\n",
      "   CGroup: /system.slice/pscheduler-archiver.service\n",
      "           └─2320 /usr/bin/python /usr/libexec/pscheduler/daemons/archiver --daemon --pid-file /var/run/pscheduler-archiver.pid --dsn @/etc/pscheduler/database/database-dsn\n",
      "\n",
      "Mar 03 15:28:06 gigiot-22 systemd[1]: Starting pScheduler server - archiver...\n",
      "Mar 03 15:28:06 gigiot-22 systemd[1]: Started pScheduler server - archiver.\n",
      "Mar 03 15:28:09 gigiot-22 archiver[2320]: archiver INFO     Started\n",
      "\n",
      "\u001b[1;32m●\u001b[0m pscheduler-runner.service - pScheduler server - runner\n",
      "   Loaded: loaded (/usr/lib/systemd/system/pscheduler-runner.service; enabled; vendor preset: disabled)\n",
      "   Active: \u001b[1;32mactive (running)\u001b[0m since Sat 2018-03-03 15:28:07 PST; 5min ago\n",
      " Main PID: 2343 (runner)\n",
      "   CGroup: /system.slice/pscheduler-runner.service\n",
      "           └─2343 /usr/bin/python /usr/libexec/pscheduler/daemons/runner --daemon --pid-file /var/run/pscheduler-runner.pid --dsn @/etc/pscheduler/database/database-dsn\n",
      "\n",
      "Mar 03 15:28:06 gigiot-22 systemd[1]: Starting pScheduler server - runner...\n",
      "Mar 03 15:28:07 gigiot-22 systemd[1]: Started pScheduler server - runner.\n",
      "Mar 03 15:28:09 gigiot-22 runner[2343]: runner INFO     Started\n",
      "\u001b[1;32m●\u001b[0m perfsonar-meshconfig-agent.service - perfSONAR MeshConfig Agent\n",
      "   Loaded: loaded (/usr/lib/systemd/system/perfsonar-meshconfig-agent.service; enabled; vendor preset: disabled)\n",
      "   Active: \u001b[1;32mactive (running)\u001b[0m since Sat 2018-03-03 15:28:13 PST; 5min ago\n",
      " Main PID: 2740 (perfsonar_meshc)\n",
      "   CGroup: /system.slice/perfsonar-meshconfig-agent.service\n",
      "           └─2740 perfsonar_meshconfig_agent.p\n",
      "\n",
      "Mar 03 15:28:07 gigiot-22 systemd[1]: Starting perfSONAR MeshConfig Agent...\n",
      "Mar 03 15:28:13 gigiot-22 systemd[1]: Started perfSONAR MeshConfig Agent.\n"
     ]
    }
   ],
   "source": [
    "systemctl status postgresql-9.5 -l\n",
    "systemctl status httpd -l\n",
    "systemctl status pscheduler* -l\n",
    "systemctl status perfsonar-meshconfig-agent -l"
   ]
  },
  {
   "cell_type": "markdown",
   "metadata": {},
   "source": [
    "## Save your work NOW\n",
    "## Reboot the server and verify everything came up as expected\n",
    "## You will need to re-login to your machine and launch the notebook"
   ]
  },
  {
   "cell_type": "code",
   "execution_count": null,
   "metadata": {},
   "outputs": [],
   "source": [
    "reboot"
   ]
  },
  {
   "cell_type": "code",
   "execution_count": 1,
   "metadata": {},
   "outputs": [
    {
     "name": "stdout",
     "output_type": "stream",
     "text": [
      "\u001b[1;32m●\u001b[0m postgresql-9.5.service - PostgreSQL 9.5 database server\n",
      "   Loaded: loaded (/usr/lib/systemd/system/postgresql-9.5.service; enabled; vendor preset: disabled)\n",
      "   Active: \u001b[1;32mactive (running)\u001b[0m since Sat 2018-03-03 15:34:52 PST; 1min 10s ago\n",
      "  Process: 1870 ExecStart=/usr/pgsql-9.5/bin/pg_ctl start -D ${PGDATA} -s -w -t 300 (code=exited, status=0/SUCCESS)\n",
      "  Process: 1839 ExecStartPre=/usr/pgsql-9.5/bin/postgresql95-check-db-dir ${PGDATA} (code=exited, status=0/SUCCESS)\n",
      " Main PID: 1898 (postgres)\n",
      "   CGroup: /system.slice/postgresql-9.5.service\n",
      "           ├─1898 /usr/pgsql-9.5/bin/postgres -D /var/lib/pgsql/9.5/data\n",
      "           ├─1954 postgres: logger process                              \n",
      "           ├─1967 postgres: checkpointer process                        \n",
      "           ├─1968 postgres: writer process                              \n",
      "           ├─1969 postgres: wal writer process                          \n",
      "           ├─1970 postgres: autovacuum launcher process                 \n",
      "           ├─1971 postgres: stats collector process                     \n",
      "           ├─2414 postgres: pscheduler pscheduler 127.0.0.1(43118) idle \n",
      "           ├─2417 postgres: pscheduler pscheduler 127.0.0.1(43120) idle \n",
      "           ├─2419 postgres: pscheduler pscheduler 127.0.0.1(43122) idle \n",
      "           ├─2420 postgres: pscheduler pscheduler 127.0.0.1(43124) idle \n",
      "           ├─2426 postgres: pscheduler pscheduler 127.0.0.1(43126) idle \n",
      "           ├─2428 postgres: pscheduler pscheduler 127.0.0.1(43128) idle \n",
      "           ├─2438 postgres: pscheduler pscheduler 127.0.0.1(43130) idle \n",
      "           ├─2443 postgres: pscheduler pscheduler 127.0.0.1(43132) idle \n",
      "           └─2446 postgres: pscheduler pscheduler 127.0.0.1(43134) idle \n",
      "\n",
      "Mar 03 15:34:51 gigiot-22 systemd[1]: Starting PostgreSQL 9.5 database server...\n",
      "Mar 03 15:34:51 gigiot-22 pg_ctl[1870]: < 2018-03-03 15:34:51.992 PST >LOG:  redirecting log output to logging collector process\n",
      "Mar 03 15:34:51 gigiot-22 pg_ctl[1870]: < 2018-03-03 15:34:51.992 PST >HINT:  Future log output will appear in directory \"pg_log\".\n",
      "Mar 03 15:34:52 gigiot-22 systemd[1]: Started PostgreSQL 9.5 database server.\n",
      "\u001b[1;32m●\u001b[0m httpd.service - The Apache HTTP Server\n",
      "   Loaded: loaded (/usr/lib/systemd/system/httpd.service; enabled; vendor preset: disabled)\n",
      "   Active: \u001b[1;32mactive (running)\u001b[0m since Sat 2018-03-03 15:34:52 PST; 1min 10s ago\n",
      "     Docs: man:httpd(8)\n",
      "           man:apachectl(8)\n",
      " Main PID: 1849 (httpd)\n",
      "   Status: \"Total requests: 39; Current requests/sec: 0; Current traffic:   0 B/sec\"\n",
      "   CGroup: /system.slice/httpd.service\n",
      "           ├─1849 /usr/sbin/httpd -DFOREGROUND\n",
      "           ├─2022 /usr/sbin/httpd -DFOREGROUND\n",
      "           ├─2023 /usr/sbin/httpd -DFOREGROUND\n",
      "           ├─2026 /usr/sbin/httpd -DFOREGROUND\n",
      "           ├─2027 /usr/sbin/httpd -DFOREGROUND\n",
      "           ├─2028 /usr/sbin/httpd -DFOREGROUND\n",
      "           ├─2029 /usr/sbin/httpd -DFOREGROUND\n",
      "           ├─2030 /usr/sbin/httpd -DFOREGROUND\n",
      "           ├─2031 /usr/sbin/httpd -DFOREGROUND\n",
      "           ├─2032 /usr/sbin/httpd -DFOREGROUND\n",
      "           ├─2034 /usr/sbin/httpd -DFOREGROUND\n",
      "           ├─2035 /usr/sbin/httpd -DFOREGROUND\n",
      "           ├─2040 /usr/sbin/httpd -DFOREGROUND\n",
      "           ├─2042 /usr/sbin/httpd -DFOREGROUND\n",
      "           ├─2043 /usr/sbin/httpd -DFOREGROUND\n",
      "           ├─2045 /usr/sbin/httpd -DFOREGROUND\n",
      "           ├─2046 /usr/sbin/httpd -DFOREGROUND\n",
      "           ├─2050 /usr/sbin/httpd -DFOREGROUND\n",
      "           ├─2760 /usr/sbin/httpd -DFOREGROUND\n",
      "           ├─2834 /usr/sbin/httpd -DFOREGROUND\n",
      "           └─2835 /usr/sbin/httpd -DFOREGROUND\n",
      "\n",
      "Mar 03 15:34:51 gigiot-22 systemd[1]: Starting The Apache HTTP Server...\n",
      "Mar 03 15:34:52 gigiot-22 httpd[1849]: AH00558: httpd: Could not reliably determine the server's fully qualified domain name, using 137.164.48.222. Set the 'ServerName' directive globally to suppress this message\n",
      "Mar 03 15:34:52 gigiot-22 systemd[1]: Started The Apache HTTP Server.\n",
      "Mar 03 15:35:00 gigiot-22 httpd[2035]: pscheduler-api INFO     Started\n",
      "Mar 03 15:35:03 gigiot-22 httpd[2035]: pscheduler-api INFO     Limits loaded from /etc/pscheduler/limits.conf\n",
      "\u001b[1;32m●\u001b[0m pscheduler-archiver.service - pScheduler server - archiver\n",
      "   Loaded: loaded (/usr/lib/systemd/system/pscheduler-archiver.service; enabled; vendor preset: disabled)\n",
      "   Active: \u001b[1;32mactive (running)\u001b[0m since Sat 2018-03-03 15:34:53 PST; 1min 10s ago\n",
      "  Process: 2307 ExecStartPre=/bin/sh -c if [ -r /etc/pscheduler/daemons/archiver.conf ]; then opts=$(sed -e 's/#.*$//' /etc/pscheduler/daemons/archiver.conf); echo OPTIONS=$opts > /var/run/pscheduler-archiver.options; chown pscheduler:pscheduler /var/run/pscheduler-archiver.options; fi (code=exited, status=0/SUCCESS)\n",
      "  Process: 2300 ExecStartPre=/usr/bin/mv /var/run/pscheduler-archiver.pid.build /var/run/pscheduler-archiver.pid (code=exited, status=0/SUCCESS)\n",
      "  Process: 2294 ExecStartPre=/usr/bin/chown pscheduler:pscheduler /var/run/pscheduler-archiver.pid.build (code=exited, status=0/SUCCESS)\n",
      "  Process: 2281 ExecStartPre=/usr/bin/touch -f /var/run/pscheduler-archiver.pid.build (code=exited, status=0/SUCCESS)\n",
      "  Process: 2276 ExecStartPre=/bin/rm -f /var/run/pscheduler-archiver.pid.build (code=exited, status=0/SUCCESS)\n",
      " Main PID: 2331 (archiver)\n",
      "   CGroup: /system.slice/pscheduler-archiver.service\n",
      "           └─2331 /usr/bin/python /usr/libexec/pscheduler/daemons/archiver --daemon --pid-file /var/run/pscheduler-archiver.pid --dsn @/etc/pscheduler/database/database-dsn\n",
      "\n",
      "Mar 03 15:34:52 gigiot-22 systemd[1]: Starting pScheduler server - archiver...\n",
      "Mar 03 15:34:53 gigiot-22 systemd[1]: Started pScheduler server - archiver.\n",
      "Mar 03 15:34:54 gigiot-22 archiver[2331]: archiver INFO     Started\n",
      "\n",
      "\u001b[1;32m●\u001b[0m pscheduler-runner.service - pScheduler server - runner\n",
      "   Loaded: loaded (/usr/lib/systemd/system/pscheduler-runner.service; enabled; vendor preset: disabled)\n",
      "   Active: \u001b[1;32mactive (running)\u001b[0m since Sat 2018-03-03 15:34:53 PST; 1min 10s ago\n",
      "  Process: 2304 ExecStartPre=/bin/sh -c if [ -r /etc/pscheduler/daemons/runner.conf ]; then opts=$(sed -e 's/#.*$//' /etc/pscheduler/daemons/runner.conf); echo OPTIONS=$opts > /var/run/pscheduler-runner.options; chown pscheduler:pscheduler /var/run/pscheduler-runner.options; fi (code=exited, status=0/SUCCESS)\n",
      "  Process: 2299 ExecStartPre=/usr/bin/mv /var/run/pscheduler-runner.pid.build /var/run/pscheduler-runner.pid (code=exited, status=0/SUCCESS)\n",
      "  Process: 2291 ExecStartPre=/usr/bin/chown pscheduler:pscheduler /var/run/pscheduler-runner.pid.build (code=exited, status=0/SUCCESS)\n",
      "  Process: 2286 ExecStartPre=/usr/bin/touch -f /var/run/pscheduler-runner.pid.build (code=exited, status=0/SUCCESS)\n",
      "  Process: 2279 ExecStartPre=/bin/rm -f /var/run/pscheduler-runner.pid.build (code=exited, status=0/SUCCESS)\n",
      " Main PID: 2333 (runner)\n",
      "   CGroup: /system.slice/pscheduler-runner.service\n",
      "           └─2333 /usr/bin/python /usr/libexec/pscheduler/daemons/runner --daemon --pid-file /var/run/pscheduler-runner.pid --dsn @/etc/pscheduler/database/database-dsn\n",
      "\n",
      "Mar 03 15:34:52 gigiot-22 systemd[1]: Starting pScheduler server - runner...\n",
      "Mar 03 15:34:53 gigiot-22 systemd[1]: Started pScheduler server - runner.\n",
      "Mar 03 15:34:54 gigiot-22 runner[2333]: runner INFO     Started\n",
      "\n",
      "\u001b[1;32m●\u001b[0m pscheduler-ticker.service - pScheduler server - ticker\n",
      "   Loaded: loaded (/usr/lib/systemd/system/pscheduler-ticker.service; enabled; vendor preset: disabled)\n",
      "   Active: \u001b[1;32mactive (running)\u001b[0m since Sat 2018-03-03 15:34:53 PST; 1min 10s ago\n",
      "  Process: 2302 ExecStartPre=/bin/sh -c if [ -r /etc/pscheduler/daemons/ticker.conf ]; then opts=$(sed -e 's/#.*$//' /etc/pscheduler/daemons/ticker.conf); echo OPTIONS=$opts > /var/run/pscheduler-ticker.options; chown pscheduler:pscheduler /var/run/pscheduler-ticker.options; fi (code=exited, status=0/SUCCESS)\n",
      "  Process: 2296 ExecStartPre=/usr/bin/mv /var/run/pscheduler-ticker.pid.build /var/run/pscheduler-ticker.pid (code=exited, status=0/SUCCESS)\n",
      "  Process: 2292 ExecStartPre=/usr/bin/chown pscheduler:pscheduler /var/run/pscheduler-ticker.pid.build (code=exited, status=0/SUCCESS)\n",
      "  Process: 2283 ExecStartPre=/usr/bin/touch -f /var/run/pscheduler-ticker.pid.build (code=exited, status=0/SUCCESS)\n",
      "  Process: 2278 ExecStartPre=/bin/rm -f /var/run/pscheduler-ticker.pid.build (code=exited, status=0/SUCCESS)\n",
      " Main PID: 2330 (ticker)\n",
      "   CGroup: /system.slice/pscheduler-ticker.service\n",
      "           └─2330 /usr/bin/python /usr/libexec/pscheduler/daemons/ticker --daemon --pid-file /var/run/pscheduler-ticker.pid --dsn @/etc/pscheduler/database/database-dsn\n",
      "\n",
      "Mar 03 15:34:52 gigiot-22 systemd[1]: Starting pScheduler server - ticker...\n",
      "Mar 03 15:34:53 gigiot-22 systemd[1]: Started pScheduler server - ticker.\n",
      "\n",
      "\u001b[1;32m●\u001b[0m pscheduler-scheduler.service - pScheduler server - scheduler\n",
      "   Loaded: loaded (/usr/lib/systemd/system/pscheduler-scheduler.service; enabled; vendor preset: disabled)\n",
      "   Active: \u001b[1;32mactive (running)\u001b[0m since Sat 2018-03-03 15:34:52 PST; 1min 10s ago\n",
      "  Process: 2306 ExecStartPre=/bin/sh -c if [ -r /etc/pscheduler/daemons/scheduler.conf ]; then opts=$(sed -e 's/#.*$//' /etc/pscheduler/daemons/scheduler.conf); echo OPTIONS=$opts > /var/run/pscheduler-scheduler.options; chown pscheduler:pscheduler /var/run/pscheduler-scheduler.options; fi (code=exited, status=0/SUCCESS)\n",
      "  Process: 2298 ExecStartPre=/usr/bin/mv /var/run/pscheduler-scheduler.pid.build /var/run/pscheduler-scheduler.pid (code=exited, status=0/SUCCESS)\n",
      "  Process: 2290 ExecStartPre=/usr/bin/chown pscheduler:pscheduler /var/run/pscheduler-scheduler.pid.build (code=exited, status=0/SUCCESS)\n",
      "  Process: 2282 ExecStartPre=/usr/bin/touch -f /var/run/pscheduler-scheduler.pid.build (code=exited, status=0/SUCCESS)\n",
      "  Process: 2277 ExecStartPre=/bin/rm -f /var/run/pscheduler-scheduler.pid.build (code=exited, status=0/SUCCESS)\n",
      " Main PID: 2326 (scheduler)\n",
      "   CGroup: /system.slice/pscheduler-scheduler.service\n",
      "           └─2326 /usr/bin/python /usr/libexec/pscheduler/daemons/scheduler --daemon --pid-file /var/run/pscheduler-scheduler.pid --dsn @/etc/pscheduler/database/database-dsn\n",
      "\n",
      "Mar 03 15:34:52 gigiot-22 systemd[1]: Starting pScheduler server - scheduler...\n",
      "Mar 03 15:34:52 gigiot-22 systemd[1]: Started pScheduler server - scheduler.\n",
      "Mar 03 15:34:54 gigiot-22 scheduler[2326]: scheduler INFO     Started\n",
      "\u001b[1;32m●\u001b[0m perfsonar-meshconfig-agent.service - perfSONAR MeshConfig Agent\n",
      "   Loaded: loaded (/usr/lib/systemd/system/perfsonar-meshconfig-agent.service; enabled; vendor preset: disabled)\n",
      "   Active: \u001b[1;32mactive (running)\u001b[0m since Sat 2018-03-03 15:34:59 PST; 1min 3s ago\n",
      "  Process: 2334 ExecStart=/usr/lib/perfsonar/bin/perfsonar_meshconfig_agent --config=/etc/perfsonar/meshconfig-agent.conf --logger=/etc/perfsonar/meshconfig-agent-logger.conf --pidfile=/var/run/perfsonar-meshconfig-agent.pid --user=perfsonar --group=perfsonar (code=exited, status=0/SUCCESS)\n",
      " Main PID: 2761 (perfsonar_meshc)\n",
      "   CGroup: /system.slice/perfsonar-meshconfig-agent.service\n",
      "           └─2761 perfsonar_meshconfig_agent.p\n",
      "\n",
      "Mar 03 15:34:53 gigiot-22 systemd[1]: Starting perfSONAR MeshConfig Agent...\n",
      "Mar 03 15:34:59 gigiot-22 systemd[1]: Started perfSONAR MeshConfig Agent.\n"
     ]
    }
   ],
   "source": [
    "systemctl status postgresql-9.5 -l\n",
    "systemctl status httpd -l\n",
    "systemctl status pscheduler* -l\n",
    "systemctl status perfsonar-meshconfig-agent -l"
   ]
  },
  {
   "cell_type": "markdown",
   "metadata": {},
   "source": [
    "## update the `meshconfig-agent` to add a reference for the group mesh json\n",
    "<p>review the current contents</p>"
   ]
  },
  {
   "cell_type": "code",
   "execution_count": 2,
   "metadata": {},
   "outputs": [
    {
     "name": "stdout",
     "output_type": "stream",
     "text": [
      "## Use 'mesh' blocks to to specify each mesh that the agent should\n",
      "## configure the host against\n",
      "#<mesh>\n",
      "#    ## Use 'configuration_url' to specify the URL where the agent should obtain\n",
      "#    ## the mesh configuration from\n",
      "#    configuration_url             https://host.domain.edu/example.json   \n",
      "#\n",
      "#    ## To ensure that the configuration is trusted, you can set the\n",
      "#    ## 'validate_certificate' option to 1. This will validate that the certificate\n",
      "#    ## is valid, and matches the hostname. If the 'validate_certificate' option is\n",
      "#    ## set to 1, the 'ca_certificate_file' option must be set.\n",
      "#    #validate_certificate         0\n",
      "#\n",
      "#    ## The 'ca_certificate_file' specifies which CAs to use to validate the\n",
      "#    ## certificates.\n",
      "#    #ca_certificate_file          /etc/pki/tls/certs/ca-bundle.crt    # the default RedHat 6 CAs\n",
      "#\n",
      "#    ## The 'required' field specifies that if this mesh isn't available, or has\n",
      "#    ## problems, to skip making any changes to the host configuration.\n",
      "#    #required              1\n",
      "#\n",
      "#    ## The 'permit_non_participation' specifies that if the host isn't\n",
      "#    ## included in this mesh, the agent shouldn't thrown an error.\n",
      "#    #permit_non_participation      1\n",
      "#</mesh>\n",
      "\n",
      "## You can define more meshes to configure against by adding more 'mesh' blocks.\n",
      "#<mesh>\n",
      "#    configuration_url            https://host.domain.edu/example2.json \n",
      "#    #validate_certificate         0\n",
      "#    #ca_certificate_file          /etc/pki/tls/certs/ca-bundle.crt\n",
      "#</mesh>\n",
      "\n",
      "# You can use the 'configure_archives' variable to have the mesh configuration generate\n",
      "# measurement_archive blocks using the write_url from your configuration file. This is disabled\n",
      "# by default but you can enable it by setting to to 1. \n",
      "# configure_archives 0\n",
      "\n",
      "## Use the 'tasks_conf' variable to change the location of the\n",
      "## meshconfig-agent-tasks.conf file. This is where you can define tasks locally\n",
      "## and where tests from remote meshes will be populated. This file contains a list of all the \n",
      "## tests you want run. In a normal configuration, these should be left as what's included below.\n",
      "#tasks_conf        /etc/perfsonar/meshconfig-agent-tasks.conf\n",
      "\n",
      "## Frequency with which to check the remote meshes, local tasks_conf file, and pScheduler \n",
      "## server for changes. If any found it will attempt to build any new tasks and delete any old\n",
      "## ones as required. See also check_config_interval which is the frequency with which to \n",
      "## check for local configuration file changes\n",
      "#check_interval 3600\n",
      "\n",
      "## Frequency in seconds with which to poll this file and the tasks_conf file for changes.\n",
      "## If any changes are detected, it will attempt to build any new tasks and delete any old\n",
      "## ones as required. Should generally be less than check_interval to have any value.\n",
      "#check_config_interval 60\n",
      "\n",
      "# You can include one or more 'address' options to specify which address\n",
      "## corresponds to this host. By default, the agent will attempt to guess the\n",
      "## address using the hostname of the host, as well as the hostname IPs.\n",
      "#address                      client-host.domain.edu\n",
      "\n",
      "## You can use the \"local_host\" directive to define properties for a host \n",
      "## you'd normally define in a MeshConfig host directive. This allows you to tag the host\n",
      "## and addresses locally, which is especially useful for meshes dynamically generated\n",
      "## using host tags. You can also define <measurement_archive> blocks to define the \n",
      "## archives you want tho host to use. \n",
      "# <local_host>\n",
      "#     tag myorganization\n",
      "#\n",
      "#     <address>\n",
      "#         address 10.0.1.1\n",
      "#         tag     latency\n",
      "#     </address>\n",
      "#     <address>\n",
      "#         address 10.0.1.2\n",
      "#         tag     throughput\n",
      "#     </address>\n",
      "#\n",
      "#     <measurement_archive>\n",
      "#         type        perfsonarbuoy/bwctl\n",
      "#         read_url    http://client-ma.domain.edu/esmond/perfsonar/archive\n",
      "#         write_url   http://client-ma.domain.edu/esmond/perfsonar/archive\n",
      "#     </measurement_archive>\n",
      "# </local_host>\n",
      "\n",
      "# The 'send_error_emails' option can be used to tell the agent to send an email\n",
      "# (via sendmail) when an error occurs. These emails will be sent to the\n",
      "# applicable administrators (e.g. the local administrator(s), the mesh\n",
      "# administrator(s), the site administrator(s), and/or the host\n",
      "# administrator(s).\n",
      "#send_error_emails             1\n",
      "\n",
      "## By default, the from address for the error emails will be\n",
      "## mesh_agent@[hostname]. However, if you'd like to specify a different email\n",
      "## address, you can do so here.\n",
      "#from_address           admin@host.site.edu\n",
      "\n",
      "## One or more 'admin_email' options can be included to specify email addresses\n",
      "## to send errors to. These email addresses will receive all errors (including\n",
      "## parsing errors). This is in addition to the emails that will be sent to the\n",
      "## various affected administrators (e.g. the mesh administrator or the site\n",
      "## administrator).\n",
      "#admin_email         admin1@site.edu\n",
      "#admin_email         admin2@site.edu\n",
      "\n",
      "## The 'skip_redundant_tests' can be used so that if the meshes end up creating\n",
      "## multiple tests between hosts with the exact same test parameters, it will\n",
      "## only setup the hosts to only run one test. If you enable this, you won't see\n",
      "## the skipped tests in the Toolkit GUI\n",
      "#skip_redundant_tests        1\n",
      "\n",
      "## The file that stores a UUID included in every pScheduler task. This UUID is used to \n",
      "## track tasks that this agent has created.\n",
      "#client_uuid_file /var/lib/perfsonar/meshconfig/client_uuid\n",
      "\n",
      "## The URL of the pScheduler instance to use as the 'assist' server to determine where\n",
      "## to schedule tasks. Generally this is a local pScheduler instance that will be the lead \n",
      "## participant on many of the tasks submitted, though technically speaking it is not required\n",
      "## to be a participant in any task\n",
      "#pscheduler_url https://127.0.0.1/pscheduler\n",
      "\n",
      "## The file where the agent tracks which pScheduler servers it has previously submitted tasks\n",
      "#pscheduler_tracker_file /var/lib/perfsonar/meshconfig/psc_tracker\n",
      "\n",
      "## The number of times to try to connect to the local pScheduler when it fails after \n",
      "# only waiting check_config_interval as opposed to the generally much larger check_interval.\n",
      "#pscheduler_fail_attempts 5\n",
      "\n",
      "## The minimum lifetime in seconds to set for a new test created. The greater of this value and \n",
      "## that calculated from task_min_runs will be used to determine end time of the test. It is recommended\n",
      "## to set this to a reasonable value as it greatly reduces the cost of an orphaned test \n",
      "##(i.e. a test you create will live on if your host goes away)\n",
      "#task_min_ttl 86400\n",
      "\n",
      "## The minimum number of times a task should run before expiring. If you have a test \n",
      "## scheduler to run once an hour and set this value to 2, then the minimum end time will \n",
      "## be determined to be the greater of task_min_ttl and 2 hours.\n",
      "#task_min_runs 2\n",
      "\n",
      "## The percentage of check_interval after the next scheduled check that a task's end time \n",
      "## must be below before you create a new task. For example if this is .25 and \n",
      "## check_interval is 1 hour, than a task's end time must be 75 minutes (1.25 * 1 hour) in \n",
      "## the future or else a new task will be created where the start time is the end time of \n",
      "## the old.\n",
      "#task_renewal_fudge_factor .25\n"
     ]
    }
   ],
   "source": [
    "cat /etc/perfsonar/meshconfig-agent.conf"
   ]
  },
  {
   "cell_type": "markdown",
   "metadata": {},
   "source": [
    "## update the `meshconfig-agent.conf` with a mesh stanza referencing the group mesh json"
   ]
  },
  {
   "cell_type": "code",
   "execution_count": 1,
   "metadata": {},
   "outputs": [
    {
     "name": "stdout",
     "output_type": "stream",
     "text": [
      "--2018-03-04 00:22:49--  http://fiona-10-01:8000/host-to-group\n",
      "Resolving fiona-10-01 (fiona-10-01)... 137.164.48.196\n",
      "Connecting to fiona-10-01 (fiona-10-01)|137.164.48.196|:8000... connected.\n",
      "HTTP request sent, awaiting response... 200 OK\n",
      "Length: 859 [application/octet-stream]\n",
      "Saving to: ‘/usr/local/etc/prp-fiona-ws--host-to-group’\n",
      "\n",
      "100%[======================================>] 859         --.-K/s   in 0s      \n",
      "\n",
      "2018-03-04 00:22:49 (51.6 MB/s) - ‘/usr/local/etc/prp-fiona-ws--host-to-group’ saved [859/859]\n",
      "\n"
     ]
    }
   ],
   "source": [
    "cd /etc/perfsonar\n",
    "wget http://fiona-10-01:8000/host-to-group -O /usr/local/etc/prp-fiona-ws--host-to-group\n",
    "mygrp=$(grep $(hostname -s) /usr/local/etc/prp-fiona-ws--host-to-group | awk '{print $4}')\n",
    "if [ ! -f /etc/perfsonar/meshconfig-agent.conf.orig ]; then\n",
    "cp /etc/perfsonar/meshconfig-agent.conf /etc/perfsonar/meshconfig-agent.conf.orig\n",
    "fi\n",
    "cat >> /etc/perfsonar/meshconfig-agent.conf <<EOL\n",
    "<mesh>\n",
    "   configuration_url http://gigiot-ma-$mygrp/prp-fiona-ws-mesh--gigiot-ma-$mygrp.json\n",
    "   #validate_certificate         0\n",
    "   #ca_certificate_file          /etc/pki/tls/certs/ca-bundle.crt\n",
    "   configure_archives 1\n",
    "</mesh>\n",
    "EOL\n",
    "chown perfsonar:perfsonar /etc/perfsonar/meshconfig-agent.conf\n",
    "chmod 644 /etc/perfsonar/meshconfig-agent.conf"
   ]
  },
  {
   "cell_type": "code",
   "execution_count": 2,
   "metadata": {},
   "outputs": [
    {
     "name": "stdout",
     "output_type": "stream",
     "text": [
      "## Use 'mesh' blocks to to specify each mesh that the agent should\n",
      "## configure the host against\n",
      "#<mesh>\n",
      "#    ## Use 'configuration_url' to specify the URL where the agent should obtain\n",
      "#    ## the mesh configuration from\n",
      "#    configuration_url             https://host.domain.edu/example.json   \n",
      "#\n",
      "#    ## To ensure that the configuration is trusted, you can set the\n",
      "#    ## 'validate_certificate' option to 1. This will validate that the certificate\n",
      "#    ## is valid, and matches the hostname. If the 'validate_certificate' option is\n",
      "#    ## set to 1, the 'ca_certificate_file' option must be set.\n",
      "#    #validate_certificate         0\n",
      "#\n",
      "#    ## The 'ca_certificate_file' specifies which CAs to use to validate the\n",
      "#    ## certificates.\n",
      "#    #ca_certificate_file          /etc/pki/tls/certs/ca-bundle.crt    # the default RedHat 6 CAs\n",
      "#\n",
      "#    ## The 'required' field specifies that if this mesh isn't available, or has\n",
      "#    ## problems, to skip making any changes to the host configuration.\n",
      "#    #required              1\n",
      "#\n",
      "#    ## The 'permit_non_participation' specifies that if the host isn't\n",
      "#    ## included in this mesh, the agent shouldn't thrown an error.\n",
      "#    #permit_non_participation      1\n",
      "#</mesh>\n",
      "\n",
      "## You can define more meshes to configure against by adding more 'mesh' blocks.\n",
      "#<mesh>\n",
      "#    configuration_url            https://host.domain.edu/example2.json \n",
      "#    #validate_certificate         0\n",
      "#    #ca_certificate_file          /etc/pki/tls/certs/ca-bundle.crt\n",
      "#</mesh>\n",
      "\n",
      "# You can use the 'configure_archives' variable to have the mesh configuration generate\n",
      "# measurement_archive blocks using the write_url from your configuration file. This is disabled\n",
      "# by default but you can enable it by setting to to 1. \n",
      "# configure_archives 0\n",
      "\n",
      "## Use the 'tasks_conf' variable to change the location of the\n",
      "## meshconfig-agent-tasks.conf file. This is where you can define tasks locally\n",
      "## and where tests from remote meshes will be populated. This file contains a list of all the \n",
      "## tests you want run. In a normal configuration, these should be left as what's included below.\n",
      "#tasks_conf        /etc/perfsonar/meshconfig-agent-tasks.conf\n",
      "\n",
      "## Frequency with which to check the remote meshes, local tasks_conf file, and pScheduler \n",
      "## server for changes. If any found it will attempt to build any new tasks and delete any old\n",
      "## ones as required. See also check_config_interval which is the frequency with which to \n",
      "## check for local configuration file changes\n",
      "#check_interval 3600\n",
      "\n",
      "## Frequency in seconds with which to poll this file and the tasks_conf file for changes.\n",
      "## If any changes are detected, it will attempt to build any new tasks and delete any old\n",
      "## ones as required. Should generally be less than check_interval to have any value.\n",
      "#check_config_interval 60\n",
      "\n",
      "# You can include one or more 'address' options to specify which address\n",
      "## corresponds to this host. By default, the agent will attempt to guess the\n",
      "## address using the hostname of the host, as well as the hostname IPs.\n",
      "#address                      client-host.domain.edu\n",
      "\n",
      "## You can use the \"local_host\" directive to define properties for a host \n",
      "## you'd normally define in a MeshConfig host directive. This allows you to tag the host\n",
      "## and addresses locally, which is especially useful for meshes dynamically generated\n",
      "## using host tags. You can also define <measurement_archive> blocks to define the \n",
      "## archives you want tho host to use. \n",
      "# <local_host>\n",
      "#     tag myorganization\n",
      "#\n",
      "#     <address>\n",
      "#         address 10.0.1.1\n",
      "#         tag     latency\n",
      "#     </address>\n",
      "#     <address>\n",
      "#         address 10.0.1.2\n",
      "#         tag     throughput\n",
      "#     </address>\n",
      "#\n",
      "#     <measurement_archive>\n",
      "#         type        perfsonarbuoy/bwctl\n",
      "#         read_url    http://client-ma.domain.edu/esmond/perfsonar/archive\n",
      "#         write_url   http://client-ma.domain.edu/esmond/perfsonar/archive\n",
      "#     </measurement_archive>\n",
      "# </local_host>\n",
      "\n",
      "# The 'send_error_emails' option can be used to tell the agent to send an email\n",
      "# (via sendmail) when an error occurs. These emails will be sent to the\n",
      "# applicable administrators (e.g. the local administrator(s), the mesh\n",
      "# administrator(s), the site administrator(s), and/or the host\n",
      "# administrator(s).\n",
      "#send_error_emails             1\n",
      "\n",
      "## By default, the from address for the error emails will be\n",
      "## mesh_agent@[hostname]. However, if you'd like to specify a different email\n",
      "## address, you can do so here.\n",
      "#from_address           admin@host.site.edu\n",
      "\n",
      "## One or more 'admin_email' options can be included to specify email addresses\n",
      "## to send errors to. These email addresses will receive all errors (including\n",
      "## parsing errors). This is in addition to the emails that will be sent to the\n",
      "## various affected administrators (e.g. the mesh administrator or the site\n",
      "## administrator).\n",
      "#admin_email         admin1@site.edu\n",
      "#admin_email         admin2@site.edu\n",
      "\n",
      "## The 'skip_redundant_tests' can be used so that if the meshes end up creating\n",
      "## multiple tests between hosts with the exact same test parameters, it will\n",
      "## only setup the hosts to only run one test. If you enable this, you won't see\n",
      "## the skipped tests in the Toolkit GUI\n",
      "#skip_redundant_tests        1\n",
      "\n",
      "## The file that stores a UUID included in every pScheduler task. This UUID is used to \n",
      "## track tasks that this agent has created.\n",
      "#client_uuid_file /var/lib/perfsonar/meshconfig/client_uuid\n",
      "\n",
      "## The URL of the pScheduler instance to use as the 'assist' server to determine where\n",
      "## to schedule tasks. Generally this is a local pScheduler instance that will be the lead \n",
      "## participant on many of the tasks submitted, though technically speaking it is not required\n",
      "## to be a participant in any task\n",
      "#pscheduler_url https://127.0.0.1/pscheduler\n",
      "\n",
      "## The file where the agent tracks which pScheduler servers it has previously submitted tasks\n",
      "#pscheduler_tracker_file /var/lib/perfsonar/meshconfig/psc_tracker\n",
      "\n",
      "## The number of times to try to connect to the local pScheduler when it fails after \n",
      "# only waiting check_config_interval as opposed to the generally much larger check_interval.\n",
      "#pscheduler_fail_attempts 5\n",
      "\n",
      "## The minimum lifetime in seconds to set for a new test created. The greater of this value and \n",
      "## that calculated from task_min_runs will be used to determine end time of the test. It is recommended\n",
      "## to set this to a reasonable value as it greatly reduces the cost of an orphaned test \n",
      "##(i.e. a test you create will live on if your host goes away)\n",
      "#task_min_ttl 86400\n",
      "\n",
      "## The minimum number of times a task should run before expiring. If you have a test \n",
      "## scheduler to run once an hour and set this value to 2, then the minimum end time will \n",
      "## be determined to be the greater of task_min_ttl and 2 hours.\n",
      "#task_min_runs 2\n",
      "\n",
      "## The percentage of check_interval after the next scheduled check that a task's end time \n",
      "## must be below before you create a new task. For example if this is .25 and \n",
      "## check_interval is 1 hour, than a task's end time must be 75 minutes (1.25 * 1 hour) in \n",
      "## the future or else a new task will be created where the start time is the end time of \n",
      "## the old.\n",
      "#task_renewal_fudge_factor .25\n",
      "<mesh>\n",
      "   configuration_url http://gigiot-ma-4/prp-fiona-ws-mesh--gigiot-ma-4.json\n",
      "   #validate_certificate         0\n",
      "   #ca_certificate_file          /etc/pki/tls/certs/ca-bundle.crt\n",
      "   configure_archives 1\n",
      "</mesh>\n",
      "<mesh>\n",
      "   configuration_url http://gigiot-ma-4/prp-fiona-ws-mesh--gigiot-ma-4.json\n",
      "   #validate_certificate         0\n",
      "   #ca_certificate_file          /etc/pki/tls/certs/ca-bundle.crt\n",
      "   configure_archives 1\n",
      "</mesh>\n",
      "<mesh>\n",
      "   configuration_url http://gigiot-ma-4/prp-fiona-ws-mesh--gigiot-ma-4.json\n",
      "   #validate_certificate         0\n",
      "   #ca_certificate_file          /etc/pki/tls/certs/ca-bundle.crt\n",
      "   configure_archives 1\n",
      "</mesh>\n",
      "<mesh>\n",
      "   configuration_url http://gigiot-ma-4/prp-fiona-ws-mesh--gigiot-ma-4.json\n",
      "   #validate_certificate         0\n",
      "   #ca_certificate_file          /etc/pki/tls/certs/ca-bundle.crt\n",
      "   configure_archives 1\n",
      "</mesh>\n",
      "<mesh>\n",
      "   configuration_url http://gigiot-ma-4/prp-fiona-ws-mesh--gigiot-ma-4.json\n",
      "   #validate_certificate         0\n",
      "   #ca_certificate_file          /etc/pki/tls/certs/ca-bundle.crt\n",
      "   configure_archives 1\n",
      "</mesh>\n"
     ]
    }
   ],
   "source": [
    "cat /etc/perfsonar/meshconfig-agent.conf"
   ]
  },
  {
   "cell_type": "markdown",
   "metadata": {},
   "source": [
    "## restart the `perfsonar-meshconfig-agent` process"
   ]
  },
  {
   "cell_type": "code",
   "execution_count": 3,
   "metadata": {},
   "outputs": [],
   "source": [
    "systemctl restart perfsonar-meshconfig-agent"
   ]
  },
  {
   "cell_type": "markdown",
   "metadata": {},
   "source": [
    "## verify the contents of `meshconfig-agent-tasks.conf` to determine if the mesh json has been processed correctly\n",
    "<p>it should have `<test>` stanzas which includes sections for test schedule, parameters, targets, and measurement archives</p> "
   ]
  },
  {
   "cell_type": "code",
   "execution_count": 4,
   "metadata": {},
   "outputs": [
    {
     "name": "stdout",
     "output_type": "stream",
     "text": [
      "<test>\n",
      "    added_by_mesh   1\n",
      "    description   iperf3 Throughput, disjoint\n",
      "    <schedule>\n",
      "        random_start_percentage   25\n",
      "        type   regular_intervals\n",
      "        interval   7200\n",
      "    </schedule>\n",
      "    <parameters>\n",
      "        tool   iperf3\n",
      "        omit_interval   5\n",
      "        type   bwctl\n",
      "        duration   30\n",
      "        force_ipv4   1\n",
      "    </parameters>\n",
      "    target   gigiot-06\n",
      "    target   gigiot-07\n",
      "    target   gigiot-13\n",
      "    target   gigiot-14\n",
      "    target   gigiot-20\n",
      "    target   gigiot-21\n",
      "    local_address   gigiot-22\n",
      "    <measurement_archive>\n",
      "        database   http://137.164.48.232/esmond/perfsonar/archive/\n",
      "        added_by_mesh   1\n",
      "        type   esmond/throughput\n",
      "    </measurement_archive>\n",
      "    <created_by>\n",
      "        name   Earth Sciences perfSONAR\n",
      "        agent_type   remote-mesh\n",
      "        uri   http://gigiot-ma-4/prp-fiona-ws-mesh--gigiot-ma-4.json\n",
      "    </created_by>\n",
      "</test>\n",
      "<test>\n",
      "    added_by_mesh   1\n",
      "    description   iperf3 Throughput\n",
      "    <schedule>\n",
      "        random_start_percentage   25\n",
      "        type   regular_intervals\n",
      "        interval   7200\n",
      "    </schedule>\n",
      "    <parameters>\n",
      "        tool   iperf3\n",
      "        omit_interval   5\n",
      "        type   bwctl\n",
      "        duration   30\n",
      "        force_ipv4   1\n",
      "    </parameters>\n",
      "    target   gigiot-23\n",
      "    target   gigiot-24\n",
      "    target   gigiot-25\n",
      "    target   gigiot-26\n",
      "    target   gigiot-27\n",
      "    target   gigiot-28\n",
      "    local_address   gigiot-22\n",
      "    <measurement_archive>\n",
      "        database   http://137.164.48.232/esmond/perfsonar/archive/\n",
      "        added_by_mesh   1\n",
      "        type   esmond/throughput\n",
      "    </measurement_archive>\n",
      "    <created_by>\n",
      "        name   Earth Sciences perfSONAR\n",
      "        agent_type   remote-mesh\n",
      "        uri   http://gigiot-ma-4/prp-fiona-ws-mesh--gigiot-ma-4.json\n",
      "    </created_by>\n",
      "</test>\n",
      "<test>\n",
      "    added_by_mesh   1\n",
      "    description   owamp Packet Loss\n",
      "    <schedule>\n",
      "        type   streaming\n",
      "    </schedule>\n",
      "    <parameters>\n",
      "        resolution   30\n",
      "        type   powstream\n",
      "        force_ipv4   1\n",
      "    </parameters>\n",
      "    target   gigiot-23\n",
      "    target   gigiot-24\n",
      "    target   gigiot-25\n",
      "    target   gigiot-26\n",
      "    target   gigiot-27\n",
      "    target   gigiot-28\n",
      "    local_address   gigiot-22\n",
      "    <measurement_archive>\n",
      "        database   http://137.164.48.232/esmond/perfsonar/archive/\n",
      "        added_by_mesh   1\n",
      "        type   esmond/latency\n",
      "    </measurement_archive>\n",
      "    <created_by>\n",
      "        name   Earth Sciences perfSONAR\n",
      "        agent_type   remote-mesh\n",
      "        uri   http://gigiot-ma-4/prp-fiona-ws-mesh--gigiot-ma-4.json\n",
      "    </created_by>\n",
      "</test>\n",
      "<test>\n",
      "    added_by_mesh   1\n",
      "    description   Traceroute\n",
      "    <schedule>\n",
      "        type   regular_intervals\n",
      "        interval   7200\n",
      "    </schedule>\n",
      "    <parameters>\n",
      "        as   1\n",
      "        packet_length   40\n",
      "        packet_max_ttl   64\n",
      "        type   bwtraceroute\n",
      "        force_ipv4   1\n",
      "    </parameters>\n",
      "    target   gigiot-23\n",
      "    target   gigiot-24\n",
      "    target   gigiot-25\n",
      "    target   gigiot-26\n",
      "    target   gigiot-27\n",
      "    target   gigiot-28\n",
      "    local_address   gigiot-22\n",
      "    <measurement_archive>\n",
      "        database   http://137.164.48.232/esmond/perfsonar/archive/\n",
      "        added_by_mesh   1\n",
      "        type   esmond/traceroute\n",
      "    </measurement_archive>\n",
      "    <created_by>\n",
      "        name   Earth Sciences perfSONAR\n",
      "        agent_type   remote-mesh\n",
      "        uri   http://gigiot-ma-4/prp-fiona-ws-mesh--gigiot-ma-4.json\n",
      "    </created_by>\n",
      "</test>\n",
      "<default_parameters>\n",
      "    receive_port_range   8760-9960\n",
      "    type   powstream\n",
      "</default_parameters>\n",
      "<measurement_archive>\n",
      "    database   https://localhost/esmond/perfsonar/archive/\n",
      "    password   f846a4c8747acdf8d13561b550b237396cf70425\n",
      "    type   esmond/latency\n",
      "</measurement_archive>\n",
      "<measurement_archive>\n",
      "    database   https://localhost/esmond/perfsonar/archive/\n",
      "    password   f846a4c8747acdf8d13561b550b237396cf70425\n",
      "    type   esmond/throughput\n",
      "</measurement_archive>\n",
      "<measurement_archive>\n",
      "    database   https://localhost/esmond/perfsonar/archive/\n",
      "    password   f846a4c8747acdf8d13561b550b237396cf70425\n",
      "    type   esmond/traceroute\n",
      "</measurement_archive>\n"
     ]
    }
   ],
   "source": [
    "cat /etc/perfsonar/meshconfig-agent-tasks.conf"
   ]
  },
  {
   "cell_type": "markdown",
   "metadata": {},
   "source": [
    "# confirming a succesful installation and mesh participation\n"
   ]
  },
  {
   "cell_type": "markdown",
   "metadata": {},
   "source": [
    "## open a terminal session and run the following to help determine the functionality of the system\n",
    "<ul>\n",
    "<li> `pscheduler monitor` to show an updating display of completed, running, and pending tasks</li>\n",
    "<li> `pscheduler task throughput --dest some.other.ps.node` to run a throughput (iperf3) test</li>\n",
    "<li> `pscheduler task latency --dest some.other.ps.node` to run a latency/loss (owping) test</li> \n",
    "</ul>"
   ]
  },
  {
   "cell_type": "markdown",
   "metadata": {},
   "source": [
    "# perfSONAR testpoint appendix: perfSONAR testpoint installation troubleshooting "
   ]
  },
  {
   "cell_type": "markdown",
   "metadata": {},
   "source": [
    "## pscheduler processes fail to start \n",
    "<p>there are reports of a recent dependency breakage in the perfSONAR repo which may cause `httpd` to be absent from the bundle installation. pScheduler will not function without httpd.  if you attempt to use pscheduler and you receive an error message that says:<pre>Unable to find pScheduler on localhost</pre> this can be an indication that httpd is missing.</p>\n",
    "<p>install and enable httpd if not present on the system</p>"
   ]
  },
  {
   "cell_type": "code",
   "execution_count": 5,
   "metadata": {},
   "outputs": [
    {
     "name": "stdout",
     "output_type": "stream",
     "text": [
      "Package httpd-2.4.6-67.el7.centos.6.x86_64 already installed and latest version\n",
      "\u001b[1;32m●\u001b[0m httpd.service - The Apache HTTP Server\n",
      "   Loaded: loaded (/usr/lib/systemd/system/httpd.service; enabled; vendor preset: disabled)\n",
      "   Active: \u001b[1;32mactive (running)\u001b[0m since Sat 2018-03-03 19:43:58 PST; 4h 44min ago\n",
      "     Docs: man:httpd(8)\n",
      "           man:apachectl(8)\n",
      " Main PID: 1892 (httpd)\n",
      "   Status: \"Total requests: 8005; Current requests/sec: 0; Current traffic:   0 B/sec\"\n",
      "   CGroup: /system.slice/httpd.service\n",
      "           ├─1892 /usr/sbin/httpd -DFOREGROUND\n",
      "           ├─2055 /usr/sbin/httpd -DFOREGROUND\n",
      "           ├─2056 /usr/sbin/httpd -DFOREGROUND\n",
      "           ├─2057 /usr/sbin/httpd -DFOREGROUND\n",
      "           ├─2058 /usr/sbin/httpd -DFOREGROUND\n",
      "           ├─2059 /usr/sbin/httpd -DFOREGROUND\n",
      "           ├─2060 /usr/sbin/httpd -DFOREGROUND\n",
      "           ├─2061 /usr/sbin/httpd -DFOREGROUND\n",
      "           ├─2062 /usr/sbin/httpd -DFOREGROUND\n",
      "           ├─2065 /usr/sbin/httpd -DFOREGROUND\n",
      "           ├─2066 /usr/sbin/httpd -DFOREGROUND\n",
      "           ├─2068 /usr/sbin/httpd -DFOREGROUND\n",
      "           ├─2069 /usr/sbin/httpd -DFOREGROUND\n",
      "           ├─2071 /usr/sbin/httpd -DFOREGROUND\n",
      "           ├─2072 /usr/sbin/httpd -DFOREGROUND\n",
      "           ├─2073 /usr/sbin/httpd -DFOREGROUND\n",
      "           ├─2075 /usr/sbin/httpd -DFOREGROUND\n",
      "           ├─2076 /usr/sbin/httpd -DFOREGROUND\n",
      "           ├─2869 /usr/sbin/httpd -DFOREGROUND\n",
      "           ├─3103 /usr/sbin/httpd -DFOREGROUND\n",
      "           ├─4422 /usr/sbin/httpd -DFOREGROUND\n",
      "           ├─4433 /usr/sbin/httpd -DFOREGROUND\n",
      "           ├─4434 /usr/sbin/httpd -DFOREGROUND\n",
      "           ├─4642 /usr/sbin/httpd -DFOREGROUND\n",
      "           ├─4813 /usr/sbin/httpd -DFOREGROUND\n",
      "           └─5659 /usr/sbin/httpd -DFOREGROUND\n",
      "\n",
      "Mar 03 19:43:58 gigiot-22 systemd[1]: Starting The Apache HTTP Server...\n",
      "Mar 03 19:43:58 gigiot-22 httpd[1892]: AH00558: httpd: Could not reliably determine the server's fully qualified domain name, using 137.164.48.222. Set the 'ServerName' directive globally to suppress this message\n",
      "Mar 03 19:43:58 gigiot-22 systemd[1]: Started The Apache HTTP Server.\n",
      "Mar 03 19:44:11 gigiot-22 httpd[2068]: pscheduler-api INFO     Started\n",
      "Mar 03 19:44:16 gigiot-22 httpd[2068]: pscheduler-api INFO     Limits loaded from /etc/pscheduler/limits.conf\n"
     ]
    }
   ],
   "source": [
    "yum -y -q install httpd\n",
    "systemctl enable httpd\n",
    "systemctl start httpd\n",
    "systemctl status httpd -l"
   ]
  },
  {
   "cell_type": "markdown",
   "metadata": {},
   "source": [
    "## python library incompatibility on systems having both perSONAR and GridFTP\n",
    "<p>We have seen an issue with the GridFTP installation where an incompatible python library is installed and this causes the pscheduler processes to not start. If your pscheduler-* processes do not start you can try the following:</p>"
   ]
  },
  {
   "cell_type": "code",
   "execution_count": null,
   "metadata": {},
   "outputs": [],
   "source": [
    "pip uninstall urllib3\n",
    "yum install -y python-urllib3\n",
    "systemctl start pscheduler-*\n",
    "systemctl status pscheduler-* -l"
   ]
  },
  {
   "cell_type": "markdown",
   "metadata": {},
   "source": [
    "# Setting up scheduled GridFTP testing\n",
    "<p>the following steps will set up cron jobs to accomplish</p>\n",
    "<ul>\n",
    "<li>a schedule of GridFTP transfers from a group of participating nodes</li>\n",
    "<li>parsing the GridFTP transfer log and uploading the results to a central Measurement Archive (MA)</li>\n",
    "</ul>"
   ]
  },
  {
   "cell_type": "markdown",
   "metadata": {},
   "source": [
    "## wget the host-to-group map and the group-specific script for GridFTP and make it executable"
   ]
  },
  {
   "cell_type": "code",
   "execution_count": 6,
   "metadata": {},
   "outputs": [
    {
     "name": "stdout",
     "output_type": "stream",
     "text": [
      "--2018-03-04 00:29:19--  http://fiona-10-01:8000/host-to-group\n",
      "Resolving fiona-10-01 (fiona-10-01)... 137.164.48.196\n",
      "Connecting to fiona-10-01 (fiona-10-01)|137.164.48.196|:8000... connected.\n",
      "HTTP request sent, awaiting response... 200 OK\n",
      "Length: 859 [application/octet-stream]\n",
      "Saving to: ‘/usr/local/etc/prp-fiona-ws--host-to-group’\n",
      "\n",
      "100%[======================================>] 859         --.-K/s   in 0s      \n",
      "\n",
      "2018-03-04 00:29:19 (85.3 MB/s) - ‘/usr/local/etc/prp-fiona-ws--host-to-group’ saved [859/859]\n",
      "\n",
      "--2018-03-04 00:29:19--  http://fiona-10-01:8000/cron-load-gridftp-grp-04.sh\n",
      "Resolving fiona-10-01 (fiona-10-01)... 137.164.48.196\n",
      "Connecting to fiona-10-01 (fiona-10-01)|137.164.48.196|:8000... connected.\n",
      "HTTP request sent, awaiting response... 200 OK\n",
      "Length: 905 [application/x-sh]\n",
      "Saving to: ‘/usr/local/bin/cron-load-gridftp-grp-04.sh’\n",
      "\n",
      "100%[======================================>] 905         --.-K/s   in 0s      \n",
      "\n",
      "2018-03-04 00:29:19 (66.3 MB/s) - ‘/usr/local/bin/cron-load-gridftp-grp-04.sh’ saved [905/905]\n",
      "\n"
     ]
    }
   ],
   "source": [
    "wget http://fiona-10-01:8000/host-to-group -O /usr/local/etc/prp-fiona-ws--host-to-group\n",
    "mygrp=$(grep $(hostname -s) /usr/local/etc/prp-fiona-ws--host-to-group | awk '{print $4}')\n",
    "wget http://fiona-10-01:8000/cron-load-gridftp-grp-0$mygrp.sh -O /usr/local/bin/cron-load-gridftp-grp-0$mygrp.sh\n",
    "chmod 755 /usr/local/bin/cron-load-gridftp-grp-0$mygrp.sh"
   ]
  },
  {
   "cell_type": "markdown",
   "metadata": {},
   "source": [
    "## inspect the contents of the script"
   ]
  },
  {
   "cell_type": "code",
   "execution_count": 7,
   "metadata": {},
   "outputs": [
    {
     "name": "stdout",
     "output_type": "stream",
     "text": [
      "#!/bin/bash\n",
      "TMPFILE=`mktemp`\n",
      "HEAD_NODE=137.164.48.196:8000\n",
      "MA_NODE=gigiot-ma-4\n",
      "GRP=04\n",
      "MY_HOSTNAME_SHORT=`hostname -s`\n",
      "GRIDFTP_API_KEY=\n",
      "\n",
      "python /usr/bin/esmond-ps-load-gridftp -p /opt/esmond-gridftp/prp-fiona-ws-grp-$GRP.pickle -U http://$MA_NODE/esmond -u gridftp -k $GRIDFTP_API_KEY -f /var/log/gridftp-transfer.log\n",
      "\n",
      "wget http://$HEAD_NODE/cron-gridftp-transfer-mesh-grp-$GRP.sh -O /usr/local/bin/cron-gridftp-transfer-mesh-grp-$GRP.sh\n",
      "chmod 755 /usr/local/bin/cron-gridftp-transfer-mesh-grp-$GRP.sh\n",
      "sed -i '/$MY_HOSTNAME_SHORT/s/^/#/' /usr/local/bin/cron-gridftp-transfer-mesh-grp-$GRP.sh\n",
      "curl -s  http://$HEAD_NODE/cron-mesh-timing-grp-$GRP.sh -o $TMPFILE\n",
      "\n",
      "grep -iq $MY_HOSTNAME_SHORT $TMPFILE\n",
      "RC=$?\n",
      "\n",
      "if [[ $RC -eq 0 ]];then\n",
      "      grep -i $MY_HOSTNAME_SHORT $TMPFILE > /etc/cron.d/cron-gridftp-transfer-mesh-grp-$GRP\n",
      "else\n",
      "      logger -t \"$0\" 'Error while downloading cronjob files'\n",
      "fi\n",
      "\n",
      "rm -f $TMPFILE\n"
     ]
    }
   ],
   "source": [
    "cat /usr/local/bin/cron-load-gridftp-grp-0$mygrp.sh"
   ]
  },
  {
   "cell_type": "markdown",
   "metadata": {},
   "source": [
    "## using your favorite editor, update the `GRIDFTP_API_KEY` entry\n",
    "<p>update the <pre>GRIDFTP_API_KEY</pre> entry with the API key generated earlier for the gridftp user on the MA for your group<p>"
   ]
  },
  {
   "cell_type": "markdown",
   "metadata": {},
   "source": [
    "## Grab a helper script that gragefully times out the globus url copy if it exceeds a value in seconds."
   ]
  },
  {
   "cell_type": "code",
   "execution_count": 8,
   "metadata": {},
   "outputs": [
    {
     "name": "stdout",
     "output_type": "stream",
     "text": [
      "mkdir: cannot create directory ‘/opt/esmond-gridftp/’: File exists\n",
      "--2018-03-04 00:31:58--  http://fiona-10-01:8000/timeout.sh\n",
      "Resolving fiona-10-01 (fiona-10-01)... 137.164.48.196\n",
      "Connecting to fiona-10-01 (fiona-10-01)|137.164.48.196|:8000... connected.\n",
      "HTTP request sent, awaiting response... 200 OK\n",
      "Length: 2658 (2.6K) [application/x-sh]\n",
      "Saving to: ‘/usr/local/bin/timeout.sh’\n",
      "\n",
      "100%[======================================>] 2,658       --.-K/s   in 0s      \n",
      "\n",
      "2018-03-04 00:31:58 (109 MB/s) - ‘/usr/local/bin/timeout.sh’ saved [2658/2658]\n",
      "\n"
     ]
    }
   ],
   "source": [
    "mkdir /opt/esmond-gridftp/\n",
    "wget http://fiona-10-01:8000/timeout.sh -O /usr/local/bin/timeout.sh\n",
    "chmod 755 /usr/local/bin/timeout.sh"
   ]
  },
  {
   "cell_type": "markdown",
   "metadata": {},
   "source": [
    "## This script scrapes the gridftp transfer log for transfers that it has not yet processed\n",
    "<p>The results are uploaded to the central measurement archive running on the MA host for your group.</p>"
   ]
  },
  {
   "cell_type": "code",
   "execution_count": 9,
   "metadata": {},
   "outputs": [
    {
     "name": "stdout",
     "output_type": "stream",
     "text": [
      "ts=2018-03-04 00:32:16,263 event=main.start id=1520152336 found last record: {'code': '226', 'date': '20180304071916.834642', 'file': '/data/1G.dat', 'start': '20180304071831.403478', 'retrans': '0', 'nl_evnt': 'FTP_INFO', 'stripes': '1', 'volume': '/', 'dest': '[137.164.48.217]', 'host': 'gigiot-22.conf.cenic.org', 'buffer': '235104', 'user': 'anonymous', 'taskid': 'none', 'prog': 'globus-gridftp-server', 'streams': '1', 'type': 'RETR', 'block': '262144', 'nbytes': '1073741824'}\n",
      "ts=2018-03-04 00:32:16,270 event=main.process id=1520152336 File /var/log/gridftp-transfer.log passes last record check\n",
      "ts=2018-03-04 00:32:17,422 event=scan_and_load_netlogger.end id=1520152337 Loaded 8 records\n",
      "--2018-03-04 00:32:17--  http://137.164.48.196:8000/cron-gridftp-transfer-mesh-grp-04.sh\n",
      "Connecting to 137.164.48.196:8000... connected.\n",
      "HTTP request sent, awaiting response... 200 OK\n",
      "Length: 3509 (3.4K) [application/x-sh]\n",
      "Saving to: ‘/usr/local/bin/cron-gridftp-transfer-mesh-grp-04.sh’\n",
      "\n",
      "100%[======================================>] 3,509       --.-K/s   in 0s      \n",
      "\n",
      "2018-03-04 00:32:17 (144 MB/s) - ‘/usr/local/bin/cron-gridftp-transfer-mesh-grp-04.sh’ saved [3509/3509]\n",
      "\n"
     ]
    }
   ],
   "source": [
    "/usr/local/bin/cron-load-gridftp-grp-0$mygrp.sh "
   ]
  },
  {
   "cell_type": "markdown",
   "metadata": {},
   "source": [
    "\n",
    "## Running this file the first time pulls in the cron-gridftp-transfer-mesh for this host"
   ]
  },
  {
   "cell_type": "code",
   "execution_count": 10,
   "metadata": {},
   "outputs": [],
   "source": [
    "chmod 644 /etc/cron.d/cron-gridftp-transfer-mesh-grp-0$mygrp"
   ]
  },
  {
   "cell_type": "markdown",
   "metadata": {},
   "source": [
    "## Inspect the cron job"
   ]
  },
  {
   "cell_type": "code",
   "execution_count": 11,
   "metadata": {},
   "outputs": [
    {
     "name": "stdout",
     "output_type": "stream",
     "text": [
      "15 6,8,10,12,14,16,18,20,22,24,2,4 * * * root /usr/local/bin/cron-gridftp-transfer-mesh-grp-04.sh &> /var/log/cron-gridftp-transfer-mesh-grp-04.log # gigiot-22\n",
      "31 * * * * root /usr/local/bin/cron-load-gridftp-grp-04.sh &> /var/log/cron-load-gridftp-grp-04.log # gigiot-22\n"
     ]
    }
   ],
   "source": [
    "cat /etc/cron.d/cron-gridftp-transfer-mesh-grp-0$mygrp"
   ]
  },
  {
   "cell_type": "code",
   "execution_count": null,
   "metadata": {},
   "outputs": [],
   "source": []
  }
 ],
 "metadata": {
  "kernelspec": {
   "display_name": "Bash",
   "language": "bash",
   "name": "bash"
  },
  "language_info": {
   "codemirror_mode": "shell",
   "file_extension": ".sh",
   "mimetype": "text/x-sh",
   "name": "bash"
  }
 },
 "nbformat": 4,
 "nbformat_minor": 2
}
